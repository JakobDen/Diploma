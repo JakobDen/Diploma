{
 "cells": [
  {
   "cell_type": "code",
   "execution_count": 3,
   "metadata": {},
   "outputs": [
    {
     "name": "stdout",
     "output_type": "stream",
     "text": [
      "1) 1 4 9\n",
      "2) 1 4 10\n",
      "3) 1 5 8\n",
      "4) 1 5 10\n",
      "5) 1 8 9\n",
      "6) 2 3 9\n",
      "7) 2 3 12\n",
      "8) 2 6 8\n",
      "9) 2 6 12\n",
      "10) 2 8 9\n",
      "11) 3 4 7\n",
      "12) 3 4 9\n",
      "13) 3 7 12\n",
      "14) 4 7 10\n",
      "15) 5 8 13\n",
      "16) 5 10 13\n",
      "17) 6 8 13\n",
      "18) 6 12 13\n",
      "19) 7 10 11\n",
      "20) 7 11 12\n",
      "21) 10 11 13\n",
      "22) 11 12 13\n"
     ]
    },
    {
     "name": "stderr",
     "output_type": "stream",
     "text": [
      "100%|██████████| 50116/50116 [02:42<00:00, 308.43it/s]\n"
     ]
    }
   ],
   "source": [
    "from tqdm import tqdm\n",
    "possible_laminations = []\n",
    "triplets_only = []\n",
    "for i in range(13):\n",
    "    possible_laminations.append((i + 1,))\n",
    "\n",
    "compatibility = {1 : [4, 5, 8, 9, 10],\n",
    "                 2 : [3, 6, 8, 9, 12],\n",
    "                 3 : [4, 7, 9, 12],\n",
    "                 4 : [7, 9, 10],\n",
    "                 5 : [8, 10, 13],\n",
    "                 6 : [8, 12, 13],\n",
    "                 7 : [10, 11, 12],\n",
    "                 8 : [9, 13],\n",
    "                 9 : [],\n",
    "                 10 : [11, 13],\n",
    "                 11 : [12, 13],\n",
    "                 12 : [13]}\n",
    "\n",
    "for i in range(0, 13):\n",
    "    for j in range(i + 1, 13):\n",
    "        if (j + 1 in compatibility[i + 1]):\n",
    "            possible_laminations.append((i + 1, j + 1))\n",
    "\n",
    "triples = []\n",
    "counter = 0\n",
    "for i in range(13):\n",
    "    for j in range(i + 1, 13):\n",
    "        for k in range(j + 1, 13):\n",
    "            if j + 1 in compatibility[i + 1]:\n",
    "                if k + 1 in compatibility[j + 1]:\n",
    "                    if k + 1 in compatibility[i + 1]:\n",
    "                        counter += 1\n",
    "                        print(counter, end = '')\n",
    "                        print(')', i + 1, j + 1, k + 1)\n",
    "                        possible_laminations.append((i + 1, j + 1, k + 1))\n",
    "                        triplets_only.append([i + 1, j + 1, k + 1])\n",
    "from itertools import permutations, combinations, combinations_with_replacement\n",
    "import itertools\n",
    "from sympy import *\n",
    "a, b, c, d, q, f, g, h, k = symbols('a b c d q f g h k')\n",
    "all_triples = []\n",
    "for ever in itertools.combinations(possible_laminations, 3):\n",
    "    all_triples.append(tuple(ever))\n",
    "\n",
    "intersection_index = Matrix([[-1, 1, 1, 0, 0, 2, 1, 0, 0, 0, 2, 2, 1], \n",
    "        [1, -1, 0, 1, 2, 0, 1, 0, 0, 2, 2, 0, 1], \n",
    "        [1, 0, -1, 0, 2, 1, 0, 1, 0, 1, 1, 0, 1], \n",
    "        [0, 1, 0, -1, 1, 2, 0, 1, 0, 0, 1, 1, 1], \n",
    "        [0, 2, 2, 1, -1, 2, 2, 0, 1, 0, 2, 2, 0], \n",
    "        [2, 0, 1, 2, 2, -1, 2, 0, 1, 2, 2, 0, 0],\n",
    "        [1, 1, 0, 0, 2, 2, -1, 2, 1, 0, 0, 0, 1],\n",
    "        [0, 0, 1, 1, 0, 0, 2, -1, 0, 1, 2, 1, 0],\n",
    "        [0, 0, 0, 0, 1, 1, 1, 0, -1, 1, 2, 1, 1],\n",
    "        [0, 2, 1, 0, 0, 2, 0, 1, 1, -1, 0, 1, 0],\n",
    "        [2, 2, 1, 1, 2, 2, 0, 2, 2, 0, -1, 0, 0],\n",
    "        [2, 0, 0, 1, 2, 0, 0, 1, 1, 1, 0, -1, 0],\n",
    "        [1, 1, 1, 1, 0, 0, 1, 0, 1, 0, 0, 0, 0]])\n",
    "def create_equation_by_matrix(list1, list2, id1, id2):\n",
    "    eq = 0\n",
    "    letters1 = [a, b, c]\n",
    "    letters2 = [d, q, f]\n",
    "    letters3 = [g, h, k]\n",
    "    all_letters = [letters1, letters2, letters3]\n",
    "    A_raw = [0] * 13\n",
    "    B_raw = [0] * 13\n",
    "    for i in range(len(list1)):\n",
    "        A_raw[list1[i] - 1] = all_letters[id1][i]\n",
    "    for j in range(len(list2)):\n",
    "        B_raw[list2[j] - 1] = all_letters[id2][j]\n",
    "    A = Matrix(A_raw)\n",
    "    B = Matrix(B_raw)\n",
    "    eq = A.T * intersection_index * B\n",
    "    return eq[0]\n",
    "def balanced(eq):\n",
    "    if eq == 0:\n",
    "        return True\n",
    "    pos = 0\n",
    "    neg = 0\n",
    "    sgns = [ever[:-3] for ever in list(map(str, eq.expand().args))]\n",
    "    for ever in sgns:\n",
    "        if ever == '-':\n",
    "            neg += 1\n",
    "        else:\n",
    "            pos += 1\n",
    "    return pos * neg != 0\n",
    "from collections import defaultdict\n",
    "from tqdm import tqdm\n",
    "\n",
    "points = []\n",
    "edges = []\n",
    "faces = []\n",
    "cells = []\n",
    "strangers = []\n",
    "\n",
    "obj_eqns = defaultdict(list)\n",
    "dims_respectively = []\n",
    "atlas = (points, edges, faces, cells, strangers)\n",
    "\n",
    "corresp_triple = []\n",
    "for never_reuse in tqdm(range(len(all_triples))):\n",
    "    lams = all_triples[never_reuse]\n",
    "    \n",
    "    eq1 = create_equation_by_matrix(lams[0], lams[1], 0, 1)\n",
    "    eq2 = create_equation_by_matrix(lams[0], lams[2], 0, 2)\n",
    "    eq3 = create_equation_by_matrix(lams[1], lams[2], 1, 2)\n",
    "    \n",
    "    norm1 = create_equation_by_matrix(lams[0], lams[0], 0, 0)\n",
    "    norm2 = create_equation_by_matrix(lams[1], lams[1], 1, 1)\n",
    "    norm3 = create_equation_by_matrix(lams[2], lams[2], 2, 2)\n",
    "    \n",
    "    if not balanced(eq1):\n",
    "        continue\n",
    "    if not balanced(eq2):\n",
    "        continue\n",
    "    if not balanced(eq3):\n",
    "        continue\n",
    "\n",
    "    num_of_eqs = 6\n",
    "\n",
    "    if eq1 == 0:\n",
    "        num_of_eqs -= 1\n",
    "    if eq2 == 0:\n",
    "        num_of_eqs -= 1\n",
    "    if eq3 == 0:\n",
    "        num_of_eqs -= 1\n",
    "    if norm1 == 0:\n",
    "        continue\n",
    "        num_of_eqs -= 1\n",
    "    if norm2 == 0:\n",
    "        continue\n",
    "        num_of_eqs -= 1\n",
    "    if norm3 == 0:\n",
    "        continue\n",
    "        num_of_eqs -= 1\n",
    "    \n",
    "    num_of_parameters = len(lams[0]) + len(lams[1]) + len(lams[2])\n",
    "    obj_eqns[lams] = (eq1, eq2, eq3, norm1 + 1, norm2 + 1, norm3 + 1)\n",
    "    atlas[num_of_parameters - num_of_eqs].append(lams)\n",
    "    corresp_triple.append(lams)\n",
    "    dims_respectively.append(num_of_parameters - num_of_eqs)\n",
    "def chek_for_consistency(equations, dim):\n",
    "  variables = set().union(*[eq.free_symbols for eq in equations])\n",
    "  variables_list = list(variables)\n",
    "  J_M = []\n",
    "  for equation in equations:\n",
    "      grad = Matrix([diff(equation, var) for var in variables_list]).T\n",
    "      J_M.append(grad)\n",
    "  Jacobian = Matrix(J_M)\n",
    "  return (len(variables) - Jacobian.rank()) == dim"
   ]
  },
  {
   "cell_type": "code",
   "execution_count": 6,
   "metadata": {},
   "outputs": [
    {
     "name": "stdout",
     "output_type": "stream",
     "text": [
      "Counter({2: 264, 3: 148, 1: 138, 0: 22})\n"
     ]
    }
   ],
   "source": [
    "from collections import Counter\n",
    "print(Counter(dims_respectively))\n",
    "point_eqns = {obj_eqns[ever] for ever in atlas[0]}\n",
    "edge_eqns = {obj_eqns[ever] for ever in atlas[1]}\n",
    "face_eqns = {obj_eqns[ever] for ever in atlas[2]}\n",
    "cell_eqns = {obj_eqns[ever] for ever in atlas[3]}\n"
   ]
  },
  {
   "cell_type": "code",
   "execution_count": 7,
   "metadata": {},
   "outputs": [
    {
     "name": "stdout",
     "output_type": "stream",
     "text": [
      "((4, 7, 10), (5, 10, 13), (10, 11, 13))\n"
     ]
    }
   ],
   "source": [
    "for obj, system in obj_eqns.items():\n",
    "    if system == (-c*q + d*(a + 2*b) + f*(a + b),\n",
    "                    a*h - c*g + k*(a + b),\n",
    "                    2*d*h - g*q,\n",
    "                    -a**2 - b**2 - c**2 + 1,\n",
    "                    -d**2 - q**2 + 1,\n",
    "                    -g**2 - h**2 + 1):\n",
    "        print(obj)"
   ]
  },
  {
   "cell_type": "markdown",
   "metadata": {},
   "source": [
    "# Получим все включения"
   ]
  },
  {
   "cell_type": "code",
   "execution_count": 8,
   "metadata": {},
   "outputs": [],
   "source": [
    "points = tuple(points)\n",
    "edges = tuple(edges)\n",
    "faces = tuple(faces)\n",
    "cells = tuple(cells)\n",
    "flatten_atlas = []\n",
    "for ever in atlas:\n",
    "    flatten_atlas += ever\n",
    "rename_everything = {ob : i for i, ob in enumerate(flatten_atlas)}\n",
    "setatlas = [[], [], [], []]\n",
    "for i, ever in enumerate(atlas):\n",
    "    for lamtype in ever:\n",
    "        setlamtype = []\n",
    "        for lamin in lamtype:\n",
    "            setlamtype.append(set(lamin))\n",
    "        setatlas[i].append(setlamtype)\n",
    "point_edge = defaultdict(list)\n",
    "for i, point in enumerate(setatlas[0]):\n",
    "   for j, edge in enumerate(setatlas[1]):\n",
    "      for perm in permutations([0, 1, 2]):\n",
    "         if point[0].issubset(edge[perm[0]]) and point[1].issubset(edge[perm[1]]) and point[2].issubset(edge[perm[2]]):\n",
    "            point_edge[atlas[0][i]].append(atlas[1][j])\n",
    "            break\n",
    "edge_face = defaultdict(list)\n",
    "for i, egde in enumerate(setatlas[1]):\n",
    "   for j, face in enumerate(setatlas[2]):\n",
    "      for perm in permutations([0, 1, 2]):\n",
    "         if egde[0].issubset(face[perm[0]]) and egde[1].issubset(face[perm[1]]) and egde[2].issubset(face[perm[2]]):\n",
    "            edge_face[atlas[1][i]].append(atlas[2][j])\n",
    "            break\n",
    "face_cell = defaultdict(list)\n",
    "for i, face in enumerate(setatlas[2]):\n",
    "   for j, cell in enumerate(setatlas[3]):\n",
    "      for perm in permutations([0, 1, 2]):\n",
    "         if face[0].issubset(cell[perm[0]]) and face[1].issubset(cell[perm[1]]) and face[2].issubset(cell[perm[2]]):\n",
    "            face_cell[atlas[2][i]].append(atlas[3][j])\n",
    "            break"
   ]
  },
  {
   "cell_type": "code",
   "execution_count": 9,
   "metadata": {},
   "outputs": [],
   "source": [
    "point_cell = defaultdict(set)\n",
    "point_face = defaultdict(set)\n",
    "\n",
    "for point in point_edge:\n",
    "    for edge in point_edge[point]:\n",
    "        for face in edge_face[edge]:\n",
    "            point_face[point].add(face)\n",
    "            for cell in face_cell[face]:\n",
    "                point_cell[point].add(cell)\n",
    "\n",
    "edge_point = defaultdict(list)\n",
    "for point in point_edge:\n",
    "    for edge in point_edge[point]:\n",
    "        edge_point[edge].append(point)\n",
    "\n",
    "face_point = defaultdict(list)\n",
    "for point in point_face:\n",
    "    for face in point_face[point]:\n",
    "        face_point[face].append(point)\n",
    "\n",
    "cell_point = defaultdict(list)\n",
    "for point in point_cell:\n",
    "    for cell in point_cell[point]:\n",
    "        cell_point[cell].append(point)\n",
    "\n",
    "cell_face = defaultdict(list)\n",
    "for face in face_cell:\n",
    "    for cell in face_cell[face]:\n",
    "        cell_face[cell].append(face)\n",
    "\n",
    "face_edge = defaultdict(list)\n",
    "for edge in edge_face:\n",
    "    for face in edge_face[edge]:\n",
    "        face_edge[face].append(edge)"
   ]
  },
  {
   "cell_type": "code",
   "execution_count": 10,
   "metadata": {},
   "outputs": [
    {
     "data": {
      "text/plain": [
       "((1, 4), (1, 5, 8), (1, 5, 10))"
      ]
     },
     "execution_count": 10,
     "metadata": {},
     "output_type": "execute_result"
    }
   ],
   "source": [
    "cell_face[((1, 4, 9), (1, 5, 8), (1, 5, 10))][0]"
   ]
  },
  {
   "cell_type": "code",
   "execution_count": null,
   "metadata": {},
   "outputs": [
    {
     "data": {
      "text/plain": [
       "((1,), (5, 8), (5, 10))"
      ]
     },
     "execution_count": 103,
     "metadata": {},
     "output_type": "execute_result"
    }
   ],
   "source": [
    "face_edge[cell_face[((1, 4, 9), (1, 5, 8), (1, 5, 10))][0]][0]"
   ]
  },
  {
   "cell_type": "code",
   "execution_count": null,
   "metadata": {},
   "outputs": [
    {
     "data": {
      "text/plain": [
       "(0, 0, -d*g + h*q, 1 - a**2, -d**2 - q**2 + 1, -g**2 - h**2 + 1)"
      ]
     },
     "execution_count": 106,
     "metadata": {},
     "output_type": "execute_result"
    }
   ],
   "source": [
    "obj_eqns[((1,), (5, 8), (5, 10))]"
   ]
  },
  {
   "cell_type": "code",
   "execution_count": 11,
   "metadata": {},
   "outputs": [
    {
     "data": {
      "text/plain": [
       "(-a*d + b*f + q*(b + c),\n",
       " -a*g + c*k + h*(b + c),\n",
       " -d*g + f*k - h*q,\n",
       " -a**2 - b**2 - c**2 + 1,\n",
       " -d**2 - f**2 - q**2 + 1,\n",
       " -g**2 - h**2 - k**2 + 1)"
      ]
     },
     "execution_count": 11,
     "metadata": {},
     "output_type": "execute_result"
    }
   ],
   "source": [
    "obj_eqns[((1, 4, 9), (1, 5, 8), (1, 5, 10))]"
   ]
  },
  {
   "cell_type": "code",
   "execution_count": 12,
   "metadata": {},
   "outputs": [
    {
     "data": {
      "text/latex": [
       "$\\displaystyle \\left[\\begin{matrix}- a & 0 & 0 & - d & b & 0 & q & f + q & b + c\\\\0 & c & b + c & - g & 0 & - a & h + k & h & 0\\\\- g & f & - q & 0 & k & - d & 0 & 0 & - h\\\\0 & 0 & 0 & - 2 a & 0 & 0 & - 2 c & - 2 b & 0\\\\- 2 d & 0 & 0 & 0 & - 2 f & 0 & 0 & 0 & - 2 q\\\\0 & - 2 k & - 2 h & 0 & 0 & - 2 g & 0 & 0 & 0\\end{matrix}\\right]$"
      ],
      "text/plain": [
       "Matrix([\n",
       "[  -a,    0,     0,   -d,    b,    0,     q, f + q, b + c],\n",
       "[   0,    c, b + c,   -g,    0,   -a, h + k,     h,     0],\n",
       "[  -g,    f,    -q,    0,    k,   -d,     0,     0,    -h],\n",
       "[   0,    0,     0, -2*a,    0,    0,  -2*c,  -2*b,     0],\n",
       "[-2*d,    0,     0,    0, -2*f,    0,     0,     0,  -2*q],\n",
       "[   0, -2*k,  -2*h,    0,    0, -2*g,     0,     0,     0]])"
      ]
     },
     "execution_count": 12,
     "metadata": {},
     "output_type": "execute_result"
    }
   ],
   "source": [
    "equations = obj_eqns[((1, 4, 9), (1, 5, 8), (1, 5, 10))]\n",
    "variables = set().union(*[eq.free_symbols for eq in equations])\n",
    "variables_list = list(variables)\n",
    "J_M = []\n",
    "for equation in equations:\n",
    "    grad = Matrix([diff(equation, var) for var in variables_list]).T\n",
    "    J_M.append(grad)\n",
    "Jacobian1 = Matrix(J_M)\n",
    "Jacobian1"
   ]
  },
  {
   "cell_type": "code",
   "execution_count": null,
   "metadata": {},
   "outputs": [
    {
     "data": {
      "text/plain": [
       "(-a*d + b*f + b*q,\n",
       " -a*g + b*h,\n",
       " -d*g + f*k - h*q,\n",
       " -a**2 - b**2 + 1,\n",
       " -d**2 - f**2 - q**2 + 1,\n",
       " -g**2 - h**2 - k**2 + 1)"
      ]
     },
     "execution_count": 86,
     "metadata": {},
     "output_type": "execute_result"
    }
   ],
   "source": [
    "obj_eqns[((1, 4), (1, 5, 8), (1, 5, 10))]"
   ]
  },
  {
   "cell_type": "code",
   "execution_count": 13,
   "metadata": {},
   "outputs": [],
   "source": [
    "equations = obj_eqns[((1, 4), (1, 5, 8), (1, 5, 10))]\n",
    "J_M = []\n",
    "for equation in equations:\n",
    "    grad = Matrix([diff(equation, var) for var in variables_list]).T\n",
    "    J_M.append(grad)\n",
    "Jacobian2 = Matrix(J_M)"
   ]
  },
  {
   "cell_type": "code",
   "execution_count": null,
   "metadata": {},
   "outputs": [
    {
     "data": {
      "text/plain": [
       "[q, b, c, a, h, d, f, g, k]"
      ]
     },
     "execution_count": 90,
     "metadata": {},
     "output_type": "execute_result"
    }
   ],
   "source": [
    "variables_list"
   ]
  },
  {
   "cell_type": "markdown",
   "metadata": {},
   "source": [
    "## Проверим клетки"
   ]
  },
  {
   "cell_type": "code",
   "execution_count": null,
   "metadata": {},
   "outputs": [
    {
     "name": "stderr",
     "output_type": "stream",
     "text": [
      "100%|██████████| 120/120 [34:33<00:00, 17.28s/it]  \n"
     ]
    }
   ],
   "source": [
    "\n",
    "for system in tqdm(cell_eqns):\n",
    "    if not chek_for_consistency(system, 3):\n",
    "        print(system)"
   ]
  },
  {
   "cell_type": "markdown",
   "metadata": {},
   "source": [
    "# Проверим faces"
   ]
  },
  {
   "cell_type": "code",
   "execution_count": null,
   "metadata": {},
   "outputs": [
    {
     "name": "stderr",
     "output_type": "stream",
     "text": [
      "100%|██████████| 171/171 [03:10<00:00,  1.11s/it]\n"
     ]
    }
   ],
   "source": [
    "for system in tqdm(face_eqns):\n",
    "    if not chek_for_consistency(system, 2):\n",
    "        print(system)"
   ]
  },
  {
   "cell_type": "markdown",
   "metadata": {},
   "source": [
    "# Проверим ребра"
   ]
  },
  {
   "cell_type": "code",
   "execution_count": null,
   "metadata": {},
   "outputs": [
    {
     "name": "stderr",
     "output_type": "stream",
     "text": [
      "100%|██████████| 47/47 [00:23<00:00,  1.96it/s]\n"
     ]
    }
   ],
   "source": [
    "for system in tqdm(edge_eqns):\n",
    "    if not chek_for_consistency(system, 1):\n",
    "        print(system)"
   ]
  },
  {
   "cell_type": "markdown",
   "metadata": {},
   "source": [
    "# Проверим точки"
   ]
  },
  {
   "cell_type": "code",
   "execution_count": null,
   "metadata": {},
   "outputs": [
    {
     "name": "stderr",
     "output_type": "stream",
     "text": [
      "100%|██████████| 5/5 [00:05<00:00,  1.03s/it]\n"
     ]
    }
   ],
   "source": [
    "for system in tqdm(point_eqns):\n",
    "    if not chek_for_consistency(system, 0):\n",
    "        print(system)"
   ]
  },
  {
   "cell_type": "markdown",
   "metadata": {},
   "source": [
    "# Проверим единственность точек"
   ]
  },
  {
   "cell_type": "code",
   "execution_count": null,
   "metadata": {},
   "outputs": [
    {
     "name": "stdout",
     "output_type": "stream",
     "text": [
      "[(sqrt(6)/3, sqrt(3)/3, sqrt(6)/3, sqrt(6)/3, sqrt(3)/3, sqrt(3)/3)]\n",
      "[(sqrt(6)/3, sqrt(6)/3, sqrt(3)/3, sqrt(6)/3, sqrt(3)/3, sqrt(3)/3)]\n",
      "[(sqrt(6)/3, sqrt(3)/3, sqrt(6)/3, sqrt(3)/3, sqrt(3)/3, sqrt(6)/3)]\n",
      "[(1, 1, 1)]\n",
      "[(sqrt(2)/2, sqrt(2)/2, sqrt(2)/2, 1, sqrt(2)/2, 1)]\n"
     ]
    }
   ],
   "source": [
    "for equations in point_eqns:\n",
    "    variables = set().union(*[eq.free_symbols for eq in equations])\n",
    "    variables_list = list(variables)\n",
    "    solutions = solve(equations, variables_list)\n",
    "    positive_solutions = []\n",
    "    for solution in solutions:\n",
    "        if all(coord >= 0 for coord in solution):\n",
    "            positive_solutions.append(solution)\n",
    "    print(positive_solutions)\n",
    "    if len(positive_solutions) != 1:\n",
    "        print(equations)\n",
    "        "
   ]
  },
  {
   "cell_type": "markdown",
   "metadata": {},
   "source": [
    "# Проверим единственность ребер"
   ]
  },
  {
   "cell_type": "code",
   "execution_count": null,
   "metadata": {},
   "outputs": [],
   "source": [
    "eqn_solutions = []\n",
    "for eqns in tqdm(edge_eqns):\n",
    "    variables = set().union(*[eq.free_symbols for eq in eqns])\n",
    "    variables_list = list(variables)\n",
    "    solutions = solve(eqns, variables_list, positive_solutions = True)\n",
    "    eqn_solutions.append(solutions)"
   ]
  },
  {
   "cell_type": "code",
   "execution_count": null,
   "metadata": {},
   "outputs": [],
   "source": [
    "w = -1"
   ]
  },
  {
   "cell_type": "code",
   "execution_count": null,
   "metadata": {},
   "outputs": [
    {
     "name": "stdout",
     "output_type": "stream",
     "text": [
      "0\n"
     ]
    },
    {
     "data": {
      "text/latex": [
       "$\\displaystyle \\left[\\begin{matrix}- 2 \\sqrt{\\frac{\\left(q - 1\\right) \\left(q + 1\\right)}{3 q^{2} - 4}} & q & - q \\sqrt{- \\frac{1}{3 q^{2} - 4}} & \\frac{\\sqrt{- \\frac{1}{3 q^{2} - 4}} \\cdot \\left(3 q^{2} - 2\\right)}{q} & - \\frac{q \\sqrt{- \\frac{1}{3 q^{2} - 4}} \\sqrt{\\frac{q^{2} - 1}{3 q^{2} - 4}} \\cdot \\left(3 q^{2} - 4\\right)}{\\sqrt{1 - q^{2}}} & \\sqrt{- \\left(q - 1\\right) \\left(q + 1\\right)} & \\sqrt{- \\frac{1}{3 q^{2} - 4}} \\sqrt{\\frac{q^{2} - 1}{3 q^{2} - 4}} \\cdot \\left(4 - 3 q^{2}\\right)\\\\- 2 \\sqrt{\\frac{\\left(q - 1\\right) \\left(q + 1\\right)}{3 q^{2} - 4}} & q & - q \\sqrt{- \\frac{1}{3 q^{2} - 4}} & \\frac{\\sqrt{- \\frac{1}{3 q^{2} - 4}} \\cdot \\left(3 q^{2} - 2\\right)}{q} & \\frac{q \\sqrt{- \\frac{1}{3 q^{2} - 4}} \\sqrt{\\frac{q^{2} - 1}{3 q^{2} - 4}} \\cdot \\left(3 q^{2} - 4\\right)}{\\sqrt{1 - q^{2}}} & - \\sqrt{- \\left(q - 1\\right) \\left(q + 1\\right)} & \\sqrt{- \\frac{1}{3 q^{2} - 4}} \\sqrt{\\frac{q^{2} - 1}{3 q^{2} - 4}} \\cdot \\left(4 - 3 q^{2}\\right)\\\\- 2 \\sqrt{\\frac{\\left(q - 1\\right) \\left(q + 1\\right)}{3 q^{2} - 4}} & q & q \\sqrt{- \\frac{1}{3 q^{2} - 4}} & - \\frac{\\sqrt{- \\frac{1}{3 q^{2} - 4}} \\cdot \\left(3 q^{2} - 2\\right)}{q} & - \\frac{q \\sqrt{- \\frac{1}{3 q^{2} - 4}} \\sqrt{\\frac{q^{2} - 1}{3 q^{2} - 4}} \\cdot \\left(3 q^{2} - 4\\right)}{\\sqrt{1 - q^{2}}} & - \\sqrt{- \\left(q - 1\\right) \\left(q + 1\\right)} & \\sqrt{- \\frac{1}{3 q^{2} - 4}} \\sqrt{\\frac{q^{2} - 1}{3 q^{2} - 4}} \\cdot \\left(3 q^{2} - 4\\right)\\\\- 2 \\sqrt{\\frac{\\left(q - 1\\right) \\left(q + 1\\right)}{3 q^{2} - 4}} & q & q \\sqrt{- \\frac{1}{3 q^{2} - 4}} & - \\frac{\\sqrt{- \\frac{1}{3 q^{2} - 4}} \\cdot \\left(3 q^{2} - 2\\right)}{q} & \\frac{q \\sqrt{- \\frac{1}{3 q^{2} - 4}} \\sqrt{\\frac{q^{2} - 1}{3 q^{2} - 4}} \\cdot \\left(3 q^{2} - 4\\right)}{\\sqrt{1 - q^{2}}} & \\sqrt{- \\left(q - 1\\right) \\left(q + 1\\right)} & \\sqrt{- \\frac{1}{3 q^{2} - 4}} \\sqrt{\\frac{q^{2} - 1}{3 q^{2} - 4}} \\cdot \\left(3 q^{2} - 4\\right)\\\\2 \\sqrt{\\frac{\\left(q - 1\\right) \\left(q + 1\\right)}{3 q^{2} - 4}} & q & - q \\sqrt{- \\frac{1}{3 q^{2} - 4}} & \\frac{\\sqrt{- \\frac{1}{3 q^{2} - 4}} \\cdot \\left(3 q^{2} - 2\\right)}{q} & - \\frac{q \\sqrt{- \\frac{1}{3 q^{2} - 4}} \\sqrt{\\frac{q^{2} - 1}{3 q^{2} - 4}} \\cdot \\left(3 q^{2} - 4\\right)}{\\sqrt{1 - q^{2}}} & - \\sqrt{- \\left(q - 1\\right) \\left(q + 1\\right)} & \\sqrt{- \\frac{1}{3 q^{2} - 4}} \\sqrt{\\frac{q^{2} - 1}{3 q^{2} - 4}} \\cdot \\left(3 q^{2} - 4\\right)\\\\2 \\sqrt{\\frac{\\left(q - 1\\right) \\left(q + 1\\right)}{3 q^{2} - 4}} & q & - q \\sqrt{- \\frac{1}{3 q^{2} - 4}} & \\frac{\\sqrt{- \\frac{1}{3 q^{2} - 4}} \\cdot \\left(3 q^{2} - 2\\right)}{q} & \\frac{q \\sqrt{- \\frac{1}{3 q^{2} - 4}} \\sqrt{\\frac{q^{2} - 1}{3 q^{2} - 4}} \\cdot \\left(3 q^{2} - 4\\right)}{\\sqrt{1 - q^{2}}} & \\sqrt{- \\left(q - 1\\right) \\left(q + 1\\right)} & \\sqrt{- \\frac{1}{3 q^{2} - 4}} \\sqrt{\\frac{q^{2} - 1}{3 q^{2} - 4}} \\cdot \\left(3 q^{2} - 4\\right)\\\\2 \\sqrt{\\frac{\\left(q - 1\\right) \\left(q + 1\\right)}{3 q^{2} - 4}} & q & q \\sqrt{- \\frac{1}{3 q^{2} - 4}} & - \\frac{\\sqrt{- \\frac{1}{3 q^{2} - 4}} \\cdot \\left(3 q^{2} - 2\\right)}{q} & - \\frac{q \\sqrt{- \\frac{1}{3 q^{2} - 4}} \\sqrt{\\frac{q^{2} - 1}{3 q^{2} - 4}} \\cdot \\left(3 q^{2} - 4\\right)}{\\sqrt{1 - q^{2}}} & \\sqrt{- \\left(q - 1\\right) \\left(q + 1\\right)} & \\sqrt{- \\frac{1}{3 q^{2} - 4}} \\sqrt{\\frac{q^{2} - 1}{3 q^{2} - 4}} \\cdot \\left(4 - 3 q^{2}\\right)\\\\2 \\sqrt{\\frac{\\left(q - 1\\right) \\left(q + 1\\right)}{3 q^{2} - 4}} & q & q \\sqrt{- \\frac{1}{3 q^{2} - 4}} & - \\frac{\\sqrt{- \\frac{1}{3 q^{2} - 4}} \\cdot \\left(3 q^{2} - 2\\right)}{q} & \\frac{q \\sqrt{- \\frac{1}{3 q^{2} - 4}} \\sqrt{\\frac{q^{2} - 1}{3 q^{2} - 4}} \\cdot \\left(3 q^{2} - 4\\right)}{\\sqrt{1 - q^{2}}} & - \\sqrt{- \\left(q - 1\\right) \\left(q + 1\\right)} & \\sqrt{- \\frac{1}{3 q^{2} - 4}} \\sqrt{\\frac{q^{2} - 1}{3 q^{2} - 4}} \\cdot \\left(4 - 3 q^{2}\\right)\\end{matrix}\\right]$"
      ],
      "text/plain": [
       "Matrix([\n",
       "[-2*sqrt((q - 1)*(q + 1)/(3*q**2 - 4)), q, -q*sqrt(-1/(3*q**2 - 4)),  sqrt(-1/(3*q**2 - 4))*(3*q**2 - 2)/q, -q*sqrt(-1/(3*q**2 - 4))*sqrt((q**2 - 1)/(3*q**2 - 4))*(3*q**2 - 4)/sqrt(1 - q**2),  sqrt(-(q - 1)*(q + 1)), sqrt(-1/(3*q**2 - 4))*sqrt((q**2 - 1)/(3*q**2 - 4))*(4 - 3*q**2)],\n",
       "[-2*sqrt((q - 1)*(q + 1)/(3*q**2 - 4)), q, -q*sqrt(-1/(3*q**2 - 4)),  sqrt(-1/(3*q**2 - 4))*(3*q**2 - 2)/q,  q*sqrt(-1/(3*q**2 - 4))*sqrt((q**2 - 1)/(3*q**2 - 4))*(3*q**2 - 4)/sqrt(1 - q**2), -sqrt(-(q - 1)*(q + 1)), sqrt(-1/(3*q**2 - 4))*sqrt((q**2 - 1)/(3*q**2 - 4))*(4 - 3*q**2)],\n",
       "[-2*sqrt((q - 1)*(q + 1)/(3*q**2 - 4)), q,  q*sqrt(-1/(3*q**2 - 4)), -sqrt(-1/(3*q**2 - 4))*(3*q**2 - 2)/q, -q*sqrt(-1/(3*q**2 - 4))*sqrt((q**2 - 1)/(3*q**2 - 4))*(3*q**2 - 4)/sqrt(1 - q**2), -sqrt(-(q - 1)*(q + 1)), sqrt(-1/(3*q**2 - 4))*sqrt((q**2 - 1)/(3*q**2 - 4))*(3*q**2 - 4)],\n",
       "[-2*sqrt((q - 1)*(q + 1)/(3*q**2 - 4)), q,  q*sqrt(-1/(3*q**2 - 4)), -sqrt(-1/(3*q**2 - 4))*(3*q**2 - 2)/q,  q*sqrt(-1/(3*q**2 - 4))*sqrt((q**2 - 1)/(3*q**2 - 4))*(3*q**2 - 4)/sqrt(1 - q**2),  sqrt(-(q - 1)*(q + 1)), sqrt(-1/(3*q**2 - 4))*sqrt((q**2 - 1)/(3*q**2 - 4))*(3*q**2 - 4)],\n",
       "[ 2*sqrt((q - 1)*(q + 1)/(3*q**2 - 4)), q, -q*sqrt(-1/(3*q**2 - 4)),  sqrt(-1/(3*q**2 - 4))*(3*q**2 - 2)/q, -q*sqrt(-1/(3*q**2 - 4))*sqrt((q**2 - 1)/(3*q**2 - 4))*(3*q**2 - 4)/sqrt(1 - q**2), -sqrt(-(q - 1)*(q + 1)), sqrt(-1/(3*q**2 - 4))*sqrt((q**2 - 1)/(3*q**2 - 4))*(3*q**2 - 4)],\n",
       "[ 2*sqrt((q - 1)*(q + 1)/(3*q**2 - 4)), q, -q*sqrt(-1/(3*q**2 - 4)),  sqrt(-1/(3*q**2 - 4))*(3*q**2 - 2)/q,  q*sqrt(-1/(3*q**2 - 4))*sqrt((q**2 - 1)/(3*q**2 - 4))*(3*q**2 - 4)/sqrt(1 - q**2),  sqrt(-(q - 1)*(q + 1)), sqrt(-1/(3*q**2 - 4))*sqrt((q**2 - 1)/(3*q**2 - 4))*(3*q**2 - 4)],\n",
       "[ 2*sqrt((q - 1)*(q + 1)/(3*q**2 - 4)), q,  q*sqrt(-1/(3*q**2 - 4)), -sqrt(-1/(3*q**2 - 4))*(3*q**2 - 2)/q, -q*sqrt(-1/(3*q**2 - 4))*sqrt((q**2 - 1)/(3*q**2 - 4))*(3*q**2 - 4)/sqrt(1 - q**2),  sqrt(-(q - 1)*(q + 1)), sqrt(-1/(3*q**2 - 4))*sqrt((q**2 - 1)/(3*q**2 - 4))*(4 - 3*q**2)],\n",
       "[ 2*sqrt((q - 1)*(q + 1)/(3*q**2 - 4)), q,  q*sqrt(-1/(3*q**2 - 4)), -sqrt(-1/(3*q**2 - 4))*(3*q**2 - 2)/q,  q*sqrt(-1/(3*q**2 - 4))*sqrt((q**2 - 1)/(3*q**2 - 4))*(3*q**2 - 4)/sqrt(1 - q**2), -sqrt(-(q - 1)*(q + 1)), sqrt(-1/(3*q**2 - 4))*sqrt((q**2 - 1)/(3*q**2 - 4))*(4 - 3*q**2)]])"
      ]
     },
     "execution_count": 191,
     "metadata": {},
     "output_type": "execute_result"
    }
   ],
   "source": [
    "w += 1\n",
    "print(w)\n",
    "Matrix(eqn_solutions[w])"
   ]
  },
  {
   "cell_type": "code",
   "execution_count": null,
   "metadata": {},
   "outputs": [
    {
     "name": "stdout",
     "output_type": "stream",
     "text": [
      "1\n"
     ]
    },
    {
     "data": {
      "text/latex": [
       "$\\displaystyle \\left[\\begin{matrix}- q \\sqrt{- \\frac{1}{3 q^{2} - 4}} & q & - 2 \\sqrt{\\frac{\\left(q - 1\\right) \\left(q + 1\\right)}{3 q^{2} - 4}} & \\frac{\\sqrt{- \\frac{1}{3 q^{2} - 4}} \\cdot \\left(3 q^{2} - 2\\right)}{q} & - \\frac{q \\sqrt{- \\frac{1}{3 q^{2} - 4}} \\sqrt{\\frac{q^{2} - 1}{3 q^{2} - 4}} \\cdot \\left(3 q^{2} - 4\\right)}{\\sqrt{1 - q^{2}}} & \\sqrt{- \\left(q - 1\\right) \\left(q + 1\\right)} & \\sqrt{- \\frac{1}{3 q^{2} - 4}} \\sqrt{\\frac{q^{2} - 1}{3 q^{2} - 4}} \\cdot \\left(4 - 3 q^{2}\\right)\\\\- q \\sqrt{- \\frac{1}{3 q^{2} - 4}} & q & - 2 \\sqrt{\\frac{\\left(q - 1\\right) \\left(q + 1\\right)}{3 q^{2} - 4}} & \\frac{\\sqrt{- \\frac{1}{3 q^{2} - 4}} \\cdot \\left(3 q^{2} - 2\\right)}{q} & \\frac{q \\sqrt{- \\frac{1}{3 q^{2} - 4}} \\sqrt{\\frac{q^{2} - 1}{3 q^{2} - 4}} \\cdot \\left(3 q^{2} - 4\\right)}{\\sqrt{1 - q^{2}}} & - \\sqrt{- \\left(q - 1\\right) \\left(q + 1\\right)} & \\sqrt{- \\frac{1}{3 q^{2} - 4}} \\sqrt{\\frac{q^{2} - 1}{3 q^{2} - 4}} \\cdot \\left(4 - 3 q^{2}\\right)\\\\- q \\sqrt{- \\frac{1}{3 q^{2} - 4}} & q & 2 \\sqrt{\\frac{\\left(q - 1\\right) \\left(q + 1\\right)}{3 q^{2} - 4}} & \\frac{\\sqrt{- \\frac{1}{3 q^{2} - 4}} \\cdot \\left(3 q^{2} - 2\\right)}{q} & - \\frac{q \\sqrt{- \\frac{1}{3 q^{2} - 4}} \\sqrt{\\frac{q^{2} - 1}{3 q^{2} - 4}} \\cdot \\left(3 q^{2} - 4\\right)}{\\sqrt{1 - q^{2}}} & - \\sqrt{- \\left(q - 1\\right) \\left(q + 1\\right)} & \\sqrt{- \\frac{1}{3 q^{2} - 4}} \\sqrt{\\frac{q^{2} - 1}{3 q^{2} - 4}} \\cdot \\left(3 q^{2} - 4\\right)\\\\- q \\sqrt{- \\frac{1}{3 q^{2} - 4}} & q & 2 \\sqrt{\\frac{\\left(q - 1\\right) \\left(q + 1\\right)}{3 q^{2} - 4}} & \\frac{\\sqrt{- \\frac{1}{3 q^{2} - 4}} \\cdot \\left(3 q^{2} - 2\\right)}{q} & \\frac{q \\sqrt{- \\frac{1}{3 q^{2} - 4}} \\sqrt{\\frac{q^{2} - 1}{3 q^{2} - 4}} \\cdot \\left(3 q^{2} - 4\\right)}{\\sqrt{1 - q^{2}}} & \\sqrt{- \\left(q - 1\\right) \\left(q + 1\\right)} & \\sqrt{- \\frac{1}{3 q^{2} - 4}} \\sqrt{\\frac{q^{2} - 1}{3 q^{2} - 4}} \\cdot \\left(3 q^{2} - 4\\right)\\\\q \\sqrt{- \\frac{1}{3 q^{2} - 4}} & q & - 2 \\sqrt{\\frac{\\left(q - 1\\right) \\left(q + 1\\right)}{3 q^{2} - 4}} & - \\frac{\\sqrt{- \\frac{1}{3 q^{2} - 4}} \\cdot \\left(3 q^{2} - 2\\right)}{q} & - \\frac{q \\sqrt{- \\frac{1}{3 q^{2} - 4}} \\sqrt{\\frac{q^{2} - 1}{3 q^{2} - 4}} \\cdot \\left(3 q^{2} - 4\\right)}{\\sqrt{1 - q^{2}}} & - \\sqrt{- \\left(q - 1\\right) \\left(q + 1\\right)} & \\sqrt{- \\frac{1}{3 q^{2} - 4}} \\sqrt{\\frac{q^{2} - 1}{3 q^{2} - 4}} \\cdot \\left(3 q^{2} - 4\\right)\\\\q \\sqrt{- \\frac{1}{3 q^{2} - 4}} & q & - 2 \\sqrt{\\frac{\\left(q - 1\\right) \\left(q + 1\\right)}{3 q^{2} - 4}} & - \\frac{\\sqrt{- \\frac{1}{3 q^{2} - 4}} \\cdot \\left(3 q^{2} - 2\\right)}{q} & \\frac{q \\sqrt{- \\frac{1}{3 q^{2} - 4}} \\sqrt{\\frac{q^{2} - 1}{3 q^{2} - 4}} \\cdot \\left(3 q^{2} - 4\\right)}{\\sqrt{1 - q^{2}}} & \\sqrt{- \\left(q - 1\\right) \\left(q + 1\\right)} & \\sqrt{- \\frac{1}{3 q^{2} - 4}} \\sqrt{\\frac{q^{2} - 1}{3 q^{2} - 4}} \\cdot \\left(3 q^{2} - 4\\right)\\\\q \\sqrt{- \\frac{1}{3 q^{2} - 4}} & q & 2 \\sqrt{\\frac{\\left(q - 1\\right) \\left(q + 1\\right)}{3 q^{2} - 4}} & - \\frac{\\sqrt{- \\frac{1}{3 q^{2} - 4}} \\cdot \\left(3 q^{2} - 2\\right)}{q} & - \\frac{q \\sqrt{- \\frac{1}{3 q^{2} - 4}} \\sqrt{\\frac{q^{2} - 1}{3 q^{2} - 4}} \\cdot \\left(3 q^{2} - 4\\right)}{\\sqrt{1 - q^{2}}} & \\sqrt{- \\left(q - 1\\right) \\left(q + 1\\right)} & \\sqrt{- \\frac{1}{3 q^{2} - 4}} \\sqrt{\\frac{q^{2} - 1}{3 q^{2} - 4}} \\cdot \\left(4 - 3 q^{2}\\right)\\\\q \\sqrt{- \\frac{1}{3 q^{2} - 4}} & q & 2 \\sqrt{\\frac{\\left(q - 1\\right) \\left(q + 1\\right)}{3 q^{2} - 4}} & - \\frac{\\sqrt{- \\frac{1}{3 q^{2} - 4}} \\cdot \\left(3 q^{2} - 2\\right)}{q} & \\frac{q \\sqrt{- \\frac{1}{3 q^{2} - 4}} \\sqrt{\\frac{q^{2} - 1}{3 q^{2} - 4}} \\cdot \\left(3 q^{2} - 4\\right)}{\\sqrt{1 - q^{2}}} & - \\sqrt{- \\left(q - 1\\right) \\left(q + 1\\right)} & \\sqrt{- \\frac{1}{3 q^{2} - 4}} \\sqrt{\\frac{q^{2} - 1}{3 q^{2} - 4}} \\cdot \\left(4 - 3 q^{2}\\right)\\end{matrix}\\right]$"
      ],
      "text/plain": [
       "Matrix([\n",
       "[-q*sqrt(-1/(3*q**2 - 4)), q, -2*sqrt((q - 1)*(q + 1)/(3*q**2 - 4)),  sqrt(-1/(3*q**2 - 4))*(3*q**2 - 2)/q, -q*sqrt(-1/(3*q**2 - 4))*sqrt((q**2 - 1)/(3*q**2 - 4))*(3*q**2 - 4)/sqrt(1 - q**2),  sqrt(-(q - 1)*(q + 1)), sqrt(-1/(3*q**2 - 4))*sqrt((q**2 - 1)/(3*q**2 - 4))*(4 - 3*q**2)],\n",
       "[-q*sqrt(-1/(3*q**2 - 4)), q, -2*sqrt((q - 1)*(q + 1)/(3*q**2 - 4)),  sqrt(-1/(3*q**2 - 4))*(3*q**2 - 2)/q,  q*sqrt(-1/(3*q**2 - 4))*sqrt((q**2 - 1)/(3*q**2 - 4))*(3*q**2 - 4)/sqrt(1 - q**2), -sqrt(-(q - 1)*(q + 1)), sqrt(-1/(3*q**2 - 4))*sqrt((q**2 - 1)/(3*q**2 - 4))*(4 - 3*q**2)],\n",
       "[-q*sqrt(-1/(3*q**2 - 4)), q,  2*sqrt((q - 1)*(q + 1)/(3*q**2 - 4)),  sqrt(-1/(3*q**2 - 4))*(3*q**2 - 2)/q, -q*sqrt(-1/(3*q**2 - 4))*sqrt((q**2 - 1)/(3*q**2 - 4))*(3*q**2 - 4)/sqrt(1 - q**2), -sqrt(-(q - 1)*(q + 1)), sqrt(-1/(3*q**2 - 4))*sqrt((q**2 - 1)/(3*q**2 - 4))*(3*q**2 - 4)],\n",
       "[-q*sqrt(-1/(3*q**2 - 4)), q,  2*sqrt((q - 1)*(q + 1)/(3*q**2 - 4)),  sqrt(-1/(3*q**2 - 4))*(3*q**2 - 2)/q,  q*sqrt(-1/(3*q**2 - 4))*sqrt((q**2 - 1)/(3*q**2 - 4))*(3*q**2 - 4)/sqrt(1 - q**2),  sqrt(-(q - 1)*(q + 1)), sqrt(-1/(3*q**2 - 4))*sqrt((q**2 - 1)/(3*q**2 - 4))*(3*q**2 - 4)],\n",
       "[ q*sqrt(-1/(3*q**2 - 4)), q, -2*sqrt((q - 1)*(q + 1)/(3*q**2 - 4)), -sqrt(-1/(3*q**2 - 4))*(3*q**2 - 2)/q, -q*sqrt(-1/(3*q**2 - 4))*sqrt((q**2 - 1)/(3*q**2 - 4))*(3*q**2 - 4)/sqrt(1 - q**2), -sqrt(-(q - 1)*(q + 1)), sqrt(-1/(3*q**2 - 4))*sqrt((q**2 - 1)/(3*q**2 - 4))*(3*q**2 - 4)],\n",
       "[ q*sqrt(-1/(3*q**2 - 4)), q, -2*sqrt((q - 1)*(q + 1)/(3*q**2 - 4)), -sqrt(-1/(3*q**2 - 4))*(3*q**2 - 2)/q,  q*sqrt(-1/(3*q**2 - 4))*sqrt((q**2 - 1)/(3*q**2 - 4))*(3*q**2 - 4)/sqrt(1 - q**2),  sqrt(-(q - 1)*(q + 1)), sqrt(-1/(3*q**2 - 4))*sqrt((q**2 - 1)/(3*q**2 - 4))*(3*q**2 - 4)],\n",
       "[ q*sqrt(-1/(3*q**2 - 4)), q,  2*sqrt((q - 1)*(q + 1)/(3*q**2 - 4)), -sqrt(-1/(3*q**2 - 4))*(3*q**2 - 2)/q, -q*sqrt(-1/(3*q**2 - 4))*sqrt((q**2 - 1)/(3*q**2 - 4))*(3*q**2 - 4)/sqrt(1 - q**2),  sqrt(-(q - 1)*(q + 1)), sqrt(-1/(3*q**2 - 4))*sqrt((q**2 - 1)/(3*q**2 - 4))*(4 - 3*q**2)],\n",
       "[ q*sqrt(-1/(3*q**2 - 4)), q,  2*sqrt((q - 1)*(q + 1)/(3*q**2 - 4)), -sqrt(-1/(3*q**2 - 4))*(3*q**2 - 2)/q,  q*sqrt(-1/(3*q**2 - 4))*sqrt((q**2 - 1)/(3*q**2 - 4))*(3*q**2 - 4)/sqrt(1 - q**2), -sqrt(-(q - 1)*(q + 1)), sqrt(-1/(3*q**2 - 4))*sqrt((q**2 - 1)/(3*q**2 - 4))*(4 - 3*q**2)]])"
      ]
     },
     "execution_count": 121,
     "metadata": {},
     "output_type": "execute_result"
    }
   ],
   "source": [
    "w += 1\n",
    "print(w)\n",
    "Matrix(eqn_solutions[w])"
   ]
  },
  {
   "cell_type": "code",
   "execution_count": null,
   "metadata": {},
   "outputs": [
    {
     "name": "stdout",
     "output_type": "stream",
     "text": [
      "2\n"
     ]
    },
    {
     "data": {
      "text/latex": [
       "$\\displaystyle \\left[\\begin{matrix}- 2 \\sqrt{\\frac{q^{2} - 1}{3 q^{2} - 4}} & q & - q \\sqrt{- \\frac{1}{3 q^{2} - 4}} & \\frac{\\sqrt{- \\frac{1}{3 q^{2} - 4}} \\cdot \\left(3 q^{2} - 2\\right)}{q} & \\sqrt{- \\frac{1}{3 q^{2} - 4}} \\sqrt{\\frac{q^{2} - 1}{3 q^{2} - 4}} \\cdot \\left(4 - 3 q^{2}\\right) & q & \\sqrt{- \\frac{1}{3 q^{2} - 4}} \\sqrt{\\frac{q^{2} - 1}{3 q^{2} - 4}} \\cdot \\left(4 - 3 q^{2}\\right)\\\\- 2 \\sqrt{\\frac{q^{2} - 1}{3 q^{2} - 4}} & q & - q \\sqrt{- \\frac{1}{3 q^{2} - 4}} & \\frac{\\sqrt{- \\frac{1}{3 q^{2} - 4}} \\cdot \\left(3 q^{2} - 2\\right)}{q} & \\sqrt{- \\frac{1}{3 q^{2} - 4}} \\sqrt{\\frac{q^{2} - 1}{3 q^{2} - 4}} \\cdot \\left(3 q^{2} - 4\\right) & - q & \\sqrt{- \\frac{1}{3 q^{2} - 4}} \\sqrt{\\frac{q^{2} - 1}{3 q^{2} - 4}} \\cdot \\left(4 - 3 q^{2}\\right)\\\\- 2 \\sqrt{\\frac{q^{2} - 1}{3 q^{2} - 4}} & q & q \\sqrt{- \\frac{1}{3 q^{2} - 4}} & \\frac{\\sqrt{- \\frac{1}{3 q^{2} - 4}} \\cdot \\left(2 - 3 q^{2}\\right)}{q} & \\sqrt{- \\frac{1}{3 q^{2} - 4}} \\sqrt{\\frac{q^{2} - 1}{3 q^{2} - 4}} \\cdot \\left(4 - 3 q^{2}\\right) & - q & \\sqrt{- \\frac{1}{3 q^{2} - 4}} \\sqrt{\\frac{q^{2} - 1}{3 q^{2} - 4}} \\cdot \\left(3 q^{2} - 4\\right)\\\\- 2 \\sqrt{\\frac{q^{2} - 1}{3 q^{2} - 4}} & q & q \\sqrt{- \\frac{1}{3 q^{2} - 4}} & \\frac{\\sqrt{- \\frac{1}{3 q^{2} - 4}} \\cdot \\left(2 - 3 q^{2}\\right)}{q} & \\sqrt{- \\frac{1}{3 q^{2} - 4}} \\sqrt{\\frac{q^{2} - 1}{3 q^{2} - 4}} \\cdot \\left(3 q^{2} - 4\\right) & q & \\sqrt{- \\frac{1}{3 q^{2} - 4}} \\sqrt{\\frac{q^{2} - 1}{3 q^{2} - 4}} \\cdot \\left(3 q^{2} - 4\\right)\\\\2 \\sqrt{\\frac{q^{2} - 1}{3 q^{2} - 4}} & q & - q \\sqrt{- \\frac{1}{3 q^{2} - 4}} & \\frac{\\sqrt{- \\frac{1}{3 q^{2} - 4}} \\cdot \\left(3 q^{2} - 2\\right)}{q} & \\sqrt{- \\frac{1}{3 q^{2} - 4}} \\sqrt{\\frac{q^{2} - 1}{3 q^{2} - 4}} \\cdot \\left(4 - 3 q^{2}\\right) & - q & \\sqrt{- \\frac{1}{3 q^{2} - 4}} \\sqrt{\\frac{q^{2} - 1}{3 q^{2} - 4}} \\cdot \\left(3 q^{2} - 4\\right)\\\\2 \\sqrt{\\frac{q^{2} - 1}{3 q^{2} - 4}} & q & - q \\sqrt{- \\frac{1}{3 q^{2} - 4}} & \\frac{\\sqrt{- \\frac{1}{3 q^{2} - 4}} \\cdot \\left(3 q^{2} - 2\\right)}{q} & \\sqrt{- \\frac{1}{3 q^{2} - 4}} \\sqrt{\\frac{q^{2} - 1}{3 q^{2} - 4}} \\cdot \\left(3 q^{2} - 4\\right) & q & \\sqrt{- \\frac{1}{3 q^{2} - 4}} \\sqrt{\\frac{q^{2} - 1}{3 q^{2} - 4}} \\cdot \\left(3 q^{2} - 4\\right)\\\\2 \\sqrt{\\frac{q^{2} - 1}{3 q^{2} - 4}} & q & q \\sqrt{- \\frac{1}{3 q^{2} - 4}} & \\frac{\\sqrt{- \\frac{1}{3 q^{2} - 4}} \\cdot \\left(2 - 3 q^{2}\\right)}{q} & \\sqrt{- \\frac{1}{3 q^{2} - 4}} \\sqrt{\\frac{q^{2} - 1}{3 q^{2} - 4}} \\cdot \\left(4 - 3 q^{2}\\right) & q & \\sqrt{- \\frac{1}{3 q^{2} - 4}} \\sqrt{\\frac{q^{2} - 1}{3 q^{2} - 4}} \\cdot \\left(4 - 3 q^{2}\\right)\\\\2 \\sqrt{\\frac{q^{2} - 1}{3 q^{2} - 4}} & q & q \\sqrt{- \\frac{1}{3 q^{2} - 4}} & \\frac{\\sqrt{- \\frac{1}{3 q^{2} - 4}} \\cdot \\left(2 - 3 q^{2}\\right)}{q} & \\sqrt{- \\frac{1}{3 q^{2} - 4}} \\sqrt{\\frac{q^{2} - 1}{3 q^{2} - 4}} \\cdot \\left(3 q^{2} - 4\\right) & - q & \\sqrt{- \\frac{1}{3 q^{2} - 4}} \\sqrt{\\frac{q^{2} - 1}{3 q^{2} - 4}} \\cdot \\left(4 - 3 q^{2}\\right)\\end{matrix}\\right]$"
      ],
      "text/plain": [
       "Matrix([\n",
       "[-2*sqrt((q**2 - 1)/(3*q**2 - 4)), q, -q*sqrt(-1/(3*q**2 - 4)), sqrt(-1/(3*q**2 - 4))*(3*q**2 - 2)/q, sqrt(-1/(3*q**2 - 4))*sqrt((q**2 - 1)/(3*q**2 - 4))*(4 - 3*q**2),  q, sqrt(-1/(3*q**2 - 4))*sqrt((q**2 - 1)/(3*q**2 - 4))*(4 - 3*q**2)],\n",
       "[-2*sqrt((q**2 - 1)/(3*q**2 - 4)), q, -q*sqrt(-1/(3*q**2 - 4)), sqrt(-1/(3*q**2 - 4))*(3*q**2 - 2)/q, sqrt(-1/(3*q**2 - 4))*sqrt((q**2 - 1)/(3*q**2 - 4))*(3*q**2 - 4), -q, sqrt(-1/(3*q**2 - 4))*sqrt((q**2 - 1)/(3*q**2 - 4))*(4 - 3*q**2)],\n",
       "[-2*sqrt((q**2 - 1)/(3*q**2 - 4)), q,  q*sqrt(-1/(3*q**2 - 4)), sqrt(-1/(3*q**2 - 4))*(2 - 3*q**2)/q, sqrt(-1/(3*q**2 - 4))*sqrt((q**2 - 1)/(3*q**2 - 4))*(4 - 3*q**2), -q, sqrt(-1/(3*q**2 - 4))*sqrt((q**2 - 1)/(3*q**2 - 4))*(3*q**2 - 4)],\n",
       "[-2*sqrt((q**2 - 1)/(3*q**2 - 4)), q,  q*sqrt(-1/(3*q**2 - 4)), sqrt(-1/(3*q**2 - 4))*(2 - 3*q**2)/q, sqrt(-1/(3*q**2 - 4))*sqrt((q**2 - 1)/(3*q**2 - 4))*(3*q**2 - 4),  q, sqrt(-1/(3*q**2 - 4))*sqrt((q**2 - 1)/(3*q**2 - 4))*(3*q**2 - 4)],\n",
       "[ 2*sqrt((q**2 - 1)/(3*q**2 - 4)), q, -q*sqrt(-1/(3*q**2 - 4)), sqrt(-1/(3*q**2 - 4))*(3*q**2 - 2)/q, sqrt(-1/(3*q**2 - 4))*sqrt((q**2 - 1)/(3*q**2 - 4))*(4 - 3*q**2), -q, sqrt(-1/(3*q**2 - 4))*sqrt((q**2 - 1)/(3*q**2 - 4))*(3*q**2 - 4)],\n",
       "[ 2*sqrt((q**2 - 1)/(3*q**2 - 4)), q, -q*sqrt(-1/(3*q**2 - 4)), sqrt(-1/(3*q**2 - 4))*(3*q**2 - 2)/q, sqrt(-1/(3*q**2 - 4))*sqrt((q**2 - 1)/(3*q**2 - 4))*(3*q**2 - 4),  q, sqrt(-1/(3*q**2 - 4))*sqrt((q**2 - 1)/(3*q**2 - 4))*(3*q**2 - 4)],\n",
       "[ 2*sqrt((q**2 - 1)/(3*q**2 - 4)), q,  q*sqrt(-1/(3*q**2 - 4)), sqrt(-1/(3*q**2 - 4))*(2 - 3*q**2)/q, sqrt(-1/(3*q**2 - 4))*sqrt((q**2 - 1)/(3*q**2 - 4))*(4 - 3*q**2),  q, sqrt(-1/(3*q**2 - 4))*sqrt((q**2 - 1)/(3*q**2 - 4))*(4 - 3*q**2)],\n",
       "[ 2*sqrt((q**2 - 1)/(3*q**2 - 4)), q,  q*sqrt(-1/(3*q**2 - 4)), sqrt(-1/(3*q**2 - 4))*(2 - 3*q**2)/q, sqrt(-1/(3*q**2 - 4))*sqrt((q**2 - 1)/(3*q**2 - 4))*(3*q**2 - 4), -q, sqrt(-1/(3*q**2 - 4))*sqrt((q**2 - 1)/(3*q**2 - 4))*(4 - 3*q**2)]])"
      ]
     },
     "execution_count": 122,
     "metadata": {},
     "output_type": "execute_result"
    }
   ],
   "source": [
    "w += 1\n",
    "print(w)\n",
    "Matrix(eqn_solutions[w])"
   ]
  },
  {
   "cell_type": "code",
   "execution_count": null,
   "metadata": {},
   "outputs": [
    {
     "name": "stdout",
     "output_type": "stream",
     "text": [
      "3\n"
     ]
    },
    {
     "data": {
      "text/latex": [
       "$\\displaystyle \\left[\\begin{matrix}- 2 q \\sqrt{\\frac{1}{q^{4} + 2 q^{2} + 5}} & q & - 2 \\sqrt{\\frac{1}{q^{4} + 2 q^{2} + 5}} & - \\left(q - 1\\right) \\left(q + 1\\right) \\sqrt{\\frac{1}{q^{4} + 2 q^{2} + 5}} & - \\sqrt{\\frac{1}{q^{2} + 1}} & - q \\sqrt{\\frac{1}{q^{2} + 1}} & 1\\\\- 2 q \\sqrt{\\frac{1}{q^{4} + 2 q^{2} + 5}} & q & - 2 \\sqrt{\\frac{1}{q^{4} + 2 q^{2} + 5}} & - \\left(q - 1\\right) \\left(q + 1\\right) \\sqrt{\\frac{1}{q^{4} + 2 q^{2} + 5}} & \\sqrt{\\frac{1}{q^{2} + 1}} & q \\sqrt{\\frac{1}{q^{2} + 1}} & 1\\\\- 2 q \\sqrt{\\frac{1}{q^{4} + 2 q^{2} + 5}} & q & 2 \\sqrt{\\frac{1}{q^{4} + 2 q^{2} + 5}} & \\left(q - 1\\right) \\left(q + 1\\right) \\sqrt{\\frac{1}{q^{4} + 2 q^{2} + 5}} & - \\sqrt{\\frac{1}{q^{2} + 1}} & q \\sqrt{\\frac{1}{q^{2} + 1}} & -1\\\\- 2 q \\sqrt{\\frac{1}{q^{4} + 2 q^{2} + 5}} & q & 2 \\sqrt{\\frac{1}{q^{4} + 2 q^{2} + 5}} & \\left(q - 1\\right) \\left(q + 1\\right) \\sqrt{\\frac{1}{q^{4} + 2 q^{2} + 5}} & \\sqrt{\\frac{1}{q^{2} + 1}} & - q \\sqrt{\\frac{1}{q^{2} + 1}} & -1\\\\2 q \\sqrt{\\frac{1}{q^{4} + 2 q^{2} + 5}} & q & - 2 \\sqrt{\\frac{1}{q^{4} + 2 q^{2} + 5}} & - \\left(q - 1\\right) \\left(q + 1\\right) \\sqrt{\\frac{1}{q^{4} + 2 q^{2} + 5}} & - \\sqrt{\\frac{1}{q^{2} + 1}} & q \\sqrt{\\frac{1}{q^{2} + 1}} & -1\\\\2 q \\sqrt{\\frac{1}{q^{4} + 2 q^{2} + 5}} & q & - 2 \\sqrt{\\frac{1}{q^{4} + 2 q^{2} + 5}} & - \\left(q - 1\\right) \\left(q + 1\\right) \\sqrt{\\frac{1}{q^{4} + 2 q^{2} + 5}} & \\sqrt{\\frac{1}{q^{2} + 1}} & - q \\sqrt{\\frac{1}{q^{2} + 1}} & -1\\\\2 q \\sqrt{\\frac{1}{q^{4} + 2 q^{2} + 5}} & q & 2 \\sqrt{\\frac{1}{q^{4} + 2 q^{2} + 5}} & \\left(q - 1\\right) \\left(q + 1\\right) \\sqrt{\\frac{1}{q^{4} + 2 q^{2} + 5}} & - \\sqrt{\\frac{1}{q^{2} + 1}} & - q \\sqrt{\\frac{1}{q^{2} + 1}} & 1\\\\2 q \\sqrt{\\frac{1}{q^{4} + 2 q^{2} + 5}} & q & 2 \\sqrt{\\frac{1}{q^{4} + 2 q^{2} + 5}} & \\left(q - 1\\right) \\left(q + 1\\right) \\sqrt{\\frac{1}{q^{4} + 2 q^{2} + 5}} & \\sqrt{\\frac{1}{q^{2} + 1}} & q \\sqrt{\\frac{1}{q^{2} + 1}} & 1\\end{matrix}\\right]$"
      ],
      "text/plain": [
       "Matrix([\n",
       "[-2*q*sqrt(1/(q**4 + 2*q**2 + 5)), q, -2*sqrt(1/(q**4 + 2*q**2 + 5)), -(q - 1)*(q + 1)*sqrt(1/(q**4 + 2*q**2 + 5)), -sqrt(1/(q**2 + 1)), -q*sqrt(1/(q**2 + 1)),  1],\n",
       "[-2*q*sqrt(1/(q**4 + 2*q**2 + 5)), q, -2*sqrt(1/(q**4 + 2*q**2 + 5)), -(q - 1)*(q + 1)*sqrt(1/(q**4 + 2*q**2 + 5)),  sqrt(1/(q**2 + 1)),  q*sqrt(1/(q**2 + 1)),  1],\n",
       "[-2*q*sqrt(1/(q**4 + 2*q**2 + 5)), q,  2*sqrt(1/(q**4 + 2*q**2 + 5)),  (q - 1)*(q + 1)*sqrt(1/(q**4 + 2*q**2 + 5)), -sqrt(1/(q**2 + 1)),  q*sqrt(1/(q**2 + 1)), -1],\n",
       "[-2*q*sqrt(1/(q**4 + 2*q**2 + 5)), q,  2*sqrt(1/(q**4 + 2*q**2 + 5)),  (q - 1)*(q + 1)*sqrt(1/(q**4 + 2*q**2 + 5)),  sqrt(1/(q**2 + 1)), -q*sqrt(1/(q**2 + 1)), -1],\n",
       "[ 2*q*sqrt(1/(q**4 + 2*q**2 + 5)), q, -2*sqrt(1/(q**4 + 2*q**2 + 5)), -(q - 1)*(q + 1)*sqrt(1/(q**4 + 2*q**2 + 5)), -sqrt(1/(q**2 + 1)),  q*sqrt(1/(q**2 + 1)), -1],\n",
       "[ 2*q*sqrt(1/(q**4 + 2*q**2 + 5)), q, -2*sqrt(1/(q**4 + 2*q**2 + 5)), -(q - 1)*(q + 1)*sqrt(1/(q**4 + 2*q**2 + 5)),  sqrt(1/(q**2 + 1)), -q*sqrt(1/(q**2 + 1)), -1],\n",
       "[ 2*q*sqrt(1/(q**4 + 2*q**2 + 5)), q,  2*sqrt(1/(q**4 + 2*q**2 + 5)),  (q - 1)*(q + 1)*sqrt(1/(q**4 + 2*q**2 + 5)), -sqrt(1/(q**2 + 1)), -q*sqrt(1/(q**2 + 1)),  1],\n",
       "[ 2*q*sqrt(1/(q**4 + 2*q**2 + 5)), q,  2*sqrt(1/(q**4 + 2*q**2 + 5)),  (q - 1)*(q + 1)*sqrt(1/(q**4 + 2*q**2 + 5)),  sqrt(1/(q**2 + 1)),  q*sqrt(1/(q**2 + 1)),  1]])"
      ]
     },
     "execution_count": 123,
     "metadata": {},
     "output_type": "execute_result"
    }
   ],
   "source": [
    "w += 1\n",
    "print(w)\n",
    "Matrix(eqn_solutions[w])"
   ]
  },
  {
   "cell_type": "code",
   "execution_count": null,
   "metadata": {},
   "outputs": [
    {
     "name": "stdout",
     "output_type": "stream",
     "text": [
      "4\n"
     ]
    },
    {
     "data": {
      "text/latex": [
       "$\\displaystyle \\left[\\begin{matrix}2 \\cdot \\left(1 - q^{2}\\right) \\sqrt{\\frac{1}{9 q^{4} - 16 q^{2} + 8}} & q & \\left(3 q^{2} - 2\\right) \\sqrt{\\frac{1}{9 q^{4} - 16 q^{2} + 8}} & 2 q \\sqrt{\\frac{1 - q^{2}}{9 q^{4} - 16 q^{2} + 8}} & \\sqrt{\\frac{1 - q^{2}}{9 q^{4} - 16 q^{2} + 8}} \\left(- 9 q^{4} + 16 q^{2} - 8\\right) \\sqrt{\\frac{1}{9 q^{4} - 16 q^{2} + 8}} & - q & \\sqrt{\\frac{1 - q^{2}}{9 q^{4} - 16 q^{2} + 8}} \\cdot \\left(9 q^{4} - 16 q^{2} + 8\\right) \\sqrt{\\frac{1}{9 q^{4} - 16 q^{2} + 8}}\\\\2 \\cdot \\left(1 - q^{2}\\right) \\sqrt{\\frac{1}{9 q^{4} - 16 q^{2} + 8}} & q & \\left(3 q^{2} - 2\\right) \\sqrt{\\frac{1}{9 q^{4} - 16 q^{2} + 8}} & 2 q \\sqrt{\\frac{1 - q^{2}}{9 q^{4} - 16 q^{2} + 8}} & \\sqrt{\\frac{1 - q^{2}}{9 q^{4} - 16 q^{2} + 8}} \\cdot \\left(9 q^{4} - 16 q^{2} + 8\\right) \\sqrt{\\frac{1}{9 q^{4} - 16 q^{2} + 8}} & q & \\sqrt{\\frac{1 - q^{2}}{9 q^{4} - 16 q^{2} + 8}} \\cdot \\left(9 q^{4} - 16 q^{2} + 8\\right) \\sqrt{\\frac{1}{9 q^{4} - 16 q^{2} + 8}}\\\\2 \\cdot \\left(1 - q^{2}\\right) \\sqrt{\\frac{1}{9 q^{4} - 16 q^{2} + 8}} & q & \\left(3 q^{2} - 2\\right) \\sqrt{\\frac{1}{9 q^{4} - 16 q^{2} + 8}} & - 2 q \\sqrt{- \\frac{q^{2} - 1}{9 q^{4} - 16 q^{2} + 8}} & \\sqrt{\\frac{1 - q^{2}}{9 q^{4} - 16 q^{2} + 8}} \\left(- 9 q^{4} + 16 q^{2} - 8\\right) \\sqrt{\\frac{1}{9 q^{4} - 16 q^{2} + 8}} & q & \\sqrt{\\frac{1 - q^{2}}{9 q^{4} - 16 q^{2} + 8}} \\left(- 9 q^{4} + 16 q^{2} - 8\\right) \\sqrt{\\frac{1}{9 q^{4} - 16 q^{2} + 8}}\\\\2 \\cdot \\left(1 - q^{2}\\right) \\sqrt{\\frac{1}{9 q^{4} - 16 q^{2} + 8}} & q & \\left(3 q^{2} - 2\\right) \\sqrt{\\frac{1}{9 q^{4} - 16 q^{2} + 8}} & - 2 q \\sqrt{- \\frac{q^{2} - 1}{9 q^{4} - 16 q^{2} + 8}} & \\sqrt{\\frac{1 - q^{2}}{9 q^{4} - 16 q^{2} + 8}} \\cdot \\left(9 q^{4} - 16 q^{2} + 8\\right) \\sqrt{\\frac{1}{9 q^{4} - 16 q^{2} + 8}} & - q & \\sqrt{\\frac{1 - q^{2}}{9 q^{4} - 16 q^{2} + 8}} \\left(- 9 q^{4} + 16 q^{2} - 8\\right) \\sqrt{\\frac{1}{9 q^{4} - 16 q^{2} + 8}}\\\\2 \\left(q^{2} - 1\\right) \\sqrt{\\frac{1}{9 q^{4} - 16 q^{2} + 8}} & q & \\left(2 - 3 q^{2}\\right) \\sqrt{\\frac{1}{9 q^{4} - 16 q^{2} + 8}} & 2 q \\sqrt{\\frac{1 - q^{2}}{9 q^{4} - 16 q^{2} + 8}} & \\sqrt{\\frac{1 - q^{2}}{9 q^{4} - 16 q^{2} + 8}} \\left(- 9 q^{4} + 16 q^{2} - 8\\right) \\sqrt{\\frac{1}{9 q^{4} - 16 q^{2} + 8}} & q & \\sqrt{\\frac{1 - q^{2}}{9 q^{4} - 16 q^{2} + 8}} \\left(- 9 q^{4} + 16 q^{2} - 8\\right) \\sqrt{\\frac{1}{9 q^{4} - 16 q^{2} + 8}}\\\\2 \\left(q^{2} - 1\\right) \\sqrt{\\frac{1}{9 q^{4} - 16 q^{2} + 8}} & q & \\left(2 - 3 q^{2}\\right) \\sqrt{\\frac{1}{9 q^{4} - 16 q^{2} + 8}} & 2 q \\sqrt{\\frac{1 - q^{2}}{9 q^{4} - 16 q^{2} + 8}} & \\sqrt{\\frac{1 - q^{2}}{9 q^{4} - 16 q^{2} + 8}} \\cdot \\left(9 q^{4} - 16 q^{2} + 8\\right) \\sqrt{\\frac{1}{9 q^{4} - 16 q^{2} + 8}} & - q & \\sqrt{\\frac{1 - q^{2}}{9 q^{4} - 16 q^{2} + 8}} \\left(- 9 q^{4} + 16 q^{2} - 8\\right) \\sqrt{\\frac{1}{9 q^{4} - 16 q^{2} + 8}}\\\\2 \\left(q^{2} - 1\\right) \\sqrt{\\frac{1}{9 q^{4} - 16 q^{2} + 8}} & q & \\left(2 - 3 q^{2}\\right) \\sqrt{\\frac{1}{9 q^{4} - 16 q^{2} + 8}} & - 2 q \\sqrt{- \\frac{q^{2} - 1}{9 q^{4} - 16 q^{2} + 8}} & \\sqrt{\\frac{1 - q^{2}}{9 q^{4} - 16 q^{2} + 8}} \\left(- 9 q^{4} + 16 q^{2} - 8\\right) \\sqrt{\\frac{1}{9 q^{4} - 16 q^{2} + 8}} & - q & \\sqrt{\\frac{1 - q^{2}}{9 q^{4} - 16 q^{2} + 8}} \\cdot \\left(9 q^{4} - 16 q^{2} + 8\\right) \\sqrt{\\frac{1}{9 q^{4} - 16 q^{2} + 8}}\\\\2 \\left(q^{2} - 1\\right) \\sqrt{\\frac{1}{9 q^{4} - 16 q^{2} + 8}} & q & \\left(2 - 3 q^{2}\\right) \\sqrt{\\frac{1}{9 q^{4} - 16 q^{2} + 8}} & - 2 q \\sqrt{- \\frac{q^{2} - 1}{9 q^{4} - 16 q^{2} + 8}} & \\sqrt{\\frac{1 - q^{2}}{9 q^{4} - 16 q^{2} + 8}} \\cdot \\left(9 q^{4} - 16 q^{2} + 8\\right) \\sqrt{\\frac{1}{9 q^{4} - 16 q^{2} + 8}} & q & \\sqrt{\\frac{1 - q^{2}}{9 q^{4} - 16 q^{2} + 8}} \\cdot \\left(9 q^{4} - 16 q^{2} + 8\\right) \\sqrt{\\frac{1}{9 q^{4} - 16 q^{2} + 8}}\\end{matrix}\\right]$"
      ],
      "text/plain": [
       "Matrix([\n",
       "[2*(1 - q**2)*sqrt(1/(9*q**4 - 16*q**2 + 8)), q, (3*q**2 - 2)*sqrt(1/(9*q**4 - 16*q**2 + 8)),   2*q*sqrt((1 - q**2)/(9*q**4 - 16*q**2 + 8)), sqrt((1 - q**2)/(9*q**4 - 16*q**2 + 8))*(-9*q**4 + 16*q**2 - 8)*sqrt(1/(9*q**4 - 16*q**2 + 8)), -q,  sqrt((1 - q**2)/(9*q**4 - 16*q**2 + 8))*(9*q**4 - 16*q**2 + 8)*sqrt(1/(9*q**4 - 16*q**2 + 8))],\n",
       "[2*(1 - q**2)*sqrt(1/(9*q**4 - 16*q**2 + 8)), q, (3*q**2 - 2)*sqrt(1/(9*q**4 - 16*q**2 + 8)),   2*q*sqrt((1 - q**2)/(9*q**4 - 16*q**2 + 8)),  sqrt((1 - q**2)/(9*q**4 - 16*q**2 + 8))*(9*q**4 - 16*q**2 + 8)*sqrt(1/(9*q**4 - 16*q**2 + 8)),  q,  sqrt((1 - q**2)/(9*q**4 - 16*q**2 + 8))*(9*q**4 - 16*q**2 + 8)*sqrt(1/(9*q**4 - 16*q**2 + 8))],\n",
       "[2*(1 - q**2)*sqrt(1/(9*q**4 - 16*q**2 + 8)), q, (3*q**2 - 2)*sqrt(1/(9*q**4 - 16*q**2 + 8)), -2*q*sqrt(-(q**2 - 1)/(9*q**4 - 16*q**2 + 8)), sqrt((1 - q**2)/(9*q**4 - 16*q**2 + 8))*(-9*q**4 + 16*q**2 - 8)*sqrt(1/(9*q**4 - 16*q**2 + 8)),  q, sqrt((1 - q**2)/(9*q**4 - 16*q**2 + 8))*(-9*q**4 + 16*q**2 - 8)*sqrt(1/(9*q**4 - 16*q**2 + 8))],\n",
       "[2*(1 - q**2)*sqrt(1/(9*q**4 - 16*q**2 + 8)), q, (3*q**2 - 2)*sqrt(1/(9*q**4 - 16*q**2 + 8)), -2*q*sqrt(-(q**2 - 1)/(9*q**4 - 16*q**2 + 8)),  sqrt((1 - q**2)/(9*q**4 - 16*q**2 + 8))*(9*q**4 - 16*q**2 + 8)*sqrt(1/(9*q**4 - 16*q**2 + 8)), -q, sqrt((1 - q**2)/(9*q**4 - 16*q**2 + 8))*(-9*q**4 + 16*q**2 - 8)*sqrt(1/(9*q**4 - 16*q**2 + 8))],\n",
       "[2*(q**2 - 1)*sqrt(1/(9*q**4 - 16*q**2 + 8)), q, (2 - 3*q**2)*sqrt(1/(9*q**4 - 16*q**2 + 8)),   2*q*sqrt((1 - q**2)/(9*q**4 - 16*q**2 + 8)), sqrt((1 - q**2)/(9*q**4 - 16*q**2 + 8))*(-9*q**4 + 16*q**2 - 8)*sqrt(1/(9*q**4 - 16*q**2 + 8)),  q, sqrt((1 - q**2)/(9*q**4 - 16*q**2 + 8))*(-9*q**4 + 16*q**2 - 8)*sqrt(1/(9*q**4 - 16*q**2 + 8))],\n",
       "[2*(q**2 - 1)*sqrt(1/(9*q**4 - 16*q**2 + 8)), q, (2 - 3*q**2)*sqrt(1/(9*q**4 - 16*q**2 + 8)),   2*q*sqrt((1 - q**2)/(9*q**4 - 16*q**2 + 8)),  sqrt((1 - q**2)/(9*q**4 - 16*q**2 + 8))*(9*q**4 - 16*q**2 + 8)*sqrt(1/(9*q**4 - 16*q**2 + 8)), -q, sqrt((1 - q**2)/(9*q**4 - 16*q**2 + 8))*(-9*q**4 + 16*q**2 - 8)*sqrt(1/(9*q**4 - 16*q**2 + 8))],\n",
       "[2*(q**2 - 1)*sqrt(1/(9*q**4 - 16*q**2 + 8)), q, (2 - 3*q**2)*sqrt(1/(9*q**4 - 16*q**2 + 8)), -2*q*sqrt(-(q**2 - 1)/(9*q**4 - 16*q**2 + 8)), sqrt((1 - q**2)/(9*q**4 - 16*q**2 + 8))*(-9*q**4 + 16*q**2 - 8)*sqrt(1/(9*q**4 - 16*q**2 + 8)), -q,  sqrt((1 - q**2)/(9*q**4 - 16*q**2 + 8))*(9*q**4 - 16*q**2 + 8)*sqrt(1/(9*q**4 - 16*q**2 + 8))],\n",
       "[2*(q**2 - 1)*sqrt(1/(9*q**4 - 16*q**2 + 8)), q, (2 - 3*q**2)*sqrt(1/(9*q**4 - 16*q**2 + 8)), -2*q*sqrt(-(q**2 - 1)/(9*q**4 - 16*q**2 + 8)),  sqrt((1 - q**2)/(9*q**4 - 16*q**2 + 8))*(9*q**4 - 16*q**2 + 8)*sqrt(1/(9*q**4 - 16*q**2 + 8)),  q,  sqrt((1 - q**2)/(9*q**4 - 16*q**2 + 8))*(9*q**4 - 16*q**2 + 8)*sqrt(1/(9*q**4 - 16*q**2 + 8))]])"
      ]
     },
     "execution_count": 124,
     "metadata": {},
     "output_type": "execute_result"
    }
   ],
   "source": [
    "w += 1\n",
    "print(w)\n",
    "Matrix(eqn_solutions[w])"
   ]
  },
  {
   "cell_type": "code",
   "execution_count": null,
   "metadata": {},
   "outputs": [
    {
     "name": "stdout",
     "output_type": "stream",
     "text": [
      "5\n"
     ]
    },
    {
     "data": {
      "text/latex": [
       "$\\displaystyle \\left[\\begin{matrix}-1 & - \\sqrt{1 - q^{2}} & - q & q & \\sqrt{- \\left(q - 1\\right) \\left(q + 1\\right)}\\\\-1 & - \\sqrt{1 - q^{2}} & q & q & - \\sqrt{- \\left(q - 1\\right) \\left(q + 1\\right)}\\\\-1 & \\sqrt{1 - q^{2}} & - q & q & - \\sqrt{- \\left(q - 1\\right) \\left(q + 1\\right)}\\\\-1 & \\sqrt{1 - q^{2}} & q & q & \\sqrt{- \\left(q - 1\\right) \\left(q + 1\\right)}\\\\1 & - \\sqrt{1 - q^{2}} & - q & q & \\sqrt{- \\left(q - 1\\right) \\left(q + 1\\right)}\\\\1 & - \\sqrt{1 - q^{2}} & q & q & - \\sqrt{- \\left(q - 1\\right) \\left(q + 1\\right)}\\\\1 & \\sqrt{1 - q^{2}} & - q & q & - \\sqrt{- \\left(q - 1\\right) \\left(q + 1\\right)}\\\\1 & \\sqrt{1 - q^{2}} & q & q & \\sqrt{- \\left(q - 1\\right) \\left(q + 1\\right)}\\end{matrix}\\right]$"
      ],
      "text/plain": [
       "Matrix([\n",
       "[-1, -sqrt(1 - q**2), -q, q,  sqrt(-(q - 1)*(q + 1))],\n",
       "[-1, -sqrt(1 - q**2),  q, q, -sqrt(-(q - 1)*(q + 1))],\n",
       "[-1,  sqrt(1 - q**2), -q, q, -sqrt(-(q - 1)*(q + 1))],\n",
       "[-1,  sqrt(1 - q**2),  q, q,  sqrt(-(q - 1)*(q + 1))],\n",
       "[ 1, -sqrt(1 - q**2), -q, q,  sqrt(-(q - 1)*(q + 1))],\n",
       "[ 1, -sqrt(1 - q**2),  q, q, -sqrt(-(q - 1)*(q + 1))],\n",
       "[ 1,  sqrt(1 - q**2), -q, q, -sqrt(-(q - 1)*(q + 1))],\n",
       "[ 1,  sqrt(1 - q**2),  q, q,  sqrt(-(q - 1)*(q + 1))]])"
      ]
     },
     "execution_count": 125,
     "metadata": {},
     "output_type": "execute_result"
    }
   ],
   "source": [
    "w += 1\n",
    "print(w)\n",
    "Matrix(eqn_solutions[w])"
   ]
  },
  {
   "cell_type": "code",
   "execution_count": null,
   "metadata": {},
   "outputs": [
    {
     "name": "stdout",
     "output_type": "stream",
     "text": [
      "6\n"
     ]
    },
    {
     "data": {
      "text/latex": [
       "$\\displaystyle \\left[\\begin{matrix}- q^{2} \\sqrt{\\frac{1}{q^{4} - q^{2} + 1}} & q & q \\sqrt{\\frac{1 - q^{2}}{q^{4} - q^{2} + 1}} & \\left(q^{2} - 1\\right) \\sqrt{\\frac{1}{q^{4} - q^{2} + 1}} & \\sqrt{\\frac{1 - q^{2}}{q^{4} - q^{2} + 1}} \\left(- q^{4} + q^{2} - 1\\right) \\sqrt{\\frac{1}{q^{4} - q^{2} + 1}} & q & \\sqrt{\\frac{1 - q^{2}}{q^{4} - q^{2} + 1}} \\left(- q^{4} + q^{2} - 1\\right) \\sqrt{\\frac{1}{q^{4} - q^{2} + 1}}\\\\- q^{2} \\sqrt{\\frac{1}{q^{4} - q^{2} + 1}} & q & q \\sqrt{\\frac{1 - q^{2}}{q^{4} - q^{2} + 1}} & \\left(q^{2} - 1\\right) \\sqrt{\\frac{1}{q^{4} - q^{2} + 1}} & \\sqrt{\\frac{1 - q^{2}}{q^{4} - q^{2} + 1}} \\left(q^{4} - q^{2} + 1\\right) \\sqrt{\\frac{1}{q^{4} - q^{2} + 1}} & - q & \\sqrt{\\frac{1 - q^{2}}{q^{4} - q^{2} + 1}} \\left(- q^{4} + q^{2} - 1\\right) \\sqrt{\\frac{1}{q^{4} - q^{2} + 1}}\\\\- q^{2} \\sqrt{\\frac{1}{q^{4} - q^{2} + 1}} & q & - q \\sqrt{- \\frac{q^{2} - 1}{q^{4} - q^{2} + 1}} & \\left(q^{2} - 1\\right) \\sqrt{\\frac{1}{q^{4} - q^{2} + 1}} & \\sqrt{\\frac{1 - q^{2}}{q^{4} - q^{2} + 1}} \\left(- q^{4} + q^{2} - 1\\right) \\sqrt{\\frac{1}{q^{4} - q^{2} + 1}} & - q & \\sqrt{\\frac{1 - q^{2}}{q^{4} - q^{2} + 1}} \\left(q^{4} - q^{2} + 1\\right) \\sqrt{\\frac{1}{q^{4} - q^{2} + 1}}\\\\- q^{2} \\sqrt{\\frac{1}{q^{4} - q^{2} + 1}} & q & - q \\sqrt{- \\frac{q^{2} - 1}{q^{4} - q^{2} + 1}} & \\left(q^{2} - 1\\right) \\sqrt{\\frac{1}{q^{4} - q^{2} + 1}} & \\sqrt{\\frac{1 - q^{2}}{q^{4} - q^{2} + 1}} \\left(q^{4} - q^{2} + 1\\right) \\sqrt{\\frac{1}{q^{4} - q^{2} + 1}} & q & \\sqrt{\\frac{1 - q^{2}}{q^{4} - q^{2} + 1}} \\left(q^{4} - q^{2} + 1\\right) \\sqrt{\\frac{1}{q^{4} - q^{2} + 1}}\\\\q^{2} \\sqrt{\\frac{1}{q^{4} - q^{2} + 1}} & q & q \\sqrt{\\frac{1 - q^{2}}{q^{4} - q^{2} + 1}} & \\left(1 - q^{2}\\right) \\sqrt{\\frac{1}{q^{4} - q^{2} + 1}} & \\sqrt{\\frac{1 - q^{2}}{q^{4} - q^{2} + 1}} \\left(- q^{4} + q^{2} - 1\\right) \\sqrt{\\frac{1}{q^{4} - q^{2} + 1}} & - q & \\sqrt{\\frac{1 - q^{2}}{q^{4} - q^{2} + 1}} \\left(q^{4} - q^{2} + 1\\right) \\sqrt{\\frac{1}{q^{4} - q^{2} + 1}}\\\\q^{2} \\sqrt{\\frac{1}{q^{4} - q^{2} + 1}} & q & q \\sqrt{\\frac{1 - q^{2}}{q^{4} - q^{2} + 1}} & \\left(1 - q^{2}\\right) \\sqrt{\\frac{1}{q^{4} - q^{2} + 1}} & \\sqrt{\\frac{1 - q^{2}}{q^{4} - q^{2} + 1}} \\left(q^{4} - q^{2} + 1\\right) \\sqrt{\\frac{1}{q^{4} - q^{2} + 1}} & q & \\sqrt{\\frac{1 - q^{2}}{q^{4} - q^{2} + 1}} \\left(q^{4} - q^{2} + 1\\right) \\sqrt{\\frac{1}{q^{4} - q^{2} + 1}}\\\\q^{2} \\sqrt{\\frac{1}{q^{4} - q^{2} + 1}} & q & - q \\sqrt{- \\frac{q^{2} - 1}{q^{4} - q^{2} + 1}} & \\left(1 - q^{2}\\right) \\sqrt{\\frac{1}{q^{4} - q^{2} + 1}} & \\sqrt{\\frac{1 - q^{2}}{q^{4} - q^{2} + 1}} \\left(- q^{4} + q^{2} - 1\\right) \\sqrt{\\frac{1}{q^{4} - q^{2} + 1}} & q & \\sqrt{\\frac{1 - q^{2}}{q^{4} - q^{2} + 1}} \\left(- q^{4} + q^{2} - 1\\right) \\sqrt{\\frac{1}{q^{4} - q^{2} + 1}}\\\\q^{2} \\sqrt{\\frac{1}{q^{4} - q^{2} + 1}} & q & - q \\sqrt{- \\frac{q^{2} - 1}{q^{4} - q^{2} + 1}} & \\left(1 - q^{2}\\right) \\sqrt{\\frac{1}{q^{4} - q^{2} + 1}} & \\sqrt{\\frac{1 - q^{2}}{q^{4} - q^{2} + 1}} \\left(q^{4} - q^{2} + 1\\right) \\sqrt{\\frac{1}{q^{4} - q^{2} + 1}} & - q & \\sqrt{\\frac{1 - q^{2}}{q^{4} - q^{2} + 1}} \\left(- q^{4} + q^{2} - 1\\right) \\sqrt{\\frac{1}{q^{4} - q^{2} + 1}}\\end{matrix}\\right]$"
      ],
      "text/plain": [
       "Matrix([\n",
       "[-q**2*sqrt(1/(q**4 - q**2 + 1)), q,   q*sqrt((1 - q**2)/(q**4 - q**2 + 1)), (q**2 - 1)*sqrt(1/(q**4 - q**2 + 1)), sqrt((1 - q**2)/(q**4 - q**2 + 1))*(-q**4 + q**2 - 1)*sqrt(1/(q**4 - q**2 + 1)),  q, sqrt((1 - q**2)/(q**4 - q**2 + 1))*(-q**4 + q**2 - 1)*sqrt(1/(q**4 - q**2 + 1))],\n",
       "[-q**2*sqrt(1/(q**4 - q**2 + 1)), q,   q*sqrt((1 - q**2)/(q**4 - q**2 + 1)), (q**2 - 1)*sqrt(1/(q**4 - q**2 + 1)),  sqrt((1 - q**2)/(q**4 - q**2 + 1))*(q**4 - q**2 + 1)*sqrt(1/(q**4 - q**2 + 1)), -q, sqrt((1 - q**2)/(q**4 - q**2 + 1))*(-q**4 + q**2 - 1)*sqrt(1/(q**4 - q**2 + 1))],\n",
       "[-q**2*sqrt(1/(q**4 - q**2 + 1)), q, -q*sqrt(-(q**2 - 1)/(q**4 - q**2 + 1)), (q**2 - 1)*sqrt(1/(q**4 - q**2 + 1)), sqrt((1 - q**2)/(q**4 - q**2 + 1))*(-q**4 + q**2 - 1)*sqrt(1/(q**4 - q**2 + 1)), -q,  sqrt((1 - q**2)/(q**4 - q**2 + 1))*(q**4 - q**2 + 1)*sqrt(1/(q**4 - q**2 + 1))],\n",
       "[-q**2*sqrt(1/(q**4 - q**2 + 1)), q, -q*sqrt(-(q**2 - 1)/(q**4 - q**2 + 1)), (q**2 - 1)*sqrt(1/(q**4 - q**2 + 1)),  sqrt((1 - q**2)/(q**4 - q**2 + 1))*(q**4 - q**2 + 1)*sqrt(1/(q**4 - q**2 + 1)),  q,  sqrt((1 - q**2)/(q**4 - q**2 + 1))*(q**4 - q**2 + 1)*sqrt(1/(q**4 - q**2 + 1))],\n",
       "[ q**2*sqrt(1/(q**4 - q**2 + 1)), q,   q*sqrt((1 - q**2)/(q**4 - q**2 + 1)), (1 - q**2)*sqrt(1/(q**4 - q**2 + 1)), sqrt((1 - q**2)/(q**4 - q**2 + 1))*(-q**4 + q**2 - 1)*sqrt(1/(q**4 - q**2 + 1)), -q,  sqrt((1 - q**2)/(q**4 - q**2 + 1))*(q**4 - q**2 + 1)*sqrt(1/(q**4 - q**2 + 1))],\n",
       "[ q**2*sqrt(1/(q**4 - q**2 + 1)), q,   q*sqrt((1 - q**2)/(q**4 - q**2 + 1)), (1 - q**2)*sqrt(1/(q**4 - q**2 + 1)),  sqrt((1 - q**2)/(q**4 - q**2 + 1))*(q**4 - q**2 + 1)*sqrt(1/(q**4 - q**2 + 1)),  q,  sqrt((1 - q**2)/(q**4 - q**2 + 1))*(q**4 - q**2 + 1)*sqrt(1/(q**4 - q**2 + 1))],\n",
       "[ q**2*sqrt(1/(q**4 - q**2 + 1)), q, -q*sqrt(-(q**2 - 1)/(q**4 - q**2 + 1)), (1 - q**2)*sqrt(1/(q**4 - q**2 + 1)), sqrt((1 - q**2)/(q**4 - q**2 + 1))*(-q**4 + q**2 - 1)*sqrt(1/(q**4 - q**2 + 1)),  q, sqrt((1 - q**2)/(q**4 - q**2 + 1))*(-q**4 + q**2 - 1)*sqrt(1/(q**4 - q**2 + 1))],\n",
       "[ q**2*sqrt(1/(q**4 - q**2 + 1)), q, -q*sqrt(-(q**2 - 1)/(q**4 - q**2 + 1)), (1 - q**2)*sqrt(1/(q**4 - q**2 + 1)),  sqrt((1 - q**2)/(q**4 - q**2 + 1))*(q**4 - q**2 + 1)*sqrt(1/(q**4 - q**2 + 1)), -q, sqrt((1 - q**2)/(q**4 - q**2 + 1))*(-q**4 + q**2 - 1)*sqrt(1/(q**4 - q**2 + 1))]])"
      ]
     },
     "execution_count": 126,
     "metadata": {},
     "output_type": "execute_result"
    }
   ],
   "source": [
    "w += 1\n",
    "print(w)\n",
    "Matrix(eqn_solutions[w])"
   ]
  },
  {
   "cell_type": "code",
   "execution_count": null,
   "metadata": {},
   "outputs": [
    {
     "name": "stdout",
     "output_type": "stream",
     "text": [
      "7\n"
     ]
    },
    {
     "data": {
      "text/latex": [
       "$\\displaystyle \\left[\\begin{matrix}- q^{2} \\sqrt{\\frac{1}{q^{4} - q^{2} + 1}} & q & \\left(q^{2} - 1\\right) \\sqrt{\\frac{1}{q^{4} - q^{2} + 1}} & q \\sqrt{\\frac{1 - q^{2}}{q^{4} - q^{2} + 1}} & \\frac{q \\sqrt{\\frac{1 - q^{2}}{q^{4} - q^{2} + 1}} \\left(- q^{4} + q^{2} - 1\\right) \\sqrt{\\frac{1}{q^{4} - q^{2} + 1}}}{\\sqrt{1 - q^{2}}} & \\sqrt{1 - q^{2}} & \\sqrt{\\frac{1 - q^{2}}{q^{4} - q^{2} + 1}} \\left(- q^{4} + q^{2} - 1\\right) \\sqrt{\\frac{1}{q^{4} - q^{2} + 1}}\\\\- q^{2} \\sqrt{\\frac{1}{q^{4} - q^{2} + 1}} & q & \\left(q^{2} - 1\\right) \\sqrt{\\frac{1}{q^{4} - q^{2} + 1}} & q \\sqrt{\\frac{1 - q^{2}}{q^{4} - q^{2} + 1}} & \\frac{q \\sqrt{\\frac{1 - q^{2}}{q^{4} - q^{2} + 1}} \\left(q^{4} - q^{2} + 1\\right) \\sqrt{\\frac{1}{q^{4} - q^{2} + 1}}}{\\sqrt{1 - q^{2}}} & - \\sqrt{1 - q^{2}} & \\sqrt{\\frac{1 - q^{2}}{q^{4} - q^{2} + 1}} \\left(- q^{4} + q^{2} - 1\\right) \\sqrt{\\frac{1}{q^{4} - q^{2} + 1}}\\\\- q^{2} \\sqrt{\\frac{1}{q^{4} - q^{2} + 1}} & q & \\left(q^{2} - 1\\right) \\sqrt{\\frac{1}{q^{4} - q^{2} + 1}} & - q \\sqrt{- \\frac{q^{2} - 1}{q^{4} - q^{2} + 1}} & \\frac{q \\sqrt{\\frac{1 - q^{2}}{q^{4} - q^{2} + 1}} \\left(- q^{4} + q^{2} - 1\\right) \\sqrt{\\frac{1}{q^{4} - q^{2} + 1}}}{\\sqrt{1 - q^{2}}} & - \\sqrt{1 - q^{2}} & \\sqrt{\\frac{1 - q^{2}}{q^{4} - q^{2} + 1}} \\left(q^{4} - q^{2} + 1\\right) \\sqrt{\\frac{1}{q^{4} - q^{2} + 1}}\\\\- q^{2} \\sqrt{\\frac{1}{q^{4} - q^{2} + 1}} & q & \\left(q^{2} - 1\\right) \\sqrt{\\frac{1}{q^{4} - q^{2} + 1}} & - q \\sqrt{- \\frac{q^{2} - 1}{q^{4} - q^{2} + 1}} & \\frac{q \\sqrt{\\frac{1 - q^{2}}{q^{4} - q^{2} + 1}} \\left(q^{4} - q^{2} + 1\\right) \\sqrt{\\frac{1}{q^{4} - q^{2} + 1}}}{\\sqrt{1 - q^{2}}} & \\sqrt{1 - q^{2}} & \\sqrt{\\frac{1 - q^{2}}{q^{4} - q^{2} + 1}} \\left(q^{4} - q^{2} + 1\\right) \\sqrt{\\frac{1}{q^{4} - q^{2} + 1}}\\\\q^{2} \\sqrt{\\frac{1}{q^{4} - q^{2} + 1}} & q & \\left(1 - q^{2}\\right) \\sqrt{\\frac{1}{q^{4} - q^{2} + 1}} & q \\sqrt{\\frac{1 - q^{2}}{q^{4} - q^{2} + 1}} & \\frac{q \\sqrt{\\frac{1 - q^{2}}{q^{4} - q^{2} + 1}} \\left(- q^{4} + q^{2} - 1\\right) \\sqrt{\\frac{1}{q^{4} - q^{2} + 1}}}{\\sqrt{1 - q^{2}}} & - \\sqrt{1 - q^{2}} & \\sqrt{\\frac{1 - q^{2}}{q^{4} - q^{2} + 1}} \\left(q^{4} - q^{2} + 1\\right) \\sqrt{\\frac{1}{q^{4} - q^{2} + 1}}\\\\q^{2} \\sqrt{\\frac{1}{q^{4} - q^{2} + 1}} & q & \\left(1 - q^{2}\\right) \\sqrt{\\frac{1}{q^{4} - q^{2} + 1}} & q \\sqrt{\\frac{1 - q^{2}}{q^{4} - q^{2} + 1}} & \\frac{q \\sqrt{\\frac{1 - q^{2}}{q^{4} - q^{2} + 1}} \\left(q^{4} - q^{2} + 1\\right) \\sqrt{\\frac{1}{q^{4} - q^{2} + 1}}}{\\sqrt{1 - q^{2}}} & \\sqrt{1 - q^{2}} & \\sqrt{\\frac{1 - q^{2}}{q^{4} - q^{2} + 1}} \\left(q^{4} - q^{2} + 1\\right) \\sqrt{\\frac{1}{q^{4} - q^{2} + 1}}\\\\q^{2} \\sqrt{\\frac{1}{q^{4} - q^{2} + 1}} & q & \\left(1 - q^{2}\\right) \\sqrt{\\frac{1}{q^{4} - q^{2} + 1}} & - q \\sqrt{- \\frac{q^{2} - 1}{q^{4} - q^{2} + 1}} & \\frac{q \\sqrt{\\frac{1 - q^{2}}{q^{4} - q^{2} + 1}} \\left(- q^{4} + q^{2} - 1\\right) \\sqrt{\\frac{1}{q^{4} - q^{2} + 1}}}{\\sqrt{1 - q^{2}}} & \\sqrt{1 - q^{2}} & \\sqrt{\\frac{1 - q^{2}}{q^{4} - q^{2} + 1}} \\left(- q^{4} + q^{2} - 1\\right) \\sqrt{\\frac{1}{q^{4} - q^{2} + 1}}\\\\q^{2} \\sqrt{\\frac{1}{q^{4} - q^{2} + 1}} & q & \\left(1 - q^{2}\\right) \\sqrt{\\frac{1}{q^{4} - q^{2} + 1}} & - q \\sqrt{- \\frac{q^{2} - 1}{q^{4} - q^{2} + 1}} & \\frac{q \\sqrt{\\frac{1 - q^{2}}{q^{4} - q^{2} + 1}} \\left(q^{4} - q^{2} + 1\\right) \\sqrt{\\frac{1}{q^{4} - q^{2} + 1}}}{\\sqrt{1 - q^{2}}} & - \\sqrt{1 - q^{2}} & \\sqrt{\\frac{1 - q^{2}}{q^{4} - q^{2} + 1}} \\left(- q^{4} + q^{2} - 1\\right) \\sqrt{\\frac{1}{q^{4} - q^{2} + 1}}\\end{matrix}\\right]$"
      ],
      "text/plain": [
       "Matrix([\n",
       "[-q**2*sqrt(1/(q**4 - q**2 + 1)), q, (q**2 - 1)*sqrt(1/(q**4 - q**2 + 1)),   q*sqrt((1 - q**2)/(q**4 - q**2 + 1)), q*sqrt((1 - q**2)/(q**4 - q**2 + 1))*(-q**4 + q**2 - 1)*sqrt(1/(q**4 - q**2 + 1))/sqrt(1 - q**2),  sqrt(1 - q**2), sqrt((1 - q**2)/(q**4 - q**2 + 1))*(-q**4 + q**2 - 1)*sqrt(1/(q**4 - q**2 + 1))],\n",
       "[-q**2*sqrt(1/(q**4 - q**2 + 1)), q, (q**2 - 1)*sqrt(1/(q**4 - q**2 + 1)),   q*sqrt((1 - q**2)/(q**4 - q**2 + 1)),  q*sqrt((1 - q**2)/(q**4 - q**2 + 1))*(q**4 - q**2 + 1)*sqrt(1/(q**4 - q**2 + 1))/sqrt(1 - q**2), -sqrt(1 - q**2), sqrt((1 - q**2)/(q**4 - q**2 + 1))*(-q**4 + q**2 - 1)*sqrt(1/(q**4 - q**2 + 1))],\n",
       "[-q**2*sqrt(1/(q**4 - q**2 + 1)), q, (q**2 - 1)*sqrt(1/(q**4 - q**2 + 1)), -q*sqrt(-(q**2 - 1)/(q**4 - q**2 + 1)), q*sqrt((1 - q**2)/(q**4 - q**2 + 1))*(-q**4 + q**2 - 1)*sqrt(1/(q**4 - q**2 + 1))/sqrt(1 - q**2), -sqrt(1 - q**2),  sqrt((1 - q**2)/(q**4 - q**2 + 1))*(q**4 - q**2 + 1)*sqrt(1/(q**4 - q**2 + 1))],\n",
       "[-q**2*sqrt(1/(q**4 - q**2 + 1)), q, (q**2 - 1)*sqrt(1/(q**4 - q**2 + 1)), -q*sqrt(-(q**2 - 1)/(q**4 - q**2 + 1)),  q*sqrt((1 - q**2)/(q**4 - q**2 + 1))*(q**4 - q**2 + 1)*sqrt(1/(q**4 - q**2 + 1))/sqrt(1 - q**2),  sqrt(1 - q**2),  sqrt((1 - q**2)/(q**4 - q**2 + 1))*(q**4 - q**2 + 1)*sqrt(1/(q**4 - q**2 + 1))],\n",
       "[ q**2*sqrt(1/(q**4 - q**2 + 1)), q, (1 - q**2)*sqrt(1/(q**4 - q**2 + 1)),   q*sqrt((1 - q**2)/(q**4 - q**2 + 1)), q*sqrt((1 - q**2)/(q**4 - q**2 + 1))*(-q**4 + q**2 - 1)*sqrt(1/(q**4 - q**2 + 1))/sqrt(1 - q**2), -sqrt(1 - q**2),  sqrt((1 - q**2)/(q**4 - q**2 + 1))*(q**4 - q**2 + 1)*sqrt(1/(q**4 - q**2 + 1))],\n",
       "[ q**2*sqrt(1/(q**4 - q**2 + 1)), q, (1 - q**2)*sqrt(1/(q**4 - q**2 + 1)),   q*sqrt((1 - q**2)/(q**4 - q**2 + 1)),  q*sqrt((1 - q**2)/(q**4 - q**2 + 1))*(q**4 - q**2 + 1)*sqrt(1/(q**4 - q**2 + 1))/sqrt(1 - q**2),  sqrt(1 - q**2),  sqrt((1 - q**2)/(q**4 - q**2 + 1))*(q**4 - q**2 + 1)*sqrt(1/(q**4 - q**2 + 1))],\n",
       "[ q**2*sqrt(1/(q**4 - q**2 + 1)), q, (1 - q**2)*sqrt(1/(q**4 - q**2 + 1)), -q*sqrt(-(q**2 - 1)/(q**4 - q**2 + 1)), q*sqrt((1 - q**2)/(q**4 - q**2 + 1))*(-q**4 + q**2 - 1)*sqrt(1/(q**4 - q**2 + 1))/sqrt(1 - q**2),  sqrt(1 - q**2), sqrt((1 - q**2)/(q**4 - q**2 + 1))*(-q**4 + q**2 - 1)*sqrt(1/(q**4 - q**2 + 1))],\n",
       "[ q**2*sqrt(1/(q**4 - q**2 + 1)), q, (1 - q**2)*sqrt(1/(q**4 - q**2 + 1)), -q*sqrt(-(q**2 - 1)/(q**4 - q**2 + 1)),  q*sqrt((1 - q**2)/(q**4 - q**2 + 1))*(q**4 - q**2 + 1)*sqrt(1/(q**4 - q**2 + 1))/sqrt(1 - q**2), -sqrt(1 - q**2), sqrt((1 - q**2)/(q**4 - q**2 + 1))*(-q**4 + q**2 - 1)*sqrt(1/(q**4 - q**2 + 1))]])"
      ]
     },
     "execution_count": 127,
     "metadata": {},
     "output_type": "execute_result"
    }
   ],
   "source": [
    "w += 1\n",
    "print(w)\n",
    "Matrix(eqn_solutions[w])"
   ]
  },
  {
   "cell_type": "code",
   "execution_count": null,
   "metadata": {},
   "outputs": [
    {
     "name": "stdout",
     "output_type": "stream",
     "text": [
      "8\n"
     ]
    },
    {
     "data": {
      "text/latex": [
       "$\\displaystyle \\left[\\begin{matrix}\\left(1 - q^{2}\\right) \\sqrt{\\frac{1}{q^{4} - q^{2} + 1}} & q & q \\sqrt{\\frac{1 - q^{2}}{q^{4} - q^{2} + 1}} & q^{2} \\sqrt{\\frac{1}{q^{4} - q^{2} + 1}} & - \\sqrt{1 - q^{2}} & \\frac{q \\sqrt{\\frac{1 - q^{2}}{q^{4} - q^{2} + 1}} \\left(- q^{4} + q^{2} - 1\\right) \\sqrt{\\frac{1}{q^{4} - q^{2} + 1}}}{\\sqrt{1 - q^{2}}} & \\sqrt{\\frac{1 - q^{2}}{q^{4} - q^{2} + 1}} \\left(q^{4} - q^{2} + 1\\right) \\sqrt{\\frac{1}{q^{4} - q^{2} + 1}}\\\\\\left(1 - q^{2}\\right) \\sqrt{\\frac{1}{q^{4} - q^{2} + 1}} & q & q \\sqrt{\\frac{1 - q^{2}}{q^{4} - q^{2} + 1}} & q^{2} \\sqrt{\\frac{1}{q^{4} - q^{2} + 1}} & \\sqrt{1 - q^{2}} & \\frac{q \\sqrt{\\frac{1 - q^{2}}{q^{4} - q^{2} + 1}} \\left(q^{4} - q^{2} + 1\\right) \\sqrt{\\frac{1}{q^{4} - q^{2} + 1}}}{\\sqrt{1 - q^{2}}} & \\sqrt{\\frac{1 - q^{2}}{q^{4} - q^{2} + 1}} \\left(q^{4} - q^{2} + 1\\right) \\sqrt{\\frac{1}{q^{4} - q^{2} + 1}}\\\\\\left(1 - q^{2}\\right) \\sqrt{\\frac{1}{q^{4} - q^{2} + 1}} & q & - q \\sqrt{- \\frac{q^{2} - 1}{q^{4} - q^{2} + 1}} & q^{2} \\sqrt{\\frac{1}{q^{4} - q^{2} + 1}} & - \\sqrt{1 - q^{2}} & \\frac{q \\sqrt{\\frac{1 - q^{2}}{q^{4} - q^{2} + 1}} \\left(q^{4} - q^{2} + 1\\right) \\sqrt{\\frac{1}{q^{4} - q^{2} + 1}}}{\\sqrt{1 - q^{2}}} & \\sqrt{\\frac{1 - q^{2}}{q^{4} - q^{2} + 1}} \\left(- q^{4} + q^{2} - 1\\right) \\sqrt{\\frac{1}{q^{4} - q^{2} + 1}}\\\\\\left(1 - q^{2}\\right) \\sqrt{\\frac{1}{q^{4} - q^{2} + 1}} & q & - q \\sqrt{- \\frac{q^{2} - 1}{q^{4} - q^{2} + 1}} & q^{2} \\sqrt{\\frac{1}{q^{4} - q^{2} + 1}} & \\sqrt{1 - q^{2}} & \\frac{q \\sqrt{\\frac{1 - q^{2}}{q^{4} - q^{2} + 1}} \\left(- q^{4} + q^{2} - 1\\right) \\sqrt{\\frac{1}{q^{4} - q^{2} + 1}}}{\\sqrt{1 - q^{2}}} & \\sqrt{\\frac{1 - q^{2}}{q^{4} - q^{2} + 1}} \\left(- q^{4} + q^{2} - 1\\right) \\sqrt{\\frac{1}{q^{4} - q^{2} + 1}}\\\\\\left(q^{2} - 1\\right) \\sqrt{\\frac{1}{q^{4} - q^{2} + 1}} & q & q \\sqrt{\\frac{1 - q^{2}}{q^{4} - q^{2} + 1}} & - q^{2} \\sqrt{\\frac{1}{q^{4} - q^{2} + 1}} & - \\sqrt{1 - q^{2}} & \\frac{q \\sqrt{\\frac{1 - q^{2}}{q^{4} - q^{2} + 1}} \\left(q^{4} - q^{2} + 1\\right) \\sqrt{\\frac{1}{q^{4} - q^{2} + 1}}}{\\sqrt{1 - q^{2}}} & \\sqrt{\\frac{1 - q^{2}}{q^{4} - q^{2} + 1}} \\left(- q^{4} + q^{2} - 1\\right) \\sqrt{\\frac{1}{q^{4} - q^{2} + 1}}\\\\\\left(q^{2} - 1\\right) \\sqrt{\\frac{1}{q^{4} - q^{2} + 1}} & q & q \\sqrt{\\frac{1 - q^{2}}{q^{4} - q^{2} + 1}} & - q^{2} \\sqrt{\\frac{1}{q^{4} - q^{2} + 1}} & \\sqrt{1 - q^{2}} & \\frac{q \\sqrt{\\frac{1 - q^{2}}{q^{4} - q^{2} + 1}} \\left(- q^{4} + q^{2} - 1\\right) \\sqrt{\\frac{1}{q^{4} - q^{2} + 1}}}{\\sqrt{1 - q^{2}}} & \\sqrt{\\frac{1 - q^{2}}{q^{4} - q^{2} + 1}} \\left(- q^{4} + q^{2} - 1\\right) \\sqrt{\\frac{1}{q^{4} - q^{2} + 1}}\\\\\\left(q^{2} - 1\\right) \\sqrt{\\frac{1}{q^{4} - q^{2} + 1}} & q & - q \\sqrt{- \\frac{q^{2} - 1}{q^{4} - q^{2} + 1}} & - q^{2} \\sqrt{\\frac{1}{q^{4} - q^{2} + 1}} & - \\sqrt{1 - q^{2}} & \\frac{q \\sqrt{\\frac{1 - q^{2}}{q^{4} - q^{2} + 1}} \\left(- q^{4} + q^{2} - 1\\right) \\sqrt{\\frac{1}{q^{4} - q^{2} + 1}}}{\\sqrt{1 - q^{2}}} & \\sqrt{\\frac{1 - q^{2}}{q^{4} - q^{2} + 1}} \\left(q^{4} - q^{2} + 1\\right) \\sqrt{\\frac{1}{q^{4} - q^{2} + 1}}\\\\\\left(q^{2} - 1\\right) \\sqrt{\\frac{1}{q^{4} - q^{2} + 1}} & q & - q \\sqrt{- \\frac{q^{2} - 1}{q^{4} - q^{2} + 1}} & - q^{2} \\sqrt{\\frac{1}{q^{4} - q^{2} + 1}} & \\sqrt{1 - q^{2}} & \\frac{q \\sqrt{\\frac{1 - q^{2}}{q^{4} - q^{2} + 1}} \\left(q^{4} - q^{2} + 1\\right) \\sqrt{\\frac{1}{q^{4} - q^{2} + 1}}}{\\sqrt{1 - q^{2}}} & \\sqrt{\\frac{1 - q^{2}}{q^{4} - q^{2} + 1}} \\left(q^{4} - q^{2} + 1\\right) \\sqrt{\\frac{1}{q^{4} - q^{2} + 1}}\\end{matrix}\\right]$"
      ],
      "text/plain": [
       "Matrix([\n",
       "[(1 - q**2)*sqrt(1/(q**4 - q**2 + 1)), q,   q*sqrt((1 - q**2)/(q**4 - q**2 + 1)),  q**2*sqrt(1/(q**4 - q**2 + 1)), -sqrt(1 - q**2), q*sqrt((1 - q**2)/(q**4 - q**2 + 1))*(-q**4 + q**2 - 1)*sqrt(1/(q**4 - q**2 + 1))/sqrt(1 - q**2),  sqrt((1 - q**2)/(q**4 - q**2 + 1))*(q**4 - q**2 + 1)*sqrt(1/(q**4 - q**2 + 1))],\n",
       "[(1 - q**2)*sqrt(1/(q**4 - q**2 + 1)), q,   q*sqrt((1 - q**2)/(q**4 - q**2 + 1)),  q**2*sqrt(1/(q**4 - q**2 + 1)),  sqrt(1 - q**2),  q*sqrt((1 - q**2)/(q**4 - q**2 + 1))*(q**4 - q**2 + 1)*sqrt(1/(q**4 - q**2 + 1))/sqrt(1 - q**2),  sqrt((1 - q**2)/(q**4 - q**2 + 1))*(q**4 - q**2 + 1)*sqrt(1/(q**4 - q**2 + 1))],\n",
       "[(1 - q**2)*sqrt(1/(q**4 - q**2 + 1)), q, -q*sqrt(-(q**2 - 1)/(q**4 - q**2 + 1)),  q**2*sqrt(1/(q**4 - q**2 + 1)), -sqrt(1 - q**2),  q*sqrt((1 - q**2)/(q**4 - q**2 + 1))*(q**4 - q**2 + 1)*sqrt(1/(q**4 - q**2 + 1))/sqrt(1 - q**2), sqrt((1 - q**2)/(q**4 - q**2 + 1))*(-q**4 + q**2 - 1)*sqrt(1/(q**4 - q**2 + 1))],\n",
       "[(1 - q**2)*sqrt(1/(q**4 - q**2 + 1)), q, -q*sqrt(-(q**2 - 1)/(q**4 - q**2 + 1)),  q**2*sqrt(1/(q**4 - q**2 + 1)),  sqrt(1 - q**2), q*sqrt((1 - q**2)/(q**4 - q**2 + 1))*(-q**4 + q**2 - 1)*sqrt(1/(q**4 - q**2 + 1))/sqrt(1 - q**2), sqrt((1 - q**2)/(q**4 - q**2 + 1))*(-q**4 + q**2 - 1)*sqrt(1/(q**4 - q**2 + 1))],\n",
       "[(q**2 - 1)*sqrt(1/(q**4 - q**2 + 1)), q,   q*sqrt((1 - q**2)/(q**4 - q**2 + 1)), -q**2*sqrt(1/(q**4 - q**2 + 1)), -sqrt(1 - q**2),  q*sqrt((1 - q**2)/(q**4 - q**2 + 1))*(q**4 - q**2 + 1)*sqrt(1/(q**4 - q**2 + 1))/sqrt(1 - q**2), sqrt((1 - q**2)/(q**4 - q**2 + 1))*(-q**4 + q**2 - 1)*sqrt(1/(q**4 - q**2 + 1))],\n",
       "[(q**2 - 1)*sqrt(1/(q**4 - q**2 + 1)), q,   q*sqrt((1 - q**2)/(q**4 - q**2 + 1)), -q**2*sqrt(1/(q**4 - q**2 + 1)),  sqrt(1 - q**2), q*sqrt((1 - q**2)/(q**4 - q**2 + 1))*(-q**4 + q**2 - 1)*sqrt(1/(q**4 - q**2 + 1))/sqrt(1 - q**2), sqrt((1 - q**2)/(q**4 - q**2 + 1))*(-q**4 + q**2 - 1)*sqrt(1/(q**4 - q**2 + 1))],\n",
       "[(q**2 - 1)*sqrt(1/(q**4 - q**2 + 1)), q, -q*sqrt(-(q**2 - 1)/(q**4 - q**2 + 1)), -q**2*sqrt(1/(q**4 - q**2 + 1)), -sqrt(1 - q**2), q*sqrt((1 - q**2)/(q**4 - q**2 + 1))*(-q**4 + q**2 - 1)*sqrt(1/(q**4 - q**2 + 1))/sqrt(1 - q**2),  sqrt((1 - q**2)/(q**4 - q**2 + 1))*(q**4 - q**2 + 1)*sqrt(1/(q**4 - q**2 + 1))],\n",
       "[(q**2 - 1)*sqrt(1/(q**4 - q**2 + 1)), q, -q*sqrt(-(q**2 - 1)/(q**4 - q**2 + 1)), -q**2*sqrt(1/(q**4 - q**2 + 1)),  sqrt(1 - q**2),  q*sqrt((1 - q**2)/(q**4 - q**2 + 1))*(q**4 - q**2 + 1)*sqrt(1/(q**4 - q**2 + 1))/sqrt(1 - q**2),  sqrt((1 - q**2)/(q**4 - q**2 + 1))*(q**4 - q**2 + 1)*sqrt(1/(q**4 - q**2 + 1))]])"
      ]
     },
     "execution_count": 128,
     "metadata": {},
     "output_type": "execute_result"
    }
   ],
   "source": [
    "w += 1\n",
    "print(w)\n",
    "Matrix(eqn_solutions[w])"
   ]
  },
  {
   "cell_type": "code",
   "execution_count": null,
   "metadata": {},
   "outputs": [
    {
     "name": "stdout",
     "output_type": "stream",
     "text": [
      "9\n"
     ]
    },
    {
     "data": {
      "text/latex": [
       "$\\displaystyle \\left[\\begin{matrix}- \\left(q - 1\\right) \\left(q + 1\\right) \\sqrt{\\frac{1}{2 q^{4} - q^{2} + 1}} & q & q^{2} \\sqrt{\\frac{1}{2 q^{4} - q^{2} + 1}} & - q \\sqrt{\\frac{1}{2 q^{4} - q^{2} + 1}} & - \\sqrt{\\frac{1}{q^{2} + 1}} & q \\sqrt{\\frac{1}{q^{2} + 1}} & -1\\\\- \\left(q - 1\\right) \\left(q + 1\\right) \\sqrt{\\frac{1}{2 q^{4} - q^{2} + 1}} & q & q^{2} \\sqrt{\\frac{1}{2 q^{4} - q^{2} + 1}} & - q \\sqrt{\\frac{1}{2 q^{4} - q^{2} + 1}} & \\sqrt{\\frac{1}{q^{2} + 1}} & - q \\sqrt{\\frac{1}{q^{2} + 1}} & -1\\\\- \\left(q - 1\\right) \\left(q + 1\\right) \\sqrt{\\frac{1}{2 q^{4} - q^{2} + 1}} & q & q^{2} \\sqrt{\\frac{1}{2 q^{4} - q^{2} + 1}} & q \\sqrt{\\frac{1}{2 q^{4} - q^{2} + 1}} & - \\sqrt{\\frac{1}{q^{2} + 1}} & - q \\sqrt{\\frac{1}{q^{2} + 1}} & 1\\\\- \\left(q - 1\\right) \\left(q + 1\\right) \\sqrt{\\frac{1}{2 q^{4} - q^{2} + 1}} & q & q^{2} \\sqrt{\\frac{1}{2 q^{4} - q^{2} + 1}} & q \\sqrt{\\frac{1}{2 q^{4} - q^{2} + 1}} & \\sqrt{\\frac{1}{q^{2} + 1}} & q \\sqrt{\\frac{1}{q^{2} + 1}} & 1\\\\\\left(q - 1\\right) \\left(q + 1\\right) \\sqrt{\\frac{1}{2 q^{4} - q^{2} + 1}} & q & - q^{2} \\sqrt{\\frac{1}{2 q^{4} - q^{2} + 1}} & - q \\sqrt{\\frac{1}{2 q^{4} - q^{2} + 1}} & - \\sqrt{\\frac{1}{q^{2} + 1}} & - q \\sqrt{\\frac{1}{q^{2} + 1}} & 1\\\\\\left(q - 1\\right) \\left(q + 1\\right) \\sqrt{\\frac{1}{2 q^{4} - q^{2} + 1}} & q & - q^{2} \\sqrt{\\frac{1}{2 q^{4} - q^{2} + 1}} & - q \\sqrt{\\frac{1}{2 q^{4} - q^{2} + 1}} & \\sqrt{\\frac{1}{q^{2} + 1}} & q \\sqrt{\\frac{1}{q^{2} + 1}} & 1\\\\\\left(q - 1\\right) \\left(q + 1\\right) \\sqrt{\\frac{1}{2 q^{4} - q^{2} + 1}} & q & - q^{2} \\sqrt{\\frac{1}{2 q^{4} - q^{2} + 1}} & q \\sqrt{\\frac{1}{2 q^{4} - q^{2} + 1}} & - \\sqrt{\\frac{1}{q^{2} + 1}} & q \\sqrt{\\frac{1}{q^{2} + 1}} & -1\\\\\\left(q - 1\\right) \\left(q + 1\\right) \\sqrt{\\frac{1}{2 q^{4} - q^{2} + 1}} & q & - q^{2} \\sqrt{\\frac{1}{2 q^{4} - q^{2} + 1}} & q \\sqrt{\\frac{1}{2 q^{4} - q^{2} + 1}} & \\sqrt{\\frac{1}{q^{2} + 1}} & - q \\sqrt{\\frac{1}{q^{2} + 1}} & -1\\end{matrix}\\right]$"
      ],
      "text/plain": [
       "Matrix([\n",
       "[-(q - 1)*(q + 1)*sqrt(1/(2*q**4 - q**2 + 1)), q,  q**2*sqrt(1/(2*q**4 - q**2 + 1)), -q*sqrt(1/(2*q**4 - q**2 + 1)), -sqrt(1/(q**2 + 1)),  q*sqrt(1/(q**2 + 1)), -1],\n",
       "[-(q - 1)*(q + 1)*sqrt(1/(2*q**4 - q**2 + 1)), q,  q**2*sqrt(1/(2*q**4 - q**2 + 1)), -q*sqrt(1/(2*q**4 - q**2 + 1)),  sqrt(1/(q**2 + 1)), -q*sqrt(1/(q**2 + 1)), -1],\n",
       "[-(q - 1)*(q + 1)*sqrt(1/(2*q**4 - q**2 + 1)), q,  q**2*sqrt(1/(2*q**4 - q**2 + 1)),  q*sqrt(1/(2*q**4 - q**2 + 1)), -sqrt(1/(q**2 + 1)), -q*sqrt(1/(q**2 + 1)),  1],\n",
       "[-(q - 1)*(q + 1)*sqrt(1/(2*q**4 - q**2 + 1)), q,  q**2*sqrt(1/(2*q**4 - q**2 + 1)),  q*sqrt(1/(2*q**4 - q**2 + 1)),  sqrt(1/(q**2 + 1)),  q*sqrt(1/(q**2 + 1)),  1],\n",
       "[ (q - 1)*(q + 1)*sqrt(1/(2*q**4 - q**2 + 1)), q, -q**2*sqrt(1/(2*q**4 - q**2 + 1)), -q*sqrt(1/(2*q**4 - q**2 + 1)), -sqrt(1/(q**2 + 1)), -q*sqrt(1/(q**2 + 1)),  1],\n",
       "[ (q - 1)*(q + 1)*sqrt(1/(2*q**4 - q**2 + 1)), q, -q**2*sqrt(1/(2*q**4 - q**2 + 1)), -q*sqrt(1/(2*q**4 - q**2 + 1)),  sqrt(1/(q**2 + 1)),  q*sqrt(1/(q**2 + 1)),  1],\n",
       "[ (q - 1)*(q + 1)*sqrt(1/(2*q**4 - q**2 + 1)), q, -q**2*sqrt(1/(2*q**4 - q**2 + 1)),  q*sqrt(1/(2*q**4 - q**2 + 1)), -sqrt(1/(q**2 + 1)),  q*sqrt(1/(q**2 + 1)), -1],\n",
       "[ (q - 1)*(q + 1)*sqrt(1/(2*q**4 - q**2 + 1)), q, -q**2*sqrt(1/(2*q**4 - q**2 + 1)),  q*sqrt(1/(2*q**4 - q**2 + 1)),  sqrt(1/(q**2 + 1)), -q*sqrt(1/(q**2 + 1)), -1]])"
      ]
     },
     "execution_count": 129,
     "metadata": {},
     "output_type": "execute_result"
    }
   ],
   "source": [
    "w += 1\n",
    "print(w)\n",
    "Matrix(eqn_solutions[w])"
   ]
  },
  {
   "cell_type": "code",
   "execution_count": null,
   "metadata": {},
   "outputs": [
    {
     "name": "stdout",
     "output_type": "stream",
     "text": [
      "10\n"
     ]
    },
    {
     "data": {
      "text/latex": [
       "$\\displaystyle \\left[\\begin{matrix}- 2 q \\sqrt{\\frac{1}{3 q^{2} + 1}} & q & \\left(1 - q^{2}\\right) \\sqrt{\\frac{1}{- 3 q^{4} + 2 q^{2} + 1}} & \\left(3 q^{2} - 1\\right) \\sqrt{\\frac{1}{- 3 q^{4} + 2 q^{2} + 1}} & \\left(- 3 q^{4} + 2 q^{2} + 1\\right) \\sqrt{\\frac{1}{3 q^{2} + 1}} \\sqrt{\\frac{1}{- 3 q^{4} + 2 q^{2} + 1}} & - q & \\left(3 q^{4} - 2 q^{2} - 1\\right) \\sqrt{\\frac{1}{3 q^{2} + 1}} \\sqrt{\\frac{1}{- 3 q^{4} + 2 q^{2} + 1}}\\\\- 2 q \\sqrt{\\frac{1}{3 q^{2} + 1}} & q & \\left(1 - q^{2}\\right) \\sqrt{\\frac{1}{- 3 q^{4} + 2 q^{2} + 1}} & \\left(3 q^{2} - 1\\right) \\sqrt{\\frac{1}{- 3 q^{4} + 2 q^{2} + 1}} & \\left(3 q^{4} - 2 q^{2} - 1\\right) \\sqrt{\\frac{1}{3 q^{2} + 1}} \\sqrt{\\frac{1}{- 3 q^{4} + 2 q^{2} + 1}} & q & \\left(3 q^{4} - 2 q^{2} - 1\\right) \\sqrt{\\frac{1}{3 q^{2} + 1}} \\sqrt{\\frac{1}{- 3 q^{4} + 2 q^{2} + 1}}\\\\- 2 q \\sqrt{\\frac{1}{3 q^{2} + 1}} & q & \\left(q^{2} - 1\\right) \\sqrt{\\frac{1}{- 3 q^{4} + 2 q^{2} + 1}} & \\left(1 - 3 q^{2}\\right) \\sqrt{\\frac{1}{- 3 q^{4} + 2 q^{2} + 1}} & \\left(- 3 q^{4} + 2 q^{2} + 1\\right) \\sqrt{\\frac{1}{3 q^{2} + 1}} \\sqrt{\\frac{1}{- 3 q^{4} + 2 q^{2} + 1}} & q & \\left(- 3 q^{4} + 2 q^{2} + 1\\right) \\sqrt{\\frac{1}{3 q^{2} + 1}} \\sqrt{\\frac{1}{- 3 q^{4} + 2 q^{2} + 1}}\\\\- 2 q \\sqrt{\\frac{1}{3 q^{2} + 1}} & q & \\left(q^{2} - 1\\right) \\sqrt{\\frac{1}{- 3 q^{4} + 2 q^{2} + 1}} & \\left(1 - 3 q^{2}\\right) \\sqrt{\\frac{1}{- 3 q^{4} + 2 q^{2} + 1}} & \\left(3 q^{4} - 2 q^{2} - 1\\right) \\sqrt{\\frac{1}{3 q^{2} + 1}} \\sqrt{\\frac{1}{- 3 q^{4} + 2 q^{2} + 1}} & - q & \\left(- 3 q^{4} + 2 q^{2} + 1\\right) \\sqrt{\\frac{1}{3 q^{2} + 1}} \\sqrt{\\frac{1}{- 3 q^{4} + 2 q^{2} + 1}}\\\\2 q \\sqrt{\\frac{1}{3 q^{2} + 1}} & q & \\left(1 - q^{2}\\right) \\sqrt{\\frac{1}{- 3 q^{4} + 2 q^{2} + 1}} & \\left(3 q^{2} - 1\\right) \\sqrt{\\frac{1}{- 3 q^{4} + 2 q^{2} + 1}} & \\left(- 3 q^{4} + 2 q^{2} + 1\\right) \\sqrt{\\frac{1}{3 q^{2} + 1}} \\sqrt{\\frac{1}{- 3 q^{4} + 2 q^{2} + 1}} & q & \\left(- 3 q^{4} + 2 q^{2} + 1\\right) \\sqrt{\\frac{1}{3 q^{2} + 1}} \\sqrt{\\frac{1}{- 3 q^{4} + 2 q^{2} + 1}}\\\\2 q \\sqrt{\\frac{1}{3 q^{2} + 1}} & q & \\left(1 - q^{2}\\right) \\sqrt{\\frac{1}{- 3 q^{4} + 2 q^{2} + 1}} & \\left(3 q^{2} - 1\\right) \\sqrt{\\frac{1}{- 3 q^{4} + 2 q^{2} + 1}} & \\left(3 q^{4} - 2 q^{2} - 1\\right) \\sqrt{\\frac{1}{3 q^{2} + 1}} \\sqrt{\\frac{1}{- 3 q^{4} + 2 q^{2} + 1}} & - q & \\left(- 3 q^{4} + 2 q^{2} + 1\\right) \\sqrt{\\frac{1}{3 q^{2} + 1}} \\sqrt{\\frac{1}{- 3 q^{4} + 2 q^{2} + 1}}\\\\2 q \\sqrt{\\frac{1}{3 q^{2} + 1}} & q & \\left(q^{2} - 1\\right) \\sqrt{\\frac{1}{- 3 q^{4} + 2 q^{2} + 1}} & \\left(1 - 3 q^{2}\\right) \\sqrt{\\frac{1}{- 3 q^{4} + 2 q^{2} + 1}} & \\left(- 3 q^{4} + 2 q^{2} + 1\\right) \\sqrt{\\frac{1}{3 q^{2} + 1}} \\sqrt{\\frac{1}{- 3 q^{4} + 2 q^{2} + 1}} & - q & \\left(3 q^{4} - 2 q^{2} - 1\\right) \\sqrt{\\frac{1}{3 q^{2} + 1}} \\sqrt{\\frac{1}{- 3 q^{4} + 2 q^{2} + 1}}\\\\2 q \\sqrt{\\frac{1}{3 q^{2} + 1}} & q & \\left(q^{2} - 1\\right) \\sqrt{\\frac{1}{- 3 q^{4} + 2 q^{2} + 1}} & \\left(1 - 3 q^{2}\\right) \\sqrt{\\frac{1}{- 3 q^{4} + 2 q^{2} + 1}} & \\left(3 q^{4} - 2 q^{2} - 1\\right) \\sqrt{\\frac{1}{3 q^{2} + 1}} \\sqrt{\\frac{1}{- 3 q^{4} + 2 q^{2} + 1}} & q & \\left(3 q^{4} - 2 q^{2} - 1\\right) \\sqrt{\\frac{1}{3 q^{2} + 1}} \\sqrt{\\frac{1}{- 3 q^{4} + 2 q^{2} + 1}}\\end{matrix}\\right]$"
      ],
      "text/plain": [
       "Matrix([\n",
       "[-2*q*sqrt(1/(3*q**2 + 1)), q, (1 - q**2)*sqrt(1/(-3*q**4 + 2*q**2 + 1)), (3*q**2 - 1)*sqrt(1/(-3*q**4 + 2*q**2 + 1)), (-3*q**4 + 2*q**2 + 1)*sqrt(1/(3*q**2 + 1))*sqrt(1/(-3*q**4 + 2*q**2 + 1)), -q,  (3*q**4 - 2*q**2 - 1)*sqrt(1/(3*q**2 + 1))*sqrt(1/(-3*q**4 + 2*q**2 + 1))],\n",
       "[-2*q*sqrt(1/(3*q**2 + 1)), q, (1 - q**2)*sqrt(1/(-3*q**4 + 2*q**2 + 1)), (3*q**2 - 1)*sqrt(1/(-3*q**4 + 2*q**2 + 1)),  (3*q**4 - 2*q**2 - 1)*sqrt(1/(3*q**2 + 1))*sqrt(1/(-3*q**4 + 2*q**2 + 1)),  q,  (3*q**4 - 2*q**2 - 1)*sqrt(1/(3*q**2 + 1))*sqrt(1/(-3*q**4 + 2*q**2 + 1))],\n",
       "[-2*q*sqrt(1/(3*q**2 + 1)), q, (q**2 - 1)*sqrt(1/(-3*q**4 + 2*q**2 + 1)), (1 - 3*q**2)*sqrt(1/(-3*q**4 + 2*q**2 + 1)), (-3*q**4 + 2*q**2 + 1)*sqrt(1/(3*q**2 + 1))*sqrt(1/(-3*q**4 + 2*q**2 + 1)),  q, (-3*q**4 + 2*q**2 + 1)*sqrt(1/(3*q**2 + 1))*sqrt(1/(-3*q**4 + 2*q**2 + 1))],\n",
       "[-2*q*sqrt(1/(3*q**2 + 1)), q, (q**2 - 1)*sqrt(1/(-3*q**4 + 2*q**2 + 1)), (1 - 3*q**2)*sqrt(1/(-3*q**4 + 2*q**2 + 1)),  (3*q**4 - 2*q**2 - 1)*sqrt(1/(3*q**2 + 1))*sqrt(1/(-3*q**4 + 2*q**2 + 1)), -q, (-3*q**4 + 2*q**2 + 1)*sqrt(1/(3*q**2 + 1))*sqrt(1/(-3*q**4 + 2*q**2 + 1))],\n",
       "[ 2*q*sqrt(1/(3*q**2 + 1)), q, (1 - q**2)*sqrt(1/(-3*q**4 + 2*q**2 + 1)), (3*q**2 - 1)*sqrt(1/(-3*q**4 + 2*q**2 + 1)), (-3*q**4 + 2*q**2 + 1)*sqrt(1/(3*q**2 + 1))*sqrt(1/(-3*q**4 + 2*q**2 + 1)),  q, (-3*q**4 + 2*q**2 + 1)*sqrt(1/(3*q**2 + 1))*sqrt(1/(-3*q**4 + 2*q**2 + 1))],\n",
       "[ 2*q*sqrt(1/(3*q**2 + 1)), q, (1 - q**2)*sqrt(1/(-3*q**4 + 2*q**2 + 1)), (3*q**2 - 1)*sqrt(1/(-3*q**4 + 2*q**2 + 1)),  (3*q**4 - 2*q**2 - 1)*sqrt(1/(3*q**2 + 1))*sqrt(1/(-3*q**4 + 2*q**2 + 1)), -q, (-3*q**4 + 2*q**2 + 1)*sqrt(1/(3*q**2 + 1))*sqrt(1/(-3*q**4 + 2*q**2 + 1))],\n",
       "[ 2*q*sqrt(1/(3*q**2 + 1)), q, (q**2 - 1)*sqrt(1/(-3*q**4 + 2*q**2 + 1)), (1 - 3*q**2)*sqrt(1/(-3*q**4 + 2*q**2 + 1)), (-3*q**4 + 2*q**2 + 1)*sqrt(1/(3*q**2 + 1))*sqrt(1/(-3*q**4 + 2*q**2 + 1)), -q,  (3*q**4 - 2*q**2 - 1)*sqrt(1/(3*q**2 + 1))*sqrt(1/(-3*q**4 + 2*q**2 + 1))],\n",
       "[ 2*q*sqrt(1/(3*q**2 + 1)), q, (q**2 - 1)*sqrt(1/(-3*q**4 + 2*q**2 + 1)), (1 - 3*q**2)*sqrt(1/(-3*q**4 + 2*q**2 + 1)),  (3*q**4 - 2*q**2 - 1)*sqrt(1/(3*q**2 + 1))*sqrt(1/(-3*q**4 + 2*q**2 + 1)),  q,  (3*q**4 - 2*q**2 - 1)*sqrt(1/(3*q**2 + 1))*sqrt(1/(-3*q**4 + 2*q**2 + 1))]])"
      ]
     },
     "execution_count": 130,
     "metadata": {},
     "output_type": "execute_result"
    }
   ],
   "source": [
    "w += 1\n",
    "print(w)\n",
    "Matrix(eqn_solutions[w])"
   ]
  },
  {
   "cell_type": "code",
   "execution_count": null,
   "metadata": {},
   "outputs": [
    {
     "name": "stdout",
     "output_type": "stream",
     "text": [
      "11\n"
     ]
    },
    {
     "data": {
      "text/latex": [
       "$\\displaystyle \\left[\\begin{matrix}- 2 q \\sqrt{- \\frac{\\left(q - 1\\right) \\left(q + 1\\right)}{21 q^{4} - 40 q^{2} + 20}} & q & \\left(2 - 3 q^{2}\\right) \\sqrt{\\frac{1}{21 q^{4} - 40 q^{2} + 20}} & 4 \\left(q - 1\\right) \\left(q + 1\\right) \\sqrt{\\frac{1}{21 q^{4} - 40 q^{2} + 20}} & - 2 \\sqrt{\\frac{\\left(q - 1\\right) \\left(q + 1\\right)}{3 q^{2} - 4}} & \\frac{q \\sqrt{\\frac{1 - q^{2}}{21 q^{4} - 40 q^{2} + 20}} \\sqrt{\\frac{q^{2} - 1}{3 q^{2} - 4}} \\cdot \\left(21 q^{4} - 40 q^{2} + 20\\right) \\sqrt{\\frac{1}{21 q^{4} - 40 q^{2} + 20}}}{q^{2} - 1} & \\sqrt{\\frac{1 - q^{2}}{21 q^{4} - 40 q^{2} + 20}} \\cdot \\left(21 q^{4} - 40 q^{2} + 20\\right) \\sqrt{\\frac{1}{21 q^{4} - 40 q^{2} + 20}}\\\\- 2 q \\sqrt{- \\frac{\\left(q - 1\\right) \\left(q + 1\\right)}{21 q^{4} - 40 q^{2} + 20}} & q & \\left(2 - 3 q^{2}\\right) \\sqrt{\\frac{1}{21 q^{4} - 40 q^{2} + 20}} & 4 \\left(q - 1\\right) \\left(q + 1\\right) \\sqrt{\\frac{1}{21 q^{4} - 40 q^{2} + 20}} & 2 \\sqrt{\\frac{\\left(q - 1\\right) \\left(q + 1\\right)}{3 q^{2} - 4}} & \\frac{q \\sqrt{\\frac{1 - q^{2}}{21 q^{4} - 40 q^{2} + 20}} \\sqrt{\\frac{q^{2} - 1}{3 q^{2} - 4}} \\left(- 21 q^{4} + 40 q^{2} - 20\\right) \\sqrt{\\frac{1}{21 q^{4} - 40 q^{2} + 20}}}{q^{2} - 1} & \\sqrt{\\frac{1 - q^{2}}{21 q^{4} - 40 q^{2} + 20}} \\cdot \\left(21 q^{4} - 40 q^{2} + 20\\right) \\sqrt{\\frac{1}{21 q^{4} - 40 q^{2} + 20}}\\\\- 2 q \\sqrt{- \\frac{\\left(q - 1\\right) \\left(q + 1\\right)}{21 q^{4} - 40 q^{2} + 20}} & q & \\left(3 q^{2} - 2\\right) \\sqrt{\\frac{1}{21 q^{4} - 40 q^{2} + 20}} & - 4 \\left(q - 1\\right) \\left(q + 1\\right) \\sqrt{\\frac{1}{21 q^{4} - 40 q^{2} + 20}} & - 2 \\sqrt{\\frac{\\left(q - 1\\right) \\left(q + 1\\right)}{3 q^{2} - 4}} & \\frac{q \\sqrt{\\frac{1 - q^{2}}{21 q^{4} - 40 q^{2} + 20}} \\sqrt{\\frac{q^{2} - 1}{3 q^{2} - 4}} \\left(- 21 q^{4} + 40 q^{2} - 20\\right) \\sqrt{\\frac{1}{21 q^{4} - 40 q^{2} + 20}}}{q^{2} - 1} & \\sqrt{\\frac{1 - q^{2}}{21 q^{4} - 40 q^{2} + 20}} \\left(- 21 q^{4} + 40 q^{2} - 20\\right) \\sqrt{\\frac{1}{21 q^{4} - 40 q^{2} + 20}}\\\\- 2 q \\sqrt{- \\frac{\\left(q - 1\\right) \\left(q + 1\\right)}{21 q^{4} - 40 q^{2} + 20}} & q & \\left(3 q^{2} - 2\\right) \\sqrt{\\frac{1}{21 q^{4} - 40 q^{2} + 20}} & - 4 \\left(q - 1\\right) \\left(q + 1\\right) \\sqrt{\\frac{1}{21 q^{4} - 40 q^{2} + 20}} & 2 \\sqrt{\\frac{\\left(q - 1\\right) \\left(q + 1\\right)}{3 q^{2} - 4}} & \\frac{q \\sqrt{\\frac{1 - q^{2}}{21 q^{4} - 40 q^{2} + 20}} \\sqrt{\\frac{q^{2} - 1}{3 q^{2} - 4}} \\cdot \\left(21 q^{4} - 40 q^{2} + 20\\right) \\sqrt{\\frac{1}{21 q^{4} - 40 q^{2} + 20}}}{q^{2} - 1} & \\sqrt{\\frac{1 - q^{2}}{21 q^{4} - 40 q^{2} + 20}} \\left(- 21 q^{4} + 40 q^{2} - 20\\right) \\sqrt{\\frac{1}{21 q^{4} - 40 q^{2} + 20}}\\\\2 q \\sqrt{- \\frac{\\left(q - 1\\right) \\left(q + 1\\right)}{21 q^{4} - 40 q^{2} + 20}} & q & \\left(2 - 3 q^{2}\\right) \\sqrt{\\frac{1}{21 q^{4} - 40 q^{2} + 20}} & 4 \\left(q - 1\\right) \\left(q + 1\\right) \\sqrt{\\frac{1}{21 q^{4} - 40 q^{2} + 20}} & - 2 \\sqrt{\\frac{\\left(q - 1\\right) \\left(q + 1\\right)}{3 q^{2} - 4}} & \\frac{q \\sqrt{\\frac{1 - q^{2}}{21 q^{4} - 40 q^{2} + 20}} \\sqrt{\\frac{q^{2} - 1}{3 q^{2} - 4}} \\left(- 21 q^{4} + 40 q^{2} - 20\\right) \\sqrt{\\frac{1}{21 q^{4} - 40 q^{2} + 20}}}{q^{2} - 1} & \\sqrt{\\frac{1 - q^{2}}{21 q^{4} - 40 q^{2} + 20}} \\left(- 21 q^{4} + 40 q^{2} - 20\\right) \\sqrt{\\frac{1}{21 q^{4} - 40 q^{2} + 20}}\\\\2 q \\sqrt{- \\frac{\\left(q - 1\\right) \\left(q + 1\\right)}{21 q^{4} - 40 q^{2} + 20}} & q & \\left(2 - 3 q^{2}\\right) \\sqrt{\\frac{1}{21 q^{4} - 40 q^{2} + 20}} & 4 \\left(q - 1\\right) \\left(q + 1\\right) \\sqrt{\\frac{1}{21 q^{4} - 40 q^{2} + 20}} & 2 \\sqrt{\\frac{\\left(q - 1\\right) \\left(q + 1\\right)}{3 q^{2} - 4}} & \\frac{q \\sqrt{\\frac{1 - q^{2}}{21 q^{4} - 40 q^{2} + 20}} \\sqrt{\\frac{q^{2} - 1}{3 q^{2} - 4}} \\cdot \\left(21 q^{4} - 40 q^{2} + 20\\right) \\sqrt{\\frac{1}{21 q^{4} - 40 q^{2} + 20}}}{q^{2} - 1} & \\sqrt{\\frac{1 - q^{2}}{21 q^{4} - 40 q^{2} + 20}} \\left(- 21 q^{4} + 40 q^{2} - 20\\right) \\sqrt{\\frac{1}{21 q^{4} - 40 q^{2} + 20}}\\\\2 q \\sqrt{- \\frac{\\left(q - 1\\right) \\left(q + 1\\right)}{21 q^{4} - 40 q^{2} + 20}} & q & \\left(3 q^{2} - 2\\right) \\sqrt{\\frac{1}{21 q^{4} - 40 q^{2} + 20}} & - 4 \\left(q - 1\\right) \\left(q + 1\\right) \\sqrt{\\frac{1}{21 q^{4} - 40 q^{2} + 20}} & - 2 \\sqrt{\\frac{\\left(q - 1\\right) \\left(q + 1\\right)}{3 q^{2} - 4}} & \\frac{q \\sqrt{\\frac{1 - q^{2}}{21 q^{4} - 40 q^{2} + 20}} \\sqrt{\\frac{q^{2} - 1}{3 q^{2} - 4}} \\cdot \\left(21 q^{4} - 40 q^{2} + 20\\right) \\sqrt{\\frac{1}{21 q^{4} - 40 q^{2} + 20}}}{q^{2} - 1} & \\sqrt{\\frac{1 - q^{2}}{21 q^{4} - 40 q^{2} + 20}} \\cdot \\left(21 q^{4} - 40 q^{2} + 20\\right) \\sqrt{\\frac{1}{21 q^{4} - 40 q^{2} + 20}}\\\\2 q \\sqrt{- \\frac{\\left(q - 1\\right) \\left(q + 1\\right)}{21 q^{4} - 40 q^{2} + 20}} & q & \\left(3 q^{2} - 2\\right) \\sqrt{\\frac{1}{21 q^{4} - 40 q^{2} + 20}} & - 4 \\left(q - 1\\right) \\left(q + 1\\right) \\sqrt{\\frac{1}{21 q^{4} - 40 q^{2} + 20}} & 2 \\sqrt{\\frac{\\left(q - 1\\right) \\left(q + 1\\right)}{3 q^{2} - 4}} & \\frac{q \\sqrt{\\frac{1 - q^{2}}{21 q^{4} - 40 q^{2} + 20}} \\sqrt{\\frac{q^{2} - 1}{3 q^{2} - 4}} \\left(- 21 q^{4} + 40 q^{2} - 20\\right) \\sqrt{\\frac{1}{21 q^{4} - 40 q^{2} + 20}}}{q^{2} - 1} & \\sqrt{\\frac{1 - q^{2}}{21 q^{4} - 40 q^{2} + 20}} \\cdot \\left(21 q^{4} - 40 q^{2} + 20\\right) \\sqrt{\\frac{1}{21 q^{4} - 40 q^{2} + 20}}\\end{matrix}\\right]$"
      ],
      "text/plain": [
       "Matrix([\n",
       "[-2*q*sqrt(-(q - 1)*(q + 1)/(21*q**4 - 40*q**2 + 20)), q, (2 - 3*q**2)*sqrt(1/(21*q**4 - 40*q**2 + 20)),  4*(q - 1)*(q + 1)*sqrt(1/(21*q**4 - 40*q**2 + 20)), -2*sqrt((q - 1)*(q + 1)/(3*q**2 - 4)),  q*sqrt((1 - q**2)/(21*q**4 - 40*q**2 + 20))*sqrt((q**2 - 1)/(3*q**2 - 4))*(21*q**4 - 40*q**2 + 20)*sqrt(1/(21*q**4 - 40*q**2 + 20))/(q**2 - 1),  sqrt((1 - q**2)/(21*q**4 - 40*q**2 + 20))*(21*q**4 - 40*q**2 + 20)*sqrt(1/(21*q**4 - 40*q**2 + 20))],\n",
       "[-2*q*sqrt(-(q - 1)*(q + 1)/(21*q**4 - 40*q**2 + 20)), q, (2 - 3*q**2)*sqrt(1/(21*q**4 - 40*q**2 + 20)),  4*(q - 1)*(q + 1)*sqrt(1/(21*q**4 - 40*q**2 + 20)),  2*sqrt((q - 1)*(q + 1)/(3*q**2 - 4)), q*sqrt((1 - q**2)/(21*q**4 - 40*q**2 + 20))*sqrt((q**2 - 1)/(3*q**2 - 4))*(-21*q**4 + 40*q**2 - 20)*sqrt(1/(21*q**4 - 40*q**2 + 20))/(q**2 - 1),  sqrt((1 - q**2)/(21*q**4 - 40*q**2 + 20))*(21*q**4 - 40*q**2 + 20)*sqrt(1/(21*q**4 - 40*q**2 + 20))],\n",
       "[-2*q*sqrt(-(q - 1)*(q + 1)/(21*q**4 - 40*q**2 + 20)), q, (3*q**2 - 2)*sqrt(1/(21*q**4 - 40*q**2 + 20)), -4*(q - 1)*(q + 1)*sqrt(1/(21*q**4 - 40*q**2 + 20)), -2*sqrt((q - 1)*(q + 1)/(3*q**2 - 4)), q*sqrt((1 - q**2)/(21*q**4 - 40*q**2 + 20))*sqrt((q**2 - 1)/(3*q**2 - 4))*(-21*q**4 + 40*q**2 - 20)*sqrt(1/(21*q**4 - 40*q**2 + 20))/(q**2 - 1), sqrt((1 - q**2)/(21*q**4 - 40*q**2 + 20))*(-21*q**4 + 40*q**2 - 20)*sqrt(1/(21*q**4 - 40*q**2 + 20))],\n",
       "[-2*q*sqrt(-(q - 1)*(q + 1)/(21*q**4 - 40*q**2 + 20)), q, (3*q**2 - 2)*sqrt(1/(21*q**4 - 40*q**2 + 20)), -4*(q - 1)*(q + 1)*sqrt(1/(21*q**4 - 40*q**2 + 20)),  2*sqrt((q - 1)*(q + 1)/(3*q**2 - 4)),  q*sqrt((1 - q**2)/(21*q**4 - 40*q**2 + 20))*sqrt((q**2 - 1)/(3*q**2 - 4))*(21*q**4 - 40*q**2 + 20)*sqrt(1/(21*q**4 - 40*q**2 + 20))/(q**2 - 1), sqrt((1 - q**2)/(21*q**4 - 40*q**2 + 20))*(-21*q**4 + 40*q**2 - 20)*sqrt(1/(21*q**4 - 40*q**2 + 20))],\n",
       "[ 2*q*sqrt(-(q - 1)*(q + 1)/(21*q**4 - 40*q**2 + 20)), q, (2 - 3*q**2)*sqrt(1/(21*q**4 - 40*q**2 + 20)),  4*(q - 1)*(q + 1)*sqrt(1/(21*q**4 - 40*q**2 + 20)), -2*sqrt((q - 1)*(q + 1)/(3*q**2 - 4)), q*sqrt((1 - q**2)/(21*q**4 - 40*q**2 + 20))*sqrt((q**2 - 1)/(3*q**2 - 4))*(-21*q**4 + 40*q**2 - 20)*sqrt(1/(21*q**4 - 40*q**2 + 20))/(q**2 - 1), sqrt((1 - q**2)/(21*q**4 - 40*q**2 + 20))*(-21*q**4 + 40*q**2 - 20)*sqrt(1/(21*q**4 - 40*q**2 + 20))],\n",
       "[ 2*q*sqrt(-(q - 1)*(q + 1)/(21*q**4 - 40*q**2 + 20)), q, (2 - 3*q**2)*sqrt(1/(21*q**4 - 40*q**2 + 20)),  4*(q - 1)*(q + 1)*sqrt(1/(21*q**4 - 40*q**2 + 20)),  2*sqrt((q - 1)*(q + 1)/(3*q**2 - 4)),  q*sqrt((1 - q**2)/(21*q**4 - 40*q**2 + 20))*sqrt((q**2 - 1)/(3*q**2 - 4))*(21*q**4 - 40*q**2 + 20)*sqrt(1/(21*q**4 - 40*q**2 + 20))/(q**2 - 1), sqrt((1 - q**2)/(21*q**4 - 40*q**2 + 20))*(-21*q**4 + 40*q**2 - 20)*sqrt(1/(21*q**4 - 40*q**2 + 20))],\n",
       "[ 2*q*sqrt(-(q - 1)*(q + 1)/(21*q**4 - 40*q**2 + 20)), q, (3*q**2 - 2)*sqrt(1/(21*q**4 - 40*q**2 + 20)), -4*(q - 1)*(q + 1)*sqrt(1/(21*q**4 - 40*q**2 + 20)), -2*sqrt((q - 1)*(q + 1)/(3*q**2 - 4)),  q*sqrt((1 - q**2)/(21*q**4 - 40*q**2 + 20))*sqrt((q**2 - 1)/(3*q**2 - 4))*(21*q**4 - 40*q**2 + 20)*sqrt(1/(21*q**4 - 40*q**2 + 20))/(q**2 - 1),  sqrt((1 - q**2)/(21*q**4 - 40*q**2 + 20))*(21*q**4 - 40*q**2 + 20)*sqrt(1/(21*q**4 - 40*q**2 + 20))],\n",
       "[ 2*q*sqrt(-(q - 1)*(q + 1)/(21*q**4 - 40*q**2 + 20)), q, (3*q**2 - 2)*sqrt(1/(21*q**4 - 40*q**2 + 20)), -4*(q - 1)*(q + 1)*sqrt(1/(21*q**4 - 40*q**2 + 20)),  2*sqrt((q - 1)*(q + 1)/(3*q**2 - 4)), q*sqrt((1 - q**2)/(21*q**4 - 40*q**2 + 20))*sqrt((q**2 - 1)/(3*q**2 - 4))*(-21*q**4 + 40*q**2 - 20)*sqrt(1/(21*q**4 - 40*q**2 + 20))/(q**2 - 1),  sqrt((1 - q**2)/(21*q**4 - 40*q**2 + 20))*(21*q**4 - 40*q**2 + 20)*sqrt(1/(21*q**4 - 40*q**2 + 20))]])"
      ]
     },
     "execution_count": 131,
     "metadata": {},
     "output_type": "execute_result"
    }
   ],
   "source": [
    "w += 1\n",
    "print(w)\n",
    "Matrix(eqn_solutions[w])"
   ]
  },
  {
   "cell_type": "code",
   "execution_count": null,
   "metadata": {},
   "outputs": [
    {
     "name": "stdout",
     "output_type": "stream",
     "text": [
      "12\n"
     ]
    },
    {
     "data": {
      "text/latex": [
       "$\\displaystyle \\left[\\begin{matrix}- 2 \\sqrt{\\frac{\\left(q - 1\\right) \\left(q + 1\\right)}{3 q^{2} - 4}} & q & - q \\sqrt{- \\frac{1}{3 q^{2} - 4}} & \\frac{4 \\sqrt{- \\frac{1}{3 q^{2} - 4}} \\left(q - 1\\right) \\left(q + 1\\right)}{q} & - 2 \\sqrt{\\frac{\\left(q - 1\\right) \\left(q + 1\\right)}{3 q^{2} - 4}} & - q \\sqrt{- \\frac{1}{3 q^{2} - 4}} & \\sqrt{- \\frac{1}{3 q^{2} - 4}} \\sqrt{\\frac{q^{2} - 1}{3 q^{2} - 4}} \\cdot \\left(4 - 3 q^{2}\\right)\\\\- 2 \\sqrt{\\frac{\\left(q - 1\\right) \\left(q + 1\\right)}{3 q^{2} - 4}} & q & - q \\sqrt{- \\frac{1}{3 q^{2} - 4}} & \\frac{4 \\sqrt{- \\frac{1}{3 q^{2} - 4}} \\left(q - 1\\right) \\left(q + 1\\right)}{q} & 2 \\sqrt{\\frac{\\left(q - 1\\right) \\left(q + 1\\right)}{3 q^{2} - 4}} & q \\sqrt{- \\frac{1}{3 q^{2} - 4}} & \\sqrt{- \\frac{1}{3 q^{2} - 4}} \\sqrt{\\frac{q^{2} - 1}{3 q^{2} - 4}} \\cdot \\left(4 - 3 q^{2}\\right)\\\\- 2 \\sqrt{\\frac{\\left(q - 1\\right) \\left(q + 1\\right)}{3 q^{2} - 4}} & q & q \\sqrt{- \\frac{1}{3 q^{2} - 4}} & - \\frac{4 \\sqrt{- \\frac{1}{3 q^{2} - 4}} \\left(q - 1\\right) \\left(q + 1\\right)}{q} & - 2 \\sqrt{\\frac{\\left(q - 1\\right) \\left(q + 1\\right)}{3 q^{2} - 4}} & q \\sqrt{- \\frac{1}{3 q^{2} - 4}} & \\sqrt{- \\frac{1}{3 q^{2} - 4}} \\sqrt{\\frac{q^{2} - 1}{3 q^{2} - 4}} \\cdot \\left(3 q^{2} - 4\\right)\\\\- 2 \\sqrt{\\frac{\\left(q - 1\\right) \\left(q + 1\\right)}{3 q^{2} - 4}} & q & q \\sqrt{- \\frac{1}{3 q^{2} - 4}} & - \\frac{4 \\sqrt{- \\frac{1}{3 q^{2} - 4}} \\left(q - 1\\right) \\left(q + 1\\right)}{q} & 2 \\sqrt{\\frac{\\left(q - 1\\right) \\left(q + 1\\right)}{3 q^{2} - 4}} & - q \\sqrt{- \\frac{1}{3 q^{2} - 4}} & \\sqrt{- \\frac{1}{3 q^{2} - 4}} \\sqrt{\\frac{q^{2} - 1}{3 q^{2} - 4}} \\cdot \\left(3 q^{2} - 4\\right)\\\\2 \\sqrt{\\frac{\\left(q - 1\\right) \\left(q + 1\\right)}{3 q^{2} - 4}} & q & - q \\sqrt{- \\frac{1}{3 q^{2} - 4}} & \\frac{4 \\sqrt{- \\frac{1}{3 q^{2} - 4}} \\left(q - 1\\right) \\left(q + 1\\right)}{q} & - 2 \\sqrt{\\frac{\\left(q - 1\\right) \\left(q + 1\\right)}{3 q^{2} - 4}} & q \\sqrt{- \\frac{1}{3 q^{2} - 4}} & \\sqrt{- \\frac{1}{3 q^{2} - 4}} \\sqrt{\\frac{q^{2} - 1}{3 q^{2} - 4}} \\cdot \\left(3 q^{2} - 4\\right)\\\\2 \\sqrt{\\frac{\\left(q - 1\\right) \\left(q + 1\\right)}{3 q^{2} - 4}} & q & - q \\sqrt{- \\frac{1}{3 q^{2} - 4}} & \\frac{4 \\sqrt{- \\frac{1}{3 q^{2} - 4}} \\left(q - 1\\right) \\left(q + 1\\right)}{q} & 2 \\sqrt{\\frac{\\left(q - 1\\right) \\left(q + 1\\right)}{3 q^{2} - 4}} & - q \\sqrt{- \\frac{1}{3 q^{2} - 4}} & \\sqrt{- \\frac{1}{3 q^{2} - 4}} \\sqrt{\\frac{q^{2} - 1}{3 q^{2} - 4}} \\cdot \\left(3 q^{2} - 4\\right)\\\\2 \\sqrt{\\frac{\\left(q - 1\\right) \\left(q + 1\\right)}{3 q^{2} - 4}} & q & q \\sqrt{- \\frac{1}{3 q^{2} - 4}} & - \\frac{4 \\sqrt{- \\frac{1}{3 q^{2} - 4}} \\left(q - 1\\right) \\left(q + 1\\right)}{q} & - 2 \\sqrt{\\frac{\\left(q - 1\\right) \\left(q + 1\\right)}{3 q^{2} - 4}} & - q \\sqrt{- \\frac{1}{3 q^{2} - 4}} & \\sqrt{- \\frac{1}{3 q^{2} - 4}} \\sqrt{\\frac{q^{2} - 1}{3 q^{2} - 4}} \\cdot \\left(4 - 3 q^{2}\\right)\\\\2 \\sqrt{\\frac{\\left(q - 1\\right) \\left(q + 1\\right)}{3 q^{2} - 4}} & q & q \\sqrt{- \\frac{1}{3 q^{2} - 4}} & - \\frac{4 \\sqrt{- \\frac{1}{3 q^{2} - 4}} \\left(q - 1\\right) \\left(q + 1\\right)}{q} & 2 \\sqrt{\\frac{\\left(q - 1\\right) \\left(q + 1\\right)}{3 q^{2} - 4}} & q \\sqrt{- \\frac{1}{3 q^{2} - 4}} & \\sqrt{- \\frac{1}{3 q^{2} - 4}} \\sqrt{\\frac{q^{2} - 1}{3 q^{2} - 4}} \\cdot \\left(4 - 3 q^{2}\\right)\\end{matrix}\\right]$"
      ],
      "text/plain": [
       "Matrix([\n",
       "[-2*sqrt((q - 1)*(q + 1)/(3*q**2 - 4)), q, -q*sqrt(-1/(3*q**2 - 4)),  4*sqrt(-1/(3*q**2 - 4))*(q - 1)*(q + 1)/q, -2*sqrt((q - 1)*(q + 1)/(3*q**2 - 4)), -q*sqrt(-1/(3*q**2 - 4)), sqrt(-1/(3*q**2 - 4))*sqrt((q**2 - 1)/(3*q**2 - 4))*(4 - 3*q**2)],\n",
       "[-2*sqrt((q - 1)*(q + 1)/(3*q**2 - 4)), q, -q*sqrt(-1/(3*q**2 - 4)),  4*sqrt(-1/(3*q**2 - 4))*(q - 1)*(q + 1)/q,  2*sqrt((q - 1)*(q + 1)/(3*q**2 - 4)),  q*sqrt(-1/(3*q**2 - 4)), sqrt(-1/(3*q**2 - 4))*sqrt((q**2 - 1)/(3*q**2 - 4))*(4 - 3*q**2)],\n",
       "[-2*sqrt((q - 1)*(q + 1)/(3*q**2 - 4)), q,  q*sqrt(-1/(3*q**2 - 4)), -4*sqrt(-1/(3*q**2 - 4))*(q - 1)*(q + 1)/q, -2*sqrt((q - 1)*(q + 1)/(3*q**2 - 4)),  q*sqrt(-1/(3*q**2 - 4)), sqrt(-1/(3*q**2 - 4))*sqrt((q**2 - 1)/(3*q**2 - 4))*(3*q**2 - 4)],\n",
       "[-2*sqrt((q - 1)*(q + 1)/(3*q**2 - 4)), q,  q*sqrt(-1/(3*q**2 - 4)), -4*sqrt(-1/(3*q**2 - 4))*(q - 1)*(q + 1)/q,  2*sqrt((q - 1)*(q + 1)/(3*q**2 - 4)), -q*sqrt(-1/(3*q**2 - 4)), sqrt(-1/(3*q**2 - 4))*sqrt((q**2 - 1)/(3*q**2 - 4))*(3*q**2 - 4)],\n",
       "[ 2*sqrt((q - 1)*(q + 1)/(3*q**2 - 4)), q, -q*sqrt(-1/(3*q**2 - 4)),  4*sqrt(-1/(3*q**2 - 4))*(q - 1)*(q + 1)/q, -2*sqrt((q - 1)*(q + 1)/(3*q**2 - 4)),  q*sqrt(-1/(3*q**2 - 4)), sqrt(-1/(3*q**2 - 4))*sqrt((q**2 - 1)/(3*q**2 - 4))*(3*q**2 - 4)],\n",
       "[ 2*sqrt((q - 1)*(q + 1)/(3*q**2 - 4)), q, -q*sqrt(-1/(3*q**2 - 4)),  4*sqrt(-1/(3*q**2 - 4))*(q - 1)*(q + 1)/q,  2*sqrt((q - 1)*(q + 1)/(3*q**2 - 4)), -q*sqrt(-1/(3*q**2 - 4)), sqrt(-1/(3*q**2 - 4))*sqrt((q**2 - 1)/(3*q**2 - 4))*(3*q**2 - 4)],\n",
       "[ 2*sqrt((q - 1)*(q + 1)/(3*q**2 - 4)), q,  q*sqrt(-1/(3*q**2 - 4)), -4*sqrt(-1/(3*q**2 - 4))*(q - 1)*(q + 1)/q, -2*sqrt((q - 1)*(q + 1)/(3*q**2 - 4)), -q*sqrt(-1/(3*q**2 - 4)), sqrt(-1/(3*q**2 - 4))*sqrt((q**2 - 1)/(3*q**2 - 4))*(4 - 3*q**2)],\n",
       "[ 2*sqrt((q - 1)*(q + 1)/(3*q**2 - 4)), q,  q*sqrt(-1/(3*q**2 - 4)), -4*sqrt(-1/(3*q**2 - 4))*(q - 1)*(q + 1)/q,  2*sqrt((q - 1)*(q + 1)/(3*q**2 - 4)),  q*sqrt(-1/(3*q**2 - 4)), sqrt(-1/(3*q**2 - 4))*sqrt((q**2 - 1)/(3*q**2 - 4))*(4 - 3*q**2)]])"
      ]
     },
     "execution_count": 132,
     "metadata": {},
     "output_type": "execute_result"
    }
   ],
   "source": [
    "w += 1\n",
    "print(w)\n",
    "Matrix(eqn_solutions[w])"
   ]
  },
  {
   "cell_type": "code",
   "execution_count": null,
   "metadata": {},
   "outputs": [
    {
     "name": "stdout",
     "output_type": "stream",
     "text": [
      "13\n"
     ]
    },
    {
     "data": {
      "text/latex": [
       "$\\displaystyle \\left[\\begin{matrix}q \\sqrt{\\frac{1 - q^{2}}{q^{4} - q^{2} + 1}} & q & \\left(1 - q^{2}\\right) \\sqrt{\\frac{1}{q^{4} - q^{2} + 1}} & q^{2} \\sqrt{\\frac{1}{q^{4} - q^{2} + 1}} & \\sqrt{\\frac{1 - q^{2}}{q^{4} - q^{2} + 1}} \\left(- q^{4} + q^{2} - 1\\right) \\sqrt{\\frac{1}{q^{4} - q^{2} + 1}} & - q & \\sqrt{\\frac{1 - q^{2}}{q^{4} - q^{2} + 1}} \\left(q^{4} - q^{2} + 1\\right) \\sqrt{\\frac{1}{q^{4} - q^{2} + 1}}\\\\q \\sqrt{\\frac{1 - q^{2}}{q^{4} - q^{2} + 1}} & q & \\left(1 - q^{2}\\right) \\sqrt{\\frac{1}{q^{4} - q^{2} + 1}} & q^{2} \\sqrt{\\frac{1}{q^{4} - q^{2} + 1}} & \\sqrt{\\frac{1 - q^{2}}{q^{4} - q^{2} + 1}} \\left(q^{4} - q^{2} + 1\\right) \\sqrt{\\frac{1}{q^{4} - q^{2} + 1}} & q & \\sqrt{\\frac{1 - q^{2}}{q^{4} - q^{2} + 1}} \\left(q^{4} - q^{2} + 1\\right) \\sqrt{\\frac{1}{q^{4} - q^{2} + 1}}\\\\q \\sqrt{\\frac{1 - q^{2}}{q^{4} - q^{2} + 1}} & q & \\left(q^{2} - 1\\right) \\sqrt{\\frac{1}{q^{4} - q^{2} + 1}} & - q^{2} \\sqrt{\\frac{1}{q^{4} - q^{2} + 1}} & \\sqrt{\\frac{1 - q^{2}}{q^{4} - q^{2} + 1}} \\left(- q^{4} + q^{2} - 1\\right) \\sqrt{\\frac{1}{q^{4} - q^{2} + 1}} & q & \\sqrt{\\frac{1 - q^{2}}{q^{4} - q^{2} + 1}} \\left(- q^{4} + q^{2} - 1\\right) \\sqrt{\\frac{1}{q^{4} - q^{2} + 1}}\\\\q \\sqrt{\\frac{1 - q^{2}}{q^{4} - q^{2} + 1}} & q & \\left(q^{2} - 1\\right) \\sqrt{\\frac{1}{q^{4} - q^{2} + 1}} & - q^{2} \\sqrt{\\frac{1}{q^{4} - q^{2} + 1}} & \\sqrt{\\frac{1 - q^{2}}{q^{4} - q^{2} + 1}} \\left(q^{4} - q^{2} + 1\\right) \\sqrt{\\frac{1}{q^{4} - q^{2} + 1}} & - q & \\sqrt{\\frac{1 - q^{2}}{q^{4} - q^{2} + 1}} \\left(- q^{4} + q^{2} - 1\\right) \\sqrt{\\frac{1}{q^{4} - q^{2} + 1}}\\\\- q \\sqrt{- \\frac{q^{2} - 1}{q^{4} - q^{2} + 1}} & q & \\left(1 - q^{2}\\right) \\sqrt{\\frac{1}{q^{4} - q^{2} + 1}} & q^{2} \\sqrt{\\frac{1}{q^{4} - q^{2} + 1}} & \\sqrt{\\frac{1 - q^{2}}{q^{4} - q^{2} + 1}} \\left(- q^{4} + q^{2} - 1\\right) \\sqrt{\\frac{1}{q^{4} - q^{2} + 1}} & q & \\sqrt{\\frac{1 - q^{2}}{q^{4} - q^{2} + 1}} \\left(- q^{4} + q^{2} - 1\\right) \\sqrt{\\frac{1}{q^{4} - q^{2} + 1}}\\\\- q \\sqrt{- \\frac{q^{2} - 1}{q^{4} - q^{2} + 1}} & q & \\left(1 - q^{2}\\right) \\sqrt{\\frac{1}{q^{4} - q^{2} + 1}} & q^{2} \\sqrt{\\frac{1}{q^{4} - q^{2} + 1}} & \\sqrt{\\frac{1 - q^{2}}{q^{4} - q^{2} + 1}} \\left(q^{4} - q^{2} + 1\\right) \\sqrt{\\frac{1}{q^{4} - q^{2} + 1}} & - q & \\sqrt{\\frac{1 - q^{2}}{q^{4} - q^{2} + 1}} \\left(- q^{4} + q^{2} - 1\\right) \\sqrt{\\frac{1}{q^{4} - q^{2} + 1}}\\\\- q \\sqrt{- \\frac{q^{2} - 1}{q^{4} - q^{2} + 1}} & q & \\left(q^{2} - 1\\right) \\sqrt{\\frac{1}{q^{4} - q^{2} + 1}} & - q^{2} \\sqrt{\\frac{1}{q^{4} - q^{2} + 1}} & \\sqrt{\\frac{1 - q^{2}}{q^{4} - q^{2} + 1}} \\left(- q^{4} + q^{2} - 1\\right) \\sqrt{\\frac{1}{q^{4} - q^{2} + 1}} & - q & \\sqrt{\\frac{1 - q^{2}}{q^{4} - q^{2} + 1}} \\left(q^{4} - q^{2} + 1\\right) \\sqrt{\\frac{1}{q^{4} - q^{2} + 1}}\\\\- q \\sqrt{- \\frac{q^{2} - 1}{q^{4} - q^{2} + 1}} & q & \\left(q^{2} - 1\\right) \\sqrt{\\frac{1}{q^{4} - q^{2} + 1}} & - q^{2} \\sqrt{\\frac{1}{q^{4} - q^{2} + 1}} & \\sqrt{\\frac{1 - q^{2}}{q^{4} - q^{2} + 1}} \\left(q^{4} - q^{2} + 1\\right) \\sqrt{\\frac{1}{q^{4} - q^{2} + 1}} & q & \\sqrt{\\frac{1 - q^{2}}{q^{4} - q^{2} + 1}} \\left(q^{4} - q^{2} + 1\\right) \\sqrt{\\frac{1}{q^{4} - q^{2} + 1}}\\end{matrix}\\right]$"
      ],
      "text/plain": [
       "Matrix([\n",
       "[  q*sqrt((1 - q**2)/(q**4 - q**2 + 1)), q, (1 - q**2)*sqrt(1/(q**4 - q**2 + 1)),  q**2*sqrt(1/(q**4 - q**2 + 1)), sqrt((1 - q**2)/(q**4 - q**2 + 1))*(-q**4 + q**2 - 1)*sqrt(1/(q**4 - q**2 + 1)), -q,  sqrt((1 - q**2)/(q**4 - q**2 + 1))*(q**4 - q**2 + 1)*sqrt(1/(q**4 - q**2 + 1))],\n",
       "[  q*sqrt((1 - q**2)/(q**4 - q**2 + 1)), q, (1 - q**2)*sqrt(1/(q**4 - q**2 + 1)),  q**2*sqrt(1/(q**4 - q**2 + 1)),  sqrt((1 - q**2)/(q**4 - q**2 + 1))*(q**4 - q**2 + 1)*sqrt(1/(q**4 - q**2 + 1)),  q,  sqrt((1 - q**2)/(q**4 - q**2 + 1))*(q**4 - q**2 + 1)*sqrt(1/(q**4 - q**2 + 1))],\n",
       "[  q*sqrt((1 - q**2)/(q**4 - q**2 + 1)), q, (q**2 - 1)*sqrt(1/(q**4 - q**2 + 1)), -q**2*sqrt(1/(q**4 - q**2 + 1)), sqrt((1 - q**2)/(q**4 - q**2 + 1))*(-q**4 + q**2 - 1)*sqrt(1/(q**4 - q**2 + 1)),  q, sqrt((1 - q**2)/(q**4 - q**2 + 1))*(-q**4 + q**2 - 1)*sqrt(1/(q**4 - q**2 + 1))],\n",
       "[  q*sqrt((1 - q**2)/(q**4 - q**2 + 1)), q, (q**2 - 1)*sqrt(1/(q**4 - q**2 + 1)), -q**2*sqrt(1/(q**4 - q**2 + 1)),  sqrt((1 - q**2)/(q**4 - q**2 + 1))*(q**4 - q**2 + 1)*sqrt(1/(q**4 - q**2 + 1)), -q, sqrt((1 - q**2)/(q**4 - q**2 + 1))*(-q**4 + q**2 - 1)*sqrt(1/(q**4 - q**2 + 1))],\n",
       "[-q*sqrt(-(q**2 - 1)/(q**4 - q**2 + 1)), q, (1 - q**2)*sqrt(1/(q**4 - q**2 + 1)),  q**2*sqrt(1/(q**4 - q**2 + 1)), sqrt((1 - q**2)/(q**4 - q**2 + 1))*(-q**4 + q**2 - 1)*sqrt(1/(q**4 - q**2 + 1)),  q, sqrt((1 - q**2)/(q**4 - q**2 + 1))*(-q**4 + q**2 - 1)*sqrt(1/(q**4 - q**2 + 1))],\n",
       "[-q*sqrt(-(q**2 - 1)/(q**4 - q**2 + 1)), q, (1 - q**2)*sqrt(1/(q**4 - q**2 + 1)),  q**2*sqrt(1/(q**4 - q**2 + 1)),  sqrt((1 - q**2)/(q**4 - q**2 + 1))*(q**4 - q**2 + 1)*sqrt(1/(q**4 - q**2 + 1)), -q, sqrt((1 - q**2)/(q**4 - q**2 + 1))*(-q**4 + q**2 - 1)*sqrt(1/(q**4 - q**2 + 1))],\n",
       "[-q*sqrt(-(q**2 - 1)/(q**4 - q**2 + 1)), q, (q**2 - 1)*sqrt(1/(q**4 - q**2 + 1)), -q**2*sqrt(1/(q**4 - q**2 + 1)), sqrt((1 - q**2)/(q**4 - q**2 + 1))*(-q**4 + q**2 - 1)*sqrt(1/(q**4 - q**2 + 1)), -q,  sqrt((1 - q**2)/(q**4 - q**2 + 1))*(q**4 - q**2 + 1)*sqrt(1/(q**4 - q**2 + 1))],\n",
       "[-q*sqrt(-(q**2 - 1)/(q**4 - q**2 + 1)), q, (q**2 - 1)*sqrt(1/(q**4 - q**2 + 1)), -q**2*sqrt(1/(q**4 - q**2 + 1)),  sqrt((1 - q**2)/(q**4 - q**2 + 1))*(q**4 - q**2 + 1)*sqrt(1/(q**4 - q**2 + 1)),  q,  sqrt((1 - q**2)/(q**4 - q**2 + 1))*(q**4 - q**2 + 1)*sqrt(1/(q**4 - q**2 + 1))]])"
      ]
     },
     "execution_count": 133,
     "metadata": {},
     "output_type": "execute_result"
    }
   ],
   "source": [
    "w += 1\n",
    "print(w)\n",
    "Matrix(eqn_solutions[w])"
   ]
  },
  {
   "cell_type": "code",
   "execution_count": null,
   "metadata": {},
   "outputs": [
    {
     "name": "stdout",
     "output_type": "stream",
     "text": [
      "14\n"
     ]
    },
    {
     "data": {
      "text/latex": [
       "$\\displaystyle \\left[\\begin{matrix}-1 & - \\sqrt{1 - q^{2}} & - \\sqrt{- \\left(q - 1\\right) \\left(q + 1\\right)} & q & q\\\\-1 & - \\sqrt{1 - q^{2}} & \\sqrt{- \\left(q - 1\\right) \\left(q + 1\\right)} & q & - q\\\\-1 & \\sqrt{1 - q^{2}} & - \\sqrt{- \\left(q - 1\\right) \\left(q + 1\\right)} & q & - q\\\\-1 & \\sqrt{1 - q^{2}} & \\sqrt{- \\left(q - 1\\right) \\left(q + 1\\right)} & q & q\\\\1 & - \\sqrt{1 - q^{2}} & - \\sqrt{- \\left(q - 1\\right) \\left(q + 1\\right)} & q & q\\\\1 & - \\sqrt{1 - q^{2}} & \\sqrt{- \\left(q - 1\\right) \\left(q + 1\\right)} & q & - q\\\\1 & \\sqrt{1 - q^{2}} & - \\sqrt{- \\left(q - 1\\right) \\left(q + 1\\right)} & q & - q\\\\1 & \\sqrt{1 - q^{2}} & \\sqrt{- \\left(q - 1\\right) \\left(q + 1\\right)} & q & q\\end{matrix}\\right]$"
      ],
      "text/plain": [
       "Matrix([\n",
       "[-1, -sqrt(1 - q**2), -sqrt(-(q - 1)*(q + 1)), q,  q],\n",
       "[-1, -sqrt(1 - q**2),  sqrt(-(q - 1)*(q + 1)), q, -q],\n",
       "[-1,  sqrt(1 - q**2), -sqrt(-(q - 1)*(q + 1)), q, -q],\n",
       "[-1,  sqrt(1 - q**2),  sqrt(-(q - 1)*(q + 1)), q,  q],\n",
       "[ 1, -sqrt(1 - q**2), -sqrt(-(q - 1)*(q + 1)), q,  q],\n",
       "[ 1, -sqrt(1 - q**2),  sqrt(-(q - 1)*(q + 1)), q, -q],\n",
       "[ 1,  sqrt(1 - q**2), -sqrt(-(q - 1)*(q + 1)), q, -q],\n",
       "[ 1,  sqrt(1 - q**2),  sqrt(-(q - 1)*(q + 1)), q,  q]])"
      ]
     },
     "execution_count": 134,
     "metadata": {},
     "output_type": "execute_result"
    }
   ],
   "source": [
    "w += 1\n",
    "print(w)\n",
    "Matrix(eqn_solutions[w])"
   ]
  },
  {
   "cell_type": "code",
   "execution_count": null,
   "metadata": {},
   "outputs": [
    {
     "name": "stdout",
     "output_type": "stream",
     "text": [
      "15\n"
     ]
    },
    {
     "data": {
      "text/latex": [
       "$\\displaystyle \\left[\\begin{matrix}- q \\sqrt{\\frac{1}{\\left(q^{2} - q + 1\\right) \\left(q^{2} + q + 1\\right)}} & q & - \\sqrt{\\frac{1}{q^{4} + q^{2} + 1}} & - q^{2} \\sqrt{\\frac{1}{\\left(q^{2} - q + 1\\right) \\left(q^{2} + q + 1\\right)}} & - \\sqrt{\\frac{1}{q^{2} + 1}} & - q \\sqrt{\\frac{1}{q^{2} + 1}} & 1\\\\- q \\sqrt{\\frac{1}{\\left(q^{2} - q + 1\\right) \\left(q^{2} + q + 1\\right)}} & q & - \\sqrt{\\frac{1}{q^{4} + q^{2} + 1}} & - q^{2} \\sqrt{\\frac{1}{\\left(q^{2} - q + 1\\right) \\left(q^{2} + q + 1\\right)}} & \\sqrt{\\frac{1}{q^{2} + 1}} & q \\sqrt{\\frac{1}{q^{2} + 1}} & 1\\\\- q \\sqrt{\\frac{1}{\\left(q^{2} - q + 1\\right) \\left(q^{2} + q + 1\\right)}} & q & \\sqrt{\\frac{1}{q^{4} + q^{2} + 1}} & q^{2} \\sqrt{\\frac{1}{\\left(q^{2} - q + 1\\right) \\left(q^{2} + q + 1\\right)}} & - \\sqrt{\\frac{1}{q^{2} + 1}} & q \\sqrt{\\frac{1}{q^{2} + 1}} & -1\\\\- q \\sqrt{\\frac{1}{\\left(q^{2} - q + 1\\right) \\left(q^{2} + q + 1\\right)}} & q & \\sqrt{\\frac{1}{q^{4} + q^{2} + 1}} & q^{2} \\sqrt{\\frac{1}{\\left(q^{2} - q + 1\\right) \\left(q^{2} + q + 1\\right)}} & \\sqrt{\\frac{1}{q^{2} + 1}} & - q \\sqrt{\\frac{1}{q^{2} + 1}} & -1\\\\q \\sqrt{\\frac{1}{\\left(q^{2} - q + 1\\right) \\left(q^{2} + q + 1\\right)}} & q & - \\sqrt{\\frac{1}{q^{4} + q^{2} + 1}} & - q^{2} \\sqrt{\\frac{1}{\\left(q^{2} - q + 1\\right) \\left(q^{2} + q + 1\\right)}} & - \\sqrt{\\frac{1}{q^{2} + 1}} & q \\sqrt{\\frac{1}{q^{2} + 1}} & -1\\\\q \\sqrt{\\frac{1}{\\left(q^{2} - q + 1\\right) \\left(q^{2} + q + 1\\right)}} & q & - \\sqrt{\\frac{1}{q^{4} + q^{2} + 1}} & - q^{2} \\sqrt{\\frac{1}{\\left(q^{2} - q + 1\\right) \\left(q^{2} + q + 1\\right)}} & \\sqrt{\\frac{1}{q^{2} + 1}} & - q \\sqrt{\\frac{1}{q^{2} + 1}} & -1\\\\q \\sqrt{\\frac{1}{\\left(q^{2} - q + 1\\right) \\left(q^{2} + q + 1\\right)}} & q & \\sqrt{\\frac{1}{q^{4} + q^{2} + 1}} & q^{2} \\sqrt{\\frac{1}{\\left(q^{2} - q + 1\\right) \\left(q^{2} + q + 1\\right)}} & - \\sqrt{\\frac{1}{q^{2} + 1}} & - q \\sqrt{\\frac{1}{q^{2} + 1}} & 1\\\\q \\sqrt{\\frac{1}{\\left(q^{2} - q + 1\\right) \\left(q^{2} + q + 1\\right)}} & q & \\sqrt{\\frac{1}{q^{4} + q^{2} + 1}} & q^{2} \\sqrt{\\frac{1}{\\left(q^{2} - q + 1\\right) \\left(q^{2} + q + 1\\right)}} & \\sqrt{\\frac{1}{q^{2} + 1}} & q \\sqrt{\\frac{1}{q^{2} + 1}} & 1\\end{matrix}\\right]$"
      ],
      "text/plain": [
       "Matrix([\n",
       "[-q*sqrt(1/((q**2 - q + 1)*(q**2 + q + 1))), q, -sqrt(1/(q**4 + q**2 + 1)), -q**2*sqrt(1/((q**2 - q + 1)*(q**2 + q + 1))), -sqrt(1/(q**2 + 1)), -q*sqrt(1/(q**2 + 1)),  1],\n",
       "[-q*sqrt(1/((q**2 - q + 1)*(q**2 + q + 1))), q, -sqrt(1/(q**4 + q**2 + 1)), -q**2*sqrt(1/((q**2 - q + 1)*(q**2 + q + 1))),  sqrt(1/(q**2 + 1)),  q*sqrt(1/(q**2 + 1)),  1],\n",
       "[-q*sqrt(1/((q**2 - q + 1)*(q**2 + q + 1))), q,  sqrt(1/(q**4 + q**2 + 1)),  q**2*sqrt(1/((q**2 - q + 1)*(q**2 + q + 1))), -sqrt(1/(q**2 + 1)),  q*sqrt(1/(q**2 + 1)), -1],\n",
       "[-q*sqrt(1/((q**2 - q + 1)*(q**2 + q + 1))), q,  sqrt(1/(q**4 + q**2 + 1)),  q**2*sqrt(1/((q**2 - q + 1)*(q**2 + q + 1))),  sqrt(1/(q**2 + 1)), -q*sqrt(1/(q**2 + 1)), -1],\n",
       "[ q*sqrt(1/((q**2 - q + 1)*(q**2 + q + 1))), q, -sqrt(1/(q**4 + q**2 + 1)), -q**2*sqrt(1/((q**2 - q + 1)*(q**2 + q + 1))), -sqrt(1/(q**2 + 1)),  q*sqrt(1/(q**2 + 1)), -1],\n",
       "[ q*sqrt(1/((q**2 - q + 1)*(q**2 + q + 1))), q, -sqrt(1/(q**4 + q**2 + 1)), -q**2*sqrt(1/((q**2 - q + 1)*(q**2 + q + 1))),  sqrt(1/(q**2 + 1)), -q*sqrt(1/(q**2 + 1)), -1],\n",
       "[ q*sqrt(1/((q**2 - q + 1)*(q**2 + q + 1))), q,  sqrt(1/(q**4 + q**2 + 1)),  q**2*sqrt(1/((q**2 - q + 1)*(q**2 + q + 1))), -sqrt(1/(q**2 + 1)), -q*sqrt(1/(q**2 + 1)),  1],\n",
       "[ q*sqrt(1/((q**2 - q + 1)*(q**2 + q + 1))), q,  sqrt(1/(q**4 + q**2 + 1)),  q**2*sqrt(1/((q**2 - q + 1)*(q**2 + q + 1))),  sqrt(1/(q**2 + 1)),  q*sqrt(1/(q**2 + 1)),  1]])"
      ]
     },
     "execution_count": 135,
     "metadata": {},
     "output_type": "execute_result"
    }
   ],
   "source": [
    "w += 1\n",
    "print(w)\n",
    "Matrix(eqn_solutions[w])"
   ]
  },
  {
   "cell_type": "code",
   "execution_count": null,
   "metadata": {},
   "outputs": [
    {
     "name": "stdout",
     "output_type": "stream",
     "text": [
      "16\n"
     ]
    },
    {
     "data": {
      "text/latex": [
       "$\\displaystyle \\left[\\begin{matrix}\\left(1 - 3 q^{2}\\right) \\sqrt{\\frac{1}{9 q^{4} - 10 q^{2} + 5}} & q & 2 \\left(q^{2} - 1\\right) \\sqrt{\\frac{1}{9 q^{4} - 10 q^{2} + 5}} & 2 q \\sqrt{\\frac{1 - q^{2}}{9 q^{4} - 10 q^{2} + 5}} & - 2 q \\sqrt{\\frac{1}{3 q^{2} + 1}} & \\sqrt{\\frac{1 - q^{2}}{9 q^{4} - 10 q^{2} + 5}} \\cdot \\left(9 q^{4} - 10 q^{2} + 5\\right) \\sqrt{\\frac{1}{3 q^{2} + 1}} \\sqrt{\\frac{1}{9 q^{4} - 10 q^{2} + 5}} & \\sqrt{\\frac{1 - q^{2}}{9 q^{4} - 10 q^{2} + 5}} \\left(- 9 q^{4} + 10 q^{2} - 5\\right) \\sqrt{\\frac{1}{9 q^{4} - 10 q^{2} + 5}}\\\\\\left(1 - 3 q^{2}\\right) \\sqrt{\\frac{1}{9 q^{4} - 10 q^{2} + 5}} & q & 2 \\left(q^{2} - 1\\right) \\sqrt{\\frac{1}{9 q^{4} - 10 q^{2} + 5}} & 2 q \\sqrt{\\frac{1 - q^{2}}{9 q^{4} - 10 q^{2} + 5}} & 2 q \\sqrt{\\frac{1}{3 q^{2} + 1}} & \\sqrt{\\frac{1 - q^{2}}{9 q^{4} - 10 q^{2} + 5}} \\left(- 9 q^{4} + 10 q^{2} - 5\\right) \\sqrt{\\frac{1}{3 q^{2} + 1}} \\sqrt{\\frac{1}{9 q^{4} - 10 q^{2} + 5}} & \\sqrt{\\frac{1 - q^{2}}{9 q^{4} - 10 q^{2} + 5}} \\left(- 9 q^{4} + 10 q^{2} - 5\\right) \\sqrt{\\frac{1}{9 q^{4} - 10 q^{2} + 5}}\\\\\\left(1 - 3 q^{2}\\right) \\sqrt{\\frac{1}{9 q^{4} - 10 q^{2} + 5}} & q & 2 \\left(q^{2} - 1\\right) \\sqrt{\\frac{1}{9 q^{4} - 10 q^{2} + 5}} & - 2 q \\sqrt{- \\frac{q^{2} - 1}{9 q^{4} - 10 q^{2} + 5}} & - 2 q \\sqrt{\\frac{1}{3 q^{2} + 1}} & \\sqrt{\\frac{1 - q^{2}}{9 q^{4} - 10 q^{2} + 5}} \\left(- 9 q^{4} + 10 q^{2} - 5\\right) \\sqrt{\\frac{1}{3 q^{2} + 1}} \\sqrt{\\frac{1}{9 q^{4} - 10 q^{2} + 5}} & \\sqrt{\\frac{1 - q^{2}}{9 q^{4} - 10 q^{2} + 5}} \\cdot \\left(9 q^{4} - 10 q^{2} + 5\\right) \\sqrt{\\frac{1}{9 q^{4} - 10 q^{2} + 5}}\\\\\\left(1 - 3 q^{2}\\right) \\sqrt{\\frac{1}{9 q^{4} - 10 q^{2} + 5}} & q & 2 \\left(q^{2} - 1\\right) \\sqrt{\\frac{1}{9 q^{4} - 10 q^{2} + 5}} & - 2 q \\sqrt{- \\frac{q^{2} - 1}{9 q^{4} - 10 q^{2} + 5}} & 2 q \\sqrt{\\frac{1}{3 q^{2} + 1}} & \\sqrt{\\frac{1 - q^{2}}{9 q^{4} - 10 q^{2} + 5}} \\cdot \\left(9 q^{4} - 10 q^{2} + 5\\right) \\sqrt{\\frac{1}{3 q^{2} + 1}} \\sqrt{\\frac{1}{9 q^{4} - 10 q^{2} + 5}} & \\sqrt{\\frac{1 - q^{2}}{9 q^{4} - 10 q^{2} + 5}} \\cdot \\left(9 q^{4} - 10 q^{2} + 5\\right) \\sqrt{\\frac{1}{9 q^{4} - 10 q^{2} + 5}}\\\\\\left(3 q^{2} - 1\\right) \\sqrt{\\frac{1}{9 q^{4} - 10 q^{2} + 5}} & q & 2 \\cdot \\left(1 - q^{2}\\right) \\sqrt{\\frac{1}{9 q^{4} - 10 q^{2} + 5}} & 2 q \\sqrt{\\frac{1 - q^{2}}{9 q^{4} - 10 q^{2} + 5}} & - 2 q \\sqrt{\\frac{1}{3 q^{2} + 1}} & \\sqrt{\\frac{1 - q^{2}}{9 q^{4} - 10 q^{2} + 5}} \\left(- 9 q^{4} + 10 q^{2} - 5\\right) \\sqrt{\\frac{1}{3 q^{2} + 1}} \\sqrt{\\frac{1}{9 q^{4} - 10 q^{2} + 5}} & \\sqrt{\\frac{1 - q^{2}}{9 q^{4} - 10 q^{2} + 5}} \\cdot \\left(9 q^{4} - 10 q^{2} + 5\\right) \\sqrt{\\frac{1}{9 q^{4} - 10 q^{2} + 5}}\\\\\\left(3 q^{2} - 1\\right) \\sqrt{\\frac{1}{9 q^{4} - 10 q^{2} + 5}} & q & 2 \\cdot \\left(1 - q^{2}\\right) \\sqrt{\\frac{1}{9 q^{4} - 10 q^{2} + 5}} & 2 q \\sqrt{\\frac{1 - q^{2}}{9 q^{4} - 10 q^{2} + 5}} & 2 q \\sqrt{\\frac{1}{3 q^{2} + 1}} & \\sqrt{\\frac{1 - q^{2}}{9 q^{4} - 10 q^{2} + 5}} \\cdot \\left(9 q^{4} - 10 q^{2} + 5\\right) \\sqrt{\\frac{1}{3 q^{2} + 1}} \\sqrt{\\frac{1}{9 q^{4} - 10 q^{2} + 5}} & \\sqrt{\\frac{1 - q^{2}}{9 q^{4} - 10 q^{2} + 5}} \\cdot \\left(9 q^{4} - 10 q^{2} + 5\\right) \\sqrt{\\frac{1}{9 q^{4} - 10 q^{2} + 5}}\\\\\\left(3 q^{2} - 1\\right) \\sqrt{\\frac{1}{9 q^{4} - 10 q^{2} + 5}} & q & 2 \\cdot \\left(1 - q^{2}\\right) \\sqrt{\\frac{1}{9 q^{4} - 10 q^{2} + 5}} & - 2 q \\sqrt{- \\frac{q^{2} - 1}{9 q^{4} - 10 q^{2} + 5}} & - 2 q \\sqrt{\\frac{1}{3 q^{2} + 1}} & \\sqrt{\\frac{1 - q^{2}}{9 q^{4} - 10 q^{2} + 5}} \\cdot \\left(9 q^{4} - 10 q^{2} + 5\\right) \\sqrt{\\frac{1}{3 q^{2} + 1}} \\sqrt{\\frac{1}{9 q^{4} - 10 q^{2} + 5}} & \\sqrt{\\frac{1 - q^{2}}{9 q^{4} - 10 q^{2} + 5}} \\left(- 9 q^{4} + 10 q^{2} - 5\\right) \\sqrt{\\frac{1}{9 q^{4} - 10 q^{2} + 5}}\\\\\\left(3 q^{2} - 1\\right) \\sqrt{\\frac{1}{9 q^{4} - 10 q^{2} + 5}} & q & 2 \\cdot \\left(1 - q^{2}\\right) \\sqrt{\\frac{1}{9 q^{4} - 10 q^{2} + 5}} & - 2 q \\sqrt{- \\frac{q^{2} - 1}{9 q^{4} - 10 q^{2} + 5}} & 2 q \\sqrt{\\frac{1}{3 q^{2} + 1}} & \\sqrt{\\frac{1 - q^{2}}{9 q^{4} - 10 q^{2} + 5}} \\left(- 9 q^{4} + 10 q^{2} - 5\\right) \\sqrt{\\frac{1}{3 q^{2} + 1}} \\sqrt{\\frac{1}{9 q^{4} - 10 q^{2} + 5}} & \\sqrt{\\frac{1 - q^{2}}{9 q^{4} - 10 q^{2} + 5}} \\left(- 9 q^{4} + 10 q^{2} - 5\\right) \\sqrt{\\frac{1}{9 q^{4} - 10 q^{2} + 5}}\\end{matrix}\\right]$"
      ],
      "text/plain": [
       "Matrix([\n",
       "[(1 - 3*q**2)*sqrt(1/(9*q**4 - 10*q**2 + 5)), q, 2*(q**2 - 1)*sqrt(1/(9*q**4 - 10*q**2 + 5)),   2*q*sqrt((1 - q**2)/(9*q**4 - 10*q**2 + 5)), -2*q*sqrt(1/(3*q**2 + 1)),  sqrt((1 - q**2)/(9*q**4 - 10*q**2 + 5))*(9*q**4 - 10*q**2 + 5)*sqrt(1/(3*q**2 + 1))*sqrt(1/(9*q**4 - 10*q**2 + 5)), sqrt((1 - q**2)/(9*q**4 - 10*q**2 + 5))*(-9*q**4 + 10*q**2 - 5)*sqrt(1/(9*q**4 - 10*q**2 + 5))],\n",
       "[(1 - 3*q**2)*sqrt(1/(9*q**4 - 10*q**2 + 5)), q, 2*(q**2 - 1)*sqrt(1/(9*q**4 - 10*q**2 + 5)),   2*q*sqrt((1 - q**2)/(9*q**4 - 10*q**2 + 5)),  2*q*sqrt(1/(3*q**2 + 1)), sqrt((1 - q**2)/(9*q**4 - 10*q**2 + 5))*(-9*q**4 + 10*q**2 - 5)*sqrt(1/(3*q**2 + 1))*sqrt(1/(9*q**4 - 10*q**2 + 5)), sqrt((1 - q**2)/(9*q**4 - 10*q**2 + 5))*(-9*q**4 + 10*q**2 - 5)*sqrt(1/(9*q**4 - 10*q**2 + 5))],\n",
       "[(1 - 3*q**2)*sqrt(1/(9*q**4 - 10*q**2 + 5)), q, 2*(q**2 - 1)*sqrt(1/(9*q**4 - 10*q**2 + 5)), -2*q*sqrt(-(q**2 - 1)/(9*q**4 - 10*q**2 + 5)), -2*q*sqrt(1/(3*q**2 + 1)), sqrt((1 - q**2)/(9*q**4 - 10*q**2 + 5))*(-9*q**4 + 10*q**2 - 5)*sqrt(1/(3*q**2 + 1))*sqrt(1/(9*q**4 - 10*q**2 + 5)),  sqrt((1 - q**2)/(9*q**4 - 10*q**2 + 5))*(9*q**4 - 10*q**2 + 5)*sqrt(1/(9*q**4 - 10*q**2 + 5))],\n",
       "[(1 - 3*q**2)*sqrt(1/(9*q**4 - 10*q**2 + 5)), q, 2*(q**2 - 1)*sqrt(1/(9*q**4 - 10*q**2 + 5)), -2*q*sqrt(-(q**2 - 1)/(9*q**4 - 10*q**2 + 5)),  2*q*sqrt(1/(3*q**2 + 1)),  sqrt((1 - q**2)/(9*q**4 - 10*q**2 + 5))*(9*q**4 - 10*q**2 + 5)*sqrt(1/(3*q**2 + 1))*sqrt(1/(9*q**4 - 10*q**2 + 5)),  sqrt((1 - q**2)/(9*q**4 - 10*q**2 + 5))*(9*q**4 - 10*q**2 + 5)*sqrt(1/(9*q**4 - 10*q**2 + 5))],\n",
       "[(3*q**2 - 1)*sqrt(1/(9*q**4 - 10*q**2 + 5)), q, 2*(1 - q**2)*sqrt(1/(9*q**4 - 10*q**2 + 5)),   2*q*sqrt((1 - q**2)/(9*q**4 - 10*q**2 + 5)), -2*q*sqrt(1/(3*q**2 + 1)), sqrt((1 - q**2)/(9*q**4 - 10*q**2 + 5))*(-9*q**4 + 10*q**2 - 5)*sqrt(1/(3*q**2 + 1))*sqrt(1/(9*q**4 - 10*q**2 + 5)),  sqrt((1 - q**2)/(9*q**4 - 10*q**2 + 5))*(9*q**4 - 10*q**2 + 5)*sqrt(1/(9*q**4 - 10*q**2 + 5))],\n",
       "[(3*q**2 - 1)*sqrt(1/(9*q**4 - 10*q**2 + 5)), q, 2*(1 - q**2)*sqrt(1/(9*q**4 - 10*q**2 + 5)),   2*q*sqrt((1 - q**2)/(9*q**4 - 10*q**2 + 5)),  2*q*sqrt(1/(3*q**2 + 1)),  sqrt((1 - q**2)/(9*q**4 - 10*q**2 + 5))*(9*q**4 - 10*q**2 + 5)*sqrt(1/(3*q**2 + 1))*sqrt(1/(9*q**4 - 10*q**2 + 5)),  sqrt((1 - q**2)/(9*q**4 - 10*q**2 + 5))*(9*q**4 - 10*q**2 + 5)*sqrt(1/(9*q**4 - 10*q**2 + 5))],\n",
       "[(3*q**2 - 1)*sqrt(1/(9*q**4 - 10*q**2 + 5)), q, 2*(1 - q**2)*sqrt(1/(9*q**4 - 10*q**2 + 5)), -2*q*sqrt(-(q**2 - 1)/(9*q**4 - 10*q**2 + 5)), -2*q*sqrt(1/(3*q**2 + 1)),  sqrt((1 - q**2)/(9*q**4 - 10*q**2 + 5))*(9*q**4 - 10*q**2 + 5)*sqrt(1/(3*q**2 + 1))*sqrt(1/(9*q**4 - 10*q**2 + 5)), sqrt((1 - q**2)/(9*q**4 - 10*q**2 + 5))*(-9*q**4 + 10*q**2 - 5)*sqrt(1/(9*q**4 - 10*q**2 + 5))],\n",
       "[(3*q**2 - 1)*sqrt(1/(9*q**4 - 10*q**2 + 5)), q, 2*(1 - q**2)*sqrt(1/(9*q**4 - 10*q**2 + 5)), -2*q*sqrt(-(q**2 - 1)/(9*q**4 - 10*q**2 + 5)),  2*q*sqrt(1/(3*q**2 + 1)), sqrt((1 - q**2)/(9*q**4 - 10*q**2 + 5))*(-9*q**4 + 10*q**2 - 5)*sqrt(1/(3*q**2 + 1))*sqrt(1/(9*q**4 - 10*q**2 + 5)), sqrt((1 - q**2)/(9*q**4 - 10*q**2 + 5))*(-9*q**4 + 10*q**2 - 5)*sqrt(1/(9*q**4 - 10*q**2 + 5))]])"
      ]
     },
     "execution_count": 136,
     "metadata": {},
     "output_type": "execute_result"
    }
   ],
   "source": [
    "w += 1\n",
    "print(w)\n",
    "Matrix(eqn_solutions[w])"
   ]
  },
  {
   "cell_type": "code",
   "execution_count": null,
   "metadata": {},
   "outputs": [
    {
     "name": "stdout",
     "output_type": "stream",
     "text": [
      "17\n"
     ]
    },
    {
     "data": {
      "text/latex": [
       "$\\displaystyle \\left[\\begin{matrix}-1 & \\sqrt{- \\frac{1}{q^{2} - 1}} \\cdot \\left(1 - q^{2}\\right) & - q \\sqrt{- \\frac{1}{q^{2} - 1}} & q & -1\\\\-1 & \\sqrt{- \\frac{1}{q^{2} - 1}} \\cdot \\left(1 - q^{2}\\right) & q \\sqrt{- \\frac{1}{q^{2} - 1}} & q & 1\\\\-1 & \\sqrt{- \\frac{1}{q^{2} - 1}} \\left(q^{2} - 1\\right) & - q \\sqrt{- \\frac{1}{\\left(q - 1\\right) \\left(q + 1\\right)}} & q & 1\\\\-1 & \\sqrt{- \\frac{1}{q^{2} - 1}} \\left(q^{2} - 1\\right) & q \\sqrt{- \\frac{1}{\\left(q - 1\\right) \\left(q + 1\\right)}} & q & -1\\\\1 & \\sqrt{- \\frac{1}{q^{2} - 1}} \\cdot \\left(1 - q^{2}\\right) & - q \\sqrt{- \\frac{1}{q^{2} - 1}} & q & -1\\\\1 & \\sqrt{- \\frac{1}{q^{2} - 1}} \\cdot \\left(1 - q^{2}\\right) & q \\sqrt{- \\frac{1}{q^{2} - 1}} & q & 1\\\\1 & \\sqrt{- \\frac{1}{q^{2} - 1}} \\left(q^{2} - 1\\right) & - q \\sqrt{- \\frac{1}{\\left(q - 1\\right) \\left(q + 1\\right)}} & q & 1\\\\1 & \\sqrt{- \\frac{1}{q^{2} - 1}} \\left(q^{2} - 1\\right) & q \\sqrt{- \\frac{1}{\\left(q - 1\\right) \\left(q + 1\\right)}} & q & -1\\end{matrix}\\right]$"
      ],
      "text/plain": [
       "Matrix([\n",
       "[-1, sqrt(-1/(q**2 - 1))*(1 - q**2),        -q*sqrt(-1/(q**2 - 1)), q, -1],\n",
       "[-1, sqrt(-1/(q**2 - 1))*(1 - q**2),         q*sqrt(-1/(q**2 - 1)), q,  1],\n",
       "[-1, sqrt(-1/(q**2 - 1))*(q**2 - 1), -q*sqrt(-1/((q - 1)*(q + 1))), q,  1],\n",
       "[-1, sqrt(-1/(q**2 - 1))*(q**2 - 1),  q*sqrt(-1/((q - 1)*(q + 1))), q, -1],\n",
       "[ 1, sqrt(-1/(q**2 - 1))*(1 - q**2),        -q*sqrt(-1/(q**2 - 1)), q, -1],\n",
       "[ 1, sqrt(-1/(q**2 - 1))*(1 - q**2),         q*sqrt(-1/(q**2 - 1)), q,  1],\n",
       "[ 1, sqrt(-1/(q**2 - 1))*(q**2 - 1), -q*sqrt(-1/((q - 1)*(q + 1))), q,  1],\n",
       "[ 1, sqrt(-1/(q**2 - 1))*(q**2 - 1),  q*sqrt(-1/((q - 1)*(q + 1))), q, -1]])"
      ]
     },
     "execution_count": 137,
     "metadata": {},
     "output_type": "execute_result"
    }
   ],
   "source": [
    "w += 1\n",
    "print(w)\n",
    "Matrix(eqn_solutions[w])"
   ]
  },
  {
   "cell_type": "code",
   "execution_count": null,
   "metadata": {},
   "outputs": [
    {
     "name": "stdout",
     "output_type": "stream",
     "text": [
      "18\n"
     ]
    },
    {
     "data": {
      "text/latex": [
       "$\\displaystyle \\left[\\begin{matrix}-1 & - \\sqrt{1 - q^{2}} & - \\sqrt{- \\left(q - 1\\right) \\left(q + 1\\right)} & q & q\\\\-1 & - \\sqrt{1 - q^{2}} & \\sqrt{- \\left(q - 1\\right) \\left(q + 1\\right)} & q & - q\\\\-1 & \\sqrt{1 - q^{2}} & - \\sqrt{- \\left(q - 1\\right) \\left(q + 1\\right)} & q & - q\\\\-1 & \\sqrt{1 - q^{2}} & \\sqrt{- \\left(q - 1\\right) \\left(q + 1\\right)} & q & q\\\\1 & - \\sqrt{1 - q^{2}} & - \\sqrt{- \\left(q - 1\\right) \\left(q + 1\\right)} & q & q\\\\1 & - \\sqrt{1 - q^{2}} & \\sqrt{- \\left(q - 1\\right) \\left(q + 1\\right)} & q & - q\\\\1 & \\sqrt{1 - q^{2}} & - \\sqrt{- \\left(q - 1\\right) \\left(q + 1\\right)} & q & - q\\\\1 & \\sqrt{1 - q^{2}} & \\sqrt{- \\left(q - 1\\right) \\left(q + 1\\right)} & q & q\\end{matrix}\\right]$"
      ],
      "text/plain": [
       "Matrix([\n",
       "[-1, -sqrt(1 - q**2), -sqrt(-(q - 1)*(q + 1)), q,  q],\n",
       "[-1, -sqrt(1 - q**2),  sqrt(-(q - 1)*(q + 1)), q, -q],\n",
       "[-1,  sqrt(1 - q**2), -sqrt(-(q - 1)*(q + 1)), q, -q],\n",
       "[-1,  sqrt(1 - q**2),  sqrt(-(q - 1)*(q + 1)), q,  q],\n",
       "[ 1, -sqrt(1 - q**2), -sqrt(-(q - 1)*(q + 1)), q,  q],\n",
       "[ 1, -sqrt(1 - q**2),  sqrt(-(q - 1)*(q + 1)), q, -q],\n",
       "[ 1,  sqrt(1 - q**2), -sqrt(-(q - 1)*(q + 1)), q, -q],\n",
       "[ 1,  sqrt(1 - q**2),  sqrt(-(q - 1)*(q + 1)), q,  q]])"
      ]
     },
     "execution_count": 138,
     "metadata": {},
     "output_type": "execute_result"
    }
   ],
   "source": [
    "w += 1\n",
    "print(w)\n",
    "Matrix(eqn_solutions[w])"
   ]
  },
  {
   "cell_type": "code",
   "execution_count": null,
   "metadata": {},
   "outputs": [
    {
     "name": "stdout",
     "output_type": "stream",
     "text": [
      "19\n"
     ]
    },
    {
     "data": {
      "text/latex": [
       "$\\displaystyle \\left[\\begin{matrix}\\sqrt{- \\frac{1}{q^{2} - 1}} \\cdot \\left(1 - q^{2}\\right) & q & - q & q^{2} \\sqrt{- \\frac{1}{\\left(q - 1\\right) \\left(q + 1\\right)}} & - 2 \\sqrt{\\frac{\\left(q - 1\\right) \\left(q + 1\\right)}{3 q^{2} - 4}} & q \\sqrt{- \\frac{1}{q^{2} - 1}} \\sqrt{\\frac{q^{2} - 1}{3 q^{2} - 4}} & \\sqrt{- \\frac{1}{q^{2} - 1}} \\left(q^{2} - 1\\right)\\\\\\sqrt{- \\frac{1}{q^{2} - 1}} \\cdot \\left(1 - q^{2}\\right) & q & - q & q^{2} \\sqrt{- \\frac{1}{\\left(q - 1\\right) \\left(q + 1\\right)}} & 2 \\sqrt{\\frac{\\left(q - 1\\right) \\left(q + 1\\right)}{3 q^{2} - 4}} & - q \\sqrt{- \\frac{1}{q^{2} - 1}} \\sqrt{\\frac{q^{2} - 1}{3 q^{2} - 4}} & \\sqrt{- \\frac{1}{q^{2} - 1}} \\left(q^{2} - 1\\right)\\\\\\sqrt{- \\frac{1}{q^{2} - 1}} \\cdot \\left(1 - q^{2}\\right) & q & q & q^{2} \\sqrt{- \\frac{1}{q^{2} - 1}} & - 2 \\sqrt{\\frac{q^{2} - 1}{3 q^{2} - 4}} & - q \\sqrt{- \\frac{1}{q^{2} - 1}} \\sqrt{\\frac{q^{2} - 1}{3 q^{2} - 4}} & \\sqrt{- \\frac{1}{q^{2} - 1}} \\cdot \\left(1 - q^{2}\\right)\\\\\\sqrt{- \\frac{1}{q^{2} - 1}} \\cdot \\left(1 - q^{2}\\right) & q & q & q^{2} \\sqrt{- \\frac{1}{q^{2} - 1}} & 2 \\sqrt{\\frac{q^{2} - 1}{3 q^{2} - 4}} & q \\sqrt{- \\frac{1}{q^{2} - 1}} \\sqrt{\\frac{q^{2} - 1}{3 q^{2} - 4}} & \\sqrt{- \\frac{1}{q^{2} - 1}} \\cdot \\left(1 - q^{2}\\right)\\\\\\sqrt{- \\frac{1}{q^{2} - 1}} \\left(q^{2} - 1\\right) & q & - q & - q^{2} \\sqrt{- \\frac{1}{q^{2} - 1}} & - 2 \\sqrt{\\frac{q^{2} - 1}{3 q^{2} - 4}} & - q \\sqrt{- \\frac{1}{q^{2} - 1}} \\sqrt{\\frac{q^{2} - 1}{3 q^{2} - 4}} & \\sqrt{- \\frac{1}{q^{2} - 1}} \\cdot \\left(1 - q^{2}\\right)\\\\\\sqrt{- \\frac{1}{q^{2} - 1}} \\left(q^{2} - 1\\right) & q & - q & - q^{2} \\sqrt{- \\frac{1}{q^{2} - 1}} & 2 \\sqrt{\\frac{q^{2} - 1}{3 q^{2} - 4}} & q \\sqrt{- \\frac{1}{q^{2} - 1}} \\sqrt{\\frac{q^{2} - 1}{3 q^{2} - 4}} & \\sqrt{- \\frac{1}{q^{2} - 1}} \\cdot \\left(1 - q^{2}\\right)\\\\\\sqrt{- \\frac{1}{q^{2} - 1}} \\left(q^{2} - 1\\right) & q & q & - q^{2} \\sqrt{- \\frac{1}{\\left(q - 1\\right) \\left(q + 1\\right)}} & - 2 \\sqrt{\\frac{\\left(q - 1\\right) \\left(q + 1\\right)}{3 q^{2} - 4}} & q \\sqrt{- \\frac{1}{q^{2} - 1}} \\sqrt{\\frac{q^{2} - 1}{3 q^{2} - 4}} & \\sqrt{- \\frac{1}{q^{2} - 1}} \\left(q^{2} - 1\\right)\\\\\\sqrt{- \\frac{1}{q^{2} - 1}} \\left(q^{2} - 1\\right) & q & q & - q^{2} \\sqrt{- \\frac{1}{\\left(q - 1\\right) \\left(q + 1\\right)}} & 2 \\sqrt{\\frac{\\left(q - 1\\right) \\left(q + 1\\right)}{3 q^{2} - 4}} & - q \\sqrt{- \\frac{1}{q^{2} - 1}} \\sqrt{\\frac{q^{2} - 1}{3 q^{2} - 4}} & \\sqrt{- \\frac{1}{q^{2} - 1}} \\left(q^{2} - 1\\right)\\end{matrix}\\right]$"
      ],
      "text/plain": [
       "Matrix([\n",
       "[sqrt(-1/(q**2 - 1))*(1 - q**2), q, -q,  q**2*sqrt(-1/((q - 1)*(q + 1))), -2*sqrt((q - 1)*(q + 1)/(3*q**2 - 4)),  q*sqrt(-1/(q**2 - 1))*sqrt((q**2 - 1)/(3*q**2 - 4)), sqrt(-1/(q**2 - 1))*(q**2 - 1)],\n",
       "[sqrt(-1/(q**2 - 1))*(1 - q**2), q, -q,  q**2*sqrt(-1/((q - 1)*(q + 1))),  2*sqrt((q - 1)*(q + 1)/(3*q**2 - 4)), -q*sqrt(-1/(q**2 - 1))*sqrt((q**2 - 1)/(3*q**2 - 4)), sqrt(-1/(q**2 - 1))*(q**2 - 1)],\n",
       "[sqrt(-1/(q**2 - 1))*(1 - q**2), q,  q,         q**2*sqrt(-1/(q**2 - 1)),      -2*sqrt((q**2 - 1)/(3*q**2 - 4)), -q*sqrt(-1/(q**2 - 1))*sqrt((q**2 - 1)/(3*q**2 - 4)), sqrt(-1/(q**2 - 1))*(1 - q**2)],\n",
       "[sqrt(-1/(q**2 - 1))*(1 - q**2), q,  q,         q**2*sqrt(-1/(q**2 - 1)),       2*sqrt((q**2 - 1)/(3*q**2 - 4)),  q*sqrt(-1/(q**2 - 1))*sqrt((q**2 - 1)/(3*q**2 - 4)), sqrt(-1/(q**2 - 1))*(1 - q**2)],\n",
       "[sqrt(-1/(q**2 - 1))*(q**2 - 1), q, -q,        -q**2*sqrt(-1/(q**2 - 1)),      -2*sqrt((q**2 - 1)/(3*q**2 - 4)), -q*sqrt(-1/(q**2 - 1))*sqrt((q**2 - 1)/(3*q**2 - 4)), sqrt(-1/(q**2 - 1))*(1 - q**2)],\n",
       "[sqrt(-1/(q**2 - 1))*(q**2 - 1), q, -q,        -q**2*sqrt(-1/(q**2 - 1)),       2*sqrt((q**2 - 1)/(3*q**2 - 4)),  q*sqrt(-1/(q**2 - 1))*sqrt((q**2 - 1)/(3*q**2 - 4)), sqrt(-1/(q**2 - 1))*(1 - q**2)],\n",
       "[sqrt(-1/(q**2 - 1))*(q**2 - 1), q,  q, -q**2*sqrt(-1/((q - 1)*(q + 1))), -2*sqrt((q - 1)*(q + 1)/(3*q**2 - 4)),  q*sqrt(-1/(q**2 - 1))*sqrt((q**2 - 1)/(3*q**2 - 4)), sqrt(-1/(q**2 - 1))*(q**2 - 1)],\n",
       "[sqrt(-1/(q**2 - 1))*(q**2 - 1), q,  q, -q**2*sqrt(-1/((q - 1)*(q + 1))),  2*sqrt((q - 1)*(q + 1)/(3*q**2 - 4)), -q*sqrt(-1/(q**2 - 1))*sqrt((q**2 - 1)/(3*q**2 - 4)), sqrt(-1/(q**2 - 1))*(q**2 - 1)]])"
      ]
     },
     "execution_count": 139,
     "metadata": {},
     "output_type": "execute_result"
    }
   ],
   "source": [
    "w += 1\n",
    "print(w)\n",
    "Matrix(eqn_solutions[w])"
   ]
  },
  {
   "cell_type": "code",
   "execution_count": null,
   "metadata": {},
   "outputs": [
    {
     "name": "stdout",
     "output_type": "stream",
     "text": [
      "20\n"
     ]
    },
    {
     "data": {
      "text/latex": [
       "$\\displaystyle \\left[\\begin{matrix}- q^{2} \\sqrt{\\frac{1}{2 q^{4} - q^{2} + 1}} & q & \\left(q^{2} - 1\\right) \\sqrt{\\frac{1}{2 q^{4} - q^{2} + 1}} & - q \\sqrt{\\frac{1}{2 q^{4} - q^{2} + 1}} & - \\sqrt{\\frac{1}{q^{2} + 1}} & - q \\sqrt{\\frac{1}{q^{2} + 1}} & 1\\\\- q^{2} \\sqrt{\\frac{1}{2 q^{4} - q^{2} + 1}} & q & \\left(q^{2} - 1\\right) \\sqrt{\\frac{1}{2 q^{4} - q^{2} + 1}} & - q \\sqrt{\\frac{1}{2 q^{4} - q^{2} + 1}} & \\sqrt{\\frac{1}{q^{2} + 1}} & q \\sqrt{\\frac{1}{q^{2} + 1}} & 1\\\\- q^{2} \\sqrt{\\frac{1}{2 q^{4} - q^{2} + 1}} & q & \\left(q^{2} - 1\\right) \\sqrt{\\frac{1}{2 q^{4} - q^{2} + 1}} & q \\sqrt{\\frac{1}{2 q^{4} - q^{2} + 1}} & - \\sqrt{\\frac{1}{q^{2} + 1}} & q \\sqrt{\\frac{1}{q^{2} + 1}} & -1\\\\- q^{2} \\sqrt{\\frac{1}{2 q^{4} - q^{2} + 1}} & q & \\left(q^{2} - 1\\right) \\sqrt{\\frac{1}{2 q^{4} - q^{2} + 1}} & q \\sqrt{\\frac{1}{2 q^{4} - q^{2} + 1}} & \\sqrt{\\frac{1}{q^{2} + 1}} & - q \\sqrt{\\frac{1}{q^{2} + 1}} & -1\\\\q^{2} \\sqrt{\\frac{1}{2 q^{4} - q^{2} + 1}} & q & \\left(1 - q^{2}\\right) \\sqrt{\\frac{1}{2 q^{4} - q^{2} + 1}} & - q \\sqrt{\\frac{1}{2 q^{4} - q^{2} + 1}} & - \\sqrt{\\frac{1}{q^{2} + 1}} & q \\sqrt{\\frac{1}{q^{2} + 1}} & -1\\\\q^{2} \\sqrt{\\frac{1}{2 q^{4} - q^{2} + 1}} & q & \\left(1 - q^{2}\\right) \\sqrt{\\frac{1}{2 q^{4} - q^{2} + 1}} & - q \\sqrt{\\frac{1}{2 q^{4} - q^{2} + 1}} & \\sqrt{\\frac{1}{q^{2} + 1}} & - q \\sqrt{\\frac{1}{q^{2} + 1}} & -1\\\\q^{2} \\sqrt{\\frac{1}{2 q^{4} - q^{2} + 1}} & q & \\left(1 - q^{2}\\right) \\sqrt{\\frac{1}{2 q^{4} - q^{2} + 1}} & q \\sqrt{\\frac{1}{2 q^{4} - q^{2} + 1}} & - \\sqrt{\\frac{1}{q^{2} + 1}} & - q \\sqrt{\\frac{1}{q^{2} + 1}} & 1\\\\q^{2} \\sqrt{\\frac{1}{2 q^{4} - q^{2} + 1}} & q & \\left(1 - q^{2}\\right) \\sqrt{\\frac{1}{2 q^{4} - q^{2} + 1}} & q \\sqrt{\\frac{1}{2 q^{4} - q^{2} + 1}} & \\sqrt{\\frac{1}{q^{2} + 1}} & q \\sqrt{\\frac{1}{q^{2} + 1}} & 1\\end{matrix}\\right]$"
      ],
      "text/plain": [
       "Matrix([\n",
       "[-q**2*sqrt(1/(2*q**4 - q**2 + 1)), q, (q**2 - 1)*sqrt(1/(2*q**4 - q**2 + 1)), -q*sqrt(1/(2*q**4 - q**2 + 1)), -sqrt(1/(q**2 + 1)), -q*sqrt(1/(q**2 + 1)),  1],\n",
       "[-q**2*sqrt(1/(2*q**4 - q**2 + 1)), q, (q**2 - 1)*sqrt(1/(2*q**4 - q**2 + 1)), -q*sqrt(1/(2*q**4 - q**2 + 1)),  sqrt(1/(q**2 + 1)),  q*sqrt(1/(q**2 + 1)),  1],\n",
       "[-q**2*sqrt(1/(2*q**4 - q**2 + 1)), q, (q**2 - 1)*sqrt(1/(2*q**4 - q**2 + 1)),  q*sqrt(1/(2*q**4 - q**2 + 1)), -sqrt(1/(q**2 + 1)),  q*sqrt(1/(q**2 + 1)), -1],\n",
       "[-q**2*sqrt(1/(2*q**4 - q**2 + 1)), q, (q**2 - 1)*sqrt(1/(2*q**4 - q**2 + 1)),  q*sqrt(1/(2*q**4 - q**2 + 1)),  sqrt(1/(q**2 + 1)), -q*sqrt(1/(q**2 + 1)), -1],\n",
       "[ q**2*sqrt(1/(2*q**4 - q**2 + 1)), q, (1 - q**2)*sqrt(1/(2*q**4 - q**2 + 1)), -q*sqrt(1/(2*q**4 - q**2 + 1)), -sqrt(1/(q**2 + 1)),  q*sqrt(1/(q**2 + 1)), -1],\n",
       "[ q**2*sqrt(1/(2*q**4 - q**2 + 1)), q, (1 - q**2)*sqrt(1/(2*q**4 - q**2 + 1)), -q*sqrt(1/(2*q**4 - q**2 + 1)),  sqrt(1/(q**2 + 1)), -q*sqrt(1/(q**2 + 1)), -1],\n",
       "[ q**2*sqrt(1/(2*q**4 - q**2 + 1)), q, (1 - q**2)*sqrt(1/(2*q**4 - q**2 + 1)),  q*sqrt(1/(2*q**4 - q**2 + 1)), -sqrt(1/(q**2 + 1)), -q*sqrt(1/(q**2 + 1)),  1],\n",
       "[ q**2*sqrt(1/(2*q**4 - q**2 + 1)), q, (1 - q**2)*sqrt(1/(2*q**4 - q**2 + 1)),  q*sqrt(1/(2*q**4 - q**2 + 1)),  sqrt(1/(q**2 + 1)),  q*sqrt(1/(q**2 + 1)),  1]])"
      ]
     },
     "execution_count": 140,
     "metadata": {},
     "output_type": "execute_result"
    }
   ],
   "source": [
    "w += 1\n",
    "print(w)\n",
    "Matrix(eqn_solutions[w])"
   ]
  },
  {
   "cell_type": "code",
   "execution_count": null,
   "metadata": {},
   "outputs": [
    {
     "name": "stdout",
     "output_type": "stream",
     "text": [
      "21\n"
     ]
    },
    {
     "data": {
      "text/latex": [
       "$\\displaystyle \\left[\\begin{matrix}- 2 q \\sqrt{- \\frac{\\left(q - 1\\right) \\left(q + 1\\right)}{9 q^{4} - 8 q^{2} + 4}} & q & \\left(2 - 3 q^{2}\\right) \\sqrt{\\frac{1}{9 q^{4} - 8 q^{2} + 4}} & 2 q^{2} \\sqrt{\\frac{1}{9 q^{4} - 8 q^{2} + 4}} & - 2 \\sqrt{\\frac{\\left(q - 1\\right) \\left(q + 1\\right)}{3 q^{2} - 4}} & \\frac{q \\sqrt{\\frac{1 - q^{2}}{9 q^{4} - 8 q^{2} + 4}} \\sqrt{\\frac{q^{2} - 1}{3 q^{2} - 4}} \\left(- 9 q^{4} + 8 q^{2} - 4\\right) \\sqrt{\\frac{1}{9 q^{4} - 8 q^{2} + 4}}}{q^{2} - 1} & \\sqrt{\\frac{1 - q^{2}}{9 q^{4} - 8 q^{2} + 4}} \\left(- 9 q^{4} + 8 q^{2} - 4\\right) \\sqrt{\\frac{1}{9 q^{4} - 8 q^{2} + 4}}\\\\- 2 q \\sqrt{- \\frac{\\left(q - 1\\right) \\left(q + 1\\right)}{9 q^{4} - 8 q^{2} + 4}} & q & \\left(2 - 3 q^{2}\\right) \\sqrt{\\frac{1}{9 q^{4} - 8 q^{2} + 4}} & 2 q^{2} \\sqrt{\\frac{1}{9 q^{4} - 8 q^{2} + 4}} & 2 \\sqrt{\\frac{\\left(q - 1\\right) \\left(q + 1\\right)}{3 q^{2} - 4}} & \\frac{q \\sqrt{\\frac{1 - q^{2}}{9 q^{4} - 8 q^{2} + 4}} \\sqrt{\\frac{q^{2} - 1}{3 q^{2} - 4}} \\cdot \\left(9 q^{4} - 8 q^{2} + 4\\right) \\sqrt{\\frac{1}{9 q^{4} - 8 q^{2} + 4}}}{q^{2} - 1} & \\sqrt{\\frac{1 - q^{2}}{9 q^{4} - 8 q^{2} + 4}} \\left(- 9 q^{4} + 8 q^{2} - 4\\right) \\sqrt{\\frac{1}{9 q^{4} - 8 q^{2} + 4}}\\\\- 2 q \\sqrt{- \\frac{\\left(q - 1\\right) \\left(q + 1\\right)}{9 q^{4} - 8 q^{2} + 4}} & q & \\left(3 q^{2} - 2\\right) \\sqrt{\\frac{1}{9 q^{4} - 8 q^{2} + 4}} & - 2 q^{2} \\sqrt{\\frac{1}{9 q^{4} - 8 q^{2} + 4}} & - 2 \\sqrt{\\frac{\\left(q - 1\\right) \\left(q + 1\\right)}{3 q^{2} - 4}} & \\frac{q \\sqrt{\\frac{1 - q^{2}}{9 q^{4} - 8 q^{2} + 4}} \\sqrt{\\frac{q^{2} - 1}{3 q^{2} - 4}} \\cdot \\left(9 q^{4} - 8 q^{2} + 4\\right) \\sqrt{\\frac{1}{9 q^{4} - 8 q^{2} + 4}}}{q^{2} - 1} & \\sqrt{\\frac{1 - q^{2}}{9 q^{4} - 8 q^{2} + 4}} \\cdot \\left(9 q^{4} - 8 q^{2} + 4\\right) \\sqrt{\\frac{1}{9 q^{4} - 8 q^{2} + 4}}\\\\- 2 q \\sqrt{- \\frac{\\left(q - 1\\right) \\left(q + 1\\right)}{9 q^{4} - 8 q^{2} + 4}} & q & \\left(3 q^{2} - 2\\right) \\sqrt{\\frac{1}{9 q^{4} - 8 q^{2} + 4}} & - 2 q^{2} \\sqrt{\\frac{1}{9 q^{4} - 8 q^{2} + 4}} & 2 \\sqrt{\\frac{\\left(q - 1\\right) \\left(q + 1\\right)}{3 q^{2} - 4}} & \\frac{q \\sqrt{\\frac{1 - q^{2}}{9 q^{4} - 8 q^{2} + 4}} \\sqrt{\\frac{q^{2} - 1}{3 q^{2} - 4}} \\left(- 9 q^{4} + 8 q^{2} - 4\\right) \\sqrt{\\frac{1}{9 q^{4} - 8 q^{2} + 4}}}{q^{2} - 1} & \\sqrt{\\frac{1 - q^{2}}{9 q^{4} - 8 q^{2} + 4}} \\cdot \\left(9 q^{4} - 8 q^{2} + 4\\right) \\sqrt{\\frac{1}{9 q^{4} - 8 q^{2} + 4}}\\\\2 q \\sqrt{- \\frac{\\left(q - 1\\right) \\left(q + 1\\right)}{9 q^{4} - 8 q^{2} + 4}} & q & \\left(2 - 3 q^{2}\\right) \\sqrt{\\frac{1}{9 q^{4} - 8 q^{2} + 4}} & 2 q^{2} \\sqrt{\\frac{1}{9 q^{4} - 8 q^{2} + 4}} & - 2 \\sqrt{\\frac{\\left(q - 1\\right) \\left(q + 1\\right)}{3 q^{2} - 4}} & \\frac{q \\sqrt{\\frac{1 - q^{2}}{9 q^{4} - 8 q^{2} + 4}} \\sqrt{\\frac{q^{2} - 1}{3 q^{2} - 4}} \\cdot \\left(9 q^{4} - 8 q^{2} + 4\\right) \\sqrt{\\frac{1}{9 q^{4} - 8 q^{2} + 4}}}{q^{2} - 1} & \\sqrt{\\frac{1 - q^{2}}{9 q^{4} - 8 q^{2} + 4}} \\cdot \\left(9 q^{4} - 8 q^{2} + 4\\right) \\sqrt{\\frac{1}{9 q^{4} - 8 q^{2} + 4}}\\\\2 q \\sqrt{- \\frac{\\left(q - 1\\right) \\left(q + 1\\right)}{9 q^{4} - 8 q^{2} + 4}} & q & \\left(2 - 3 q^{2}\\right) \\sqrt{\\frac{1}{9 q^{4} - 8 q^{2} + 4}} & 2 q^{2} \\sqrt{\\frac{1}{9 q^{4} - 8 q^{2} + 4}} & 2 \\sqrt{\\frac{\\left(q - 1\\right) \\left(q + 1\\right)}{3 q^{2} - 4}} & \\frac{q \\sqrt{\\frac{1 - q^{2}}{9 q^{4} - 8 q^{2} + 4}} \\sqrt{\\frac{q^{2} - 1}{3 q^{2} - 4}} \\left(- 9 q^{4} + 8 q^{2} - 4\\right) \\sqrt{\\frac{1}{9 q^{4} - 8 q^{2} + 4}}}{q^{2} - 1} & \\sqrt{\\frac{1 - q^{2}}{9 q^{4} - 8 q^{2} + 4}} \\cdot \\left(9 q^{4} - 8 q^{2} + 4\\right) \\sqrt{\\frac{1}{9 q^{4} - 8 q^{2} + 4}}\\\\2 q \\sqrt{- \\frac{\\left(q - 1\\right) \\left(q + 1\\right)}{9 q^{4} - 8 q^{2} + 4}} & q & \\left(3 q^{2} - 2\\right) \\sqrt{\\frac{1}{9 q^{4} - 8 q^{2} + 4}} & - 2 q^{2} \\sqrt{\\frac{1}{9 q^{4} - 8 q^{2} + 4}} & - 2 \\sqrt{\\frac{\\left(q - 1\\right) \\left(q + 1\\right)}{3 q^{2} - 4}} & \\frac{q \\sqrt{\\frac{1 - q^{2}}{9 q^{4} - 8 q^{2} + 4}} \\sqrt{\\frac{q^{2} - 1}{3 q^{2} - 4}} \\left(- 9 q^{4} + 8 q^{2} - 4\\right) \\sqrt{\\frac{1}{9 q^{4} - 8 q^{2} + 4}}}{q^{2} - 1} & \\sqrt{\\frac{1 - q^{2}}{9 q^{4} - 8 q^{2} + 4}} \\left(- 9 q^{4} + 8 q^{2} - 4\\right) \\sqrt{\\frac{1}{9 q^{4} - 8 q^{2} + 4}}\\\\2 q \\sqrt{- \\frac{\\left(q - 1\\right) \\left(q + 1\\right)}{9 q^{4} - 8 q^{2} + 4}} & q & \\left(3 q^{2} - 2\\right) \\sqrt{\\frac{1}{9 q^{4} - 8 q^{2} + 4}} & - 2 q^{2} \\sqrt{\\frac{1}{9 q^{4} - 8 q^{2} + 4}} & 2 \\sqrt{\\frac{\\left(q - 1\\right) \\left(q + 1\\right)}{3 q^{2} - 4}} & \\frac{q \\sqrt{\\frac{1 - q^{2}}{9 q^{4} - 8 q^{2} + 4}} \\sqrt{\\frac{q^{2} - 1}{3 q^{2} - 4}} \\cdot \\left(9 q^{4} - 8 q^{2} + 4\\right) \\sqrt{\\frac{1}{9 q^{4} - 8 q^{2} + 4}}}{q^{2} - 1} & \\sqrt{\\frac{1 - q^{2}}{9 q^{4} - 8 q^{2} + 4}} \\left(- 9 q^{4} + 8 q^{2} - 4\\right) \\sqrt{\\frac{1}{9 q^{4} - 8 q^{2} + 4}}\\end{matrix}\\right]$"
      ],
      "text/plain": [
       "Matrix([\n",
       "[-2*q*sqrt(-(q - 1)*(q + 1)/(9*q**4 - 8*q**2 + 4)), q, (2 - 3*q**2)*sqrt(1/(9*q**4 - 8*q**2 + 4)),  2*q**2*sqrt(1/(9*q**4 - 8*q**2 + 4)), -2*sqrt((q - 1)*(q + 1)/(3*q**2 - 4)), q*sqrt((1 - q**2)/(9*q**4 - 8*q**2 + 4))*sqrt((q**2 - 1)/(3*q**2 - 4))*(-9*q**4 + 8*q**2 - 4)*sqrt(1/(9*q**4 - 8*q**2 + 4))/(q**2 - 1), sqrt((1 - q**2)/(9*q**4 - 8*q**2 + 4))*(-9*q**4 + 8*q**2 - 4)*sqrt(1/(9*q**4 - 8*q**2 + 4))],\n",
       "[-2*q*sqrt(-(q - 1)*(q + 1)/(9*q**4 - 8*q**2 + 4)), q, (2 - 3*q**2)*sqrt(1/(9*q**4 - 8*q**2 + 4)),  2*q**2*sqrt(1/(9*q**4 - 8*q**2 + 4)),  2*sqrt((q - 1)*(q + 1)/(3*q**2 - 4)),  q*sqrt((1 - q**2)/(9*q**4 - 8*q**2 + 4))*sqrt((q**2 - 1)/(3*q**2 - 4))*(9*q**4 - 8*q**2 + 4)*sqrt(1/(9*q**4 - 8*q**2 + 4))/(q**2 - 1), sqrt((1 - q**2)/(9*q**4 - 8*q**2 + 4))*(-9*q**4 + 8*q**2 - 4)*sqrt(1/(9*q**4 - 8*q**2 + 4))],\n",
       "[-2*q*sqrt(-(q - 1)*(q + 1)/(9*q**4 - 8*q**2 + 4)), q, (3*q**2 - 2)*sqrt(1/(9*q**4 - 8*q**2 + 4)), -2*q**2*sqrt(1/(9*q**4 - 8*q**2 + 4)), -2*sqrt((q - 1)*(q + 1)/(3*q**2 - 4)),  q*sqrt((1 - q**2)/(9*q**4 - 8*q**2 + 4))*sqrt((q**2 - 1)/(3*q**2 - 4))*(9*q**4 - 8*q**2 + 4)*sqrt(1/(9*q**4 - 8*q**2 + 4))/(q**2 - 1),  sqrt((1 - q**2)/(9*q**4 - 8*q**2 + 4))*(9*q**4 - 8*q**2 + 4)*sqrt(1/(9*q**4 - 8*q**2 + 4))],\n",
       "[-2*q*sqrt(-(q - 1)*(q + 1)/(9*q**4 - 8*q**2 + 4)), q, (3*q**2 - 2)*sqrt(1/(9*q**4 - 8*q**2 + 4)), -2*q**2*sqrt(1/(9*q**4 - 8*q**2 + 4)),  2*sqrt((q - 1)*(q + 1)/(3*q**2 - 4)), q*sqrt((1 - q**2)/(9*q**4 - 8*q**2 + 4))*sqrt((q**2 - 1)/(3*q**2 - 4))*(-9*q**4 + 8*q**2 - 4)*sqrt(1/(9*q**4 - 8*q**2 + 4))/(q**2 - 1),  sqrt((1 - q**2)/(9*q**4 - 8*q**2 + 4))*(9*q**4 - 8*q**2 + 4)*sqrt(1/(9*q**4 - 8*q**2 + 4))],\n",
       "[ 2*q*sqrt(-(q - 1)*(q + 1)/(9*q**4 - 8*q**2 + 4)), q, (2 - 3*q**2)*sqrt(1/(9*q**4 - 8*q**2 + 4)),  2*q**2*sqrt(1/(9*q**4 - 8*q**2 + 4)), -2*sqrt((q - 1)*(q + 1)/(3*q**2 - 4)),  q*sqrt((1 - q**2)/(9*q**4 - 8*q**2 + 4))*sqrt((q**2 - 1)/(3*q**2 - 4))*(9*q**4 - 8*q**2 + 4)*sqrt(1/(9*q**4 - 8*q**2 + 4))/(q**2 - 1),  sqrt((1 - q**2)/(9*q**4 - 8*q**2 + 4))*(9*q**4 - 8*q**2 + 4)*sqrt(1/(9*q**4 - 8*q**2 + 4))],\n",
       "[ 2*q*sqrt(-(q - 1)*(q + 1)/(9*q**4 - 8*q**2 + 4)), q, (2 - 3*q**2)*sqrt(1/(9*q**4 - 8*q**2 + 4)),  2*q**2*sqrt(1/(9*q**4 - 8*q**2 + 4)),  2*sqrt((q - 1)*(q + 1)/(3*q**2 - 4)), q*sqrt((1 - q**2)/(9*q**4 - 8*q**2 + 4))*sqrt((q**2 - 1)/(3*q**2 - 4))*(-9*q**4 + 8*q**2 - 4)*sqrt(1/(9*q**4 - 8*q**2 + 4))/(q**2 - 1),  sqrt((1 - q**2)/(9*q**4 - 8*q**2 + 4))*(9*q**4 - 8*q**2 + 4)*sqrt(1/(9*q**4 - 8*q**2 + 4))],\n",
       "[ 2*q*sqrt(-(q - 1)*(q + 1)/(9*q**4 - 8*q**2 + 4)), q, (3*q**2 - 2)*sqrt(1/(9*q**4 - 8*q**2 + 4)), -2*q**2*sqrt(1/(9*q**4 - 8*q**2 + 4)), -2*sqrt((q - 1)*(q + 1)/(3*q**2 - 4)), q*sqrt((1 - q**2)/(9*q**4 - 8*q**2 + 4))*sqrt((q**2 - 1)/(3*q**2 - 4))*(-9*q**4 + 8*q**2 - 4)*sqrt(1/(9*q**4 - 8*q**2 + 4))/(q**2 - 1), sqrt((1 - q**2)/(9*q**4 - 8*q**2 + 4))*(-9*q**4 + 8*q**2 - 4)*sqrt(1/(9*q**4 - 8*q**2 + 4))],\n",
       "[ 2*q*sqrt(-(q - 1)*(q + 1)/(9*q**4 - 8*q**2 + 4)), q, (3*q**2 - 2)*sqrt(1/(9*q**4 - 8*q**2 + 4)), -2*q**2*sqrt(1/(9*q**4 - 8*q**2 + 4)),  2*sqrt((q - 1)*(q + 1)/(3*q**2 - 4)),  q*sqrt((1 - q**2)/(9*q**4 - 8*q**2 + 4))*sqrt((q**2 - 1)/(3*q**2 - 4))*(9*q**4 - 8*q**2 + 4)*sqrt(1/(9*q**4 - 8*q**2 + 4))/(q**2 - 1), sqrt((1 - q**2)/(9*q**4 - 8*q**2 + 4))*(-9*q**4 + 8*q**2 - 4)*sqrt(1/(9*q**4 - 8*q**2 + 4))]])"
      ]
     },
     "execution_count": 141,
     "metadata": {},
     "output_type": "execute_result"
    }
   ],
   "source": [
    "w += 1\n",
    "print(w)\n",
    "Matrix(eqn_solutions[w])"
   ]
  },
  {
   "cell_type": "code",
   "execution_count": null,
   "metadata": {},
   "outputs": [
    {
     "name": "stdout",
     "output_type": "stream",
     "text": [
      "22\n"
     ]
    },
    {
     "data": {
      "text/latex": [
       "$\\displaystyle \\left[\\begin{matrix}- q & q & \\sqrt{- \\frac{1}{q^{2} - 1}} \\cdot \\left(1 - q^{2}\\right) & q^{2} \\sqrt{- \\frac{1}{\\left(q - 1\\right) \\left(q + 1\\right)}} & - 2 \\sqrt{\\frac{\\left(q - 1\\right) \\left(q + 1\\right)}{3 q^{2} - 4}} & q \\sqrt{- \\frac{1}{q^{2} - 1}} \\sqrt{\\frac{q^{2} - 1}{3 q^{2} - 4}} & \\sqrt{- \\frac{1}{q^{2} - 1}} \\left(q^{2} - 1\\right)\\\\- q & q & \\sqrt{- \\frac{1}{q^{2} - 1}} \\cdot \\left(1 - q^{2}\\right) & q^{2} \\sqrt{- \\frac{1}{\\left(q - 1\\right) \\left(q + 1\\right)}} & 2 \\sqrt{\\frac{\\left(q - 1\\right) \\left(q + 1\\right)}{3 q^{2} - 4}} & - q \\sqrt{- \\frac{1}{q^{2} - 1}} \\sqrt{\\frac{q^{2} - 1}{3 q^{2} - 4}} & \\sqrt{- \\frac{1}{q^{2} - 1}} \\left(q^{2} - 1\\right)\\\\- q & q & \\sqrt{- \\frac{1}{q^{2} - 1}} \\left(q^{2} - 1\\right) & - q^{2} \\sqrt{- \\frac{1}{q^{2} - 1}} & - 2 \\sqrt{\\frac{q^{2} - 1}{3 q^{2} - 4}} & - q \\sqrt{- \\frac{1}{q^{2} - 1}} \\sqrt{\\frac{q^{2} - 1}{3 q^{2} - 4}} & \\sqrt{- \\frac{1}{q^{2} - 1}} \\cdot \\left(1 - q^{2}\\right)\\\\- q & q & \\sqrt{- \\frac{1}{q^{2} - 1}} \\left(q^{2} - 1\\right) & - q^{2} \\sqrt{- \\frac{1}{q^{2} - 1}} & 2 \\sqrt{\\frac{q^{2} - 1}{3 q^{2} - 4}} & q \\sqrt{- \\frac{1}{q^{2} - 1}} \\sqrt{\\frac{q^{2} - 1}{3 q^{2} - 4}} & \\sqrt{- \\frac{1}{q^{2} - 1}} \\cdot \\left(1 - q^{2}\\right)\\\\q & q & \\sqrt{- \\frac{1}{q^{2} - 1}} \\cdot \\left(1 - q^{2}\\right) & q^{2} \\sqrt{- \\frac{1}{q^{2} - 1}} & - 2 \\sqrt{\\frac{q^{2} - 1}{3 q^{2} - 4}} & - q \\sqrt{- \\frac{1}{q^{2} - 1}} \\sqrt{\\frac{q^{2} - 1}{3 q^{2} - 4}} & \\sqrt{- \\frac{1}{q^{2} - 1}} \\cdot \\left(1 - q^{2}\\right)\\\\q & q & \\sqrt{- \\frac{1}{q^{2} - 1}} \\cdot \\left(1 - q^{2}\\right) & q^{2} \\sqrt{- \\frac{1}{q^{2} - 1}} & 2 \\sqrt{\\frac{q^{2} - 1}{3 q^{2} - 4}} & q \\sqrt{- \\frac{1}{q^{2} - 1}} \\sqrt{\\frac{q^{2} - 1}{3 q^{2} - 4}} & \\sqrt{- \\frac{1}{q^{2} - 1}} \\cdot \\left(1 - q^{2}\\right)\\\\q & q & \\sqrt{- \\frac{1}{q^{2} - 1}} \\left(q^{2} - 1\\right) & - q^{2} \\sqrt{- \\frac{1}{\\left(q - 1\\right) \\left(q + 1\\right)}} & - 2 \\sqrt{\\frac{\\left(q - 1\\right) \\left(q + 1\\right)}{3 q^{2} - 4}} & q \\sqrt{- \\frac{1}{q^{2} - 1}} \\sqrt{\\frac{q^{2} - 1}{3 q^{2} - 4}} & \\sqrt{- \\frac{1}{q^{2} - 1}} \\left(q^{2} - 1\\right)\\\\q & q & \\sqrt{- \\frac{1}{q^{2} - 1}} \\left(q^{2} - 1\\right) & - q^{2} \\sqrt{- \\frac{1}{\\left(q - 1\\right) \\left(q + 1\\right)}} & 2 \\sqrt{\\frac{\\left(q - 1\\right) \\left(q + 1\\right)}{3 q^{2} - 4}} & - q \\sqrt{- \\frac{1}{q^{2} - 1}} \\sqrt{\\frac{q^{2} - 1}{3 q^{2} - 4}} & \\sqrt{- \\frac{1}{q^{2} - 1}} \\left(q^{2} - 1\\right)\\end{matrix}\\right]$"
      ],
      "text/plain": [
       "Matrix([\n",
       "[-q, q, sqrt(-1/(q**2 - 1))*(1 - q**2),  q**2*sqrt(-1/((q - 1)*(q + 1))), -2*sqrt((q - 1)*(q + 1)/(3*q**2 - 4)),  q*sqrt(-1/(q**2 - 1))*sqrt((q**2 - 1)/(3*q**2 - 4)), sqrt(-1/(q**2 - 1))*(q**2 - 1)],\n",
       "[-q, q, sqrt(-1/(q**2 - 1))*(1 - q**2),  q**2*sqrt(-1/((q - 1)*(q + 1))),  2*sqrt((q - 1)*(q + 1)/(3*q**2 - 4)), -q*sqrt(-1/(q**2 - 1))*sqrt((q**2 - 1)/(3*q**2 - 4)), sqrt(-1/(q**2 - 1))*(q**2 - 1)],\n",
       "[-q, q, sqrt(-1/(q**2 - 1))*(q**2 - 1),        -q**2*sqrt(-1/(q**2 - 1)),      -2*sqrt((q**2 - 1)/(3*q**2 - 4)), -q*sqrt(-1/(q**2 - 1))*sqrt((q**2 - 1)/(3*q**2 - 4)), sqrt(-1/(q**2 - 1))*(1 - q**2)],\n",
       "[-q, q, sqrt(-1/(q**2 - 1))*(q**2 - 1),        -q**2*sqrt(-1/(q**2 - 1)),       2*sqrt((q**2 - 1)/(3*q**2 - 4)),  q*sqrt(-1/(q**2 - 1))*sqrt((q**2 - 1)/(3*q**2 - 4)), sqrt(-1/(q**2 - 1))*(1 - q**2)],\n",
       "[ q, q, sqrt(-1/(q**2 - 1))*(1 - q**2),         q**2*sqrt(-1/(q**2 - 1)),      -2*sqrt((q**2 - 1)/(3*q**2 - 4)), -q*sqrt(-1/(q**2 - 1))*sqrt((q**2 - 1)/(3*q**2 - 4)), sqrt(-1/(q**2 - 1))*(1 - q**2)],\n",
       "[ q, q, sqrt(-1/(q**2 - 1))*(1 - q**2),         q**2*sqrt(-1/(q**2 - 1)),       2*sqrt((q**2 - 1)/(3*q**2 - 4)),  q*sqrt(-1/(q**2 - 1))*sqrt((q**2 - 1)/(3*q**2 - 4)), sqrt(-1/(q**2 - 1))*(1 - q**2)],\n",
       "[ q, q, sqrt(-1/(q**2 - 1))*(q**2 - 1), -q**2*sqrt(-1/((q - 1)*(q + 1))), -2*sqrt((q - 1)*(q + 1)/(3*q**2 - 4)),  q*sqrt(-1/(q**2 - 1))*sqrt((q**2 - 1)/(3*q**2 - 4)), sqrt(-1/(q**2 - 1))*(q**2 - 1)],\n",
       "[ q, q, sqrt(-1/(q**2 - 1))*(q**2 - 1), -q**2*sqrt(-1/((q - 1)*(q + 1))),  2*sqrt((q - 1)*(q + 1)/(3*q**2 - 4)), -q*sqrt(-1/(q**2 - 1))*sqrt((q**2 - 1)/(3*q**2 - 4)), sqrt(-1/(q**2 - 1))*(q**2 - 1)]])"
      ]
     },
     "execution_count": 142,
     "metadata": {},
     "output_type": "execute_result"
    }
   ],
   "source": [
    "w += 1\n",
    "print(w)\n",
    "Matrix(eqn_solutions[w])"
   ]
  },
  {
   "cell_type": "code",
   "execution_count": null,
   "metadata": {},
   "outputs": [
    {
     "name": "stdout",
     "output_type": "stream",
     "text": [
      "23\n"
     ]
    },
    {
     "data": {
      "text/latex": [
       "$\\displaystyle \\left[\\begin{matrix}- 2 q \\sqrt{\\frac{1}{3 q^{2} + 1}} & q & \\left(1 - q^{2}\\right) \\sqrt{\\frac{1}{- 3 q^{4} + 2 q^{2} + 1}} & 4 q^{2} \\sqrt{\\frac{1}{- 3 q^{4} + 2 q^{2} + 1}} & - 2 q \\sqrt{\\frac{1}{3 q^{2} + 1}} & \\left(1 - q^{2}\\right) \\sqrt{\\frac{1}{- 3 q^{4} + 2 q^{2} + 1}} & \\left(3 q^{4} - 2 q^{2} - 1\\right) \\sqrt{\\frac{1}{3 q^{2} + 1}} \\sqrt{\\frac{1}{- 3 q^{4} + 2 q^{2} + 1}}\\\\- 2 q \\sqrt{\\frac{1}{3 q^{2} + 1}} & q & \\left(1 - q^{2}\\right) \\sqrt{\\frac{1}{- 3 q^{4} + 2 q^{2} + 1}} & 4 q^{2} \\sqrt{\\frac{1}{- 3 q^{4} + 2 q^{2} + 1}} & 2 q \\sqrt{\\frac{1}{3 q^{2} + 1}} & \\left(q^{2} - 1\\right) \\sqrt{\\frac{1}{- 3 q^{4} + 2 q^{2} + 1}} & \\left(3 q^{4} - 2 q^{2} - 1\\right) \\sqrt{\\frac{1}{3 q^{2} + 1}} \\sqrt{\\frac{1}{- 3 q^{4} + 2 q^{2} + 1}}\\\\- 2 q \\sqrt{\\frac{1}{3 q^{2} + 1}} & q & \\left(q^{2} - 1\\right) \\sqrt{\\frac{1}{- 3 q^{4} + 2 q^{2} + 1}} & - 4 q^{2} \\sqrt{\\frac{1}{- 3 q^{4} + 2 q^{2} + 1}} & - 2 q \\sqrt{\\frac{1}{3 q^{2} + 1}} & \\left(q^{2} - 1\\right) \\sqrt{\\frac{1}{- 3 q^{4} + 2 q^{2} + 1}} & \\left(- 3 q^{4} + 2 q^{2} + 1\\right) \\sqrt{\\frac{1}{3 q^{2} + 1}} \\sqrt{\\frac{1}{- 3 q^{4} + 2 q^{2} + 1}}\\\\- 2 q \\sqrt{\\frac{1}{3 q^{2} + 1}} & q & \\left(q^{2} - 1\\right) \\sqrt{\\frac{1}{- 3 q^{4} + 2 q^{2} + 1}} & - 4 q^{2} \\sqrt{\\frac{1}{- 3 q^{4} + 2 q^{2} + 1}} & 2 q \\sqrt{\\frac{1}{3 q^{2} + 1}} & \\left(1 - q^{2}\\right) \\sqrt{\\frac{1}{- 3 q^{4} + 2 q^{2} + 1}} & \\left(- 3 q^{4} + 2 q^{2} + 1\\right) \\sqrt{\\frac{1}{3 q^{2} + 1}} \\sqrt{\\frac{1}{- 3 q^{4} + 2 q^{2} + 1}}\\\\2 q \\sqrt{\\frac{1}{3 q^{2} + 1}} & q & \\left(1 - q^{2}\\right) \\sqrt{\\frac{1}{- 3 q^{4} + 2 q^{2} + 1}} & 4 q^{2} \\sqrt{\\frac{1}{- 3 q^{4} + 2 q^{2} + 1}} & - 2 q \\sqrt{\\frac{1}{3 q^{2} + 1}} & \\left(q^{2} - 1\\right) \\sqrt{\\frac{1}{- 3 q^{4} + 2 q^{2} + 1}} & \\left(- 3 q^{4} + 2 q^{2} + 1\\right) \\sqrt{\\frac{1}{3 q^{2} + 1}} \\sqrt{\\frac{1}{- 3 q^{4} + 2 q^{2} + 1}}\\\\2 q \\sqrt{\\frac{1}{3 q^{2} + 1}} & q & \\left(1 - q^{2}\\right) \\sqrt{\\frac{1}{- 3 q^{4} + 2 q^{2} + 1}} & 4 q^{2} \\sqrt{\\frac{1}{- 3 q^{4} + 2 q^{2} + 1}} & 2 q \\sqrt{\\frac{1}{3 q^{2} + 1}} & \\left(1 - q^{2}\\right) \\sqrt{\\frac{1}{- 3 q^{4} + 2 q^{2} + 1}} & \\left(- 3 q^{4} + 2 q^{2} + 1\\right) \\sqrt{\\frac{1}{3 q^{2} + 1}} \\sqrt{\\frac{1}{- 3 q^{4} + 2 q^{2} + 1}}\\\\2 q \\sqrt{\\frac{1}{3 q^{2} + 1}} & q & \\left(q^{2} - 1\\right) \\sqrt{\\frac{1}{- 3 q^{4} + 2 q^{2} + 1}} & - 4 q^{2} \\sqrt{\\frac{1}{- 3 q^{4} + 2 q^{2} + 1}} & - 2 q \\sqrt{\\frac{1}{3 q^{2} + 1}} & \\left(1 - q^{2}\\right) \\sqrt{\\frac{1}{- 3 q^{4} + 2 q^{2} + 1}} & \\left(3 q^{4} - 2 q^{2} - 1\\right) \\sqrt{\\frac{1}{3 q^{2} + 1}} \\sqrt{\\frac{1}{- 3 q^{4} + 2 q^{2} + 1}}\\\\2 q \\sqrt{\\frac{1}{3 q^{2} + 1}} & q & \\left(q^{2} - 1\\right) \\sqrt{\\frac{1}{- 3 q^{4} + 2 q^{2} + 1}} & - 4 q^{2} \\sqrt{\\frac{1}{- 3 q^{4} + 2 q^{2} + 1}} & 2 q \\sqrt{\\frac{1}{3 q^{2} + 1}} & \\left(q^{2} - 1\\right) \\sqrt{\\frac{1}{- 3 q^{4} + 2 q^{2} + 1}} & \\left(3 q^{4} - 2 q^{2} - 1\\right) \\sqrt{\\frac{1}{3 q^{2} + 1}} \\sqrt{\\frac{1}{- 3 q^{4} + 2 q^{2} + 1}}\\end{matrix}\\right]$"
      ],
      "text/plain": [
       "Matrix([\n",
       "[-2*q*sqrt(1/(3*q**2 + 1)), q, (1 - q**2)*sqrt(1/(-3*q**4 + 2*q**2 + 1)),  4*q**2*sqrt(1/(-3*q**4 + 2*q**2 + 1)), -2*q*sqrt(1/(3*q**2 + 1)), (1 - q**2)*sqrt(1/(-3*q**4 + 2*q**2 + 1)),  (3*q**4 - 2*q**2 - 1)*sqrt(1/(3*q**2 + 1))*sqrt(1/(-3*q**4 + 2*q**2 + 1))],\n",
       "[-2*q*sqrt(1/(3*q**2 + 1)), q, (1 - q**2)*sqrt(1/(-3*q**4 + 2*q**2 + 1)),  4*q**2*sqrt(1/(-3*q**4 + 2*q**2 + 1)),  2*q*sqrt(1/(3*q**2 + 1)), (q**2 - 1)*sqrt(1/(-3*q**4 + 2*q**2 + 1)),  (3*q**4 - 2*q**2 - 1)*sqrt(1/(3*q**2 + 1))*sqrt(1/(-3*q**4 + 2*q**2 + 1))],\n",
       "[-2*q*sqrt(1/(3*q**2 + 1)), q, (q**2 - 1)*sqrt(1/(-3*q**4 + 2*q**2 + 1)), -4*q**2*sqrt(1/(-3*q**4 + 2*q**2 + 1)), -2*q*sqrt(1/(3*q**2 + 1)), (q**2 - 1)*sqrt(1/(-3*q**4 + 2*q**2 + 1)), (-3*q**4 + 2*q**2 + 1)*sqrt(1/(3*q**2 + 1))*sqrt(1/(-3*q**4 + 2*q**2 + 1))],\n",
       "[-2*q*sqrt(1/(3*q**2 + 1)), q, (q**2 - 1)*sqrt(1/(-3*q**4 + 2*q**2 + 1)), -4*q**2*sqrt(1/(-3*q**4 + 2*q**2 + 1)),  2*q*sqrt(1/(3*q**2 + 1)), (1 - q**2)*sqrt(1/(-3*q**4 + 2*q**2 + 1)), (-3*q**4 + 2*q**2 + 1)*sqrt(1/(3*q**2 + 1))*sqrt(1/(-3*q**4 + 2*q**2 + 1))],\n",
       "[ 2*q*sqrt(1/(3*q**2 + 1)), q, (1 - q**2)*sqrt(1/(-3*q**4 + 2*q**2 + 1)),  4*q**2*sqrt(1/(-3*q**4 + 2*q**2 + 1)), -2*q*sqrt(1/(3*q**2 + 1)), (q**2 - 1)*sqrt(1/(-3*q**4 + 2*q**2 + 1)), (-3*q**4 + 2*q**2 + 1)*sqrt(1/(3*q**2 + 1))*sqrt(1/(-3*q**4 + 2*q**2 + 1))],\n",
       "[ 2*q*sqrt(1/(3*q**2 + 1)), q, (1 - q**2)*sqrt(1/(-3*q**4 + 2*q**2 + 1)),  4*q**2*sqrt(1/(-3*q**4 + 2*q**2 + 1)),  2*q*sqrt(1/(3*q**2 + 1)), (1 - q**2)*sqrt(1/(-3*q**4 + 2*q**2 + 1)), (-3*q**4 + 2*q**2 + 1)*sqrt(1/(3*q**2 + 1))*sqrt(1/(-3*q**4 + 2*q**2 + 1))],\n",
       "[ 2*q*sqrt(1/(3*q**2 + 1)), q, (q**2 - 1)*sqrt(1/(-3*q**4 + 2*q**2 + 1)), -4*q**2*sqrt(1/(-3*q**4 + 2*q**2 + 1)), -2*q*sqrt(1/(3*q**2 + 1)), (1 - q**2)*sqrt(1/(-3*q**4 + 2*q**2 + 1)),  (3*q**4 - 2*q**2 - 1)*sqrt(1/(3*q**2 + 1))*sqrt(1/(-3*q**4 + 2*q**2 + 1))],\n",
       "[ 2*q*sqrt(1/(3*q**2 + 1)), q, (q**2 - 1)*sqrt(1/(-3*q**4 + 2*q**2 + 1)), -4*q**2*sqrt(1/(-3*q**4 + 2*q**2 + 1)),  2*q*sqrt(1/(3*q**2 + 1)), (q**2 - 1)*sqrt(1/(-3*q**4 + 2*q**2 + 1)),  (3*q**4 - 2*q**2 - 1)*sqrt(1/(3*q**2 + 1))*sqrt(1/(-3*q**4 + 2*q**2 + 1))]])"
      ]
     },
     "execution_count": 143,
     "metadata": {},
     "output_type": "execute_result"
    }
   ],
   "source": [
    "w += 1\n",
    "print(w)\n",
    "Matrix(eqn_solutions[w])"
   ]
  },
  {
   "cell_type": "code",
   "execution_count": null,
   "metadata": {},
   "outputs": [
    {
     "name": "stdout",
     "output_type": "stream",
     "text": [
      "24\n"
     ]
    },
    {
     "data": {
      "text/latex": [
       "$\\displaystyle \\left[\\begin{matrix}- \\left(3 q^{2} - 2\\right) \\sqrt{\\frac{1}{9 q^{4} - 8 q^{2} + 4}} & q & 2 q^{2} \\sqrt{\\frac{1}{9 q^{4} - 8 q^{2} + 4}} & - 2 q \\sqrt{- \\frac{\\left(q - 1\\right) \\left(q + 1\\right)}{9 q^{4} - 8 q^{2} + 4}} & - 2 \\sqrt{\\frac{\\left(q - 1\\right) \\left(q + 1\\right)}{3 q^{2} - 4}} & \\frac{q \\sqrt{\\frac{1 - q^{2}}{9 q^{4} - 8 q^{2} + 4}} \\sqrt{\\frac{q^{2} - 1}{3 q^{2} - 4}} \\left(- 9 q^{4} + 8 q^{2} - 4\\right) \\sqrt{\\frac{1}{9 q^{4} - 8 q^{2} + 4}}}{q^{2} - 1} & \\sqrt{\\frac{1 - q^{2}}{9 q^{4} - 8 q^{2} + 4}} \\left(- 9 q^{4} + 8 q^{2} - 4\\right) \\sqrt{\\frac{1}{9 q^{4} - 8 q^{2} + 4}}\\\\- \\left(3 q^{2} - 2\\right) \\sqrt{\\frac{1}{9 q^{4} - 8 q^{2} + 4}} & q & 2 q^{2} \\sqrt{\\frac{1}{9 q^{4} - 8 q^{2} + 4}} & - 2 q \\sqrt{- \\frac{\\left(q - 1\\right) \\left(q + 1\\right)}{9 q^{4} - 8 q^{2} + 4}} & 2 \\sqrt{\\frac{\\left(q - 1\\right) \\left(q + 1\\right)}{3 q^{2} - 4}} & \\frac{q \\sqrt{\\frac{1 - q^{2}}{9 q^{4} - 8 q^{2} + 4}} \\sqrt{\\frac{q^{2} - 1}{3 q^{2} - 4}} \\cdot \\left(9 q^{4} - 8 q^{2} + 4\\right) \\sqrt{\\frac{1}{9 q^{4} - 8 q^{2} + 4}}}{q^{2} - 1} & \\sqrt{\\frac{1 - q^{2}}{9 q^{4} - 8 q^{2} + 4}} \\left(- 9 q^{4} + 8 q^{2} - 4\\right) \\sqrt{\\frac{1}{9 q^{4} - 8 q^{2} + 4}}\\\\- \\left(3 q^{2} - 2\\right) \\sqrt{\\frac{1}{9 q^{4} - 8 q^{2} + 4}} & q & 2 q^{2} \\sqrt{\\frac{1}{9 q^{4} - 8 q^{2} + 4}} & 2 q \\sqrt{- \\frac{\\left(q - 1\\right) \\left(q + 1\\right)}{9 q^{4} - 8 q^{2} + 4}} & - 2 \\sqrt{\\frac{\\left(q - 1\\right) \\left(q + 1\\right)}{3 q^{2} - 4}} & \\frac{q \\sqrt{\\frac{1 - q^{2}}{9 q^{4} - 8 q^{2} + 4}} \\sqrt{\\frac{q^{2} - 1}{3 q^{2} - 4}} \\cdot \\left(9 q^{4} - 8 q^{2} + 4\\right) \\sqrt{\\frac{1}{9 q^{4} - 8 q^{2} + 4}}}{q^{2} - 1} & \\sqrt{\\frac{1 - q^{2}}{9 q^{4} - 8 q^{2} + 4}} \\cdot \\left(9 q^{4} - 8 q^{2} + 4\\right) \\sqrt{\\frac{1}{9 q^{4} - 8 q^{2} + 4}}\\\\- \\left(3 q^{2} - 2\\right) \\sqrt{\\frac{1}{9 q^{4} - 8 q^{2} + 4}} & q & 2 q^{2} \\sqrt{\\frac{1}{9 q^{4} - 8 q^{2} + 4}} & 2 q \\sqrt{- \\frac{\\left(q - 1\\right) \\left(q + 1\\right)}{9 q^{4} - 8 q^{2} + 4}} & 2 \\sqrt{\\frac{\\left(q - 1\\right) \\left(q + 1\\right)}{3 q^{2} - 4}} & \\frac{q \\sqrt{\\frac{1 - q^{2}}{9 q^{4} - 8 q^{2} + 4}} \\sqrt{\\frac{q^{2} - 1}{3 q^{2} - 4}} \\left(- 9 q^{4} + 8 q^{2} - 4\\right) \\sqrt{\\frac{1}{9 q^{4} - 8 q^{2} + 4}}}{q^{2} - 1} & \\sqrt{\\frac{1 - q^{2}}{9 q^{4} - 8 q^{2} + 4}} \\cdot \\left(9 q^{4} - 8 q^{2} + 4\\right) \\sqrt{\\frac{1}{9 q^{4} - 8 q^{2} + 4}}\\\\\\left(3 q^{2} - 2\\right) \\sqrt{\\frac{1}{9 q^{4} - 8 q^{2} + 4}} & q & - 2 q^{2} \\sqrt{\\frac{1}{9 q^{4} - 8 q^{2} + 4}} & - 2 q \\sqrt{- \\frac{\\left(q - 1\\right) \\left(q + 1\\right)}{9 q^{4} - 8 q^{2} + 4}} & - 2 \\sqrt{\\frac{\\left(q - 1\\right) \\left(q + 1\\right)}{3 q^{2} - 4}} & \\frac{q \\sqrt{\\frac{1 - q^{2}}{9 q^{4} - 8 q^{2} + 4}} \\sqrt{\\frac{q^{2} - 1}{3 q^{2} - 4}} \\cdot \\left(9 q^{4} - 8 q^{2} + 4\\right) \\sqrt{\\frac{1}{9 q^{4} - 8 q^{2} + 4}}}{q^{2} - 1} & \\sqrt{\\frac{1 - q^{2}}{9 q^{4} - 8 q^{2} + 4}} \\cdot \\left(9 q^{4} - 8 q^{2} + 4\\right) \\sqrt{\\frac{1}{9 q^{4} - 8 q^{2} + 4}}\\\\\\left(3 q^{2} - 2\\right) \\sqrt{\\frac{1}{9 q^{4} - 8 q^{2} + 4}} & q & - 2 q^{2} \\sqrt{\\frac{1}{9 q^{4} - 8 q^{2} + 4}} & - 2 q \\sqrt{- \\frac{\\left(q - 1\\right) \\left(q + 1\\right)}{9 q^{4} - 8 q^{2} + 4}} & 2 \\sqrt{\\frac{\\left(q - 1\\right) \\left(q + 1\\right)}{3 q^{2} - 4}} & \\frac{q \\sqrt{\\frac{1 - q^{2}}{9 q^{4} - 8 q^{2} + 4}} \\sqrt{\\frac{q^{2} - 1}{3 q^{2} - 4}} \\left(- 9 q^{4} + 8 q^{2} - 4\\right) \\sqrt{\\frac{1}{9 q^{4} - 8 q^{2} + 4}}}{q^{2} - 1} & \\sqrt{\\frac{1 - q^{2}}{9 q^{4} - 8 q^{2} + 4}} \\cdot \\left(9 q^{4} - 8 q^{2} + 4\\right) \\sqrt{\\frac{1}{9 q^{4} - 8 q^{2} + 4}}\\\\\\left(3 q^{2} - 2\\right) \\sqrt{\\frac{1}{9 q^{4} - 8 q^{2} + 4}} & q & - 2 q^{2} \\sqrt{\\frac{1}{9 q^{4} - 8 q^{2} + 4}} & 2 q \\sqrt{- \\frac{\\left(q - 1\\right) \\left(q + 1\\right)}{9 q^{4} - 8 q^{2} + 4}} & - 2 \\sqrt{\\frac{\\left(q - 1\\right) \\left(q + 1\\right)}{3 q^{2} - 4}} & \\frac{q \\sqrt{\\frac{1 - q^{2}}{9 q^{4} - 8 q^{2} + 4}} \\sqrt{\\frac{q^{2} - 1}{3 q^{2} - 4}} \\left(- 9 q^{4} + 8 q^{2} - 4\\right) \\sqrt{\\frac{1}{9 q^{4} - 8 q^{2} + 4}}}{q^{2} - 1} & \\sqrt{\\frac{1 - q^{2}}{9 q^{4} - 8 q^{2} + 4}} \\left(- 9 q^{4} + 8 q^{2} - 4\\right) \\sqrt{\\frac{1}{9 q^{4} - 8 q^{2} + 4}}\\\\\\left(3 q^{2} - 2\\right) \\sqrt{\\frac{1}{9 q^{4} - 8 q^{2} + 4}} & q & - 2 q^{2} \\sqrt{\\frac{1}{9 q^{4} - 8 q^{2} + 4}} & 2 q \\sqrt{- \\frac{\\left(q - 1\\right) \\left(q + 1\\right)}{9 q^{4} - 8 q^{2} + 4}} & 2 \\sqrt{\\frac{\\left(q - 1\\right) \\left(q + 1\\right)}{3 q^{2} - 4}} & \\frac{q \\sqrt{\\frac{1 - q^{2}}{9 q^{4} - 8 q^{2} + 4}} \\sqrt{\\frac{q^{2} - 1}{3 q^{2} - 4}} \\cdot \\left(9 q^{4} - 8 q^{2} + 4\\right) \\sqrt{\\frac{1}{9 q^{4} - 8 q^{2} + 4}}}{q^{2} - 1} & \\sqrt{\\frac{1 - q^{2}}{9 q^{4} - 8 q^{2} + 4}} \\left(- 9 q^{4} + 8 q^{2} - 4\\right) \\sqrt{\\frac{1}{9 q^{4} - 8 q^{2} + 4}}\\end{matrix}\\right]$"
      ],
      "text/plain": [
       "Matrix([\n",
       "[-(3*q**2 - 2)*sqrt(1/(9*q**4 - 8*q**2 + 4)), q,  2*q**2*sqrt(1/(9*q**4 - 8*q**2 + 4)), -2*q*sqrt(-(q - 1)*(q + 1)/(9*q**4 - 8*q**2 + 4)), -2*sqrt((q - 1)*(q + 1)/(3*q**2 - 4)), q*sqrt((1 - q**2)/(9*q**4 - 8*q**2 + 4))*sqrt((q**2 - 1)/(3*q**2 - 4))*(-9*q**4 + 8*q**2 - 4)*sqrt(1/(9*q**4 - 8*q**2 + 4))/(q**2 - 1), sqrt((1 - q**2)/(9*q**4 - 8*q**2 + 4))*(-9*q**4 + 8*q**2 - 4)*sqrt(1/(9*q**4 - 8*q**2 + 4))],\n",
       "[-(3*q**2 - 2)*sqrt(1/(9*q**4 - 8*q**2 + 4)), q,  2*q**2*sqrt(1/(9*q**4 - 8*q**2 + 4)), -2*q*sqrt(-(q - 1)*(q + 1)/(9*q**4 - 8*q**2 + 4)),  2*sqrt((q - 1)*(q + 1)/(3*q**2 - 4)),  q*sqrt((1 - q**2)/(9*q**4 - 8*q**2 + 4))*sqrt((q**2 - 1)/(3*q**2 - 4))*(9*q**4 - 8*q**2 + 4)*sqrt(1/(9*q**4 - 8*q**2 + 4))/(q**2 - 1), sqrt((1 - q**2)/(9*q**4 - 8*q**2 + 4))*(-9*q**4 + 8*q**2 - 4)*sqrt(1/(9*q**4 - 8*q**2 + 4))],\n",
       "[-(3*q**2 - 2)*sqrt(1/(9*q**4 - 8*q**2 + 4)), q,  2*q**2*sqrt(1/(9*q**4 - 8*q**2 + 4)),  2*q*sqrt(-(q - 1)*(q + 1)/(9*q**4 - 8*q**2 + 4)), -2*sqrt((q - 1)*(q + 1)/(3*q**2 - 4)),  q*sqrt((1 - q**2)/(9*q**4 - 8*q**2 + 4))*sqrt((q**2 - 1)/(3*q**2 - 4))*(9*q**4 - 8*q**2 + 4)*sqrt(1/(9*q**4 - 8*q**2 + 4))/(q**2 - 1),  sqrt((1 - q**2)/(9*q**4 - 8*q**2 + 4))*(9*q**4 - 8*q**2 + 4)*sqrt(1/(9*q**4 - 8*q**2 + 4))],\n",
       "[-(3*q**2 - 2)*sqrt(1/(9*q**4 - 8*q**2 + 4)), q,  2*q**2*sqrt(1/(9*q**4 - 8*q**2 + 4)),  2*q*sqrt(-(q - 1)*(q + 1)/(9*q**4 - 8*q**2 + 4)),  2*sqrt((q - 1)*(q + 1)/(3*q**2 - 4)), q*sqrt((1 - q**2)/(9*q**4 - 8*q**2 + 4))*sqrt((q**2 - 1)/(3*q**2 - 4))*(-9*q**4 + 8*q**2 - 4)*sqrt(1/(9*q**4 - 8*q**2 + 4))/(q**2 - 1),  sqrt((1 - q**2)/(9*q**4 - 8*q**2 + 4))*(9*q**4 - 8*q**2 + 4)*sqrt(1/(9*q**4 - 8*q**2 + 4))],\n",
       "[ (3*q**2 - 2)*sqrt(1/(9*q**4 - 8*q**2 + 4)), q, -2*q**2*sqrt(1/(9*q**4 - 8*q**2 + 4)), -2*q*sqrt(-(q - 1)*(q + 1)/(9*q**4 - 8*q**2 + 4)), -2*sqrt((q - 1)*(q + 1)/(3*q**2 - 4)),  q*sqrt((1 - q**2)/(9*q**4 - 8*q**2 + 4))*sqrt((q**2 - 1)/(3*q**2 - 4))*(9*q**4 - 8*q**2 + 4)*sqrt(1/(9*q**4 - 8*q**2 + 4))/(q**2 - 1),  sqrt((1 - q**2)/(9*q**4 - 8*q**2 + 4))*(9*q**4 - 8*q**2 + 4)*sqrt(1/(9*q**4 - 8*q**2 + 4))],\n",
       "[ (3*q**2 - 2)*sqrt(1/(9*q**4 - 8*q**2 + 4)), q, -2*q**2*sqrt(1/(9*q**4 - 8*q**2 + 4)), -2*q*sqrt(-(q - 1)*(q + 1)/(9*q**4 - 8*q**2 + 4)),  2*sqrt((q - 1)*(q + 1)/(3*q**2 - 4)), q*sqrt((1 - q**2)/(9*q**4 - 8*q**2 + 4))*sqrt((q**2 - 1)/(3*q**2 - 4))*(-9*q**4 + 8*q**2 - 4)*sqrt(1/(9*q**4 - 8*q**2 + 4))/(q**2 - 1),  sqrt((1 - q**2)/(9*q**4 - 8*q**2 + 4))*(9*q**4 - 8*q**2 + 4)*sqrt(1/(9*q**4 - 8*q**2 + 4))],\n",
       "[ (3*q**2 - 2)*sqrt(1/(9*q**4 - 8*q**2 + 4)), q, -2*q**2*sqrt(1/(9*q**4 - 8*q**2 + 4)),  2*q*sqrt(-(q - 1)*(q + 1)/(9*q**4 - 8*q**2 + 4)), -2*sqrt((q - 1)*(q + 1)/(3*q**2 - 4)), q*sqrt((1 - q**2)/(9*q**4 - 8*q**2 + 4))*sqrt((q**2 - 1)/(3*q**2 - 4))*(-9*q**4 + 8*q**2 - 4)*sqrt(1/(9*q**4 - 8*q**2 + 4))/(q**2 - 1), sqrt((1 - q**2)/(9*q**4 - 8*q**2 + 4))*(-9*q**4 + 8*q**2 - 4)*sqrt(1/(9*q**4 - 8*q**2 + 4))],\n",
       "[ (3*q**2 - 2)*sqrt(1/(9*q**4 - 8*q**2 + 4)), q, -2*q**2*sqrt(1/(9*q**4 - 8*q**2 + 4)),  2*q*sqrt(-(q - 1)*(q + 1)/(9*q**4 - 8*q**2 + 4)),  2*sqrt((q - 1)*(q + 1)/(3*q**2 - 4)),  q*sqrt((1 - q**2)/(9*q**4 - 8*q**2 + 4))*sqrt((q**2 - 1)/(3*q**2 - 4))*(9*q**4 - 8*q**2 + 4)*sqrt(1/(9*q**4 - 8*q**2 + 4))/(q**2 - 1), sqrt((1 - q**2)/(9*q**4 - 8*q**2 + 4))*(-9*q**4 + 8*q**2 - 4)*sqrt(1/(9*q**4 - 8*q**2 + 4))]])"
      ]
     },
     "execution_count": 144,
     "metadata": {},
     "output_type": "execute_result"
    }
   ],
   "source": [
    "w += 1\n",
    "print(w)\n",
    "Matrix(eqn_solutions[w])"
   ]
  },
  {
   "cell_type": "code",
   "execution_count": null,
   "metadata": {},
   "outputs": [
    {
     "name": "stdout",
     "output_type": "stream",
     "text": [
      "25\n"
     ]
    },
    {
     "data": {
      "text/latex": [
       "$\\displaystyle \\left[\\begin{matrix}- q^{2} \\sqrt{\\frac{1}{\\left(q^{2} - q + 1\\right) \\left(q^{2} + q + 1\\right)}} & q & - \\sqrt{\\frac{1}{q^{4} + q^{2} + 1}} & - q \\sqrt{\\frac{1}{\\left(q^{2} - q + 1\\right) \\left(q^{2} + q + 1\\right)}} & - \\sqrt{\\frac{1}{q^{2} + 1}} & - q \\sqrt{\\frac{1}{q^{2} + 1}} & 1\\\\- q^{2} \\sqrt{\\frac{1}{\\left(q^{2} - q + 1\\right) \\left(q^{2} + q + 1\\right)}} & q & - \\sqrt{\\frac{1}{q^{4} + q^{2} + 1}} & - q \\sqrt{\\frac{1}{\\left(q^{2} - q + 1\\right) \\left(q^{2} + q + 1\\right)}} & \\sqrt{\\frac{1}{q^{2} + 1}} & q \\sqrt{\\frac{1}{q^{2} + 1}} & 1\\\\- q^{2} \\sqrt{\\frac{1}{\\left(q^{2} - q + 1\\right) \\left(q^{2} + q + 1\\right)}} & q & - \\sqrt{\\frac{1}{q^{4} + q^{2} + 1}} & q \\sqrt{\\frac{1}{\\left(q^{2} - q + 1\\right) \\left(q^{2} + q + 1\\right)}} & - \\sqrt{\\frac{1}{q^{2} + 1}} & q \\sqrt{\\frac{1}{q^{2} + 1}} & -1\\\\- q^{2} \\sqrt{\\frac{1}{\\left(q^{2} - q + 1\\right) \\left(q^{2} + q + 1\\right)}} & q & - \\sqrt{\\frac{1}{q^{4} + q^{2} + 1}} & q \\sqrt{\\frac{1}{\\left(q^{2} - q + 1\\right) \\left(q^{2} + q + 1\\right)}} & \\sqrt{\\frac{1}{q^{2} + 1}} & - q \\sqrt{\\frac{1}{q^{2} + 1}} & -1\\\\q^{2} \\sqrt{\\frac{1}{\\left(q^{2} - q + 1\\right) \\left(q^{2} + q + 1\\right)}} & q & \\sqrt{\\frac{1}{q^{4} + q^{2} + 1}} & - q \\sqrt{\\frac{1}{\\left(q^{2} - q + 1\\right) \\left(q^{2} + q + 1\\right)}} & - \\sqrt{\\frac{1}{q^{2} + 1}} & q \\sqrt{\\frac{1}{q^{2} + 1}} & -1\\\\q^{2} \\sqrt{\\frac{1}{\\left(q^{2} - q + 1\\right) \\left(q^{2} + q + 1\\right)}} & q & \\sqrt{\\frac{1}{q^{4} + q^{2} + 1}} & - q \\sqrt{\\frac{1}{\\left(q^{2} - q + 1\\right) \\left(q^{2} + q + 1\\right)}} & \\sqrt{\\frac{1}{q^{2} + 1}} & - q \\sqrt{\\frac{1}{q^{2} + 1}} & -1\\\\q^{2} \\sqrt{\\frac{1}{\\left(q^{2} - q + 1\\right) \\left(q^{2} + q + 1\\right)}} & q & \\sqrt{\\frac{1}{q^{4} + q^{2} + 1}} & q \\sqrt{\\frac{1}{\\left(q^{2} - q + 1\\right) \\left(q^{2} + q + 1\\right)}} & - \\sqrt{\\frac{1}{q^{2} + 1}} & - q \\sqrt{\\frac{1}{q^{2} + 1}} & 1\\\\q^{2} \\sqrt{\\frac{1}{\\left(q^{2} - q + 1\\right) \\left(q^{2} + q + 1\\right)}} & q & \\sqrt{\\frac{1}{q^{4} + q^{2} + 1}} & q \\sqrt{\\frac{1}{\\left(q^{2} - q + 1\\right) \\left(q^{2} + q + 1\\right)}} & \\sqrt{\\frac{1}{q^{2} + 1}} & q \\sqrt{\\frac{1}{q^{2} + 1}} & 1\\end{matrix}\\right]$"
      ],
      "text/plain": [
       "Matrix([\n",
       "[-q**2*sqrt(1/((q**2 - q + 1)*(q**2 + q + 1))), q, -sqrt(1/(q**4 + q**2 + 1)), -q*sqrt(1/((q**2 - q + 1)*(q**2 + q + 1))), -sqrt(1/(q**2 + 1)), -q*sqrt(1/(q**2 + 1)),  1],\n",
       "[-q**2*sqrt(1/((q**2 - q + 1)*(q**2 + q + 1))), q, -sqrt(1/(q**4 + q**2 + 1)), -q*sqrt(1/((q**2 - q + 1)*(q**2 + q + 1))),  sqrt(1/(q**2 + 1)),  q*sqrt(1/(q**2 + 1)),  1],\n",
       "[-q**2*sqrt(1/((q**2 - q + 1)*(q**2 + q + 1))), q, -sqrt(1/(q**4 + q**2 + 1)),  q*sqrt(1/((q**2 - q + 1)*(q**2 + q + 1))), -sqrt(1/(q**2 + 1)),  q*sqrt(1/(q**2 + 1)), -1],\n",
       "[-q**2*sqrt(1/((q**2 - q + 1)*(q**2 + q + 1))), q, -sqrt(1/(q**4 + q**2 + 1)),  q*sqrt(1/((q**2 - q + 1)*(q**2 + q + 1))),  sqrt(1/(q**2 + 1)), -q*sqrt(1/(q**2 + 1)), -1],\n",
       "[ q**2*sqrt(1/((q**2 - q + 1)*(q**2 + q + 1))), q,  sqrt(1/(q**4 + q**2 + 1)), -q*sqrt(1/((q**2 - q + 1)*(q**2 + q + 1))), -sqrt(1/(q**2 + 1)),  q*sqrt(1/(q**2 + 1)), -1],\n",
       "[ q**2*sqrt(1/((q**2 - q + 1)*(q**2 + q + 1))), q,  sqrt(1/(q**4 + q**2 + 1)), -q*sqrt(1/((q**2 - q + 1)*(q**2 + q + 1))),  sqrt(1/(q**2 + 1)), -q*sqrt(1/(q**2 + 1)), -1],\n",
       "[ q**2*sqrt(1/((q**2 - q + 1)*(q**2 + q + 1))), q,  sqrt(1/(q**4 + q**2 + 1)),  q*sqrt(1/((q**2 - q + 1)*(q**2 + q + 1))), -sqrt(1/(q**2 + 1)), -q*sqrt(1/(q**2 + 1)),  1],\n",
       "[ q**2*sqrt(1/((q**2 - q + 1)*(q**2 + q + 1))), q,  sqrt(1/(q**4 + q**2 + 1)),  q*sqrt(1/((q**2 - q + 1)*(q**2 + q + 1))),  sqrt(1/(q**2 + 1)),  q*sqrt(1/(q**2 + 1)),  1]])"
      ]
     },
     "execution_count": 145,
     "metadata": {},
     "output_type": "execute_result"
    }
   ],
   "source": [
    "w += 1\n",
    "print(w)\n",
    "Matrix(eqn_solutions[w])"
   ]
  },
  {
   "cell_type": "code",
   "execution_count": null,
   "metadata": {},
   "outputs": [
    {
     "name": "stdout",
     "output_type": "stream",
     "text": [
      "26\n"
     ]
    },
    {
     "data": {
      "text/latex": [
       "$\\displaystyle \\left[\\begin{matrix}- 2 \\left(q - 1\\right) \\left(q + 1\\right) \\sqrt{\\frac{1}{4 q^{4} - 7 q^{2} + 4}} & q & q^{2} \\sqrt{\\frac{1}{4 q^{4} - 7 q^{2} + 4}} & - q \\sqrt{- \\frac{\\left(q - 1\\right) \\left(q + 1\\right)}{4 q^{4} - 7 q^{2} + 4}} & - 2 \\sqrt{\\frac{\\left(q - 1\\right) \\left(q + 1\\right)}{3 q^{2} - 4}} & \\frac{q \\sqrt{\\frac{1 - q^{2}}{4 q^{4} - 7 q^{2} + 4}} \\sqrt{\\frac{q^{2} - 1}{3 q^{2} - 4}} \\left(- 4 q^{4} + 7 q^{2} - 4\\right) \\sqrt{\\frac{1}{4 q^{4} - 7 q^{2} + 4}}}{q^{2} - 1} & \\sqrt{\\frac{1 - q^{2}}{4 q^{4} - 7 q^{2} + 4}} \\left(- 4 q^{4} + 7 q^{2} - 4\\right) \\sqrt{\\frac{1}{4 q^{4} - 7 q^{2} + 4}}\\\\- 2 \\left(q - 1\\right) \\left(q + 1\\right) \\sqrt{\\frac{1}{4 q^{4} - 7 q^{2} + 4}} & q & q^{2} \\sqrt{\\frac{1}{4 q^{4} - 7 q^{2} + 4}} & - q \\sqrt{- \\frac{\\left(q - 1\\right) \\left(q + 1\\right)}{4 q^{4} - 7 q^{2} + 4}} & 2 \\sqrt{\\frac{\\left(q - 1\\right) \\left(q + 1\\right)}{3 q^{2} - 4}} & \\frac{q \\sqrt{\\frac{1 - q^{2}}{4 q^{4} - 7 q^{2} + 4}} \\sqrt{\\frac{q^{2} - 1}{3 q^{2} - 4}} \\cdot \\left(4 q^{4} - 7 q^{2} + 4\\right) \\sqrt{\\frac{1}{4 q^{4} - 7 q^{2} + 4}}}{q^{2} - 1} & \\sqrt{\\frac{1 - q^{2}}{4 q^{4} - 7 q^{2} + 4}} \\left(- 4 q^{4} + 7 q^{2} - 4\\right) \\sqrt{\\frac{1}{4 q^{4} - 7 q^{2} + 4}}\\\\- 2 \\left(q - 1\\right) \\left(q + 1\\right) \\sqrt{\\frac{1}{4 q^{4} - 7 q^{2} + 4}} & q & q^{2} \\sqrt{\\frac{1}{4 q^{4} - 7 q^{2} + 4}} & q \\sqrt{- \\frac{\\left(q - 1\\right) \\left(q + 1\\right)}{4 q^{4} - 7 q^{2} + 4}} & - 2 \\sqrt{\\frac{\\left(q - 1\\right) \\left(q + 1\\right)}{3 q^{2} - 4}} & \\frac{q \\sqrt{\\frac{1 - q^{2}}{4 q^{4} - 7 q^{2} + 4}} \\sqrt{\\frac{q^{2} - 1}{3 q^{2} - 4}} \\cdot \\left(4 q^{4} - 7 q^{2} + 4\\right) \\sqrt{\\frac{1}{4 q^{4} - 7 q^{2} + 4}}}{q^{2} - 1} & \\sqrt{\\frac{1 - q^{2}}{4 q^{4} - 7 q^{2} + 4}} \\cdot \\left(4 q^{4} - 7 q^{2} + 4\\right) \\sqrt{\\frac{1}{4 q^{4} - 7 q^{2} + 4}}\\\\- 2 \\left(q - 1\\right) \\left(q + 1\\right) \\sqrt{\\frac{1}{4 q^{4} - 7 q^{2} + 4}} & q & q^{2} \\sqrt{\\frac{1}{4 q^{4} - 7 q^{2} + 4}} & q \\sqrt{- \\frac{\\left(q - 1\\right) \\left(q + 1\\right)}{4 q^{4} - 7 q^{2} + 4}} & 2 \\sqrt{\\frac{\\left(q - 1\\right) \\left(q + 1\\right)}{3 q^{2} - 4}} & \\frac{q \\sqrt{\\frac{1 - q^{2}}{4 q^{4} - 7 q^{2} + 4}} \\sqrt{\\frac{q^{2} - 1}{3 q^{2} - 4}} \\left(- 4 q^{4} + 7 q^{2} - 4\\right) \\sqrt{\\frac{1}{4 q^{4} - 7 q^{2} + 4}}}{q^{2} - 1} & \\sqrt{\\frac{1 - q^{2}}{4 q^{4} - 7 q^{2} + 4}} \\cdot \\left(4 q^{4} - 7 q^{2} + 4\\right) \\sqrt{\\frac{1}{4 q^{4} - 7 q^{2} + 4}}\\\\2 \\left(q - 1\\right) \\left(q + 1\\right) \\sqrt{\\frac{1}{4 q^{4} - 7 q^{2} + 4}} & q & - q^{2} \\sqrt{\\frac{1}{4 q^{4} - 7 q^{2} + 4}} & - q \\sqrt{- \\frac{\\left(q - 1\\right) \\left(q + 1\\right)}{4 q^{4} - 7 q^{2} + 4}} & - 2 \\sqrt{\\frac{\\left(q - 1\\right) \\left(q + 1\\right)}{3 q^{2} - 4}} & \\frac{q \\sqrt{\\frac{1 - q^{2}}{4 q^{4} - 7 q^{2} + 4}} \\sqrt{\\frac{q^{2} - 1}{3 q^{2} - 4}} \\cdot \\left(4 q^{4} - 7 q^{2} + 4\\right) \\sqrt{\\frac{1}{4 q^{4} - 7 q^{2} + 4}}}{q^{2} - 1} & \\sqrt{\\frac{1 - q^{2}}{4 q^{4} - 7 q^{2} + 4}} \\cdot \\left(4 q^{4} - 7 q^{2} + 4\\right) \\sqrt{\\frac{1}{4 q^{4} - 7 q^{2} + 4}}\\\\2 \\left(q - 1\\right) \\left(q + 1\\right) \\sqrt{\\frac{1}{4 q^{4} - 7 q^{2} + 4}} & q & - q^{2} \\sqrt{\\frac{1}{4 q^{4} - 7 q^{2} + 4}} & - q \\sqrt{- \\frac{\\left(q - 1\\right) \\left(q + 1\\right)}{4 q^{4} - 7 q^{2} + 4}} & 2 \\sqrt{\\frac{\\left(q - 1\\right) \\left(q + 1\\right)}{3 q^{2} - 4}} & \\frac{q \\sqrt{\\frac{1 - q^{2}}{4 q^{4} - 7 q^{2} + 4}} \\sqrt{\\frac{q^{2} - 1}{3 q^{2} - 4}} \\left(- 4 q^{4} + 7 q^{2} - 4\\right) \\sqrt{\\frac{1}{4 q^{4} - 7 q^{2} + 4}}}{q^{2} - 1} & \\sqrt{\\frac{1 - q^{2}}{4 q^{4} - 7 q^{2} + 4}} \\cdot \\left(4 q^{4} - 7 q^{2} + 4\\right) \\sqrt{\\frac{1}{4 q^{4} - 7 q^{2} + 4}}\\\\2 \\left(q - 1\\right) \\left(q + 1\\right) \\sqrt{\\frac{1}{4 q^{4} - 7 q^{2} + 4}} & q & - q^{2} \\sqrt{\\frac{1}{4 q^{4} - 7 q^{2} + 4}} & q \\sqrt{- \\frac{\\left(q - 1\\right) \\left(q + 1\\right)}{4 q^{4} - 7 q^{2} + 4}} & - 2 \\sqrt{\\frac{\\left(q - 1\\right) \\left(q + 1\\right)}{3 q^{2} - 4}} & \\frac{q \\sqrt{\\frac{1 - q^{2}}{4 q^{4} - 7 q^{2} + 4}} \\sqrt{\\frac{q^{2} - 1}{3 q^{2} - 4}} \\left(- 4 q^{4} + 7 q^{2} - 4\\right) \\sqrt{\\frac{1}{4 q^{4} - 7 q^{2} + 4}}}{q^{2} - 1} & \\sqrt{\\frac{1 - q^{2}}{4 q^{4} - 7 q^{2} + 4}} \\left(- 4 q^{4} + 7 q^{2} - 4\\right) \\sqrt{\\frac{1}{4 q^{4} - 7 q^{2} + 4}}\\\\2 \\left(q - 1\\right) \\left(q + 1\\right) \\sqrt{\\frac{1}{4 q^{4} - 7 q^{2} + 4}} & q & - q^{2} \\sqrt{\\frac{1}{4 q^{4} - 7 q^{2} + 4}} & q \\sqrt{- \\frac{\\left(q - 1\\right) \\left(q + 1\\right)}{4 q^{4} - 7 q^{2} + 4}} & 2 \\sqrt{\\frac{\\left(q - 1\\right) \\left(q + 1\\right)}{3 q^{2} - 4}} & \\frac{q \\sqrt{\\frac{1 - q^{2}}{4 q^{4} - 7 q^{2} + 4}} \\sqrt{\\frac{q^{2} - 1}{3 q^{2} - 4}} \\cdot \\left(4 q^{4} - 7 q^{2} + 4\\right) \\sqrt{\\frac{1}{4 q^{4} - 7 q^{2} + 4}}}{q^{2} - 1} & \\sqrt{\\frac{1 - q^{2}}{4 q^{4} - 7 q^{2} + 4}} \\left(- 4 q^{4} + 7 q^{2} - 4\\right) \\sqrt{\\frac{1}{4 q^{4} - 7 q^{2} + 4}}\\end{matrix}\\right]$"
      ],
      "text/plain": [
       "Matrix([\n",
       "[-2*(q - 1)*(q + 1)*sqrt(1/(4*q**4 - 7*q**2 + 4)), q,  q**2*sqrt(1/(4*q**4 - 7*q**2 + 4)), -q*sqrt(-(q - 1)*(q + 1)/(4*q**4 - 7*q**2 + 4)), -2*sqrt((q - 1)*(q + 1)/(3*q**2 - 4)), q*sqrt((1 - q**2)/(4*q**4 - 7*q**2 + 4))*sqrt((q**2 - 1)/(3*q**2 - 4))*(-4*q**4 + 7*q**2 - 4)*sqrt(1/(4*q**4 - 7*q**2 + 4))/(q**2 - 1), sqrt((1 - q**2)/(4*q**4 - 7*q**2 + 4))*(-4*q**4 + 7*q**2 - 4)*sqrt(1/(4*q**4 - 7*q**2 + 4))],\n",
       "[-2*(q - 1)*(q + 1)*sqrt(1/(4*q**4 - 7*q**2 + 4)), q,  q**2*sqrt(1/(4*q**4 - 7*q**2 + 4)), -q*sqrt(-(q - 1)*(q + 1)/(4*q**4 - 7*q**2 + 4)),  2*sqrt((q - 1)*(q + 1)/(3*q**2 - 4)),  q*sqrt((1 - q**2)/(4*q**4 - 7*q**2 + 4))*sqrt((q**2 - 1)/(3*q**2 - 4))*(4*q**4 - 7*q**2 + 4)*sqrt(1/(4*q**4 - 7*q**2 + 4))/(q**2 - 1), sqrt((1 - q**2)/(4*q**4 - 7*q**2 + 4))*(-4*q**4 + 7*q**2 - 4)*sqrt(1/(4*q**4 - 7*q**2 + 4))],\n",
       "[-2*(q - 1)*(q + 1)*sqrt(1/(4*q**4 - 7*q**2 + 4)), q,  q**2*sqrt(1/(4*q**4 - 7*q**2 + 4)),  q*sqrt(-(q - 1)*(q + 1)/(4*q**4 - 7*q**2 + 4)), -2*sqrt((q - 1)*(q + 1)/(3*q**2 - 4)),  q*sqrt((1 - q**2)/(4*q**4 - 7*q**2 + 4))*sqrt((q**2 - 1)/(3*q**2 - 4))*(4*q**4 - 7*q**2 + 4)*sqrt(1/(4*q**4 - 7*q**2 + 4))/(q**2 - 1),  sqrt((1 - q**2)/(4*q**4 - 7*q**2 + 4))*(4*q**4 - 7*q**2 + 4)*sqrt(1/(4*q**4 - 7*q**2 + 4))],\n",
       "[-2*(q - 1)*(q + 1)*sqrt(1/(4*q**4 - 7*q**2 + 4)), q,  q**2*sqrt(1/(4*q**4 - 7*q**2 + 4)),  q*sqrt(-(q - 1)*(q + 1)/(4*q**4 - 7*q**2 + 4)),  2*sqrt((q - 1)*(q + 1)/(3*q**2 - 4)), q*sqrt((1 - q**2)/(4*q**4 - 7*q**2 + 4))*sqrt((q**2 - 1)/(3*q**2 - 4))*(-4*q**4 + 7*q**2 - 4)*sqrt(1/(4*q**4 - 7*q**2 + 4))/(q**2 - 1),  sqrt((1 - q**2)/(4*q**4 - 7*q**2 + 4))*(4*q**4 - 7*q**2 + 4)*sqrt(1/(4*q**4 - 7*q**2 + 4))],\n",
       "[ 2*(q - 1)*(q + 1)*sqrt(1/(4*q**4 - 7*q**2 + 4)), q, -q**2*sqrt(1/(4*q**4 - 7*q**2 + 4)), -q*sqrt(-(q - 1)*(q + 1)/(4*q**4 - 7*q**2 + 4)), -2*sqrt((q - 1)*(q + 1)/(3*q**2 - 4)),  q*sqrt((1 - q**2)/(4*q**4 - 7*q**2 + 4))*sqrt((q**2 - 1)/(3*q**2 - 4))*(4*q**4 - 7*q**2 + 4)*sqrt(1/(4*q**4 - 7*q**2 + 4))/(q**2 - 1),  sqrt((1 - q**2)/(4*q**4 - 7*q**2 + 4))*(4*q**4 - 7*q**2 + 4)*sqrt(1/(4*q**4 - 7*q**2 + 4))],\n",
       "[ 2*(q - 1)*(q + 1)*sqrt(1/(4*q**4 - 7*q**2 + 4)), q, -q**2*sqrt(1/(4*q**4 - 7*q**2 + 4)), -q*sqrt(-(q - 1)*(q + 1)/(4*q**4 - 7*q**2 + 4)),  2*sqrt((q - 1)*(q + 1)/(3*q**2 - 4)), q*sqrt((1 - q**2)/(4*q**4 - 7*q**2 + 4))*sqrt((q**2 - 1)/(3*q**2 - 4))*(-4*q**4 + 7*q**2 - 4)*sqrt(1/(4*q**4 - 7*q**2 + 4))/(q**2 - 1),  sqrt((1 - q**2)/(4*q**4 - 7*q**2 + 4))*(4*q**4 - 7*q**2 + 4)*sqrt(1/(4*q**4 - 7*q**2 + 4))],\n",
       "[ 2*(q - 1)*(q + 1)*sqrt(1/(4*q**4 - 7*q**2 + 4)), q, -q**2*sqrt(1/(4*q**4 - 7*q**2 + 4)),  q*sqrt(-(q - 1)*(q + 1)/(4*q**4 - 7*q**2 + 4)), -2*sqrt((q - 1)*(q + 1)/(3*q**2 - 4)), q*sqrt((1 - q**2)/(4*q**4 - 7*q**2 + 4))*sqrt((q**2 - 1)/(3*q**2 - 4))*(-4*q**4 + 7*q**2 - 4)*sqrt(1/(4*q**4 - 7*q**2 + 4))/(q**2 - 1), sqrt((1 - q**2)/(4*q**4 - 7*q**2 + 4))*(-4*q**4 + 7*q**2 - 4)*sqrt(1/(4*q**4 - 7*q**2 + 4))],\n",
       "[ 2*(q - 1)*(q + 1)*sqrt(1/(4*q**4 - 7*q**2 + 4)), q, -q**2*sqrt(1/(4*q**4 - 7*q**2 + 4)),  q*sqrt(-(q - 1)*(q + 1)/(4*q**4 - 7*q**2 + 4)),  2*sqrt((q - 1)*(q + 1)/(3*q**2 - 4)),  q*sqrt((1 - q**2)/(4*q**4 - 7*q**2 + 4))*sqrt((q**2 - 1)/(3*q**2 - 4))*(4*q**4 - 7*q**2 + 4)*sqrt(1/(4*q**4 - 7*q**2 + 4))/(q**2 - 1), sqrt((1 - q**2)/(4*q**4 - 7*q**2 + 4))*(-4*q**4 + 7*q**2 - 4)*sqrt(1/(4*q**4 - 7*q**2 + 4))]])"
      ]
     },
     "execution_count": 146,
     "metadata": {},
     "output_type": "execute_result"
    }
   ],
   "source": [
    "w += 1\n",
    "print(w)\n",
    "Matrix(eqn_solutions[w])"
   ]
  },
  {
   "cell_type": "code",
   "execution_count": null,
   "metadata": {},
   "outputs": [
    {
     "name": "stdout",
     "output_type": "stream",
     "text": [
      "27\n"
     ]
    },
    {
     "data": {
      "text/latex": [
       "$\\displaystyle \\left[\\begin{matrix}2 q \\sqrt{\\frac{1 - q^{2}}{9 q^{4} - 16 q^{2} + 8}} & q & \\left(2 - 3 q^{2}\\right) \\sqrt{\\frac{1}{9 q^{4} - 16 q^{2} + 8}} & 2 \\left(q^{2} - 1\\right) \\sqrt{\\frac{1}{9 q^{4} - 16 q^{2} + 8}} & \\frac{q \\sqrt{\\frac{1 - q^{2}}{9 q^{4} - 16 q^{2} + 8}} \\left(- 9 q^{4} + 16 q^{2} - 8\\right) \\sqrt{\\frac{1}{9 q^{4} - 16 q^{2} + 8}}}{\\sqrt{1 - q^{2}}} & \\sqrt{1 - q^{2}} & \\sqrt{\\frac{1 - q^{2}}{9 q^{4} - 16 q^{2} + 8}} \\left(- 9 q^{4} + 16 q^{2} - 8\\right) \\sqrt{\\frac{1}{9 q^{4} - 16 q^{2} + 8}}\\\\2 q \\sqrt{\\frac{1 - q^{2}}{9 q^{4} - 16 q^{2} + 8}} & q & \\left(2 - 3 q^{2}\\right) \\sqrt{\\frac{1}{9 q^{4} - 16 q^{2} + 8}} & 2 \\left(q^{2} - 1\\right) \\sqrt{\\frac{1}{9 q^{4} - 16 q^{2} + 8}} & \\frac{q \\sqrt{\\frac{1 - q^{2}}{9 q^{4} - 16 q^{2} + 8}} \\cdot \\left(9 q^{4} - 16 q^{2} + 8\\right) \\sqrt{\\frac{1}{9 q^{4} - 16 q^{2} + 8}}}{\\sqrt{1 - q^{2}}} & - \\sqrt{1 - q^{2}} & \\sqrt{\\frac{1 - q^{2}}{9 q^{4} - 16 q^{2} + 8}} \\left(- 9 q^{4} + 16 q^{2} - 8\\right) \\sqrt{\\frac{1}{9 q^{4} - 16 q^{2} + 8}}\\\\2 q \\sqrt{\\frac{1 - q^{2}}{9 q^{4} - 16 q^{2} + 8}} & q & \\left(3 q^{2} - 2\\right) \\sqrt{\\frac{1}{9 q^{4} - 16 q^{2} + 8}} & 2 \\cdot \\left(1 - q^{2}\\right) \\sqrt{\\frac{1}{9 q^{4} - 16 q^{2} + 8}} & \\frac{q \\sqrt{\\frac{1 - q^{2}}{9 q^{4} - 16 q^{2} + 8}} \\left(- 9 q^{4} + 16 q^{2} - 8\\right) \\sqrt{\\frac{1}{9 q^{4} - 16 q^{2} + 8}}}{\\sqrt{1 - q^{2}}} & - \\sqrt{1 - q^{2}} & \\sqrt{\\frac{1 - q^{2}}{9 q^{4} - 16 q^{2} + 8}} \\cdot \\left(9 q^{4} - 16 q^{2} + 8\\right) \\sqrt{\\frac{1}{9 q^{4} - 16 q^{2} + 8}}\\\\2 q \\sqrt{\\frac{1 - q^{2}}{9 q^{4} - 16 q^{2} + 8}} & q & \\left(3 q^{2} - 2\\right) \\sqrt{\\frac{1}{9 q^{4} - 16 q^{2} + 8}} & 2 \\cdot \\left(1 - q^{2}\\right) \\sqrt{\\frac{1}{9 q^{4} - 16 q^{2} + 8}} & \\frac{q \\sqrt{\\frac{1 - q^{2}}{9 q^{4} - 16 q^{2} + 8}} \\cdot \\left(9 q^{4} - 16 q^{2} + 8\\right) \\sqrt{\\frac{1}{9 q^{4} - 16 q^{2} + 8}}}{\\sqrt{1 - q^{2}}} & \\sqrt{1 - q^{2}} & \\sqrt{\\frac{1 - q^{2}}{9 q^{4} - 16 q^{2} + 8}} \\cdot \\left(9 q^{4} - 16 q^{2} + 8\\right) \\sqrt{\\frac{1}{9 q^{4} - 16 q^{2} + 8}}\\\\- 2 q \\sqrt{- \\frac{q^{2} - 1}{9 q^{4} - 16 q^{2} + 8}} & q & \\left(2 - 3 q^{2}\\right) \\sqrt{\\frac{1}{9 q^{4} - 16 q^{2} + 8}} & 2 \\left(q^{2} - 1\\right) \\sqrt{\\frac{1}{9 q^{4} - 16 q^{2} + 8}} & \\frac{q \\sqrt{\\frac{1 - q^{2}}{9 q^{4} - 16 q^{2} + 8}} \\left(- 9 q^{4} + 16 q^{2} - 8\\right) \\sqrt{\\frac{1}{9 q^{4} - 16 q^{2} + 8}}}{\\sqrt{1 - q^{2}}} & - \\sqrt{1 - q^{2}} & \\sqrt{\\frac{1 - q^{2}}{9 q^{4} - 16 q^{2} + 8}} \\cdot \\left(9 q^{4} - 16 q^{2} + 8\\right) \\sqrt{\\frac{1}{9 q^{4} - 16 q^{2} + 8}}\\\\- 2 q \\sqrt{- \\frac{q^{2} - 1}{9 q^{4} - 16 q^{2} + 8}} & q & \\left(2 - 3 q^{2}\\right) \\sqrt{\\frac{1}{9 q^{4} - 16 q^{2} + 8}} & 2 \\left(q^{2} - 1\\right) \\sqrt{\\frac{1}{9 q^{4} - 16 q^{2} + 8}} & \\frac{q \\sqrt{\\frac{1 - q^{2}}{9 q^{4} - 16 q^{2} + 8}} \\cdot \\left(9 q^{4} - 16 q^{2} + 8\\right) \\sqrt{\\frac{1}{9 q^{4} - 16 q^{2} + 8}}}{\\sqrt{1 - q^{2}}} & \\sqrt{1 - q^{2}} & \\sqrt{\\frac{1 - q^{2}}{9 q^{4} - 16 q^{2} + 8}} \\cdot \\left(9 q^{4} - 16 q^{2} + 8\\right) \\sqrt{\\frac{1}{9 q^{4} - 16 q^{2} + 8}}\\\\- 2 q \\sqrt{- \\frac{q^{2} - 1}{9 q^{4} - 16 q^{2} + 8}} & q & \\left(3 q^{2} - 2\\right) \\sqrt{\\frac{1}{9 q^{4} - 16 q^{2} + 8}} & 2 \\cdot \\left(1 - q^{2}\\right) \\sqrt{\\frac{1}{9 q^{4} - 16 q^{2} + 8}} & \\frac{q \\sqrt{\\frac{1 - q^{2}}{9 q^{4} - 16 q^{2} + 8}} \\left(- 9 q^{4} + 16 q^{2} - 8\\right) \\sqrt{\\frac{1}{9 q^{4} - 16 q^{2} + 8}}}{\\sqrt{1 - q^{2}}} & \\sqrt{1 - q^{2}} & \\sqrt{\\frac{1 - q^{2}}{9 q^{4} - 16 q^{2} + 8}} \\left(- 9 q^{4} + 16 q^{2} - 8\\right) \\sqrt{\\frac{1}{9 q^{4} - 16 q^{2} + 8}}\\\\- 2 q \\sqrt{- \\frac{q^{2} - 1}{9 q^{4} - 16 q^{2} + 8}} & q & \\left(3 q^{2} - 2\\right) \\sqrt{\\frac{1}{9 q^{4} - 16 q^{2} + 8}} & 2 \\cdot \\left(1 - q^{2}\\right) \\sqrt{\\frac{1}{9 q^{4} - 16 q^{2} + 8}} & \\frac{q \\sqrt{\\frac{1 - q^{2}}{9 q^{4} - 16 q^{2} + 8}} \\cdot \\left(9 q^{4} - 16 q^{2} + 8\\right) \\sqrt{\\frac{1}{9 q^{4} - 16 q^{2} + 8}}}{\\sqrt{1 - q^{2}}} & - \\sqrt{1 - q^{2}} & \\sqrt{\\frac{1 - q^{2}}{9 q^{4} - 16 q^{2} + 8}} \\left(- 9 q^{4} + 16 q^{2} - 8\\right) \\sqrt{\\frac{1}{9 q^{4} - 16 q^{2} + 8}}\\end{matrix}\\right]$"
      ],
      "text/plain": [
       "Matrix([\n",
       "[  2*q*sqrt((1 - q**2)/(9*q**4 - 16*q**2 + 8)), q, (2 - 3*q**2)*sqrt(1/(9*q**4 - 16*q**2 + 8)), 2*(q**2 - 1)*sqrt(1/(9*q**4 - 16*q**2 + 8)), q*sqrt((1 - q**2)/(9*q**4 - 16*q**2 + 8))*(-9*q**4 + 16*q**2 - 8)*sqrt(1/(9*q**4 - 16*q**2 + 8))/sqrt(1 - q**2),  sqrt(1 - q**2), sqrt((1 - q**2)/(9*q**4 - 16*q**2 + 8))*(-9*q**4 + 16*q**2 - 8)*sqrt(1/(9*q**4 - 16*q**2 + 8))],\n",
       "[  2*q*sqrt((1 - q**2)/(9*q**4 - 16*q**2 + 8)), q, (2 - 3*q**2)*sqrt(1/(9*q**4 - 16*q**2 + 8)), 2*(q**2 - 1)*sqrt(1/(9*q**4 - 16*q**2 + 8)),  q*sqrt((1 - q**2)/(9*q**4 - 16*q**2 + 8))*(9*q**4 - 16*q**2 + 8)*sqrt(1/(9*q**4 - 16*q**2 + 8))/sqrt(1 - q**2), -sqrt(1 - q**2), sqrt((1 - q**2)/(9*q**4 - 16*q**2 + 8))*(-9*q**4 + 16*q**2 - 8)*sqrt(1/(9*q**4 - 16*q**2 + 8))],\n",
       "[  2*q*sqrt((1 - q**2)/(9*q**4 - 16*q**2 + 8)), q, (3*q**2 - 2)*sqrt(1/(9*q**4 - 16*q**2 + 8)), 2*(1 - q**2)*sqrt(1/(9*q**4 - 16*q**2 + 8)), q*sqrt((1 - q**2)/(9*q**4 - 16*q**2 + 8))*(-9*q**4 + 16*q**2 - 8)*sqrt(1/(9*q**4 - 16*q**2 + 8))/sqrt(1 - q**2), -sqrt(1 - q**2),  sqrt((1 - q**2)/(9*q**4 - 16*q**2 + 8))*(9*q**4 - 16*q**2 + 8)*sqrt(1/(9*q**4 - 16*q**2 + 8))],\n",
       "[  2*q*sqrt((1 - q**2)/(9*q**4 - 16*q**2 + 8)), q, (3*q**2 - 2)*sqrt(1/(9*q**4 - 16*q**2 + 8)), 2*(1 - q**2)*sqrt(1/(9*q**4 - 16*q**2 + 8)),  q*sqrt((1 - q**2)/(9*q**4 - 16*q**2 + 8))*(9*q**4 - 16*q**2 + 8)*sqrt(1/(9*q**4 - 16*q**2 + 8))/sqrt(1 - q**2),  sqrt(1 - q**2),  sqrt((1 - q**2)/(9*q**4 - 16*q**2 + 8))*(9*q**4 - 16*q**2 + 8)*sqrt(1/(9*q**4 - 16*q**2 + 8))],\n",
       "[-2*q*sqrt(-(q**2 - 1)/(9*q**4 - 16*q**2 + 8)), q, (2 - 3*q**2)*sqrt(1/(9*q**4 - 16*q**2 + 8)), 2*(q**2 - 1)*sqrt(1/(9*q**4 - 16*q**2 + 8)), q*sqrt((1 - q**2)/(9*q**4 - 16*q**2 + 8))*(-9*q**4 + 16*q**2 - 8)*sqrt(1/(9*q**4 - 16*q**2 + 8))/sqrt(1 - q**2), -sqrt(1 - q**2),  sqrt((1 - q**2)/(9*q**4 - 16*q**2 + 8))*(9*q**4 - 16*q**2 + 8)*sqrt(1/(9*q**4 - 16*q**2 + 8))],\n",
       "[-2*q*sqrt(-(q**2 - 1)/(9*q**4 - 16*q**2 + 8)), q, (2 - 3*q**2)*sqrt(1/(9*q**4 - 16*q**2 + 8)), 2*(q**2 - 1)*sqrt(1/(9*q**4 - 16*q**2 + 8)),  q*sqrt((1 - q**2)/(9*q**4 - 16*q**2 + 8))*(9*q**4 - 16*q**2 + 8)*sqrt(1/(9*q**4 - 16*q**2 + 8))/sqrt(1 - q**2),  sqrt(1 - q**2),  sqrt((1 - q**2)/(9*q**4 - 16*q**2 + 8))*(9*q**4 - 16*q**2 + 8)*sqrt(1/(9*q**4 - 16*q**2 + 8))],\n",
       "[-2*q*sqrt(-(q**2 - 1)/(9*q**4 - 16*q**2 + 8)), q, (3*q**2 - 2)*sqrt(1/(9*q**4 - 16*q**2 + 8)), 2*(1 - q**2)*sqrt(1/(9*q**4 - 16*q**2 + 8)), q*sqrt((1 - q**2)/(9*q**4 - 16*q**2 + 8))*(-9*q**4 + 16*q**2 - 8)*sqrt(1/(9*q**4 - 16*q**2 + 8))/sqrt(1 - q**2),  sqrt(1 - q**2), sqrt((1 - q**2)/(9*q**4 - 16*q**2 + 8))*(-9*q**4 + 16*q**2 - 8)*sqrt(1/(9*q**4 - 16*q**2 + 8))],\n",
       "[-2*q*sqrt(-(q**2 - 1)/(9*q**4 - 16*q**2 + 8)), q, (3*q**2 - 2)*sqrt(1/(9*q**4 - 16*q**2 + 8)), 2*(1 - q**2)*sqrt(1/(9*q**4 - 16*q**2 + 8)),  q*sqrt((1 - q**2)/(9*q**4 - 16*q**2 + 8))*(9*q**4 - 16*q**2 + 8)*sqrt(1/(9*q**4 - 16*q**2 + 8))/sqrt(1 - q**2), -sqrt(1 - q**2), sqrt((1 - q**2)/(9*q**4 - 16*q**2 + 8))*(-9*q**4 + 16*q**2 - 8)*sqrt(1/(9*q**4 - 16*q**2 + 8))]])"
      ]
     },
     "execution_count": 152,
     "metadata": {},
     "output_type": "execute_result"
    }
   ],
   "source": [
    "w += 1\n",
    "print(w)\n",
    "Matrix(eqn_solutions[w])"
   ]
  },
  {
   "cell_type": "code",
   "execution_count": null,
   "metadata": {},
   "outputs": [
    {
     "name": "stdout",
     "output_type": "stream",
     "text": [
      "28\n"
     ]
    },
    {
     "data": {
      "text/latex": [
       "$\\displaystyle \\left[\\begin{matrix}q \\sqrt{\\frac{1 - q^{2}}{q^{4} - q^{2} + 1}} & q & - q^{2} \\sqrt{\\frac{1}{q^{4} - q^{2} + 1}} & \\left(q^{2} - 1\\right) \\sqrt{\\frac{1}{q^{4} - q^{2} + 1}} & \\sqrt{\\frac{1 - q^{2}}{q^{4} - q^{2} + 1}} \\left(- q^{4} + q^{2} - 1\\right) \\sqrt{\\frac{1}{q^{4} - q^{2} + 1}} & q & \\sqrt{\\frac{1 - q^{2}}{q^{4} - q^{2} + 1}} \\left(- q^{4} + q^{2} - 1\\right) \\sqrt{\\frac{1}{q^{4} - q^{2} + 1}}\\\\q \\sqrt{\\frac{1 - q^{2}}{q^{4} - q^{2} + 1}} & q & - q^{2} \\sqrt{\\frac{1}{q^{4} - q^{2} + 1}} & \\left(q^{2} - 1\\right) \\sqrt{\\frac{1}{q^{4} - q^{2} + 1}} & \\sqrt{\\frac{1 - q^{2}}{q^{4} - q^{2} + 1}} \\left(q^{4} - q^{2} + 1\\right) \\sqrt{\\frac{1}{q^{4} - q^{2} + 1}} & - q & \\sqrt{\\frac{1 - q^{2}}{q^{4} - q^{2} + 1}} \\left(- q^{4} + q^{2} - 1\\right) \\sqrt{\\frac{1}{q^{4} - q^{2} + 1}}\\\\q \\sqrt{\\frac{1 - q^{2}}{q^{4} - q^{2} + 1}} & q & q^{2} \\sqrt{\\frac{1}{q^{4} - q^{2} + 1}} & \\left(1 - q^{2}\\right) \\sqrt{\\frac{1}{q^{4} - q^{2} + 1}} & \\sqrt{\\frac{1 - q^{2}}{q^{4} - q^{2} + 1}} \\left(- q^{4} + q^{2} - 1\\right) \\sqrt{\\frac{1}{q^{4} - q^{2} + 1}} & - q & \\sqrt{\\frac{1 - q^{2}}{q^{4} - q^{2} + 1}} \\left(q^{4} - q^{2} + 1\\right) \\sqrt{\\frac{1}{q^{4} - q^{2} + 1}}\\\\q \\sqrt{\\frac{1 - q^{2}}{q^{4} - q^{2} + 1}} & q & q^{2} \\sqrt{\\frac{1}{q^{4} - q^{2} + 1}} & \\left(1 - q^{2}\\right) \\sqrt{\\frac{1}{q^{4} - q^{2} + 1}} & \\sqrt{\\frac{1 - q^{2}}{q^{4} - q^{2} + 1}} \\left(q^{4} - q^{2} + 1\\right) \\sqrt{\\frac{1}{q^{4} - q^{2} + 1}} & q & \\sqrt{\\frac{1 - q^{2}}{q^{4} - q^{2} + 1}} \\left(q^{4} - q^{2} + 1\\right) \\sqrt{\\frac{1}{q^{4} - q^{2} + 1}}\\\\- q \\sqrt{- \\frac{q^{2} - 1}{q^{4} - q^{2} + 1}} & q & - q^{2} \\sqrt{\\frac{1}{q^{4} - q^{2} + 1}} & \\left(q^{2} - 1\\right) \\sqrt{\\frac{1}{q^{4} - q^{2} + 1}} & \\sqrt{\\frac{1 - q^{2}}{q^{4} - q^{2} + 1}} \\left(- q^{4} + q^{2} - 1\\right) \\sqrt{\\frac{1}{q^{4} - q^{2} + 1}} & - q & \\sqrt{\\frac{1 - q^{2}}{q^{4} - q^{2} + 1}} \\left(q^{4} - q^{2} + 1\\right) \\sqrt{\\frac{1}{q^{4} - q^{2} + 1}}\\\\- q \\sqrt{- \\frac{q^{2} - 1}{q^{4} - q^{2} + 1}} & q & - q^{2} \\sqrt{\\frac{1}{q^{4} - q^{2} + 1}} & \\left(q^{2} - 1\\right) \\sqrt{\\frac{1}{q^{4} - q^{2} + 1}} & \\sqrt{\\frac{1 - q^{2}}{q^{4} - q^{2} + 1}} \\left(q^{4} - q^{2} + 1\\right) \\sqrt{\\frac{1}{q^{4} - q^{2} + 1}} & q & \\sqrt{\\frac{1 - q^{2}}{q^{4} - q^{2} + 1}} \\left(q^{4} - q^{2} + 1\\right) \\sqrt{\\frac{1}{q^{4} - q^{2} + 1}}\\\\- q \\sqrt{- \\frac{q^{2} - 1}{q^{4} - q^{2} + 1}} & q & q^{2} \\sqrt{\\frac{1}{q^{4} - q^{2} + 1}} & \\left(1 - q^{2}\\right) \\sqrt{\\frac{1}{q^{4} - q^{2} + 1}} & \\sqrt{\\frac{1 - q^{2}}{q^{4} - q^{2} + 1}} \\left(- q^{4} + q^{2} - 1\\right) \\sqrt{\\frac{1}{q^{4} - q^{2} + 1}} & q & \\sqrt{\\frac{1 - q^{2}}{q^{4} - q^{2} + 1}} \\left(- q^{4} + q^{2} - 1\\right) \\sqrt{\\frac{1}{q^{4} - q^{2} + 1}}\\\\- q \\sqrt{- \\frac{q^{2} - 1}{q^{4} - q^{2} + 1}} & q & q^{2} \\sqrt{\\frac{1}{q^{4} - q^{2} + 1}} & \\left(1 - q^{2}\\right) \\sqrt{\\frac{1}{q^{4} - q^{2} + 1}} & \\sqrt{\\frac{1 - q^{2}}{q^{4} - q^{2} + 1}} \\left(q^{4} - q^{2} + 1\\right) \\sqrt{\\frac{1}{q^{4} - q^{2} + 1}} & - q & \\sqrt{\\frac{1 - q^{2}}{q^{4} - q^{2} + 1}} \\left(- q^{4} + q^{2} - 1\\right) \\sqrt{\\frac{1}{q^{4} - q^{2} + 1}}\\end{matrix}\\right]$"
      ],
      "text/plain": [
       "Matrix([\n",
       "[  q*sqrt((1 - q**2)/(q**4 - q**2 + 1)), q, -q**2*sqrt(1/(q**4 - q**2 + 1)), (q**2 - 1)*sqrt(1/(q**4 - q**2 + 1)), sqrt((1 - q**2)/(q**4 - q**2 + 1))*(-q**4 + q**2 - 1)*sqrt(1/(q**4 - q**2 + 1)),  q, sqrt((1 - q**2)/(q**4 - q**2 + 1))*(-q**4 + q**2 - 1)*sqrt(1/(q**4 - q**2 + 1))],\n",
       "[  q*sqrt((1 - q**2)/(q**4 - q**2 + 1)), q, -q**2*sqrt(1/(q**4 - q**2 + 1)), (q**2 - 1)*sqrt(1/(q**4 - q**2 + 1)),  sqrt((1 - q**2)/(q**4 - q**2 + 1))*(q**4 - q**2 + 1)*sqrt(1/(q**4 - q**2 + 1)), -q, sqrt((1 - q**2)/(q**4 - q**2 + 1))*(-q**4 + q**2 - 1)*sqrt(1/(q**4 - q**2 + 1))],\n",
       "[  q*sqrt((1 - q**2)/(q**4 - q**2 + 1)), q,  q**2*sqrt(1/(q**4 - q**2 + 1)), (1 - q**2)*sqrt(1/(q**4 - q**2 + 1)), sqrt((1 - q**2)/(q**4 - q**2 + 1))*(-q**4 + q**2 - 1)*sqrt(1/(q**4 - q**2 + 1)), -q,  sqrt((1 - q**2)/(q**4 - q**2 + 1))*(q**4 - q**2 + 1)*sqrt(1/(q**4 - q**2 + 1))],\n",
       "[  q*sqrt((1 - q**2)/(q**4 - q**2 + 1)), q,  q**2*sqrt(1/(q**4 - q**2 + 1)), (1 - q**2)*sqrt(1/(q**4 - q**2 + 1)),  sqrt((1 - q**2)/(q**4 - q**2 + 1))*(q**4 - q**2 + 1)*sqrt(1/(q**4 - q**2 + 1)),  q,  sqrt((1 - q**2)/(q**4 - q**2 + 1))*(q**4 - q**2 + 1)*sqrt(1/(q**4 - q**2 + 1))],\n",
       "[-q*sqrt(-(q**2 - 1)/(q**4 - q**2 + 1)), q, -q**2*sqrt(1/(q**4 - q**2 + 1)), (q**2 - 1)*sqrt(1/(q**4 - q**2 + 1)), sqrt((1 - q**2)/(q**4 - q**2 + 1))*(-q**4 + q**2 - 1)*sqrt(1/(q**4 - q**2 + 1)), -q,  sqrt((1 - q**2)/(q**4 - q**2 + 1))*(q**4 - q**2 + 1)*sqrt(1/(q**4 - q**2 + 1))],\n",
       "[-q*sqrt(-(q**2 - 1)/(q**4 - q**2 + 1)), q, -q**2*sqrt(1/(q**4 - q**2 + 1)), (q**2 - 1)*sqrt(1/(q**4 - q**2 + 1)),  sqrt((1 - q**2)/(q**4 - q**2 + 1))*(q**4 - q**2 + 1)*sqrt(1/(q**4 - q**2 + 1)),  q,  sqrt((1 - q**2)/(q**4 - q**2 + 1))*(q**4 - q**2 + 1)*sqrt(1/(q**4 - q**2 + 1))],\n",
       "[-q*sqrt(-(q**2 - 1)/(q**4 - q**2 + 1)), q,  q**2*sqrt(1/(q**4 - q**2 + 1)), (1 - q**2)*sqrt(1/(q**4 - q**2 + 1)), sqrt((1 - q**2)/(q**4 - q**2 + 1))*(-q**4 + q**2 - 1)*sqrt(1/(q**4 - q**2 + 1)),  q, sqrt((1 - q**2)/(q**4 - q**2 + 1))*(-q**4 + q**2 - 1)*sqrt(1/(q**4 - q**2 + 1))],\n",
       "[-q*sqrt(-(q**2 - 1)/(q**4 - q**2 + 1)), q,  q**2*sqrt(1/(q**4 - q**2 + 1)), (1 - q**2)*sqrt(1/(q**4 - q**2 + 1)),  sqrt((1 - q**2)/(q**4 - q**2 + 1))*(q**4 - q**2 + 1)*sqrt(1/(q**4 - q**2 + 1)), -q, sqrt((1 - q**2)/(q**4 - q**2 + 1))*(-q**4 + q**2 - 1)*sqrt(1/(q**4 - q**2 + 1))]])"
      ]
     },
     "execution_count": 153,
     "metadata": {},
     "output_type": "execute_result"
    }
   ],
   "source": [
    "w += 1\n",
    "print(w)\n",
    "Matrix(eqn_solutions[w])"
   ]
  },
  {
   "cell_type": "code",
   "execution_count": null,
   "metadata": {},
   "outputs": [
    {
     "name": "stdout",
     "output_type": "stream",
     "text": [
      "29\n"
     ]
    },
    {
     "data": {
      "text/latex": [
       "$\\displaystyle \\left[\\begin{matrix}- 2 q \\sqrt{- \\left(q - 1\\right) \\left(q + 1\\right)} & q & 1 - 2 q^{2} & 2 q^{2} & - q & \\sqrt{- \\left(q - 1\\right) \\left(q + 1\\right)} & - \\sqrt{1 - q^{2}}\\\\- 2 q \\sqrt{- \\left(q - 1\\right) \\left(q + 1\\right)} & q & 1 - 2 q^{2} & 2 q^{2} & q & - \\sqrt{- \\left(q - 1\\right) \\left(q + 1\\right)} & - \\sqrt{1 - q^{2}}\\\\- 2 q \\sqrt{- \\left(q - 1\\right) \\left(q + 1\\right)} & q & 2 q^{2} - 1 & - 2 q^{2} & - q & - \\sqrt{- \\left(q - 1\\right) \\left(q + 1\\right)} & \\sqrt{1 - q^{2}}\\\\- 2 q \\sqrt{- \\left(q - 1\\right) \\left(q + 1\\right)} & q & 2 q^{2} - 1 & - 2 q^{2} & q & \\sqrt{- \\left(q - 1\\right) \\left(q + 1\\right)} & \\sqrt{1 - q^{2}}\\\\2 q \\sqrt{- \\left(q - 1\\right) \\left(q + 1\\right)} & q & 1 - 2 q^{2} & 2 q^{2} & - q & - \\sqrt{- \\left(q - 1\\right) \\left(q + 1\\right)} & \\sqrt{1 - q^{2}}\\\\2 q \\sqrt{- \\left(q - 1\\right) \\left(q + 1\\right)} & q & 1 - 2 q^{2} & 2 q^{2} & q & \\sqrt{- \\left(q - 1\\right) \\left(q + 1\\right)} & \\sqrt{1 - q^{2}}\\\\2 q \\sqrt{- \\left(q - 1\\right) \\left(q + 1\\right)} & q & 2 q^{2} - 1 & - 2 q^{2} & - q & \\sqrt{- \\left(q - 1\\right) \\left(q + 1\\right)} & - \\sqrt{1 - q^{2}}\\\\2 q \\sqrt{- \\left(q - 1\\right) \\left(q + 1\\right)} & q & 2 q^{2} - 1 & - 2 q^{2} & q & - \\sqrt{- \\left(q - 1\\right) \\left(q + 1\\right)} & - \\sqrt{1 - q^{2}}\\end{matrix}\\right]$"
      ],
      "text/plain": [
       "Matrix([\n",
       "[-2*q*sqrt(-(q - 1)*(q + 1)), q, 1 - 2*q**2,  2*q**2, -q,  sqrt(-(q - 1)*(q + 1)), -sqrt(1 - q**2)],\n",
       "[-2*q*sqrt(-(q - 1)*(q + 1)), q, 1 - 2*q**2,  2*q**2,  q, -sqrt(-(q - 1)*(q + 1)), -sqrt(1 - q**2)],\n",
       "[-2*q*sqrt(-(q - 1)*(q + 1)), q, 2*q**2 - 1, -2*q**2, -q, -sqrt(-(q - 1)*(q + 1)),  sqrt(1 - q**2)],\n",
       "[-2*q*sqrt(-(q - 1)*(q + 1)), q, 2*q**2 - 1, -2*q**2,  q,  sqrt(-(q - 1)*(q + 1)),  sqrt(1 - q**2)],\n",
       "[ 2*q*sqrt(-(q - 1)*(q + 1)), q, 1 - 2*q**2,  2*q**2, -q, -sqrt(-(q - 1)*(q + 1)),  sqrt(1 - q**2)],\n",
       "[ 2*q*sqrt(-(q - 1)*(q + 1)), q, 1 - 2*q**2,  2*q**2,  q,  sqrt(-(q - 1)*(q + 1)),  sqrt(1 - q**2)],\n",
       "[ 2*q*sqrt(-(q - 1)*(q + 1)), q, 2*q**2 - 1, -2*q**2, -q,  sqrt(-(q - 1)*(q + 1)), -sqrt(1 - q**2)],\n",
       "[ 2*q*sqrt(-(q - 1)*(q + 1)), q, 2*q**2 - 1, -2*q**2,  q, -sqrt(-(q - 1)*(q + 1)), -sqrt(1 - q**2)]])"
      ]
     },
     "execution_count": 154,
     "metadata": {},
     "output_type": "execute_result"
    }
   ],
   "source": [
    "w += 1\n",
    "print(w)\n",
    "Matrix(eqn_solutions[w])"
   ]
  },
  {
   "cell_type": "code",
   "execution_count": null,
   "metadata": {},
   "outputs": [
    {
     "name": "stdout",
     "output_type": "stream",
     "text": [
      "30\n"
     ]
    },
    {
     "data": {
      "text/latex": [
       "$\\displaystyle \\left[\\begin{matrix}- 4 q^{2} \\sqrt{\\frac{1}{21 q^{4} - 2 q^{2} + 1}} & q & \\left(3 q^{2} - 1\\right) \\sqrt{\\frac{1}{21 q^{4} - 2 q^{2} + 1}} & 2 q \\sqrt{\\frac{1 - q^{2}}{21 q^{4} - 2 q^{2} + 1}} & - 2 q \\sqrt{\\frac{1}{3 q^{2} + 1}} & \\sqrt{\\frac{1 - q^{2}}{21 q^{4} - 2 q^{2} + 1}} \\cdot \\left(21 q^{4} - 2 q^{2} + 1\\right) \\sqrt{\\frac{1}{3 q^{2} + 1}} \\sqrt{\\frac{1}{21 q^{4} - 2 q^{2} + 1}} & \\sqrt{\\frac{1 - q^{2}}{21 q^{4} - 2 q^{2} + 1}} \\left(- 21 q^{4} + 2 q^{2} - 1\\right) \\sqrt{\\frac{1}{21 q^{4} - 2 q^{2} + 1}}\\\\- 4 q^{2} \\sqrt{\\frac{1}{21 q^{4} - 2 q^{2} + 1}} & q & \\left(3 q^{2} - 1\\right) \\sqrt{\\frac{1}{21 q^{4} - 2 q^{2} + 1}} & 2 q \\sqrt{\\frac{1 - q^{2}}{21 q^{4} - 2 q^{2} + 1}} & 2 q \\sqrt{\\frac{1}{3 q^{2} + 1}} & \\sqrt{\\frac{1 - q^{2}}{21 q^{4} - 2 q^{2} + 1}} \\left(- 21 q^{4} + 2 q^{2} - 1\\right) \\sqrt{\\frac{1}{3 q^{2} + 1}} \\sqrt{\\frac{1}{21 q^{4} - 2 q^{2} + 1}} & \\sqrt{\\frac{1 - q^{2}}{21 q^{4} - 2 q^{2} + 1}} \\left(- 21 q^{4} + 2 q^{2} - 1\\right) \\sqrt{\\frac{1}{21 q^{4} - 2 q^{2} + 1}}\\\\- 4 q^{2} \\sqrt{\\frac{1}{21 q^{4} - 2 q^{2} + 1}} & q & \\left(3 q^{2} - 1\\right) \\sqrt{\\frac{1}{21 q^{4} - 2 q^{2} + 1}} & - 2 q \\sqrt{- \\frac{q^{2} - 1}{21 q^{4} - 2 q^{2} + 1}} & - 2 q \\sqrt{\\frac{1}{3 q^{2} + 1}} & \\sqrt{\\frac{1 - q^{2}}{21 q^{4} - 2 q^{2} + 1}} \\left(- 21 q^{4} + 2 q^{2} - 1\\right) \\sqrt{\\frac{1}{3 q^{2} + 1}} \\sqrt{\\frac{1}{21 q^{4} - 2 q^{2} + 1}} & \\sqrt{\\frac{1 - q^{2}}{21 q^{4} - 2 q^{2} + 1}} \\cdot \\left(21 q^{4} - 2 q^{2} + 1\\right) \\sqrt{\\frac{1}{21 q^{4} - 2 q^{2} + 1}}\\\\- 4 q^{2} \\sqrt{\\frac{1}{21 q^{4} - 2 q^{2} + 1}} & q & \\left(3 q^{2} - 1\\right) \\sqrt{\\frac{1}{21 q^{4} - 2 q^{2} + 1}} & - 2 q \\sqrt{- \\frac{q^{2} - 1}{21 q^{4} - 2 q^{2} + 1}} & 2 q \\sqrt{\\frac{1}{3 q^{2} + 1}} & \\sqrt{\\frac{1 - q^{2}}{21 q^{4} - 2 q^{2} + 1}} \\cdot \\left(21 q^{4} - 2 q^{2} + 1\\right) \\sqrt{\\frac{1}{3 q^{2} + 1}} \\sqrt{\\frac{1}{21 q^{4} - 2 q^{2} + 1}} & \\sqrt{\\frac{1 - q^{2}}{21 q^{4} - 2 q^{2} + 1}} \\cdot \\left(21 q^{4} - 2 q^{2} + 1\\right) \\sqrt{\\frac{1}{21 q^{4} - 2 q^{2} + 1}}\\\\4 q^{2} \\sqrt{\\frac{1}{21 q^{4} - 2 q^{2} + 1}} & q & \\left(1 - 3 q^{2}\\right) \\sqrt{\\frac{1}{21 q^{4} - 2 q^{2} + 1}} & 2 q \\sqrt{\\frac{1 - q^{2}}{21 q^{4} - 2 q^{2} + 1}} & - 2 q \\sqrt{\\frac{1}{3 q^{2} + 1}} & \\sqrt{\\frac{1 - q^{2}}{21 q^{4} - 2 q^{2} + 1}} \\left(- 21 q^{4} + 2 q^{2} - 1\\right) \\sqrt{\\frac{1}{3 q^{2} + 1}} \\sqrt{\\frac{1}{21 q^{4} - 2 q^{2} + 1}} & \\sqrt{\\frac{1 - q^{2}}{21 q^{4} - 2 q^{2} + 1}} \\cdot \\left(21 q^{4} - 2 q^{2} + 1\\right) \\sqrt{\\frac{1}{21 q^{4} - 2 q^{2} + 1}}\\\\4 q^{2} \\sqrt{\\frac{1}{21 q^{4} - 2 q^{2} + 1}} & q & \\left(1 - 3 q^{2}\\right) \\sqrt{\\frac{1}{21 q^{4} - 2 q^{2} + 1}} & 2 q \\sqrt{\\frac{1 - q^{2}}{21 q^{4} - 2 q^{2} + 1}} & 2 q \\sqrt{\\frac{1}{3 q^{2} + 1}} & \\sqrt{\\frac{1 - q^{2}}{21 q^{4} - 2 q^{2} + 1}} \\cdot \\left(21 q^{4} - 2 q^{2} + 1\\right) \\sqrt{\\frac{1}{3 q^{2} + 1}} \\sqrt{\\frac{1}{21 q^{4} - 2 q^{2} + 1}} & \\sqrt{\\frac{1 - q^{2}}{21 q^{4} - 2 q^{2} + 1}} \\cdot \\left(21 q^{4} - 2 q^{2} + 1\\right) \\sqrt{\\frac{1}{21 q^{4} - 2 q^{2} + 1}}\\\\4 q^{2} \\sqrt{\\frac{1}{21 q^{4} - 2 q^{2} + 1}} & q & \\left(1 - 3 q^{2}\\right) \\sqrt{\\frac{1}{21 q^{4} - 2 q^{2} + 1}} & - 2 q \\sqrt{- \\frac{q^{2} - 1}{21 q^{4} - 2 q^{2} + 1}} & - 2 q \\sqrt{\\frac{1}{3 q^{2} + 1}} & \\sqrt{\\frac{1 - q^{2}}{21 q^{4} - 2 q^{2} + 1}} \\cdot \\left(21 q^{4} - 2 q^{2} + 1\\right) \\sqrt{\\frac{1}{3 q^{2} + 1}} \\sqrt{\\frac{1}{21 q^{4} - 2 q^{2} + 1}} & \\sqrt{\\frac{1 - q^{2}}{21 q^{4} - 2 q^{2} + 1}} \\left(- 21 q^{4} + 2 q^{2} - 1\\right) \\sqrt{\\frac{1}{21 q^{4} - 2 q^{2} + 1}}\\\\4 q^{2} \\sqrt{\\frac{1}{21 q^{4} - 2 q^{2} + 1}} & q & \\left(1 - 3 q^{2}\\right) \\sqrt{\\frac{1}{21 q^{4} - 2 q^{2} + 1}} & - 2 q \\sqrt{- \\frac{q^{2} - 1}{21 q^{4} - 2 q^{2} + 1}} & 2 q \\sqrt{\\frac{1}{3 q^{2} + 1}} & \\sqrt{\\frac{1 - q^{2}}{21 q^{4} - 2 q^{2} + 1}} \\left(- 21 q^{4} + 2 q^{2} - 1\\right) \\sqrt{\\frac{1}{3 q^{2} + 1}} \\sqrt{\\frac{1}{21 q^{4} - 2 q^{2} + 1}} & \\sqrt{\\frac{1 - q^{2}}{21 q^{4} - 2 q^{2} + 1}} \\left(- 21 q^{4} + 2 q^{2} - 1\\right) \\sqrt{\\frac{1}{21 q^{4} - 2 q^{2} + 1}}\\end{matrix}\\right]$"
      ],
      "text/plain": [
       "Matrix([\n",
       "[-4*q**2*sqrt(1/(21*q**4 - 2*q**2 + 1)), q, (3*q**2 - 1)*sqrt(1/(21*q**4 - 2*q**2 + 1)),   2*q*sqrt((1 - q**2)/(21*q**4 - 2*q**2 + 1)), -2*q*sqrt(1/(3*q**2 + 1)),  sqrt((1 - q**2)/(21*q**4 - 2*q**2 + 1))*(21*q**4 - 2*q**2 + 1)*sqrt(1/(3*q**2 + 1))*sqrt(1/(21*q**4 - 2*q**2 + 1)), sqrt((1 - q**2)/(21*q**4 - 2*q**2 + 1))*(-21*q**4 + 2*q**2 - 1)*sqrt(1/(21*q**4 - 2*q**2 + 1))],\n",
       "[-4*q**2*sqrt(1/(21*q**4 - 2*q**2 + 1)), q, (3*q**2 - 1)*sqrt(1/(21*q**4 - 2*q**2 + 1)),   2*q*sqrt((1 - q**2)/(21*q**4 - 2*q**2 + 1)),  2*q*sqrt(1/(3*q**2 + 1)), sqrt((1 - q**2)/(21*q**4 - 2*q**2 + 1))*(-21*q**4 + 2*q**2 - 1)*sqrt(1/(3*q**2 + 1))*sqrt(1/(21*q**4 - 2*q**2 + 1)), sqrt((1 - q**2)/(21*q**4 - 2*q**2 + 1))*(-21*q**4 + 2*q**2 - 1)*sqrt(1/(21*q**4 - 2*q**2 + 1))],\n",
       "[-4*q**2*sqrt(1/(21*q**4 - 2*q**2 + 1)), q, (3*q**2 - 1)*sqrt(1/(21*q**4 - 2*q**2 + 1)), -2*q*sqrt(-(q**2 - 1)/(21*q**4 - 2*q**2 + 1)), -2*q*sqrt(1/(3*q**2 + 1)), sqrt((1 - q**2)/(21*q**4 - 2*q**2 + 1))*(-21*q**4 + 2*q**2 - 1)*sqrt(1/(3*q**2 + 1))*sqrt(1/(21*q**4 - 2*q**2 + 1)),  sqrt((1 - q**2)/(21*q**4 - 2*q**2 + 1))*(21*q**4 - 2*q**2 + 1)*sqrt(1/(21*q**4 - 2*q**2 + 1))],\n",
       "[-4*q**2*sqrt(1/(21*q**4 - 2*q**2 + 1)), q, (3*q**2 - 1)*sqrt(1/(21*q**4 - 2*q**2 + 1)), -2*q*sqrt(-(q**2 - 1)/(21*q**4 - 2*q**2 + 1)),  2*q*sqrt(1/(3*q**2 + 1)),  sqrt((1 - q**2)/(21*q**4 - 2*q**2 + 1))*(21*q**4 - 2*q**2 + 1)*sqrt(1/(3*q**2 + 1))*sqrt(1/(21*q**4 - 2*q**2 + 1)),  sqrt((1 - q**2)/(21*q**4 - 2*q**2 + 1))*(21*q**4 - 2*q**2 + 1)*sqrt(1/(21*q**4 - 2*q**2 + 1))],\n",
       "[ 4*q**2*sqrt(1/(21*q**4 - 2*q**2 + 1)), q, (1 - 3*q**2)*sqrt(1/(21*q**4 - 2*q**2 + 1)),   2*q*sqrt((1 - q**2)/(21*q**4 - 2*q**2 + 1)), -2*q*sqrt(1/(3*q**2 + 1)), sqrt((1 - q**2)/(21*q**4 - 2*q**2 + 1))*(-21*q**4 + 2*q**2 - 1)*sqrt(1/(3*q**2 + 1))*sqrt(1/(21*q**4 - 2*q**2 + 1)),  sqrt((1 - q**2)/(21*q**4 - 2*q**2 + 1))*(21*q**4 - 2*q**2 + 1)*sqrt(1/(21*q**4 - 2*q**2 + 1))],\n",
       "[ 4*q**2*sqrt(1/(21*q**4 - 2*q**2 + 1)), q, (1 - 3*q**2)*sqrt(1/(21*q**4 - 2*q**2 + 1)),   2*q*sqrt((1 - q**2)/(21*q**4 - 2*q**2 + 1)),  2*q*sqrt(1/(3*q**2 + 1)),  sqrt((1 - q**2)/(21*q**4 - 2*q**2 + 1))*(21*q**4 - 2*q**2 + 1)*sqrt(1/(3*q**2 + 1))*sqrt(1/(21*q**4 - 2*q**2 + 1)),  sqrt((1 - q**2)/(21*q**4 - 2*q**2 + 1))*(21*q**4 - 2*q**2 + 1)*sqrt(1/(21*q**4 - 2*q**2 + 1))],\n",
       "[ 4*q**2*sqrt(1/(21*q**4 - 2*q**2 + 1)), q, (1 - 3*q**2)*sqrt(1/(21*q**4 - 2*q**2 + 1)), -2*q*sqrt(-(q**2 - 1)/(21*q**4 - 2*q**2 + 1)), -2*q*sqrt(1/(3*q**2 + 1)),  sqrt((1 - q**2)/(21*q**4 - 2*q**2 + 1))*(21*q**4 - 2*q**2 + 1)*sqrt(1/(3*q**2 + 1))*sqrt(1/(21*q**4 - 2*q**2 + 1)), sqrt((1 - q**2)/(21*q**4 - 2*q**2 + 1))*(-21*q**4 + 2*q**2 - 1)*sqrt(1/(21*q**4 - 2*q**2 + 1))],\n",
       "[ 4*q**2*sqrt(1/(21*q**4 - 2*q**2 + 1)), q, (1 - 3*q**2)*sqrt(1/(21*q**4 - 2*q**2 + 1)), -2*q*sqrt(-(q**2 - 1)/(21*q**4 - 2*q**2 + 1)),  2*q*sqrt(1/(3*q**2 + 1)), sqrt((1 - q**2)/(21*q**4 - 2*q**2 + 1))*(-21*q**4 + 2*q**2 - 1)*sqrt(1/(3*q**2 + 1))*sqrt(1/(21*q**4 - 2*q**2 + 1)), sqrt((1 - q**2)/(21*q**4 - 2*q**2 + 1))*(-21*q**4 + 2*q**2 - 1)*sqrt(1/(21*q**4 - 2*q**2 + 1))]])"
      ]
     },
     "execution_count": 155,
     "metadata": {},
     "output_type": "execute_result"
    }
   ],
   "source": [
    "w += 1\n",
    "print(w)\n",
    "Matrix(eqn_solutions[w])"
   ]
  },
  {
   "cell_type": "code",
   "execution_count": null,
   "metadata": {},
   "outputs": [
    {
     "name": "stdout",
     "output_type": "stream",
     "text": [
      "31\n"
     ]
    },
    {
     "data": {
      "text/latex": [
       "$\\displaystyle \\left[\\begin{matrix}\\left(1 - q^{2}\\right) \\sqrt{\\frac{1}{q^{4} - q^{2} + 1}} & q & q \\sqrt{\\frac{1 - q^{2}}{q^{4} - q^{2} + 1}} & q^{2} \\sqrt{\\frac{1}{q^{4} - q^{2} + 1}} & \\sqrt{\\frac{1 - q^{2}}{q^{4} - q^{2} + 1}} \\left(- q^{4} + q^{2} - 1\\right) \\sqrt{\\frac{1}{q^{4} - q^{2} + 1}} & - q & \\sqrt{\\frac{1 - q^{2}}{q^{4} - q^{2} + 1}} \\left(q^{4} - q^{2} + 1\\right) \\sqrt{\\frac{1}{q^{4} - q^{2} + 1}}\\\\\\left(1 - q^{2}\\right) \\sqrt{\\frac{1}{q^{4} - q^{2} + 1}} & q & q \\sqrt{\\frac{1 - q^{2}}{q^{4} - q^{2} + 1}} & q^{2} \\sqrt{\\frac{1}{q^{4} - q^{2} + 1}} & \\sqrt{\\frac{1 - q^{2}}{q^{4} - q^{2} + 1}} \\left(q^{4} - q^{2} + 1\\right) \\sqrt{\\frac{1}{q^{4} - q^{2} + 1}} & q & \\sqrt{\\frac{1 - q^{2}}{q^{4} - q^{2} + 1}} \\left(q^{4} - q^{2} + 1\\right) \\sqrt{\\frac{1}{q^{4} - q^{2} + 1}}\\\\\\left(1 - q^{2}\\right) \\sqrt{\\frac{1}{q^{4} - q^{2} + 1}} & q & - q \\sqrt{- \\frac{q^{2} - 1}{q^{4} - q^{2} + 1}} & q^{2} \\sqrt{\\frac{1}{q^{4} - q^{2} + 1}} & \\sqrt{\\frac{1 - q^{2}}{q^{4} - q^{2} + 1}} \\left(- q^{4} + q^{2} - 1\\right) \\sqrt{\\frac{1}{q^{4} - q^{2} + 1}} & q & \\sqrt{\\frac{1 - q^{2}}{q^{4} - q^{2} + 1}} \\left(- q^{4} + q^{2} - 1\\right) \\sqrt{\\frac{1}{q^{4} - q^{2} + 1}}\\\\\\left(1 - q^{2}\\right) \\sqrt{\\frac{1}{q^{4} - q^{2} + 1}} & q & - q \\sqrt{- \\frac{q^{2} - 1}{q^{4} - q^{2} + 1}} & q^{2} \\sqrt{\\frac{1}{q^{4} - q^{2} + 1}} & \\sqrt{\\frac{1 - q^{2}}{q^{4} - q^{2} + 1}} \\left(q^{4} - q^{2} + 1\\right) \\sqrt{\\frac{1}{q^{4} - q^{2} + 1}} & - q & \\sqrt{\\frac{1 - q^{2}}{q^{4} - q^{2} + 1}} \\left(- q^{4} + q^{2} - 1\\right) \\sqrt{\\frac{1}{q^{4} - q^{2} + 1}}\\\\\\left(q^{2} - 1\\right) \\sqrt{\\frac{1}{q^{4} - q^{2} + 1}} & q & q \\sqrt{\\frac{1 - q^{2}}{q^{4} - q^{2} + 1}} & - q^{2} \\sqrt{\\frac{1}{q^{4} - q^{2} + 1}} & \\sqrt{\\frac{1 - q^{2}}{q^{4} - q^{2} + 1}} \\left(- q^{4} + q^{2} - 1\\right) \\sqrt{\\frac{1}{q^{4} - q^{2} + 1}} & q & \\sqrt{\\frac{1 - q^{2}}{q^{4} - q^{2} + 1}} \\left(- q^{4} + q^{2} - 1\\right) \\sqrt{\\frac{1}{q^{4} - q^{2} + 1}}\\\\\\left(q^{2} - 1\\right) \\sqrt{\\frac{1}{q^{4} - q^{2} + 1}} & q & q \\sqrt{\\frac{1 - q^{2}}{q^{4} - q^{2} + 1}} & - q^{2} \\sqrt{\\frac{1}{q^{4} - q^{2} + 1}} & \\sqrt{\\frac{1 - q^{2}}{q^{4} - q^{2} + 1}} \\left(q^{4} - q^{2} + 1\\right) \\sqrt{\\frac{1}{q^{4} - q^{2} + 1}} & - q & \\sqrt{\\frac{1 - q^{2}}{q^{4} - q^{2} + 1}} \\left(- q^{4} + q^{2} - 1\\right) \\sqrt{\\frac{1}{q^{4} - q^{2} + 1}}\\\\\\left(q^{2} - 1\\right) \\sqrt{\\frac{1}{q^{4} - q^{2} + 1}} & q & - q \\sqrt{- \\frac{q^{2} - 1}{q^{4} - q^{2} + 1}} & - q^{2} \\sqrt{\\frac{1}{q^{4} - q^{2} + 1}} & \\sqrt{\\frac{1 - q^{2}}{q^{4} - q^{2} + 1}} \\left(- q^{4} + q^{2} - 1\\right) \\sqrt{\\frac{1}{q^{4} - q^{2} + 1}} & - q & \\sqrt{\\frac{1 - q^{2}}{q^{4} - q^{2} + 1}} \\left(q^{4} - q^{2} + 1\\right) \\sqrt{\\frac{1}{q^{4} - q^{2} + 1}}\\\\\\left(q^{2} - 1\\right) \\sqrt{\\frac{1}{q^{4} - q^{2} + 1}} & q & - q \\sqrt{- \\frac{q^{2} - 1}{q^{4} - q^{2} + 1}} & - q^{2} \\sqrt{\\frac{1}{q^{4} - q^{2} + 1}} & \\sqrt{\\frac{1 - q^{2}}{q^{4} - q^{2} + 1}} \\left(q^{4} - q^{2} + 1\\right) \\sqrt{\\frac{1}{q^{4} - q^{2} + 1}} & q & \\sqrt{\\frac{1 - q^{2}}{q^{4} - q^{2} + 1}} \\left(q^{4} - q^{2} + 1\\right) \\sqrt{\\frac{1}{q^{4} - q^{2} + 1}}\\end{matrix}\\right]$"
      ],
      "text/plain": [
       "Matrix([\n",
       "[(1 - q**2)*sqrt(1/(q**4 - q**2 + 1)), q,   q*sqrt((1 - q**2)/(q**4 - q**2 + 1)),  q**2*sqrt(1/(q**4 - q**2 + 1)), sqrt((1 - q**2)/(q**4 - q**2 + 1))*(-q**4 + q**2 - 1)*sqrt(1/(q**4 - q**2 + 1)), -q,  sqrt((1 - q**2)/(q**4 - q**2 + 1))*(q**4 - q**2 + 1)*sqrt(1/(q**4 - q**2 + 1))],\n",
       "[(1 - q**2)*sqrt(1/(q**4 - q**2 + 1)), q,   q*sqrt((1 - q**2)/(q**4 - q**2 + 1)),  q**2*sqrt(1/(q**4 - q**2 + 1)),  sqrt((1 - q**2)/(q**4 - q**2 + 1))*(q**4 - q**2 + 1)*sqrt(1/(q**4 - q**2 + 1)),  q,  sqrt((1 - q**2)/(q**4 - q**2 + 1))*(q**4 - q**2 + 1)*sqrt(1/(q**4 - q**2 + 1))],\n",
       "[(1 - q**2)*sqrt(1/(q**4 - q**2 + 1)), q, -q*sqrt(-(q**2 - 1)/(q**4 - q**2 + 1)),  q**2*sqrt(1/(q**4 - q**2 + 1)), sqrt((1 - q**2)/(q**4 - q**2 + 1))*(-q**4 + q**2 - 1)*sqrt(1/(q**4 - q**2 + 1)),  q, sqrt((1 - q**2)/(q**4 - q**2 + 1))*(-q**4 + q**2 - 1)*sqrt(1/(q**4 - q**2 + 1))],\n",
       "[(1 - q**2)*sqrt(1/(q**4 - q**2 + 1)), q, -q*sqrt(-(q**2 - 1)/(q**4 - q**2 + 1)),  q**2*sqrt(1/(q**4 - q**2 + 1)),  sqrt((1 - q**2)/(q**4 - q**2 + 1))*(q**4 - q**2 + 1)*sqrt(1/(q**4 - q**2 + 1)), -q, sqrt((1 - q**2)/(q**4 - q**2 + 1))*(-q**4 + q**2 - 1)*sqrt(1/(q**4 - q**2 + 1))],\n",
       "[(q**2 - 1)*sqrt(1/(q**4 - q**2 + 1)), q,   q*sqrt((1 - q**2)/(q**4 - q**2 + 1)), -q**2*sqrt(1/(q**4 - q**2 + 1)), sqrt((1 - q**2)/(q**4 - q**2 + 1))*(-q**4 + q**2 - 1)*sqrt(1/(q**4 - q**2 + 1)),  q, sqrt((1 - q**2)/(q**4 - q**2 + 1))*(-q**4 + q**2 - 1)*sqrt(1/(q**4 - q**2 + 1))],\n",
       "[(q**2 - 1)*sqrt(1/(q**4 - q**2 + 1)), q,   q*sqrt((1 - q**2)/(q**4 - q**2 + 1)), -q**2*sqrt(1/(q**4 - q**2 + 1)),  sqrt((1 - q**2)/(q**4 - q**2 + 1))*(q**4 - q**2 + 1)*sqrt(1/(q**4 - q**2 + 1)), -q, sqrt((1 - q**2)/(q**4 - q**2 + 1))*(-q**4 + q**2 - 1)*sqrt(1/(q**4 - q**2 + 1))],\n",
       "[(q**2 - 1)*sqrt(1/(q**4 - q**2 + 1)), q, -q*sqrt(-(q**2 - 1)/(q**4 - q**2 + 1)), -q**2*sqrt(1/(q**4 - q**2 + 1)), sqrt((1 - q**2)/(q**4 - q**2 + 1))*(-q**4 + q**2 - 1)*sqrt(1/(q**4 - q**2 + 1)), -q,  sqrt((1 - q**2)/(q**4 - q**2 + 1))*(q**4 - q**2 + 1)*sqrt(1/(q**4 - q**2 + 1))],\n",
       "[(q**2 - 1)*sqrt(1/(q**4 - q**2 + 1)), q, -q*sqrt(-(q**2 - 1)/(q**4 - q**2 + 1)), -q**2*sqrt(1/(q**4 - q**2 + 1)),  sqrt((1 - q**2)/(q**4 - q**2 + 1))*(q**4 - q**2 + 1)*sqrt(1/(q**4 - q**2 + 1)),  q,  sqrt((1 - q**2)/(q**4 - q**2 + 1))*(q**4 - q**2 + 1)*sqrt(1/(q**4 - q**2 + 1))]])"
      ]
     },
     "execution_count": 156,
     "metadata": {},
     "output_type": "execute_result"
    }
   ],
   "source": [
    "w += 1\n",
    "print(w)\n",
    "Matrix(eqn_solutions[w])"
   ]
  },
  {
   "cell_type": "code",
   "execution_count": null,
   "metadata": {},
   "outputs": [
    {
     "name": "stdout",
     "output_type": "stream",
     "text": [
      "32\n"
     ]
    },
    {
     "data": {
      "text/latex": [
       "$\\displaystyle \\left[\\begin{matrix}- 4 \\left(q - 1\\right) \\left(q + 1\\right) \\sqrt{\\frac{1}{21 q^{4} - 40 q^{2} + 20}} & q & \\left(3 q^{2} - 2\\right) \\sqrt{\\frac{1}{21 q^{4} - 40 q^{2} + 20}} & - 2 q \\sqrt{- \\frac{\\left(q - 1\\right) \\left(q + 1\\right)}{21 q^{4} - 40 q^{2} + 20}} & - 2 \\sqrt{\\frac{\\left(q - 1\\right) \\left(q + 1\\right)}{3 q^{2} - 4}} & \\frac{q \\sqrt{\\frac{1 - q^{2}}{21 q^{4} - 40 q^{2} + 20}} \\sqrt{\\frac{q^{2} - 1}{3 q^{2} - 4}} \\left(- 21 q^{4} + 40 q^{2} - 20\\right) \\sqrt{\\frac{1}{21 q^{4} - 40 q^{2} + 20}}}{q^{2} - 1} & \\sqrt{\\frac{1 - q^{2}}{21 q^{4} - 40 q^{2} + 20}} \\left(- 21 q^{4} + 40 q^{2} - 20\\right) \\sqrt{\\frac{1}{21 q^{4} - 40 q^{2} + 20}}\\\\- 4 \\left(q - 1\\right) \\left(q + 1\\right) \\sqrt{\\frac{1}{21 q^{4} - 40 q^{2} + 20}} & q & \\left(3 q^{2} - 2\\right) \\sqrt{\\frac{1}{21 q^{4} - 40 q^{2} + 20}} & - 2 q \\sqrt{- \\frac{\\left(q - 1\\right) \\left(q + 1\\right)}{21 q^{4} - 40 q^{2} + 20}} & 2 \\sqrt{\\frac{\\left(q - 1\\right) \\left(q + 1\\right)}{3 q^{2} - 4}} & \\frac{q \\sqrt{\\frac{1 - q^{2}}{21 q^{4} - 40 q^{2} + 20}} \\sqrt{\\frac{q^{2} - 1}{3 q^{2} - 4}} \\cdot \\left(21 q^{4} - 40 q^{2} + 20\\right) \\sqrt{\\frac{1}{21 q^{4} - 40 q^{2} + 20}}}{q^{2} - 1} & \\sqrt{\\frac{1 - q^{2}}{21 q^{4} - 40 q^{2} + 20}} \\left(- 21 q^{4} + 40 q^{2} - 20\\right) \\sqrt{\\frac{1}{21 q^{4} - 40 q^{2} + 20}}\\\\- 4 \\left(q - 1\\right) \\left(q + 1\\right) \\sqrt{\\frac{1}{21 q^{4} - 40 q^{2} + 20}} & q & \\left(3 q^{2} - 2\\right) \\sqrt{\\frac{1}{21 q^{4} - 40 q^{2} + 20}} & 2 q \\sqrt{- \\frac{\\left(q - 1\\right) \\left(q + 1\\right)}{21 q^{4} - 40 q^{2} + 20}} & - 2 \\sqrt{\\frac{\\left(q - 1\\right) \\left(q + 1\\right)}{3 q^{2} - 4}} & \\frac{q \\sqrt{\\frac{1 - q^{2}}{21 q^{4} - 40 q^{2} + 20}} \\sqrt{\\frac{q^{2} - 1}{3 q^{2} - 4}} \\cdot \\left(21 q^{4} - 40 q^{2} + 20\\right) \\sqrt{\\frac{1}{21 q^{4} - 40 q^{2} + 20}}}{q^{2} - 1} & \\sqrt{\\frac{1 - q^{2}}{21 q^{4} - 40 q^{2} + 20}} \\cdot \\left(21 q^{4} - 40 q^{2} + 20\\right) \\sqrt{\\frac{1}{21 q^{4} - 40 q^{2} + 20}}\\\\- 4 \\left(q - 1\\right) \\left(q + 1\\right) \\sqrt{\\frac{1}{21 q^{4} - 40 q^{2} + 20}} & q & \\left(3 q^{2} - 2\\right) \\sqrt{\\frac{1}{21 q^{4} - 40 q^{2} + 20}} & 2 q \\sqrt{- \\frac{\\left(q - 1\\right) \\left(q + 1\\right)}{21 q^{4} - 40 q^{2} + 20}} & 2 \\sqrt{\\frac{\\left(q - 1\\right) \\left(q + 1\\right)}{3 q^{2} - 4}} & \\frac{q \\sqrt{\\frac{1 - q^{2}}{21 q^{4} - 40 q^{2} + 20}} \\sqrt{\\frac{q^{2} - 1}{3 q^{2} - 4}} \\left(- 21 q^{4} + 40 q^{2} - 20\\right) \\sqrt{\\frac{1}{21 q^{4} - 40 q^{2} + 20}}}{q^{2} - 1} & \\sqrt{\\frac{1 - q^{2}}{21 q^{4} - 40 q^{2} + 20}} \\cdot \\left(21 q^{4} - 40 q^{2} + 20\\right) \\sqrt{\\frac{1}{21 q^{4} - 40 q^{2} + 20}}\\\\4 \\left(q - 1\\right) \\left(q + 1\\right) \\sqrt{\\frac{1}{21 q^{4} - 40 q^{2} + 20}} & q & \\left(2 - 3 q^{2}\\right) \\sqrt{\\frac{1}{21 q^{4} - 40 q^{2} + 20}} & - 2 q \\sqrt{- \\frac{\\left(q - 1\\right) \\left(q + 1\\right)}{21 q^{4} - 40 q^{2} + 20}} & - 2 \\sqrt{\\frac{\\left(q - 1\\right) \\left(q + 1\\right)}{3 q^{2} - 4}} & \\frac{q \\sqrt{\\frac{1 - q^{2}}{21 q^{4} - 40 q^{2} + 20}} \\sqrt{\\frac{q^{2} - 1}{3 q^{2} - 4}} \\cdot \\left(21 q^{4} - 40 q^{2} + 20\\right) \\sqrt{\\frac{1}{21 q^{4} - 40 q^{2} + 20}}}{q^{2} - 1} & \\sqrt{\\frac{1 - q^{2}}{21 q^{4} - 40 q^{2} + 20}} \\cdot \\left(21 q^{4} - 40 q^{2} + 20\\right) \\sqrt{\\frac{1}{21 q^{4} - 40 q^{2} + 20}}\\\\4 \\left(q - 1\\right) \\left(q + 1\\right) \\sqrt{\\frac{1}{21 q^{4} - 40 q^{2} + 20}} & q & \\left(2 - 3 q^{2}\\right) \\sqrt{\\frac{1}{21 q^{4} - 40 q^{2} + 20}} & - 2 q \\sqrt{- \\frac{\\left(q - 1\\right) \\left(q + 1\\right)}{21 q^{4} - 40 q^{2} + 20}} & 2 \\sqrt{\\frac{\\left(q - 1\\right) \\left(q + 1\\right)}{3 q^{2} - 4}} & \\frac{q \\sqrt{\\frac{1 - q^{2}}{21 q^{4} - 40 q^{2} + 20}} \\sqrt{\\frac{q^{2} - 1}{3 q^{2} - 4}} \\left(- 21 q^{4} + 40 q^{2} - 20\\right) \\sqrt{\\frac{1}{21 q^{4} - 40 q^{2} + 20}}}{q^{2} - 1} & \\sqrt{\\frac{1 - q^{2}}{21 q^{4} - 40 q^{2} + 20}} \\cdot \\left(21 q^{4} - 40 q^{2} + 20\\right) \\sqrt{\\frac{1}{21 q^{4} - 40 q^{2} + 20}}\\\\4 \\left(q - 1\\right) \\left(q + 1\\right) \\sqrt{\\frac{1}{21 q^{4} - 40 q^{2} + 20}} & q & \\left(2 - 3 q^{2}\\right) \\sqrt{\\frac{1}{21 q^{4} - 40 q^{2} + 20}} & 2 q \\sqrt{- \\frac{\\left(q - 1\\right) \\left(q + 1\\right)}{21 q^{4} - 40 q^{2} + 20}} & - 2 \\sqrt{\\frac{\\left(q - 1\\right) \\left(q + 1\\right)}{3 q^{2} - 4}} & \\frac{q \\sqrt{\\frac{1 - q^{2}}{21 q^{4} - 40 q^{2} + 20}} \\sqrt{\\frac{q^{2} - 1}{3 q^{2} - 4}} \\left(- 21 q^{4} + 40 q^{2} - 20\\right) \\sqrt{\\frac{1}{21 q^{4} - 40 q^{2} + 20}}}{q^{2} - 1} & \\sqrt{\\frac{1 - q^{2}}{21 q^{4} - 40 q^{2} + 20}} \\left(- 21 q^{4} + 40 q^{2} - 20\\right) \\sqrt{\\frac{1}{21 q^{4} - 40 q^{2} + 20}}\\\\4 \\left(q - 1\\right) \\left(q + 1\\right) \\sqrt{\\frac{1}{21 q^{4} - 40 q^{2} + 20}} & q & \\left(2 - 3 q^{2}\\right) \\sqrt{\\frac{1}{21 q^{4} - 40 q^{2} + 20}} & 2 q \\sqrt{- \\frac{\\left(q - 1\\right) \\left(q + 1\\right)}{21 q^{4} - 40 q^{2} + 20}} & 2 \\sqrt{\\frac{\\left(q - 1\\right) \\left(q + 1\\right)}{3 q^{2} - 4}} & \\frac{q \\sqrt{\\frac{1 - q^{2}}{21 q^{4} - 40 q^{2} + 20}} \\sqrt{\\frac{q^{2} - 1}{3 q^{2} - 4}} \\cdot \\left(21 q^{4} - 40 q^{2} + 20\\right) \\sqrt{\\frac{1}{21 q^{4} - 40 q^{2} + 20}}}{q^{2} - 1} & \\sqrt{\\frac{1 - q^{2}}{21 q^{4} - 40 q^{2} + 20}} \\left(- 21 q^{4} + 40 q^{2} - 20\\right) \\sqrt{\\frac{1}{21 q^{4} - 40 q^{2} + 20}}\\end{matrix}\\right]$"
      ],
      "text/plain": [
       "Matrix([\n",
       "[-4*(q - 1)*(q + 1)*sqrt(1/(21*q**4 - 40*q**2 + 20)), q, (3*q**2 - 2)*sqrt(1/(21*q**4 - 40*q**2 + 20)), -2*q*sqrt(-(q - 1)*(q + 1)/(21*q**4 - 40*q**2 + 20)), -2*sqrt((q - 1)*(q + 1)/(3*q**2 - 4)), q*sqrt((1 - q**2)/(21*q**4 - 40*q**2 + 20))*sqrt((q**2 - 1)/(3*q**2 - 4))*(-21*q**4 + 40*q**2 - 20)*sqrt(1/(21*q**4 - 40*q**2 + 20))/(q**2 - 1), sqrt((1 - q**2)/(21*q**4 - 40*q**2 + 20))*(-21*q**4 + 40*q**2 - 20)*sqrt(1/(21*q**4 - 40*q**2 + 20))],\n",
       "[-4*(q - 1)*(q + 1)*sqrt(1/(21*q**4 - 40*q**2 + 20)), q, (3*q**2 - 2)*sqrt(1/(21*q**4 - 40*q**2 + 20)), -2*q*sqrt(-(q - 1)*(q + 1)/(21*q**4 - 40*q**2 + 20)),  2*sqrt((q - 1)*(q + 1)/(3*q**2 - 4)),  q*sqrt((1 - q**2)/(21*q**4 - 40*q**2 + 20))*sqrt((q**2 - 1)/(3*q**2 - 4))*(21*q**4 - 40*q**2 + 20)*sqrt(1/(21*q**4 - 40*q**2 + 20))/(q**2 - 1), sqrt((1 - q**2)/(21*q**4 - 40*q**2 + 20))*(-21*q**4 + 40*q**2 - 20)*sqrt(1/(21*q**4 - 40*q**2 + 20))],\n",
       "[-4*(q - 1)*(q + 1)*sqrt(1/(21*q**4 - 40*q**2 + 20)), q, (3*q**2 - 2)*sqrt(1/(21*q**4 - 40*q**2 + 20)),  2*q*sqrt(-(q - 1)*(q + 1)/(21*q**4 - 40*q**2 + 20)), -2*sqrt((q - 1)*(q + 1)/(3*q**2 - 4)),  q*sqrt((1 - q**2)/(21*q**4 - 40*q**2 + 20))*sqrt((q**2 - 1)/(3*q**2 - 4))*(21*q**4 - 40*q**2 + 20)*sqrt(1/(21*q**4 - 40*q**2 + 20))/(q**2 - 1),  sqrt((1 - q**2)/(21*q**4 - 40*q**2 + 20))*(21*q**4 - 40*q**2 + 20)*sqrt(1/(21*q**4 - 40*q**2 + 20))],\n",
       "[-4*(q - 1)*(q + 1)*sqrt(1/(21*q**4 - 40*q**2 + 20)), q, (3*q**2 - 2)*sqrt(1/(21*q**4 - 40*q**2 + 20)),  2*q*sqrt(-(q - 1)*(q + 1)/(21*q**4 - 40*q**2 + 20)),  2*sqrt((q - 1)*(q + 1)/(3*q**2 - 4)), q*sqrt((1 - q**2)/(21*q**4 - 40*q**2 + 20))*sqrt((q**2 - 1)/(3*q**2 - 4))*(-21*q**4 + 40*q**2 - 20)*sqrt(1/(21*q**4 - 40*q**2 + 20))/(q**2 - 1),  sqrt((1 - q**2)/(21*q**4 - 40*q**2 + 20))*(21*q**4 - 40*q**2 + 20)*sqrt(1/(21*q**4 - 40*q**2 + 20))],\n",
       "[ 4*(q - 1)*(q + 1)*sqrt(1/(21*q**4 - 40*q**2 + 20)), q, (2 - 3*q**2)*sqrt(1/(21*q**4 - 40*q**2 + 20)), -2*q*sqrt(-(q - 1)*(q + 1)/(21*q**4 - 40*q**2 + 20)), -2*sqrt((q - 1)*(q + 1)/(3*q**2 - 4)),  q*sqrt((1 - q**2)/(21*q**4 - 40*q**2 + 20))*sqrt((q**2 - 1)/(3*q**2 - 4))*(21*q**4 - 40*q**2 + 20)*sqrt(1/(21*q**4 - 40*q**2 + 20))/(q**2 - 1),  sqrt((1 - q**2)/(21*q**4 - 40*q**2 + 20))*(21*q**4 - 40*q**2 + 20)*sqrt(1/(21*q**4 - 40*q**2 + 20))],\n",
       "[ 4*(q - 1)*(q + 1)*sqrt(1/(21*q**4 - 40*q**2 + 20)), q, (2 - 3*q**2)*sqrt(1/(21*q**4 - 40*q**2 + 20)), -2*q*sqrt(-(q - 1)*(q + 1)/(21*q**4 - 40*q**2 + 20)),  2*sqrt((q - 1)*(q + 1)/(3*q**2 - 4)), q*sqrt((1 - q**2)/(21*q**4 - 40*q**2 + 20))*sqrt((q**2 - 1)/(3*q**2 - 4))*(-21*q**4 + 40*q**2 - 20)*sqrt(1/(21*q**4 - 40*q**2 + 20))/(q**2 - 1),  sqrt((1 - q**2)/(21*q**4 - 40*q**2 + 20))*(21*q**4 - 40*q**2 + 20)*sqrt(1/(21*q**4 - 40*q**2 + 20))],\n",
       "[ 4*(q - 1)*(q + 1)*sqrt(1/(21*q**4 - 40*q**2 + 20)), q, (2 - 3*q**2)*sqrt(1/(21*q**4 - 40*q**2 + 20)),  2*q*sqrt(-(q - 1)*(q + 1)/(21*q**4 - 40*q**2 + 20)), -2*sqrt((q - 1)*(q + 1)/(3*q**2 - 4)), q*sqrt((1 - q**2)/(21*q**4 - 40*q**2 + 20))*sqrt((q**2 - 1)/(3*q**2 - 4))*(-21*q**4 + 40*q**2 - 20)*sqrt(1/(21*q**4 - 40*q**2 + 20))/(q**2 - 1), sqrt((1 - q**2)/(21*q**4 - 40*q**2 + 20))*(-21*q**4 + 40*q**2 - 20)*sqrt(1/(21*q**4 - 40*q**2 + 20))],\n",
       "[ 4*(q - 1)*(q + 1)*sqrt(1/(21*q**4 - 40*q**2 + 20)), q, (2 - 3*q**2)*sqrt(1/(21*q**4 - 40*q**2 + 20)),  2*q*sqrt(-(q - 1)*(q + 1)/(21*q**4 - 40*q**2 + 20)),  2*sqrt((q - 1)*(q + 1)/(3*q**2 - 4)),  q*sqrt((1 - q**2)/(21*q**4 - 40*q**2 + 20))*sqrt((q**2 - 1)/(3*q**2 - 4))*(21*q**4 - 40*q**2 + 20)*sqrt(1/(21*q**4 - 40*q**2 + 20))/(q**2 - 1), sqrt((1 - q**2)/(21*q**4 - 40*q**2 + 20))*(-21*q**4 + 40*q**2 - 20)*sqrt(1/(21*q**4 - 40*q**2 + 20))]])"
      ]
     },
     "execution_count": 157,
     "metadata": {},
     "output_type": "execute_result"
    }
   ],
   "source": [
    "w += 1\n",
    "print(w)\n",
    "Matrix(eqn_solutions[w])"
   ]
  },
  {
   "cell_type": "code",
   "execution_count": null,
   "metadata": {},
   "outputs": [
    {
     "name": "stdout",
     "output_type": "stream",
     "text": [
      "33\n"
     ]
    },
    {
     "data": {
      "text/latex": [
       "$\\displaystyle \\left[\\begin{matrix}- \\left(q - 1\\right) \\left(q + 1\\right) \\sqrt{\\frac{1}{q^{4} + 2 q^{2} + 5}} & q & - 2 \\sqrt{\\frac{1}{q^{4} + 2 q^{2} + 5}} & - 2 q \\sqrt{\\frac{1}{q^{4} + 2 q^{2} + 5}} & - \\sqrt{\\frac{1}{q^{2} + 1}} & - q \\sqrt{\\frac{1}{q^{2} + 1}} & 1\\\\- \\left(q - 1\\right) \\left(q + 1\\right) \\sqrt{\\frac{1}{q^{4} + 2 q^{2} + 5}} & q & - 2 \\sqrt{\\frac{1}{q^{4} + 2 q^{2} + 5}} & - 2 q \\sqrt{\\frac{1}{q^{4} + 2 q^{2} + 5}} & \\sqrt{\\frac{1}{q^{2} + 1}} & q \\sqrt{\\frac{1}{q^{2} + 1}} & 1\\\\- \\left(q - 1\\right) \\left(q + 1\\right) \\sqrt{\\frac{1}{q^{4} + 2 q^{2} + 5}} & q & - 2 \\sqrt{\\frac{1}{q^{4} + 2 q^{2} + 5}} & 2 q \\sqrt{\\frac{1}{q^{4} + 2 q^{2} + 5}} & - \\sqrt{\\frac{1}{q^{2} + 1}} & q \\sqrt{\\frac{1}{q^{2} + 1}} & -1\\\\- \\left(q - 1\\right) \\left(q + 1\\right) \\sqrt{\\frac{1}{q^{4} + 2 q^{2} + 5}} & q & - 2 \\sqrt{\\frac{1}{q^{4} + 2 q^{2} + 5}} & 2 q \\sqrt{\\frac{1}{q^{4} + 2 q^{2} + 5}} & \\sqrt{\\frac{1}{q^{2} + 1}} & - q \\sqrt{\\frac{1}{q^{2} + 1}} & -1\\\\\\left(q - 1\\right) \\left(q + 1\\right) \\sqrt{\\frac{1}{q^{4} + 2 q^{2} + 5}} & q & 2 \\sqrt{\\frac{1}{q^{4} + 2 q^{2} + 5}} & - 2 q \\sqrt{\\frac{1}{q^{4} + 2 q^{2} + 5}} & - \\sqrt{\\frac{1}{q^{2} + 1}} & q \\sqrt{\\frac{1}{q^{2} + 1}} & -1\\\\\\left(q - 1\\right) \\left(q + 1\\right) \\sqrt{\\frac{1}{q^{4} + 2 q^{2} + 5}} & q & 2 \\sqrt{\\frac{1}{q^{4} + 2 q^{2} + 5}} & - 2 q \\sqrt{\\frac{1}{q^{4} + 2 q^{2} + 5}} & \\sqrt{\\frac{1}{q^{2} + 1}} & - q \\sqrt{\\frac{1}{q^{2} + 1}} & -1\\\\\\left(q - 1\\right) \\left(q + 1\\right) \\sqrt{\\frac{1}{q^{4} + 2 q^{2} + 5}} & q & 2 \\sqrt{\\frac{1}{q^{4} + 2 q^{2} + 5}} & 2 q \\sqrt{\\frac{1}{q^{4} + 2 q^{2} + 5}} & - \\sqrt{\\frac{1}{q^{2} + 1}} & - q \\sqrt{\\frac{1}{q^{2} + 1}} & 1\\\\\\left(q - 1\\right) \\left(q + 1\\right) \\sqrt{\\frac{1}{q^{4} + 2 q^{2} + 5}} & q & 2 \\sqrt{\\frac{1}{q^{4} + 2 q^{2} + 5}} & 2 q \\sqrt{\\frac{1}{q^{4} + 2 q^{2} + 5}} & \\sqrt{\\frac{1}{q^{2} + 1}} & q \\sqrt{\\frac{1}{q^{2} + 1}} & 1\\end{matrix}\\right]$"
      ],
      "text/plain": [
       "Matrix([\n",
       "[-(q - 1)*(q + 1)*sqrt(1/(q**4 + 2*q**2 + 5)), q, -2*sqrt(1/(q**4 + 2*q**2 + 5)), -2*q*sqrt(1/(q**4 + 2*q**2 + 5)), -sqrt(1/(q**2 + 1)), -q*sqrt(1/(q**2 + 1)),  1],\n",
       "[-(q - 1)*(q + 1)*sqrt(1/(q**4 + 2*q**2 + 5)), q, -2*sqrt(1/(q**4 + 2*q**2 + 5)), -2*q*sqrt(1/(q**4 + 2*q**2 + 5)),  sqrt(1/(q**2 + 1)),  q*sqrt(1/(q**2 + 1)),  1],\n",
       "[-(q - 1)*(q + 1)*sqrt(1/(q**4 + 2*q**2 + 5)), q, -2*sqrt(1/(q**4 + 2*q**2 + 5)),  2*q*sqrt(1/(q**4 + 2*q**2 + 5)), -sqrt(1/(q**2 + 1)),  q*sqrt(1/(q**2 + 1)), -1],\n",
       "[-(q - 1)*(q + 1)*sqrt(1/(q**4 + 2*q**2 + 5)), q, -2*sqrt(1/(q**4 + 2*q**2 + 5)),  2*q*sqrt(1/(q**4 + 2*q**2 + 5)),  sqrt(1/(q**2 + 1)), -q*sqrt(1/(q**2 + 1)), -1],\n",
       "[ (q - 1)*(q + 1)*sqrt(1/(q**4 + 2*q**2 + 5)), q,  2*sqrt(1/(q**4 + 2*q**2 + 5)), -2*q*sqrt(1/(q**4 + 2*q**2 + 5)), -sqrt(1/(q**2 + 1)),  q*sqrt(1/(q**2 + 1)), -1],\n",
       "[ (q - 1)*(q + 1)*sqrt(1/(q**4 + 2*q**2 + 5)), q,  2*sqrt(1/(q**4 + 2*q**2 + 5)), -2*q*sqrt(1/(q**4 + 2*q**2 + 5)),  sqrt(1/(q**2 + 1)), -q*sqrt(1/(q**2 + 1)), -1],\n",
       "[ (q - 1)*(q + 1)*sqrt(1/(q**4 + 2*q**2 + 5)), q,  2*sqrt(1/(q**4 + 2*q**2 + 5)),  2*q*sqrt(1/(q**4 + 2*q**2 + 5)), -sqrt(1/(q**2 + 1)), -q*sqrt(1/(q**2 + 1)),  1],\n",
       "[ (q - 1)*(q + 1)*sqrt(1/(q**4 + 2*q**2 + 5)), q,  2*sqrt(1/(q**4 + 2*q**2 + 5)),  2*q*sqrt(1/(q**4 + 2*q**2 + 5)),  sqrt(1/(q**2 + 1)),  q*sqrt(1/(q**2 + 1)),  1]])"
      ]
     },
     "execution_count": 158,
     "metadata": {},
     "output_type": "execute_result"
    }
   ],
   "source": [
    "w += 1\n",
    "print(w)\n",
    "Matrix(eqn_solutions[w])"
   ]
  },
  {
   "cell_type": "code",
   "execution_count": null,
   "metadata": {},
   "outputs": [
    {
     "name": "stdout",
     "output_type": "stream",
     "text": [
      "34\n"
     ]
    },
    {
     "data": {
      "text/latex": [
       "$\\displaystyle \\left[\\begin{matrix}1 - 2 q^{2} & q & - 2 q \\sqrt{- \\left(q - 1\\right) \\left(q + 1\\right)} & 2 q^{2} & - q & \\sqrt{- \\left(q - 1\\right) \\left(q + 1\\right)} & - \\sqrt{1 - q^{2}}\\\\1 - 2 q^{2} & q & - 2 q \\sqrt{- \\left(q - 1\\right) \\left(q + 1\\right)} & 2 q^{2} & q & - \\sqrt{- \\left(q - 1\\right) \\left(q + 1\\right)} & - \\sqrt{1 - q^{2}}\\\\1 - 2 q^{2} & q & 2 q \\sqrt{- \\left(q - 1\\right) \\left(q + 1\\right)} & 2 q^{2} & - q & - \\sqrt{- \\left(q - 1\\right) \\left(q + 1\\right)} & \\sqrt{1 - q^{2}}\\\\1 - 2 q^{2} & q & 2 q \\sqrt{- \\left(q - 1\\right) \\left(q + 1\\right)} & 2 q^{2} & q & \\sqrt{- \\left(q - 1\\right) \\left(q + 1\\right)} & \\sqrt{1 - q^{2}}\\\\2 q^{2} - 1 & q & - 2 q \\sqrt{- \\left(q - 1\\right) \\left(q + 1\\right)} & - 2 q^{2} & - q & - \\sqrt{- \\left(q - 1\\right) \\left(q + 1\\right)} & \\sqrt{1 - q^{2}}\\\\2 q^{2} - 1 & q & - 2 q \\sqrt{- \\left(q - 1\\right) \\left(q + 1\\right)} & - 2 q^{2} & q & \\sqrt{- \\left(q - 1\\right) \\left(q + 1\\right)} & \\sqrt{1 - q^{2}}\\\\2 q^{2} - 1 & q & 2 q \\sqrt{- \\left(q - 1\\right) \\left(q + 1\\right)} & - 2 q^{2} & - q & \\sqrt{- \\left(q - 1\\right) \\left(q + 1\\right)} & - \\sqrt{1 - q^{2}}\\\\2 q^{2} - 1 & q & 2 q \\sqrt{- \\left(q - 1\\right) \\left(q + 1\\right)} & - 2 q^{2} & q & - \\sqrt{- \\left(q - 1\\right) \\left(q + 1\\right)} & - \\sqrt{1 - q^{2}}\\end{matrix}\\right]$"
      ],
      "text/plain": [
       "Matrix([\n",
       "[1 - 2*q**2, q, -2*q*sqrt(-(q - 1)*(q + 1)),  2*q**2, -q,  sqrt(-(q - 1)*(q + 1)), -sqrt(1 - q**2)],\n",
       "[1 - 2*q**2, q, -2*q*sqrt(-(q - 1)*(q + 1)),  2*q**2,  q, -sqrt(-(q - 1)*(q + 1)), -sqrt(1 - q**2)],\n",
       "[1 - 2*q**2, q,  2*q*sqrt(-(q - 1)*(q + 1)),  2*q**2, -q, -sqrt(-(q - 1)*(q + 1)),  sqrt(1 - q**2)],\n",
       "[1 - 2*q**2, q,  2*q*sqrt(-(q - 1)*(q + 1)),  2*q**2,  q,  sqrt(-(q - 1)*(q + 1)),  sqrt(1 - q**2)],\n",
       "[2*q**2 - 1, q, -2*q*sqrt(-(q - 1)*(q + 1)), -2*q**2, -q, -sqrt(-(q - 1)*(q + 1)),  sqrt(1 - q**2)],\n",
       "[2*q**2 - 1, q, -2*q*sqrt(-(q - 1)*(q + 1)), -2*q**2,  q,  sqrt(-(q - 1)*(q + 1)),  sqrt(1 - q**2)],\n",
       "[2*q**2 - 1, q,  2*q*sqrt(-(q - 1)*(q + 1)), -2*q**2, -q,  sqrt(-(q - 1)*(q + 1)), -sqrt(1 - q**2)],\n",
       "[2*q**2 - 1, q,  2*q*sqrt(-(q - 1)*(q + 1)), -2*q**2,  q, -sqrt(-(q - 1)*(q + 1)), -sqrt(1 - q**2)]])"
      ]
     },
     "execution_count": 159,
     "metadata": {},
     "output_type": "execute_result"
    }
   ],
   "source": [
    "w += 1\n",
    "print(w)\n",
    "Matrix(eqn_solutions[w])"
   ]
  },
  {
   "cell_type": "code",
   "execution_count": null,
   "metadata": {},
   "outputs": [
    {
     "name": "stdout",
     "output_type": "stream",
     "text": [
      "35\n"
     ]
    },
    {
     "data": {
      "text/latex": [
       "$\\displaystyle \\left[\\begin{matrix}2 \\cdot \\left(1 - q^{2}\\right) \\sqrt{\\frac{1}{9 q^{4} - 16 q^{2} + 8}} & q & \\left(3 q^{2} - 2\\right) \\sqrt{\\frac{1}{9 q^{4} - 16 q^{2} + 8}} & 2 q \\sqrt{\\frac{1 - q^{2}}{9 q^{4} - 16 q^{2} + 8}} & \\frac{q \\sqrt{\\frac{1 - q^{2}}{9 q^{4} - 16 q^{2} + 8}} \\left(- 9 q^{4} + 16 q^{2} - 8\\right) \\sqrt{\\frac{1}{9 q^{4} - 16 q^{2} + 8}}}{\\sqrt{1 - q^{2}}} & - \\sqrt{1 - q^{2}} & \\sqrt{\\frac{1 - q^{2}}{9 q^{4} - 16 q^{2} + 8}} \\cdot \\left(9 q^{4} - 16 q^{2} + 8\\right) \\sqrt{\\frac{1}{9 q^{4} - 16 q^{2} + 8}}\\\\2 \\cdot \\left(1 - q^{2}\\right) \\sqrt{\\frac{1}{9 q^{4} - 16 q^{2} + 8}} & q & \\left(3 q^{2} - 2\\right) \\sqrt{\\frac{1}{9 q^{4} - 16 q^{2} + 8}} & 2 q \\sqrt{\\frac{1 - q^{2}}{9 q^{4} - 16 q^{2} + 8}} & \\frac{q \\sqrt{\\frac{1 - q^{2}}{9 q^{4} - 16 q^{2} + 8}} \\cdot \\left(9 q^{4} - 16 q^{2} + 8\\right) \\sqrt{\\frac{1}{9 q^{4} - 16 q^{2} + 8}}}{\\sqrt{1 - q^{2}}} & \\sqrt{1 - q^{2}} & \\sqrt{\\frac{1 - q^{2}}{9 q^{4} - 16 q^{2} + 8}} \\cdot \\left(9 q^{4} - 16 q^{2} + 8\\right) \\sqrt{\\frac{1}{9 q^{4} - 16 q^{2} + 8}}\\\\2 \\cdot \\left(1 - q^{2}\\right) \\sqrt{\\frac{1}{9 q^{4} - 16 q^{2} + 8}} & q & \\left(3 q^{2} - 2\\right) \\sqrt{\\frac{1}{9 q^{4} - 16 q^{2} + 8}} & - 2 q \\sqrt{- \\frac{q^{2} - 1}{9 q^{4} - 16 q^{2} + 8}} & \\frac{q \\sqrt{\\frac{1 - q^{2}}{9 q^{4} - 16 q^{2} + 8}} \\left(- 9 q^{4} + 16 q^{2} - 8\\right) \\sqrt{\\frac{1}{9 q^{4} - 16 q^{2} + 8}}}{\\sqrt{1 - q^{2}}} & \\sqrt{1 - q^{2}} & \\sqrt{\\frac{1 - q^{2}}{9 q^{4} - 16 q^{2} + 8}} \\left(- 9 q^{4} + 16 q^{2} - 8\\right) \\sqrt{\\frac{1}{9 q^{4} - 16 q^{2} + 8}}\\\\2 \\cdot \\left(1 - q^{2}\\right) \\sqrt{\\frac{1}{9 q^{4} - 16 q^{2} + 8}} & q & \\left(3 q^{2} - 2\\right) \\sqrt{\\frac{1}{9 q^{4} - 16 q^{2} + 8}} & - 2 q \\sqrt{- \\frac{q^{2} - 1}{9 q^{4} - 16 q^{2} + 8}} & \\frac{q \\sqrt{\\frac{1 - q^{2}}{9 q^{4} - 16 q^{2} + 8}} \\cdot \\left(9 q^{4} - 16 q^{2} + 8\\right) \\sqrt{\\frac{1}{9 q^{4} - 16 q^{2} + 8}}}{\\sqrt{1 - q^{2}}} & - \\sqrt{1 - q^{2}} & \\sqrt{\\frac{1 - q^{2}}{9 q^{4} - 16 q^{2} + 8}} \\left(- 9 q^{4} + 16 q^{2} - 8\\right) \\sqrt{\\frac{1}{9 q^{4} - 16 q^{2} + 8}}\\\\2 \\left(q^{2} - 1\\right) \\sqrt{\\frac{1}{9 q^{4} - 16 q^{2} + 8}} & q & \\left(2 - 3 q^{2}\\right) \\sqrt{\\frac{1}{9 q^{4} - 16 q^{2} + 8}} & 2 q \\sqrt{\\frac{1 - q^{2}}{9 q^{4} - 16 q^{2} + 8}} & \\frac{q \\sqrt{\\frac{1 - q^{2}}{9 q^{4} - 16 q^{2} + 8}} \\left(- 9 q^{4} + 16 q^{2} - 8\\right) \\sqrt{\\frac{1}{9 q^{4} - 16 q^{2} + 8}}}{\\sqrt{1 - q^{2}}} & \\sqrt{1 - q^{2}} & \\sqrt{\\frac{1 - q^{2}}{9 q^{4} - 16 q^{2} + 8}} \\left(- 9 q^{4} + 16 q^{2} - 8\\right) \\sqrt{\\frac{1}{9 q^{4} - 16 q^{2} + 8}}\\\\2 \\left(q^{2} - 1\\right) \\sqrt{\\frac{1}{9 q^{4} - 16 q^{2} + 8}} & q & \\left(2 - 3 q^{2}\\right) \\sqrt{\\frac{1}{9 q^{4} - 16 q^{2} + 8}} & 2 q \\sqrt{\\frac{1 - q^{2}}{9 q^{4} - 16 q^{2} + 8}} & \\frac{q \\sqrt{\\frac{1 - q^{2}}{9 q^{4} - 16 q^{2} + 8}} \\cdot \\left(9 q^{4} - 16 q^{2} + 8\\right) \\sqrt{\\frac{1}{9 q^{4} - 16 q^{2} + 8}}}{\\sqrt{1 - q^{2}}} & - \\sqrt{1 - q^{2}} & \\sqrt{\\frac{1 - q^{2}}{9 q^{4} - 16 q^{2} + 8}} \\left(- 9 q^{4} + 16 q^{2} - 8\\right) \\sqrt{\\frac{1}{9 q^{4} - 16 q^{2} + 8}}\\\\2 \\left(q^{2} - 1\\right) \\sqrt{\\frac{1}{9 q^{4} - 16 q^{2} + 8}} & q & \\left(2 - 3 q^{2}\\right) \\sqrt{\\frac{1}{9 q^{4} - 16 q^{2} + 8}} & - 2 q \\sqrt{- \\frac{q^{2} - 1}{9 q^{4} - 16 q^{2} + 8}} & \\frac{q \\sqrt{\\frac{1 - q^{2}}{9 q^{4} - 16 q^{2} + 8}} \\left(- 9 q^{4} + 16 q^{2} - 8\\right) \\sqrt{\\frac{1}{9 q^{4} - 16 q^{2} + 8}}}{\\sqrt{1 - q^{2}}} & - \\sqrt{1 - q^{2}} & \\sqrt{\\frac{1 - q^{2}}{9 q^{4} - 16 q^{2} + 8}} \\cdot \\left(9 q^{4} - 16 q^{2} + 8\\right) \\sqrt{\\frac{1}{9 q^{4} - 16 q^{2} + 8}}\\\\2 \\left(q^{2} - 1\\right) \\sqrt{\\frac{1}{9 q^{4} - 16 q^{2} + 8}} & q & \\left(2 - 3 q^{2}\\right) \\sqrt{\\frac{1}{9 q^{4} - 16 q^{2} + 8}} & - 2 q \\sqrt{- \\frac{q^{2} - 1}{9 q^{4} - 16 q^{2} + 8}} & \\frac{q \\sqrt{\\frac{1 - q^{2}}{9 q^{4} - 16 q^{2} + 8}} \\cdot \\left(9 q^{4} - 16 q^{2} + 8\\right) \\sqrt{\\frac{1}{9 q^{4} - 16 q^{2} + 8}}}{\\sqrt{1 - q^{2}}} & \\sqrt{1 - q^{2}} & \\sqrt{\\frac{1 - q^{2}}{9 q^{4} - 16 q^{2} + 8}} \\cdot \\left(9 q^{4} - 16 q^{2} + 8\\right) \\sqrt{\\frac{1}{9 q^{4} - 16 q^{2} + 8}}\\end{matrix}\\right]$"
      ],
      "text/plain": [
       "Matrix([\n",
       "[2*(1 - q**2)*sqrt(1/(9*q**4 - 16*q**2 + 8)), q, (3*q**2 - 2)*sqrt(1/(9*q**4 - 16*q**2 + 8)),   2*q*sqrt((1 - q**2)/(9*q**4 - 16*q**2 + 8)), q*sqrt((1 - q**2)/(9*q**4 - 16*q**2 + 8))*(-9*q**4 + 16*q**2 - 8)*sqrt(1/(9*q**4 - 16*q**2 + 8))/sqrt(1 - q**2), -sqrt(1 - q**2),  sqrt((1 - q**2)/(9*q**4 - 16*q**2 + 8))*(9*q**4 - 16*q**2 + 8)*sqrt(1/(9*q**4 - 16*q**2 + 8))],\n",
       "[2*(1 - q**2)*sqrt(1/(9*q**4 - 16*q**2 + 8)), q, (3*q**2 - 2)*sqrt(1/(9*q**4 - 16*q**2 + 8)),   2*q*sqrt((1 - q**2)/(9*q**4 - 16*q**2 + 8)),  q*sqrt((1 - q**2)/(9*q**4 - 16*q**2 + 8))*(9*q**4 - 16*q**2 + 8)*sqrt(1/(9*q**4 - 16*q**2 + 8))/sqrt(1 - q**2),  sqrt(1 - q**2),  sqrt((1 - q**2)/(9*q**4 - 16*q**2 + 8))*(9*q**4 - 16*q**2 + 8)*sqrt(1/(9*q**4 - 16*q**2 + 8))],\n",
       "[2*(1 - q**2)*sqrt(1/(9*q**4 - 16*q**2 + 8)), q, (3*q**2 - 2)*sqrt(1/(9*q**4 - 16*q**2 + 8)), -2*q*sqrt(-(q**2 - 1)/(9*q**4 - 16*q**2 + 8)), q*sqrt((1 - q**2)/(9*q**4 - 16*q**2 + 8))*(-9*q**4 + 16*q**2 - 8)*sqrt(1/(9*q**4 - 16*q**2 + 8))/sqrt(1 - q**2),  sqrt(1 - q**2), sqrt((1 - q**2)/(9*q**4 - 16*q**2 + 8))*(-9*q**4 + 16*q**2 - 8)*sqrt(1/(9*q**4 - 16*q**2 + 8))],\n",
       "[2*(1 - q**2)*sqrt(1/(9*q**4 - 16*q**2 + 8)), q, (3*q**2 - 2)*sqrt(1/(9*q**4 - 16*q**2 + 8)), -2*q*sqrt(-(q**2 - 1)/(9*q**4 - 16*q**2 + 8)),  q*sqrt((1 - q**2)/(9*q**4 - 16*q**2 + 8))*(9*q**4 - 16*q**2 + 8)*sqrt(1/(9*q**4 - 16*q**2 + 8))/sqrt(1 - q**2), -sqrt(1 - q**2), sqrt((1 - q**2)/(9*q**4 - 16*q**2 + 8))*(-9*q**4 + 16*q**2 - 8)*sqrt(1/(9*q**4 - 16*q**2 + 8))],\n",
       "[2*(q**2 - 1)*sqrt(1/(9*q**4 - 16*q**2 + 8)), q, (2 - 3*q**2)*sqrt(1/(9*q**4 - 16*q**2 + 8)),   2*q*sqrt((1 - q**2)/(9*q**4 - 16*q**2 + 8)), q*sqrt((1 - q**2)/(9*q**4 - 16*q**2 + 8))*(-9*q**4 + 16*q**2 - 8)*sqrt(1/(9*q**4 - 16*q**2 + 8))/sqrt(1 - q**2),  sqrt(1 - q**2), sqrt((1 - q**2)/(9*q**4 - 16*q**2 + 8))*(-9*q**4 + 16*q**2 - 8)*sqrt(1/(9*q**4 - 16*q**2 + 8))],\n",
       "[2*(q**2 - 1)*sqrt(1/(9*q**4 - 16*q**2 + 8)), q, (2 - 3*q**2)*sqrt(1/(9*q**4 - 16*q**2 + 8)),   2*q*sqrt((1 - q**2)/(9*q**4 - 16*q**2 + 8)),  q*sqrt((1 - q**2)/(9*q**4 - 16*q**2 + 8))*(9*q**4 - 16*q**2 + 8)*sqrt(1/(9*q**4 - 16*q**2 + 8))/sqrt(1 - q**2), -sqrt(1 - q**2), sqrt((1 - q**2)/(9*q**4 - 16*q**2 + 8))*(-9*q**4 + 16*q**2 - 8)*sqrt(1/(9*q**4 - 16*q**2 + 8))],\n",
       "[2*(q**2 - 1)*sqrt(1/(9*q**4 - 16*q**2 + 8)), q, (2 - 3*q**2)*sqrt(1/(9*q**4 - 16*q**2 + 8)), -2*q*sqrt(-(q**2 - 1)/(9*q**4 - 16*q**2 + 8)), q*sqrt((1 - q**2)/(9*q**4 - 16*q**2 + 8))*(-9*q**4 + 16*q**2 - 8)*sqrt(1/(9*q**4 - 16*q**2 + 8))/sqrt(1 - q**2), -sqrt(1 - q**2),  sqrt((1 - q**2)/(9*q**4 - 16*q**2 + 8))*(9*q**4 - 16*q**2 + 8)*sqrt(1/(9*q**4 - 16*q**2 + 8))],\n",
       "[2*(q**2 - 1)*sqrt(1/(9*q**4 - 16*q**2 + 8)), q, (2 - 3*q**2)*sqrt(1/(9*q**4 - 16*q**2 + 8)), -2*q*sqrt(-(q**2 - 1)/(9*q**4 - 16*q**2 + 8)),  q*sqrt((1 - q**2)/(9*q**4 - 16*q**2 + 8))*(9*q**4 - 16*q**2 + 8)*sqrt(1/(9*q**4 - 16*q**2 + 8))/sqrt(1 - q**2),  sqrt(1 - q**2),  sqrt((1 - q**2)/(9*q**4 - 16*q**2 + 8))*(9*q**4 - 16*q**2 + 8)*sqrt(1/(9*q**4 - 16*q**2 + 8))]])"
      ]
     },
     "execution_count": 160,
     "metadata": {},
     "output_type": "execute_result"
    }
   ],
   "source": [
    "w += 1\n",
    "print(w)\n",
    "Matrix(eqn_solutions[w])"
   ]
  },
  {
   "cell_type": "code",
   "execution_count": null,
   "metadata": {},
   "outputs": [
    {
     "name": "stdout",
     "output_type": "stream",
     "text": [
      "36\n"
     ]
    },
    {
     "data": {
      "text/latex": [
       "$\\displaystyle \\left[\\begin{matrix}q \\sqrt{\\frac{1 - q^{2}}{q^{4} - q^{2} + 1}} & q & - q^{2} \\sqrt{\\frac{1}{q^{4} - q^{2} + 1}} & \\left(q^{2} - 1\\right) \\sqrt{\\frac{1}{q^{4} - q^{2} + 1}} & - \\sqrt{1 - q^{2}} & \\frac{q \\sqrt{\\frac{1 - q^{2}}{q^{4} - q^{2} + 1}} \\left(q^{4} - q^{2} + 1\\right) \\sqrt{\\frac{1}{q^{4} - q^{2} + 1}}}{\\sqrt{1 - q^{2}}} & \\sqrt{\\frac{1 - q^{2}}{q^{4} - q^{2} + 1}} \\left(- q^{4} + q^{2} - 1\\right) \\sqrt{\\frac{1}{q^{4} - q^{2} + 1}}\\\\q \\sqrt{\\frac{1 - q^{2}}{q^{4} - q^{2} + 1}} & q & - q^{2} \\sqrt{\\frac{1}{q^{4} - q^{2} + 1}} & \\left(q^{2} - 1\\right) \\sqrt{\\frac{1}{q^{4} - q^{2} + 1}} & \\sqrt{1 - q^{2}} & \\frac{q \\sqrt{\\frac{1 - q^{2}}{q^{4} - q^{2} + 1}} \\left(- q^{4} + q^{2} - 1\\right) \\sqrt{\\frac{1}{q^{4} - q^{2} + 1}}}{\\sqrt{1 - q^{2}}} & \\sqrt{\\frac{1 - q^{2}}{q^{4} - q^{2} + 1}} \\left(- q^{4} + q^{2} - 1\\right) \\sqrt{\\frac{1}{q^{4} - q^{2} + 1}}\\\\q \\sqrt{\\frac{1 - q^{2}}{q^{4} - q^{2} + 1}} & q & q^{2} \\sqrt{\\frac{1}{q^{4} - q^{2} + 1}} & \\left(1 - q^{2}\\right) \\sqrt{\\frac{1}{q^{4} - q^{2} + 1}} & - \\sqrt{1 - q^{2}} & \\frac{q \\sqrt{\\frac{1 - q^{2}}{q^{4} - q^{2} + 1}} \\left(- q^{4} + q^{2} - 1\\right) \\sqrt{\\frac{1}{q^{4} - q^{2} + 1}}}{\\sqrt{1 - q^{2}}} & \\sqrt{\\frac{1 - q^{2}}{q^{4} - q^{2} + 1}} \\left(q^{4} - q^{2} + 1\\right) \\sqrt{\\frac{1}{q^{4} - q^{2} + 1}}\\\\q \\sqrt{\\frac{1 - q^{2}}{q^{4} - q^{2} + 1}} & q & q^{2} \\sqrt{\\frac{1}{q^{4} - q^{2} + 1}} & \\left(1 - q^{2}\\right) \\sqrt{\\frac{1}{q^{4} - q^{2} + 1}} & \\sqrt{1 - q^{2}} & \\frac{q \\sqrt{\\frac{1 - q^{2}}{q^{4} - q^{2} + 1}} \\left(q^{4} - q^{2} + 1\\right) \\sqrt{\\frac{1}{q^{4} - q^{2} + 1}}}{\\sqrt{1 - q^{2}}} & \\sqrt{\\frac{1 - q^{2}}{q^{4} - q^{2} + 1}} \\left(q^{4} - q^{2} + 1\\right) \\sqrt{\\frac{1}{q^{4} - q^{2} + 1}}\\\\- q \\sqrt{- \\frac{q^{2} - 1}{q^{4} - q^{2} + 1}} & q & - q^{2} \\sqrt{\\frac{1}{q^{4} - q^{2} + 1}} & \\left(q^{2} - 1\\right) \\sqrt{\\frac{1}{q^{4} - q^{2} + 1}} & - \\sqrt{1 - q^{2}} & \\frac{q \\sqrt{\\frac{1 - q^{2}}{q^{4} - q^{2} + 1}} \\left(- q^{4} + q^{2} - 1\\right) \\sqrt{\\frac{1}{q^{4} - q^{2} + 1}}}{\\sqrt{1 - q^{2}}} & \\sqrt{\\frac{1 - q^{2}}{q^{4} - q^{2} + 1}} \\left(q^{4} - q^{2} + 1\\right) \\sqrt{\\frac{1}{q^{4} - q^{2} + 1}}\\\\- q \\sqrt{- \\frac{q^{2} - 1}{q^{4} - q^{2} + 1}} & q & - q^{2} \\sqrt{\\frac{1}{q^{4} - q^{2} + 1}} & \\left(q^{2} - 1\\right) \\sqrt{\\frac{1}{q^{4} - q^{2} + 1}} & \\sqrt{1 - q^{2}} & \\frac{q \\sqrt{\\frac{1 - q^{2}}{q^{4} - q^{2} + 1}} \\left(q^{4} - q^{2} + 1\\right) \\sqrt{\\frac{1}{q^{4} - q^{2} + 1}}}{\\sqrt{1 - q^{2}}} & \\sqrt{\\frac{1 - q^{2}}{q^{4} - q^{2} + 1}} \\left(q^{4} - q^{2} + 1\\right) \\sqrt{\\frac{1}{q^{4} - q^{2} + 1}}\\\\- q \\sqrt{- \\frac{q^{2} - 1}{q^{4} - q^{2} + 1}} & q & q^{2} \\sqrt{\\frac{1}{q^{4} - q^{2} + 1}} & \\left(1 - q^{2}\\right) \\sqrt{\\frac{1}{q^{4} - q^{2} + 1}} & - \\sqrt{1 - q^{2}} & \\frac{q \\sqrt{\\frac{1 - q^{2}}{q^{4} - q^{2} + 1}} \\left(q^{4} - q^{2} + 1\\right) \\sqrt{\\frac{1}{q^{4} - q^{2} + 1}}}{\\sqrt{1 - q^{2}}} & \\sqrt{\\frac{1 - q^{2}}{q^{4} - q^{2} + 1}} \\left(- q^{4} + q^{2} - 1\\right) \\sqrt{\\frac{1}{q^{4} - q^{2} + 1}}\\\\- q \\sqrt{- \\frac{q^{2} - 1}{q^{4} - q^{2} + 1}} & q & q^{2} \\sqrt{\\frac{1}{q^{4} - q^{2} + 1}} & \\left(1 - q^{2}\\right) \\sqrt{\\frac{1}{q^{4} - q^{2} + 1}} & \\sqrt{1 - q^{2}} & \\frac{q \\sqrt{\\frac{1 - q^{2}}{q^{4} - q^{2} + 1}} \\left(- q^{4} + q^{2} - 1\\right) \\sqrt{\\frac{1}{q^{4} - q^{2} + 1}}}{\\sqrt{1 - q^{2}}} & \\sqrt{\\frac{1 - q^{2}}{q^{4} - q^{2} + 1}} \\left(- q^{4} + q^{2} - 1\\right) \\sqrt{\\frac{1}{q^{4} - q^{2} + 1}}\\end{matrix}\\right]$"
      ],
      "text/plain": [
       "Matrix([\n",
       "[  q*sqrt((1 - q**2)/(q**4 - q**2 + 1)), q, -q**2*sqrt(1/(q**4 - q**2 + 1)), (q**2 - 1)*sqrt(1/(q**4 - q**2 + 1)), -sqrt(1 - q**2),  q*sqrt((1 - q**2)/(q**4 - q**2 + 1))*(q**4 - q**2 + 1)*sqrt(1/(q**4 - q**2 + 1))/sqrt(1 - q**2), sqrt((1 - q**2)/(q**4 - q**2 + 1))*(-q**4 + q**2 - 1)*sqrt(1/(q**4 - q**2 + 1))],\n",
       "[  q*sqrt((1 - q**2)/(q**4 - q**2 + 1)), q, -q**2*sqrt(1/(q**4 - q**2 + 1)), (q**2 - 1)*sqrt(1/(q**4 - q**2 + 1)),  sqrt(1 - q**2), q*sqrt((1 - q**2)/(q**4 - q**2 + 1))*(-q**4 + q**2 - 1)*sqrt(1/(q**4 - q**2 + 1))/sqrt(1 - q**2), sqrt((1 - q**2)/(q**4 - q**2 + 1))*(-q**4 + q**2 - 1)*sqrt(1/(q**4 - q**2 + 1))],\n",
       "[  q*sqrt((1 - q**2)/(q**4 - q**2 + 1)), q,  q**2*sqrt(1/(q**4 - q**2 + 1)), (1 - q**2)*sqrt(1/(q**4 - q**2 + 1)), -sqrt(1 - q**2), q*sqrt((1 - q**2)/(q**4 - q**2 + 1))*(-q**4 + q**2 - 1)*sqrt(1/(q**4 - q**2 + 1))/sqrt(1 - q**2),  sqrt((1 - q**2)/(q**4 - q**2 + 1))*(q**4 - q**2 + 1)*sqrt(1/(q**4 - q**2 + 1))],\n",
       "[  q*sqrt((1 - q**2)/(q**4 - q**2 + 1)), q,  q**2*sqrt(1/(q**4 - q**2 + 1)), (1 - q**2)*sqrt(1/(q**4 - q**2 + 1)),  sqrt(1 - q**2),  q*sqrt((1 - q**2)/(q**4 - q**2 + 1))*(q**4 - q**2 + 1)*sqrt(1/(q**4 - q**2 + 1))/sqrt(1 - q**2),  sqrt((1 - q**2)/(q**4 - q**2 + 1))*(q**4 - q**2 + 1)*sqrt(1/(q**4 - q**2 + 1))],\n",
       "[-q*sqrt(-(q**2 - 1)/(q**4 - q**2 + 1)), q, -q**2*sqrt(1/(q**4 - q**2 + 1)), (q**2 - 1)*sqrt(1/(q**4 - q**2 + 1)), -sqrt(1 - q**2), q*sqrt((1 - q**2)/(q**4 - q**2 + 1))*(-q**4 + q**2 - 1)*sqrt(1/(q**4 - q**2 + 1))/sqrt(1 - q**2),  sqrt((1 - q**2)/(q**4 - q**2 + 1))*(q**4 - q**2 + 1)*sqrt(1/(q**4 - q**2 + 1))],\n",
       "[-q*sqrt(-(q**2 - 1)/(q**4 - q**2 + 1)), q, -q**2*sqrt(1/(q**4 - q**2 + 1)), (q**2 - 1)*sqrt(1/(q**4 - q**2 + 1)),  sqrt(1 - q**2),  q*sqrt((1 - q**2)/(q**4 - q**2 + 1))*(q**4 - q**2 + 1)*sqrt(1/(q**4 - q**2 + 1))/sqrt(1 - q**2),  sqrt((1 - q**2)/(q**4 - q**2 + 1))*(q**4 - q**2 + 1)*sqrt(1/(q**4 - q**2 + 1))],\n",
       "[-q*sqrt(-(q**2 - 1)/(q**4 - q**2 + 1)), q,  q**2*sqrt(1/(q**4 - q**2 + 1)), (1 - q**2)*sqrt(1/(q**4 - q**2 + 1)), -sqrt(1 - q**2),  q*sqrt((1 - q**2)/(q**4 - q**2 + 1))*(q**4 - q**2 + 1)*sqrt(1/(q**4 - q**2 + 1))/sqrt(1 - q**2), sqrt((1 - q**2)/(q**4 - q**2 + 1))*(-q**4 + q**2 - 1)*sqrt(1/(q**4 - q**2 + 1))],\n",
       "[-q*sqrt(-(q**2 - 1)/(q**4 - q**2 + 1)), q,  q**2*sqrt(1/(q**4 - q**2 + 1)), (1 - q**2)*sqrt(1/(q**4 - q**2 + 1)),  sqrt(1 - q**2), q*sqrt((1 - q**2)/(q**4 - q**2 + 1))*(-q**4 + q**2 - 1)*sqrt(1/(q**4 - q**2 + 1))/sqrt(1 - q**2), sqrt((1 - q**2)/(q**4 - q**2 + 1))*(-q**4 + q**2 - 1)*sqrt(1/(q**4 - q**2 + 1))]])"
      ]
     },
     "execution_count": 161,
     "metadata": {},
     "output_type": "execute_result"
    }
   ],
   "source": [
    "w += 1\n",
    "print(w)\n",
    "Matrix(eqn_solutions[w])"
   ]
  },
  {
   "cell_type": "code",
   "execution_count": null,
   "metadata": {},
   "outputs": [
    {
     "name": "stdout",
     "output_type": "stream",
     "text": [
      "37\n"
     ]
    },
    {
     "data": {
      "text/latex": [
       "$\\displaystyle \\left[\\begin{matrix}- 2 q^{2} \\sqrt{\\frac{1}{4 q^{4} - q^{2} + 1}} & q & \\left(q^{2} - 1\\right) \\sqrt{\\frac{1}{4 q^{4} - q^{2} + 1}} & q \\sqrt{\\frac{1 - q^{2}}{4 q^{4} - q^{2} + 1}} & - 2 q \\sqrt{\\frac{1}{3 q^{2} + 1}} & \\sqrt{\\frac{1 - q^{2}}{4 q^{4} - q^{2} + 1}} \\cdot \\left(4 q^{4} - q^{2} + 1\\right) \\sqrt{\\frac{1}{3 q^{2} + 1}} \\sqrt{\\frac{1}{4 q^{4} - q^{2} + 1}} & \\sqrt{\\frac{1 - q^{2}}{4 q^{4} - q^{2} + 1}} \\left(- 4 q^{4} + q^{2} - 1\\right) \\sqrt{\\frac{1}{4 q^{4} - q^{2} + 1}}\\\\- 2 q^{2} \\sqrt{\\frac{1}{4 q^{4} - q^{2} + 1}} & q & \\left(q^{2} - 1\\right) \\sqrt{\\frac{1}{4 q^{4} - q^{2} + 1}} & q \\sqrt{\\frac{1 - q^{2}}{4 q^{4} - q^{2} + 1}} & 2 q \\sqrt{\\frac{1}{3 q^{2} + 1}} & \\sqrt{\\frac{1 - q^{2}}{4 q^{4} - q^{2} + 1}} \\left(- 4 q^{4} + q^{2} - 1\\right) \\sqrt{\\frac{1}{3 q^{2} + 1}} \\sqrt{\\frac{1}{4 q^{4} - q^{2} + 1}} & \\sqrt{\\frac{1 - q^{2}}{4 q^{4} - q^{2} + 1}} \\left(- 4 q^{4} + q^{2} - 1\\right) \\sqrt{\\frac{1}{4 q^{4} - q^{2} + 1}}\\\\- 2 q^{2} \\sqrt{\\frac{1}{4 q^{4} - q^{2} + 1}} & q & \\left(q^{2} - 1\\right) \\sqrt{\\frac{1}{4 q^{4} - q^{2} + 1}} & - q \\sqrt{- \\frac{q^{2} - 1}{4 q^{4} - q^{2} + 1}} & - 2 q \\sqrt{\\frac{1}{3 q^{2} + 1}} & \\sqrt{\\frac{1 - q^{2}}{4 q^{4} - q^{2} + 1}} \\left(- 4 q^{4} + q^{2} - 1\\right) \\sqrt{\\frac{1}{3 q^{2} + 1}} \\sqrt{\\frac{1}{4 q^{4} - q^{2} + 1}} & \\sqrt{\\frac{1 - q^{2}}{4 q^{4} - q^{2} + 1}} \\cdot \\left(4 q^{4} - q^{2} + 1\\right) \\sqrt{\\frac{1}{4 q^{4} - q^{2} + 1}}\\\\- 2 q^{2} \\sqrt{\\frac{1}{4 q^{4} - q^{2} + 1}} & q & \\left(q^{2} - 1\\right) \\sqrt{\\frac{1}{4 q^{4} - q^{2} + 1}} & - q \\sqrt{- \\frac{q^{2} - 1}{4 q^{4} - q^{2} + 1}} & 2 q \\sqrt{\\frac{1}{3 q^{2} + 1}} & \\sqrt{\\frac{1 - q^{2}}{4 q^{4} - q^{2} + 1}} \\cdot \\left(4 q^{4} - q^{2} + 1\\right) \\sqrt{\\frac{1}{3 q^{2} + 1}} \\sqrt{\\frac{1}{4 q^{4} - q^{2} + 1}} & \\sqrt{\\frac{1 - q^{2}}{4 q^{4} - q^{2} + 1}} \\cdot \\left(4 q^{4} - q^{2} + 1\\right) \\sqrt{\\frac{1}{4 q^{4} - q^{2} + 1}}\\\\2 q^{2} \\sqrt{\\frac{1}{4 q^{4} - q^{2} + 1}} & q & \\left(1 - q^{2}\\right) \\sqrt{\\frac{1}{4 q^{4} - q^{2} + 1}} & q \\sqrt{\\frac{1 - q^{2}}{4 q^{4} - q^{2} + 1}} & - 2 q \\sqrt{\\frac{1}{3 q^{2} + 1}} & \\sqrt{\\frac{1 - q^{2}}{4 q^{4} - q^{2} + 1}} \\left(- 4 q^{4} + q^{2} - 1\\right) \\sqrt{\\frac{1}{3 q^{2} + 1}} \\sqrt{\\frac{1}{4 q^{4} - q^{2} + 1}} & \\sqrt{\\frac{1 - q^{2}}{4 q^{4} - q^{2} + 1}} \\cdot \\left(4 q^{4} - q^{2} + 1\\right) \\sqrt{\\frac{1}{4 q^{4} - q^{2} + 1}}\\\\2 q^{2} \\sqrt{\\frac{1}{4 q^{4} - q^{2} + 1}} & q & \\left(1 - q^{2}\\right) \\sqrt{\\frac{1}{4 q^{4} - q^{2} + 1}} & q \\sqrt{\\frac{1 - q^{2}}{4 q^{4} - q^{2} + 1}} & 2 q \\sqrt{\\frac{1}{3 q^{2} + 1}} & \\sqrt{\\frac{1 - q^{2}}{4 q^{4} - q^{2} + 1}} \\cdot \\left(4 q^{4} - q^{2} + 1\\right) \\sqrt{\\frac{1}{3 q^{2} + 1}} \\sqrt{\\frac{1}{4 q^{4} - q^{2} + 1}} & \\sqrt{\\frac{1 - q^{2}}{4 q^{4} - q^{2} + 1}} \\cdot \\left(4 q^{4} - q^{2} + 1\\right) \\sqrt{\\frac{1}{4 q^{4} - q^{2} + 1}}\\\\2 q^{2} \\sqrt{\\frac{1}{4 q^{4} - q^{2} + 1}} & q & \\left(1 - q^{2}\\right) \\sqrt{\\frac{1}{4 q^{4} - q^{2} + 1}} & - q \\sqrt{- \\frac{q^{2} - 1}{4 q^{4} - q^{2} + 1}} & - 2 q \\sqrt{\\frac{1}{3 q^{2} + 1}} & \\sqrt{\\frac{1 - q^{2}}{4 q^{4} - q^{2} + 1}} \\cdot \\left(4 q^{4} - q^{2} + 1\\right) \\sqrt{\\frac{1}{3 q^{2} + 1}} \\sqrt{\\frac{1}{4 q^{4} - q^{2} + 1}} & \\sqrt{\\frac{1 - q^{2}}{4 q^{4} - q^{2} + 1}} \\left(- 4 q^{4} + q^{2} - 1\\right) \\sqrt{\\frac{1}{4 q^{4} - q^{2} + 1}}\\\\2 q^{2} \\sqrt{\\frac{1}{4 q^{4} - q^{2} + 1}} & q & \\left(1 - q^{2}\\right) \\sqrt{\\frac{1}{4 q^{4} - q^{2} + 1}} & - q \\sqrt{- \\frac{q^{2} - 1}{4 q^{4} - q^{2} + 1}} & 2 q \\sqrt{\\frac{1}{3 q^{2} + 1}} & \\sqrt{\\frac{1 - q^{2}}{4 q^{4} - q^{2} + 1}} \\left(- 4 q^{4} + q^{2} - 1\\right) \\sqrt{\\frac{1}{3 q^{2} + 1}} \\sqrt{\\frac{1}{4 q^{4} - q^{2} + 1}} & \\sqrt{\\frac{1 - q^{2}}{4 q^{4} - q^{2} + 1}} \\left(- 4 q^{4} + q^{2} - 1\\right) \\sqrt{\\frac{1}{4 q^{4} - q^{2} + 1}}\\end{matrix}\\right]$"
      ],
      "text/plain": [
       "Matrix([\n",
       "[-2*q**2*sqrt(1/(4*q**4 - q**2 + 1)), q, (q**2 - 1)*sqrt(1/(4*q**4 - q**2 + 1)),   q*sqrt((1 - q**2)/(4*q**4 - q**2 + 1)), -2*q*sqrt(1/(3*q**2 + 1)),  sqrt((1 - q**2)/(4*q**4 - q**2 + 1))*(4*q**4 - q**2 + 1)*sqrt(1/(3*q**2 + 1))*sqrt(1/(4*q**4 - q**2 + 1)), sqrt((1 - q**2)/(4*q**4 - q**2 + 1))*(-4*q**4 + q**2 - 1)*sqrt(1/(4*q**4 - q**2 + 1))],\n",
       "[-2*q**2*sqrt(1/(4*q**4 - q**2 + 1)), q, (q**2 - 1)*sqrt(1/(4*q**4 - q**2 + 1)),   q*sqrt((1 - q**2)/(4*q**4 - q**2 + 1)),  2*q*sqrt(1/(3*q**2 + 1)), sqrt((1 - q**2)/(4*q**4 - q**2 + 1))*(-4*q**4 + q**2 - 1)*sqrt(1/(3*q**2 + 1))*sqrt(1/(4*q**4 - q**2 + 1)), sqrt((1 - q**2)/(4*q**4 - q**2 + 1))*(-4*q**4 + q**2 - 1)*sqrt(1/(4*q**4 - q**2 + 1))],\n",
       "[-2*q**2*sqrt(1/(4*q**4 - q**2 + 1)), q, (q**2 - 1)*sqrt(1/(4*q**4 - q**2 + 1)), -q*sqrt(-(q**2 - 1)/(4*q**4 - q**2 + 1)), -2*q*sqrt(1/(3*q**2 + 1)), sqrt((1 - q**2)/(4*q**4 - q**2 + 1))*(-4*q**4 + q**2 - 1)*sqrt(1/(3*q**2 + 1))*sqrt(1/(4*q**4 - q**2 + 1)),  sqrt((1 - q**2)/(4*q**4 - q**2 + 1))*(4*q**4 - q**2 + 1)*sqrt(1/(4*q**4 - q**2 + 1))],\n",
       "[-2*q**2*sqrt(1/(4*q**4 - q**2 + 1)), q, (q**2 - 1)*sqrt(1/(4*q**4 - q**2 + 1)), -q*sqrt(-(q**2 - 1)/(4*q**4 - q**2 + 1)),  2*q*sqrt(1/(3*q**2 + 1)),  sqrt((1 - q**2)/(4*q**4 - q**2 + 1))*(4*q**4 - q**2 + 1)*sqrt(1/(3*q**2 + 1))*sqrt(1/(4*q**4 - q**2 + 1)),  sqrt((1 - q**2)/(4*q**4 - q**2 + 1))*(4*q**4 - q**2 + 1)*sqrt(1/(4*q**4 - q**2 + 1))],\n",
       "[ 2*q**2*sqrt(1/(4*q**4 - q**2 + 1)), q, (1 - q**2)*sqrt(1/(4*q**4 - q**2 + 1)),   q*sqrt((1 - q**2)/(4*q**4 - q**2 + 1)), -2*q*sqrt(1/(3*q**2 + 1)), sqrt((1 - q**2)/(4*q**4 - q**2 + 1))*(-4*q**4 + q**2 - 1)*sqrt(1/(3*q**2 + 1))*sqrt(1/(4*q**4 - q**2 + 1)),  sqrt((1 - q**2)/(4*q**4 - q**2 + 1))*(4*q**4 - q**2 + 1)*sqrt(1/(4*q**4 - q**2 + 1))],\n",
       "[ 2*q**2*sqrt(1/(4*q**4 - q**2 + 1)), q, (1 - q**2)*sqrt(1/(4*q**4 - q**2 + 1)),   q*sqrt((1 - q**2)/(4*q**4 - q**2 + 1)),  2*q*sqrt(1/(3*q**2 + 1)),  sqrt((1 - q**2)/(4*q**4 - q**2 + 1))*(4*q**4 - q**2 + 1)*sqrt(1/(3*q**2 + 1))*sqrt(1/(4*q**4 - q**2 + 1)),  sqrt((1 - q**2)/(4*q**4 - q**2 + 1))*(4*q**4 - q**2 + 1)*sqrt(1/(4*q**4 - q**2 + 1))],\n",
       "[ 2*q**2*sqrt(1/(4*q**4 - q**2 + 1)), q, (1 - q**2)*sqrt(1/(4*q**4 - q**2 + 1)), -q*sqrt(-(q**2 - 1)/(4*q**4 - q**2 + 1)), -2*q*sqrt(1/(3*q**2 + 1)),  sqrt((1 - q**2)/(4*q**4 - q**2 + 1))*(4*q**4 - q**2 + 1)*sqrt(1/(3*q**2 + 1))*sqrt(1/(4*q**4 - q**2 + 1)), sqrt((1 - q**2)/(4*q**4 - q**2 + 1))*(-4*q**4 + q**2 - 1)*sqrt(1/(4*q**4 - q**2 + 1))],\n",
       "[ 2*q**2*sqrt(1/(4*q**4 - q**2 + 1)), q, (1 - q**2)*sqrt(1/(4*q**4 - q**2 + 1)), -q*sqrt(-(q**2 - 1)/(4*q**4 - q**2 + 1)),  2*q*sqrt(1/(3*q**2 + 1)), sqrt((1 - q**2)/(4*q**4 - q**2 + 1))*(-4*q**4 + q**2 - 1)*sqrt(1/(3*q**2 + 1))*sqrt(1/(4*q**4 - q**2 + 1)), sqrt((1 - q**2)/(4*q**4 - q**2 + 1))*(-4*q**4 + q**2 - 1)*sqrt(1/(4*q**4 - q**2 + 1))]])"
      ]
     },
     "execution_count": 162,
     "metadata": {},
     "output_type": "execute_result"
    }
   ],
   "source": [
    "w += 1\n",
    "print(w)\n",
    "Matrix(eqn_solutions[w])"
   ]
  },
  {
   "cell_type": "code",
   "execution_count": null,
   "metadata": {},
   "outputs": [
    {
     "name": "stdout",
     "output_type": "stream",
     "text": [
      "38\n"
     ]
    },
    {
     "data": {
      "text/latex": [
       "$\\displaystyle \\left[\\begin{matrix}- q^{2} \\sqrt{\\frac{1}{\\left(q^{2} - q + 1\\right) \\left(q^{2} + q + 1\\right)}} & q & - \\sqrt{\\frac{1}{q^{4} + q^{2} + 1}} & - q \\sqrt{\\frac{1}{\\left(q^{2} - q + 1\\right) \\left(q^{2} + q + 1\\right)}} & - \\sqrt{\\frac{1}{q^{2} + 1}} & - q \\sqrt{\\frac{1}{q^{2} + 1}} & 1\\\\- q^{2} \\sqrt{\\frac{1}{\\left(q^{2} - q + 1\\right) \\left(q^{2} + q + 1\\right)}} & q & - \\sqrt{\\frac{1}{q^{4} + q^{2} + 1}} & - q \\sqrt{\\frac{1}{\\left(q^{2} - q + 1\\right) \\left(q^{2} + q + 1\\right)}} & \\sqrt{\\frac{1}{q^{2} + 1}} & q \\sqrt{\\frac{1}{q^{2} + 1}} & 1\\\\- q^{2} \\sqrt{\\frac{1}{\\left(q^{2} - q + 1\\right) \\left(q^{2} + q + 1\\right)}} & q & - \\sqrt{\\frac{1}{q^{4} + q^{2} + 1}} & q \\sqrt{\\frac{1}{\\left(q^{2} - q + 1\\right) \\left(q^{2} + q + 1\\right)}} & - \\sqrt{\\frac{1}{q^{2} + 1}} & q \\sqrt{\\frac{1}{q^{2} + 1}} & -1\\\\- q^{2} \\sqrt{\\frac{1}{\\left(q^{2} - q + 1\\right) \\left(q^{2} + q + 1\\right)}} & q & - \\sqrt{\\frac{1}{q^{4} + q^{2} + 1}} & q \\sqrt{\\frac{1}{\\left(q^{2} - q + 1\\right) \\left(q^{2} + q + 1\\right)}} & \\sqrt{\\frac{1}{q^{2} + 1}} & - q \\sqrt{\\frac{1}{q^{2} + 1}} & -1\\\\q^{2} \\sqrt{\\frac{1}{\\left(q^{2} - q + 1\\right) \\left(q^{2} + q + 1\\right)}} & q & \\sqrt{\\frac{1}{q^{4} + q^{2} + 1}} & - q \\sqrt{\\frac{1}{\\left(q^{2} - q + 1\\right) \\left(q^{2} + q + 1\\right)}} & - \\sqrt{\\frac{1}{q^{2} + 1}} & q \\sqrt{\\frac{1}{q^{2} + 1}} & -1\\\\q^{2} \\sqrt{\\frac{1}{\\left(q^{2} - q + 1\\right) \\left(q^{2} + q + 1\\right)}} & q & \\sqrt{\\frac{1}{q^{4} + q^{2} + 1}} & - q \\sqrt{\\frac{1}{\\left(q^{2} - q + 1\\right) \\left(q^{2} + q + 1\\right)}} & \\sqrt{\\frac{1}{q^{2} + 1}} & - q \\sqrt{\\frac{1}{q^{2} + 1}} & -1\\\\q^{2} \\sqrt{\\frac{1}{\\left(q^{2} - q + 1\\right) \\left(q^{2} + q + 1\\right)}} & q & \\sqrt{\\frac{1}{q^{4} + q^{2} + 1}} & q \\sqrt{\\frac{1}{\\left(q^{2} - q + 1\\right) \\left(q^{2} + q + 1\\right)}} & - \\sqrt{\\frac{1}{q^{2} + 1}} & - q \\sqrt{\\frac{1}{q^{2} + 1}} & 1\\\\q^{2} \\sqrt{\\frac{1}{\\left(q^{2} - q + 1\\right) \\left(q^{2} + q + 1\\right)}} & q & \\sqrt{\\frac{1}{q^{4} + q^{2} + 1}} & q \\sqrt{\\frac{1}{\\left(q^{2} - q + 1\\right) \\left(q^{2} + q + 1\\right)}} & \\sqrt{\\frac{1}{q^{2} + 1}} & q \\sqrt{\\frac{1}{q^{2} + 1}} & 1\\end{matrix}\\right]$"
      ],
      "text/plain": [
       "Matrix([\n",
       "[-q**2*sqrt(1/((q**2 - q + 1)*(q**2 + q + 1))), q, -sqrt(1/(q**4 + q**2 + 1)), -q*sqrt(1/((q**2 - q + 1)*(q**2 + q + 1))), -sqrt(1/(q**2 + 1)), -q*sqrt(1/(q**2 + 1)),  1],\n",
       "[-q**2*sqrt(1/((q**2 - q + 1)*(q**2 + q + 1))), q, -sqrt(1/(q**4 + q**2 + 1)), -q*sqrt(1/((q**2 - q + 1)*(q**2 + q + 1))),  sqrt(1/(q**2 + 1)),  q*sqrt(1/(q**2 + 1)),  1],\n",
       "[-q**2*sqrt(1/((q**2 - q + 1)*(q**2 + q + 1))), q, -sqrt(1/(q**4 + q**2 + 1)),  q*sqrt(1/((q**2 - q + 1)*(q**2 + q + 1))), -sqrt(1/(q**2 + 1)),  q*sqrt(1/(q**2 + 1)), -1],\n",
       "[-q**2*sqrt(1/((q**2 - q + 1)*(q**2 + q + 1))), q, -sqrt(1/(q**4 + q**2 + 1)),  q*sqrt(1/((q**2 - q + 1)*(q**2 + q + 1))),  sqrt(1/(q**2 + 1)), -q*sqrt(1/(q**2 + 1)), -1],\n",
       "[ q**2*sqrt(1/((q**2 - q + 1)*(q**2 + q + 1))), q,  sqrt(1/(q**4 + q**2 + 1)), -q*sqrt(1/((q**2 - q + 1)*(q**2 + q + 1))), -sqrt(1/(q**2 + 1)),  q*sqrt(1/(q**2 + 1)), -1],\n",
       "[ q**2*sqrt(1/((q**2 - q + 1)*(q**2 + q + 1))), q,  sqrt(1/(q**4 + q**2 + 1)), -q*sqrt(1/((q**2 - q + 1)*(q**2 + q + 1))),  sqrt(1/(q**2 + 1)), -q*sqrt(1/(q**2 + 1)), -1],\n",
       "[ q**2*sqrt(1/((q**2 - q + 1)*(q**2 + q + 1))), q,  sqrt(1/(q**4 + q**2 + 1)),  q*sqrt(1/((q**2 - q + 1)*(q**2 + q + 1))), -sqrt(1/(q**2 + 1)), -q*sqrt(1/(q**2 + 1)),  1],\n",
       "[ q**2*sqrt(1/((q**2 - q + 1)*(q**2 + q + 1))), q,  sqrt(1/(q**4 + q**2 + 1)),  q*sqrt(1/((q**2 - q + 1)*(q**2 + q + 1))),  sqrt(1/(q**2 + 1)),  q*sqrt(1/(q**2 + 1)),  1]])"
      ]
     },
     "execution_count": 163,
     "metadata": {},
     "output_type": "execute_result"
    }
   ],
   "source": [
    "w += 1\n",
    "print(w)\n",
    "Matrix(eqn_solutions[w])"
   ]
  },
  {
   "cell_type": "code",
   "execution_count": null,
   "metadata": {},
   "outputs": [
    {
     "name": "stdout",
     "output_type": "stream",
     "text": [
      "39\n"
     ]
    },
    {
     "data": {
      "text/latex": [
       "$\\displaystyle \\left[\\begin{matrix}- 2 q \\sqrt{- \\left(q - 1\\right) \\left(q + 1\\right)} & q & 1 - 2 q^{2} & 2 \\left(q - 1\\right) \\left(q + 1\\right) & - q & - \\sqrt{- \\left(q - 1\\right) \\left(q + 1\\right)} & \\sqrt{1 - q^{2}}\\\\- 2 q \\sqrt{- \\left(q - 1\\right) \\left(q + 1\\right)} & q & 1 - 2 q^{2} & 2 \\left(q - 1\\right) \\left(q + 1\\right) & q & \\sqrt{- \\left(q - 1\\right) \\left(q + 1\\right)} & \\sqrt{1 - q^{2}}\\\\- 2 q \\sqrt{- \\left(q - 1\\right) \\left(q + 1\\right)} & q & 2 q^{2} - 1 & - 2 \\left(q - 1\\right) \\left(q + 1\\right) & - q & \\sqrt{- \\left(q - 1\\right) \\left(q + 1\\right)} & - \\sqrt{1 - q^{2}}\\\\- 2 q \\sqrt{- \\left(q - 1\\right) \\left(q + 1\\right)} & q & 2 q^{2} - 1 & - 2 \\left(q - 1\\right) \\left(q + 1\\right) & q & - \\sqrt{- \\left(q - 1\\right) \\left(q + 1\\right)} & - \\sqrt{1 - q^{2}}\\\\2 q \\sqrt{- \\left(q - 1\\right) \\left(q + 1\\right)} & q & 1 - 2 q^{2} & 2 \\left(q - 1\\right) \\left(q + 1\\right) & - q & \\sqrt{- \\left(q - 1\\right) \\left(q + 1\\right)} & - \\sqrt{1 - q^{2}}\\\\2 q \\sqrt{- \\left(q - 1\\right) \\left(q + 1\\right)} & q & 1 - 2 q^{2} & 2 \\left(q - 1\\right) \\left(q + 1\\right) & q & - \\sqrt{- \\left(q - 1\\right) \\left(q + 1\\right)} & - \\sqrt{1 - q^{2}}\\\\2 q \\sqrt{- \\left(q - 1\\right) \\left(q + 1\\right)} & q & 2 q^{2} - 1 & - 2 \\left(q - 1\\right) \\left(q + 1\\right) & - q & - \\sqrt{- \\left(q - 1\\right) \\left(q + 1\\right)} & \\sqrt{1 - q^{2}}\\\\2 q \\sqrt{- \\left(q - 1\\right) \\left(q + 1\\right)} & q & 2 q^{2} - 1 & - 2 \\left(q - 1\\right) \\left(q + 1\\right) & q & \\sqrt{- \\left(q - 1\\right) \\left(q + 1\\right)} & \\sqrt{1 - q^{2}}\\end{matrix}\\right]$"
      ],
      "text/plain": [
       "Matrix([\n",
       "[-2*q*sqrt(-(q - 1)*(q + 1)), q, 1 - 2*q**2,  2*(q - 1)*(q + 1), -q, -sqrt(-(q - 1)*(q + 1)),  sqrt(1 - q**2)],\n",
       "[-2*q*sqrt(-(q - 1)*(q + 1)), q, 1 - 2*q**2,  2*(q - 1)*(q + 1),  q,  sqrt(-(q - 1)*(q + 1)),  sqrt(1 - q**2)],\n",
       "[-2*q*sqrt(-(q - 1)*(q + 1)), q, 2*q**2 - 1, -2*(q - 1)*(q + 1), -q,  sqrt(-(q - 1)*(q + 1)), -sqrt(1 - q**2)],\n",
       "[-2*q*sqrt(-(q - 1)*(q + 1)), q, 2*q**2 - 1, -2*(q - 1)*(q + 1),  q, -sqrt(-(q - 1)*(q + 1)), -sqrt(1 - q**2)],\n",
       "[ 2*q*sqrt(-(q - 1)*(q + 1)), q, 1 - 2*q**2,  2*(q - 1)*(q + 1), -q,  sqrt(-(q - 1)*(q + 1)), -sqrt(1 - q**2)],\n",
       "[ 2*q*sqrt(-(q - 1)*(q + 1)), q, 1 - 2*q**2,  2*(q - 1)*(q + 1),  q, -sqrt(-(q - 1)*(q + 1)), -sqrt(1 - q**2)],\n",
       "[ 2*q*sqrt(-(q - 1)*(q + 1)), q, 2*q**2 - 1, -2*(q - 1)*(q + 1), -q, -sqrt(-(q - 1)*(q + 1)),  sqrt(1 - q**2)],\n",
       "[ 2*q*sqrt(-(q - 1)*(q + 1)), q, 2*q**2 - 1, -2*(q - 1)*(q + 1),  q,  sqrt(-(q - 1)*(q + 1)),  sqrt(1 - q**2)]])"
      ]
     },
     "execution_count": 164,
     "metadata": {},
     "output_type": "execute_result"
    }
   ],
   "source": [
    "w += 1\n",
    "print(w)\n",
    "Matrix(eqn_solutions[w])"
   ]
  },
  {
   "cell_type": "code",
   "execution_count": null,
   "metadata": {},
   "outputs": [
    {
     "name": "stdout",
     "output_type": "stream",
     "text": [
      "40\n"
     ]
    },
    {
     "data": {
      "text/latex": [
       "$\\displaystyle \\left[\\begin{matrix}- q \\sqrt{- \\frac{\\left(q - 1\\right) \\left(q + 1\\right)}{4 q^{4} - 7 q^{2} + 4}} & q & 2 \\cdot \\left(1 - q^{2}\\right) \\sqrt{\\frac{1}{4 q^{4} - 7 q^{2} + 4}} & q^{2} \\sqrt{\\frac{1}{4 q^{4} - 7 q^{2} + 4}} & - 2 \\sqrt{\\frac{\\left(q - 1\\right) \\left(q + 1\\right)}{3 q^{2} - 4}} & \\frac{q \\sqrt{\\frac{1 - q^{2}}{4 q^{4} - 7 q^{2} + 4}} \\sqrt{\\frac{q^{2} - 1}{3 q^{2} - 4}} \\left(- 4 q^{4} + 7 q^{2} - 4\\right) \\sqrt{\\frac{1}{4 q^{4} - 7 q^{2} + 4}}}{q^{2} - 1} & \\sqrt{\\frac{1 - q^{2}}{4 q^{4} - 7 q^{2} + 4}} \\left(- 4 q^{4} + 7 q^{2} - 4\\right) \\sqrt{\\frac{1}{4 q^{4} - 7 q^{2} + 4}}\\\\- q \\sqrt{- \\frac{\\left(q - 1\\right) \\left(q + 1\\right)}{4 q^{4} - 7 q^{2} + 4}} & q & 2 \\cdot \\left(1 - q^{2}\\right) \\sqrt{\\frac{1}{4 q^{4} - 7 q^{2} + 4}} & q^{2} \\sqrt{\\frac{1}{4 q^{4} - 7 q^{2} + 4}} & 2 \\sqrt{\\frac{\\left(q - 1\\right) \\left(q + 1\\right)}{3 q^{2} - 4}} & \\frac{q \\sqrt{\\frac{1 - q^{2}}{4 q^{4} - 7 q^{2} + 4}} \\sqrt{\\frac{q^{2} - 1}{3 q^{2} - 4}} \\cdot \\left(4 q^{4} - 7 q^{2} + 4\\right) \\sqrt{\\frac{1}{4 q^{4} - 7 q^{2} + 4}}}{q^{2} - 1} & \\sqrt{\\frac{1 - q^{2}}{4 q^{4} - 7 q^{2} + 4}} \\left(- 4 q^{4} + 7 q^{2} - 4\\right) \\sqrt{\\frac{1}{4 q^{4} - 7 q^{2} + 4}}\\\\- q \\sqrt{- \\frac{\\left(q - 1\\right) \\left(q + 1\\right)}{4 q^{4} - 7 q^{2} + 4}} & q & 2 \\left(q^{2} - 1\\right) \\sqrt{\\frac{1}{4 q^{4} - 7 q^{2} + 4}} & - q^{2} \\sqrt{\\frac{1}{4 q^{4} - 7 q^{2} + 4}} & - 2 \\sqrt{\\frac{\\left(q - 1\\right) \\left(q + 1\\right)}{3 q^{2} - 4}} & \\frac{q \\sqrt{\\frac{1 - q^{2}}{4 q^{4} - 7 q^{2} + 4}} \\sqrt{\\frac{q^{2} - 1}{3 q^{2} - 4}} \\cdot \\left(4 q^{4} - 7 q^{2} + 4\\right) \\sqrt{\\frac{1}{4 q^{4} - 7 q^{2} + 4}}}{q^{2} - 1} & \\sqrt{\\frac{1 - q^{2}}{4 q^{4} - 7 q^{2} + 4}} \\cdot \\left(4 q^{4} - 7 q^{2} + 4\\right) \\sqrt{\\frac{1}{4 q^{4} - 7 q^{2} + 4}}\\\\- q \\sqrt{- \\frac{\\left(q - 1\\right) \\left(q + 1\\right)}{4 q^{4} - 7 q^{2} + 4}} & q & 2 \\left(q^{2} - 1\\right) \\sqrt{\\frac{1}{4 q^{4} - 7 q^{2} + 4}} & - q^{2} \\sqrt{\\frac{1}{4 q^{4} - 7 q^{2} + 4}} & 2 \\sqrt{\\frac{\\left(q - 1\\right) \\left(q + 1\\right)}{3 q^{2} - 4}} & \\frac{q \\sqrt{\\frac{1 - q^{2}}{4 q^{4} - 7 q^{2} + 4}} \\sqrt{\\frac{q^{2} - 1}{3 q^{2} - 4}} \\left(- 4 q^{4} + 7 q^{2} - 4\\right) \\sqrt{\\frac{1}{4 q^{4} - 7 q^{2} + 4}}}{q^{2} - 1} & \\sqrt{\\frac{1 - q^{2}}{4 q^{4} - 7 q^{2} + 4}} \\cdot \\left(4 q^{4} - 7 q^{2} + 4\\right) \\sqrt{\\frac{1}{4 q^{4} - 7 q^{2} + 4}}\\\\q \\sqrt{- \\frac{\\left(q - 1\\right) \\left(q + 1\\right)}{4 q^{4} - 7 q^{2} + 4}} & q & 2 \\cdot \\left(1 - q^{2}\\right) \\sqrt{\\frac{1}{4 q^{4} - 7 q^{2} + 4}} & q^{2} \\sqrt{\\frac{1}{4 q^{4} - 7 q^{2} + 4}} & - 2 \\sqrt{\\frac{\\left(q - 1\\right) \\left(q + 1\\right)}{3 q^{2} - 4}} & \\frac{q \\sqrt{\\frac{1 - q^{2}}{4 q^{4} - 7 q^{2} + 4}} \\sqrt{\\frac{q^{2} - 1}{3 q^{2} - 4}} \\cdot \\left(4 q^{4} - 7 q^{2} + 4\\right) \\sqrt{\\frac{1}{4 q^{4} - 7 q^{2} + 4}}}{q^{2} - 1} & \\sqrt{\\frac{1 - q^{2}}{4 q^{4} - 7 q^{2} + 4}} \\cdot \\left(4 q^{4} - 7 q^{2} + 4\\right) \\sqrt{\\frac{1}{4 q^{4} - 7 q^{2} + 4}}\\\\q \\sqrt{- \\frac{\\left(q - 1\\right) \\left(q + 1\\right)}{4 q^{4} - 7 q^{2} + 4}} & q & 2 \\cdot \\left(1 - q^{2}\\right) \\sqrt{\\frac{1}{4 q^{4} - 7 q^{2} + 4}} & q^{2} \\sqrt{\\frac{1}{4 q^{4} - 7 q^{2} + 4}} & 2 \\sqrt{\\frac{\\left(q - 1\\right) \\left(q + 1\\right)}{3 q^{2} - 4}} & \\frac{q \\sqrt{\\frac{1 - q^{2}}{4 q^{4} - 7 q^{2} + 4}} \\sqrt{\\frac{q^{2} - 1}{3 q^{2} - 4}} \\left(- 4 q^{4} + 7 q^{2} - 4\\right) \\sqrt{\\frac{1}{4 q^{4} - 7 q^{2} + 4}}}{q^{2} - 1} & \\sqrt{\\frac{1 - q^{2}}{4 q^{4} - 7 q^{2} + 4}} \\cdot \\left(4 q^{4} - 7 q^{2} + 4\\right) \\sqrt{\\frac{1}{4 q^{4} - 7 q^{2} + 4}}\\\\q \\sqrt{- \\frac{\\left(q - 1\\right) \\left(q + 1\\right)}{4 q^{4} - 7 q^{2} + 4}} & q & 2 \\left(q^{2} - 1\\right) \\sqrt{\\frac{1}{4 q^{4} - 7 q^{2} + 4}} & - q^{2} \\sqrt{\\frac{1}{4 q^{4} - 7 q^{2} + 4}} & - 2 \\sqrt{\\frac{\\left(q - 1\\right) \\left(q + 1\\right)}{3 q^{2} - 4}} & \\frac{q \\sqrt{\\frac{1 - q^{2}}{4 q^{4} - 7 q^{2} + 4}} \\sqrt{\\frac{q^{2} - 1}{3 q^{2} - 4}} \\left(- 4 q^{4} + 7 q^{2} - 4\\right) \\sqrt{\\frac{1}{4 q^{4} - 7 q^{2} + 4}}}{q^{2} - 1} & \\sqrt{\\frac{1 - q^{2}}{4 q^{4} - 7 q^{2} + 4}} \\left(- 4 q^{4} + 7 q^{2} - 4\\right) \\sqrt{\\frac{1}{4 q^{4} - 7 q^{2} + 4}}\\\\q \\sqrt{- \\frac{\\left(q - 1\\right) \\left(q + 1\\right)}{4 q^{4} - 7 q^{2} + 4}} & q & 2 \\left(q^{2} - 1\\right) \\sqrt{\\frac{1}{4 q^{4} - 7 q^{2} + 4}} & - q^{2} \\sqrt{\\frac{1}{4 q^{4} - 7 q^{2} + 4}} & 2 \\sqrt{\\frac{\\left(q - 1\\right) \\left(q + 1\\right)}{3 q^{2} - 4}} & \\frac{q \\sqrt{\\frac{1 - q^{2}}{4 q^{4} - 7 q^{2} + 4}} \\sqrt{\\frac{q^{2} - 1}{3 q^{2} - 4}} \\cdot \\left(4 q^{4} - 7 q^{2} + 4\\right) \\sqrt{\\frac{1}{4 q^{4} - 7 q^{2} + 4}}}{q^{2} - 1} & \\sqrt{\\frac{1 - q^{2}}{4 q^{4} - 7 q^{2} + 4}} \\left(- 4 q^{4} + 7 q^{2} - 4\\right) \\sqrt{\\frac{1}{4 q^{4} - 7 q^{2} + 4}}\\end{matrix}\\right]$"
      ],
      "text/plain": [
       "Matrix([\n",
       "[-q*sqrt(-(q - 1)*(q + 1)/(4*q**4 - 7*q**2 + 4)), q, 2*(1 - q**2)*sqrt(1/(4*q**4 - 7*q**2 + 4)),  q**2*sqrt(1/(4*q**4 - 7*q**2 + 4)), -2*sqrt((q - 1)*(q + 1)/(3*q**2 - 4)), q*sqrt((1 - q**2)/(4*q**4 - 7*q**2 + 4))*sqrt((q**2 - 1)/(3*q**2 - 4))*(-4*q**4 + 7*q**2 - 4)*sqrt(1/(4*q**4 - 7*q**2 + 4))/(q**2 - 1), sqrt((1 - q**2)/(4*q**4 - 7*q**2 + 4))*(-4*q**4 + 7*q**2 - 4)*sqrt(1/(4*q**4 - 7*q**2 + 4))],\n",
       "[-q*sqrt(-(q - 1)*(q + 1)/(4*q**4 - 7*q**2 + 4)), q, 2*(1 - q**2)*sqrt(1/(4*q**4 - 7*q**2 + 4)),  q**2*sqrt(1/(4*q**4 - 7*q**2 + 4)),  2*sqrt((q - 1)*(q + 1)/(3*q**2 - 4)),  q*sqrt((1 - q**2)/(4*q**4 - 7*q**2 + 4))*sqrt((q**2 - 1)/(3*q**2 - 4))*(4*q**4 - 7*q**2 + 4)*sqrt(1/(4*q**4 - 7*q**2 + 4))/(q**2 - 1), sqrt((1 - q**2)/(4*q**4 - 7*q**2 + 4))*(-4*q**4 + 7*q**2 - 4)*sqrt(1/(4*q**4 - 7*q**2 + 4))],\n",
       "[-q*sqrt(-(q - 1)*(q + 1)/(4*q**4 - 7*q**2 + 4)), q, 2*(q**2 - 1)*sqrt(1/(4*q**4 - 7*q**2 + 4)), -q**2*sqrt(1/(4*q**4 - 7*q**2 + 4)), -2*sqrt((q - 1)*(q + 1)/(3*q**2 - 4)),  q*sqrt((1 - q**2)/(4*q**4 - 7*q**2 + 4))*sqrt((q**2 - 1)/(3*q**2 - 4))*(4*q**4 - 7*q**2 + 4)*sqrt(1/(4*q**4 - 7*q**2 + 4))/(q**2 - 1),  sqrt((1 - q**2)/(4*q**4 - 7*q**2 + 4))*(4*q**4 - 7*q**2 + 4)*sqrt(1/(4*q**4 - 7*q**2 + 4))],\n",
       "[-q*sqrt(-(q - 1)*(q + 1)/(4*q**4 - 7*q**2 + 4)), q, 2*(q**2 - 1)*sqrt(1/(4*q**4 - 7*q**2 + 4)), -q**2*sqrt(1/(4*q**4 - 7*q**2 + 4)),  2*sqrt((q - 1)*(q + 1)/(3*q**2 - 4)), q*sqrt((1 - q**2)/(4*q**4 - 7*q**2 + 4))*sqrt((q**2 - 1)/(3*q**2 - 4))*(-4*q**4 + 7*q**2 - 4)*sqrt(1/(4*q**4 - 7*q**2 + 4))/(q**2 - 1),  sqrt((1 - q**2)/(4*q**4 - 7*q**2 + 4))*(4*q**4 - 7*q**2 + 4)*sqrt(1/(4*q**4 - 7*q**2 + 4))],\n",
       "[ q*sqrt(-(q - 1)*(q + 1)/(4*q**4 - 7*q**2 + 4)), q, 2*(1 - q**2)*sqrt(1/(4*q**4 - 7*q**2 + 4)),  q**2*sqrt(1/(4*q**4 - 7*q**2 + 4)), -2*sqrt((q - 1)*(q + 1)/(3*q**2 - 4)),  q*sqrt((1 - q**2)/(4*q**4 - 7*q**2 + 4))*sqrt((q**2 - 1)/(3*q**2 - 4))*(4*q**4 - 7*q**2 + 4)*sqrt(1/(4*q**4 - 7*q**2 + 4))/(q**2 - 1),  sqrt((1 - q**2)/(4*q**4 - 7*q**2 + 4))*(4*q**4 - 7*q**2 + 4)*sqrt(1/(4*q**4 - 7*q**2 + 4))],\n",
       "[ q*sqrt(-(q - 1)*(q + 1)/(4*q**4 - 7*q**2 + 4)), q, 2*(1 - q**2)*sqrt(1/(4*q**4 - 7*q**2 + 4)),  q**2*sqrt(1/(4*q**4 - 7*q**2 + 4)),  2*sqrt((q - 1)*(q + 1)/(3*q**2 - 4)), q*sqrt((1 - q**2)/(4*q**4 - 7*q**2 + 4))*sqrt((q**2 - 1)/(3*q**2 - 4))*(-4*q**4 + 7*q**2 - 4)*sqrt(1/(4*q**4 - 7*q**2 + 4))/(q**2 - 1),  sqrt((1 - q**2)/(4*q**4 - 7*q**2 + 4))*(4*q**4 - 7*q**2 + 4)*sqrt(1/(4*q**4 - 7*q**2 + 4))],\n",
       "[ q*sqrt(-(q - 1)*(q + 1)/(4*q**4 - 7*q**2 + 4)), q, 2*(q**2 - 1)*sqrt(1/(4*q**4 - 7*q**2 + 4)), -q**2*sqrt(1/(4*q**4 - 7*q**2 + 4)), -2*sqrt((q - 1)*(q + 1)/(3*q**2 - 4)), q*sqrt((1 - q**2)/(4*q**4 - 7*q**2 + 4))*sqrt((q**2 - 1)/(3*q**2 - 4))*(-4*q**4 + 7*q**2 - 4)*sqrt(1/(4*q**4 - 7*q**2 + 4))/(q**2 - 1), sqrt((1 - q**2)/(4*q**4 - 7*q**2 + 4))*(-4*q**4 + 7*q**2 - 4)*sqrt(1/(4*q**4 - 7*q**2 + 4))],\n",
       "[ q*sqrt(-(q - 1)*(q + 1)/(4*q**4 - 7*q**2 + 4)), q, 2*(q**2 - 1)*sqrt(1/(4*q**4 - 7*q**2 + 4)), -q**2*sqrt(1/(4*q**4 - 7*q**2 + 4)),  2*sqrt((q - 1)*(q + 1)/(3*q**2 - 4)),  q*sqrt((1 - q**2)/(4*q**4 - 7*q**2 + 4))*sqrt((q**2 - 1)/(3*q**2 - 4))*(4*q**4 - 7*q**2 + 4)*sqrt(1/(4*q**4 - 7*q**2 + 4))/(q**2 - 1), sqrt((1 - q**2)/(4*q**4 - 7*q**2 + 4))*(-4*q**4 + 7*q**2 - 4)*sqrt(1/(4*q**4 - 7*q**2 + 4))]])"
      ]
     },
     "execution_count": 165,
     "metadata": {},
     "output_type": "execute_result"
    }
   ],
   "source": [
    "w += 1\n",
    "print(w)\n",
    "Matrix(eqn_solutions[w])"
   ]
  },
  {
   "cell_type": "code",
   "execution_count": null,
   "metadata": {},
   "outputs": [
    {
     "name": "stdout",
     "output_type": "stream",
     "text": [
      "41\n"
     ]
    },
    {
     "data": {
      "text/latex": [
       "$\\displaystyle \\left[\\begin{matrix}\\left(1 - q^{2}\\right) \\sqrt{\\frac{1}{q^{4} - q^{2} + 1}} & q & q \\sqrt{\\frac{1 - q^{2}}{q^{4} - q^{2} + 1}} & q^{2} \\sqrt{\\frac{1}{q^{4} - q^{2} + 1}} & \\frac{q \\sqrt{\\frac{1 - q^{2}}{q^{4} - q^{2} + 1}} \\left(- q^{4} + q^{2} - 1\\right) \\sqrt{\\frac{1}{q^{4} - q^{2} + 1}}}{\\sqrt{1 - q^{2}}} & - \\sqrt{1 - q^{2}} & \\sqrt{\\frac{1 - q^{2}}{q^{4} - q^{2} + 1}} \\left(q^{4} - q^{2} + 1\\right) \\sqrt{\\frac{1}{q^{4} - q^{2} + 1}}\\\\\\left(1 - q^{2}\\right) \\sqrt{\\frac{1}{q^{4} - q^{2} + 1}} & q & q \\sqrt{\\frac{1 - q^{2}}{q^{4} - q^{2} + 1}} & q^{2} \\sqrt{\\frac{1}{q^{4} - q^{2} + 1}} & \\frac{q \\sqrt{\\frac{1 - q^{2}}{q^{4} - q^{2} + 1}} \\left(q^{4} - q^{2} + 1\\right) \\sqrt{\\frac{1}{q^{4} - q^{2} + 1}}}{\\sqrt{1 - q^{2}}} & \\sqrt{1 - q^{2}} & \\sqrt{\\frac{1 - q^{2}}{q^{4} - q^{2} + 1}} \\left(q^{4} - q^{2} + 1\\right) \\sqrt{\\frac{1}{q^{4} - q^{2} + 1}}\\\\\\left(1 - q^{2}\\right) \\sqrt{\\frac{1}{q^{4} - q^{2} + 1}} & q & - q \\sqrt{- \\frac{q^{2} - 1}{q^{4} - q^{2} + 1}} & q^{2} \\sqrt{\\frac{1}{q^{4} - q^{2} + 1}} & \\frac{q \\sqrt{\\frac{1 - q^{2}}{q^{4} - q^{2} + 1}} \\left(- q^{4} + q^{2} - 1\\right) \\sqrt{\\frac{1}{q^{4} - q^{2} + 1}}}{\\sqrt{1 - q^{2}}} & \\sqrt{1 - q^{2}} & \\sqrt{\\frac{1 - q^{2}}{q^{4} - q^{2} + 1}} \\left(- q^{4} + q^{2} - 1\\right) \\sqrt{\\frac{1}{q^{4} - q^{2} + 1}}\\\\\\left(1 - q^{2}\\right) \\sqrt{\\frac{1}{q^{4} - q^{2} + 1}} & q & - q \\sqrt{- \\frac{q^{2} - 1}{q^{4} - q^{2} + 1}} & q^{2} \\sqrt{\\frac{1}{q^{4} - q^{2} + 1}} & \\frac{q \\sqrt{\\frac{1 - q^{2}}{q^{4} - q^{2} + 1}} \\left(q^{4} - q^{2} + 1\\right) \\sqrt{\\frac{1}{q^{4} - q^{2} + 1}}}{\\sqrt{1 - q^{2}}} & - \\sqrt{1 - q^{2}} & \\sqrt{\\frac{1 - q^{2}}{q^{4} - q^{2} + 1}} \\left(- q^{4} + q^{2} - 1\\right) \\sqrt{\\frac{1}{q^{4} - q^{2} + 1}}\\\\\\left(q^{2} - 1\\right) \\sqrt{\\frac{1}{q^{4} - q^{2} + 1}} & q & q \\sqrt{\\frac{1 - q^{2}}{q^{4} - q^{2} + 1}} & - q^{2} \\sqrt{\\frac{1}{q^{4} - q^{2} + 1}} & \\frac{q \\sqrt{\\frac{1 - q^{2}}{q^{4} - q^{2} + 1}} \\left(- q^{4} + q^{2} - 1\\right) \\sqrt{\\frac{1}{q^{4} - q^{2} + 1}}}{\\sqrt{1 - q^{2}}} & \\sqrt{1 - q^{2}} & \\sqrt{\\frac{1 - q^{2}}{q^{4} - q^{2} + 1}} \\left(- q^{4} + q^{2} - 1\\right) \\sqrt{\\frac{1}{q^{4} - q^{2} + 1}}\\\\\\left(q^{2} - 1\\right) \\sqrt{\\frac{1}{q^{4} - q^{2} + 1}} & q & q \\sqrt{\\frac{1 - q^{2}}{q^{4} - q^{2} + 1}} & - q^{2} \\sqrt{\\frac{1}{q^{4} - q^{2} + 1}} & \\frac{q \\sqrt{\\frac{1 - q^{2}}{q^{4} - q^{2} + 1}} \\left(q^{4} - q^{2} + 1\\right) \\sqrt{\\frac{1}{q^{4} - q^{2} + 1}}}{\\sqrt{1 - q^{2}}} & - \\sqrt{1 - q^{2}} & \\sqrt{\\frac{1 - q^{2}}{q^{4} - q^{2} + 1}} \\left(- q^{4} + q^{2} - 1\\right) \\sqrt{\\frac{1}{q^{4} - q^{2} + 1}}\\\\\\left(q^{2} - 1\\right) \\sqrt{\\frac{1}{q^{4} - q^{2} + 1}} & q & - q \\sqrt{- \\frac{q^{2} - 1}{q^{4} - q^{2} + 1}} & - q^{2} \\sqrt{\\frac{1}{q^{4} - q^{2} + 1}} & \\frac{q \\sqrt{\\frac{1 - q^{2}}{q^{4} - q^{2} + 1}} \\left(- q^{4} + q^{2} - 1\\right) \\sqrt{\\frac{1}{q^{4} - q^{2} + 1}}}{\\sqrt{1 - q^{2}}} & - \\sqrt{1 - q^{2}} & \\sqrt{\\frac{1 - q^{2}}{q^{4} - q^{2} + 1}} \\left(q^{4} - q^{2} + 1\\right) \\sqrt{\\frac{1}{q^{4} - q^{2} + 1}}\\\\\\left(q^{2} - 1\\right) \\sqrt{\\frac{1}{q^{4} - q^{2} + 1}} & q & - q \\sqrt{- \\frac{q^{2} - 1}{q^{4} - q^{2} + 1}} & - q^{2} \\sqrt{\\frac{1}{q^{4} - q^{2} + 1}} & \\frac{q \\sqrt{\\frac{1 - q^{2}}{q^{4} - q^{2} + 1}} \\left(q^{4} - q^{2} + 1\\right) \\sqrt{\\frac{1}{q^{4} - q^{2} + 1}}}{\\sqrt{1 - q^{2}}} & \\sqrt{1 - q^{2}} & \\sqrt{\\frac{1 - q^{2}}{q^{4} - q^{2} + 1}} \\left(q^{4} - q^{2} + 1\\right) \\sqrt{\\frac{1}{q^{4} - q^{2} + 1}}\\end{matrix}\\right]$"
      ],
      "text/plain": [
       "Matrix([\n",
       "[(1 - q**2)*sqrt(1/(q**4 - q**2 + 1)), q,   q*sqrt((1 - q**2)/(q**4 - q**2 + 1)),  q**2*sqrt(1/(q**4 - q**2 + 1)), q*sqrt((1 - q**2)/(q**4 - q**2 + 1))*(-q**4 + q**2 - 1)*sqrt(1/(q**4 - q**2 + 1))/sqrt(1 - q**2), -sqrt(1 - q**2),  sqrt((1 - q**2)/(q**4 - q**2 + 1))*(q**4 - q**2 + 1)*sqrt(1/(q**4 - q**2 + 1))],\n",
       "[(1 - q**2)*sqrt(1/(q**4 - q**2 + 1)), q,   q*sqrt((1 - q**2)/(q**4 - q**2 + 1)),  q**2*sqrt(1/(q**4 - q**2 + 1)),  q*sqrt((1 - q**2)/(q**4 - q**2 + 1))*(q**4 - q**2 + 1)*sqrt(1/(q**4 - q**2 + 1))/sqrt(1 - q**2),  sqrt(1 - q**2),  sqrt((1 - q**2)/(q**4 - q**2 + 1))*(q**4 - q**2 + 1)*sqrt(1/(q**4 - q**2 + 1))],\n",
       "[(1 - q**2)*sqrt(1/(q**4 - q**2 + 1)), q, -q*sqrt(-(q**2 - 1)/(q**4 - q**2 + 1)),  q**2*sqrt(1/(q**4 - q**2 + 1)), q*sqrt((1 - q**2)/(q**4 - q**2 + 1))*(-q**4 + q**2 - 1)*sqrt(1/(q**4 - q**2 + 1))/sqrt(1 - q**2),  sqrt(1 - q**2), sqrt((1 - q**2)/(q**4 - q**2 + 1))*(-q**4 + q**2 - 1)*sqrt(1/(q**4 - q**2 + 1))],\n",
       "[(1 - q**2)*sqrt(1/(q**4 - q**2 + 1)), q, -q*sqrt(-(q**2 - 1)/(q**4 - q**2 + 1)),  q**2*sqrt(1/(q**4 - q**2 + 1)),  q*sqrt((1 - q**2)/(q**4 - q**2 + 1))*(q**4 - q**2 + 1)*sqrt(1/(q**4 - q**2 + 1))/sqrt(1 - q**2), -sqrt(1 - q**2), sqrt((1 - q**2)/(q**4 - q**2 + 1))*(-q**4 + q**2 - 1)*sqrt(1/(q**4 - q**2 + 1))],\n",
       "[(q**2 - 1)*sqrt(1/(q**4 - q**2 + 1)), q,   q*sqrt((1 - q**2)/(q**4 - q**2 + 1)), -q**2*sqrt(1/(q**4 - q**2 + 1)), q*sqrt((1 - q**2)/(q**4 - q**2 + 1))*(-q**4 + q**2 - 1)*sqrt(1/(q**4 - q**2 + 1))/sqrt(1 - q**2),  sqrt(1 - q**2), sqrt((1 - q**2)/(q**4 - q**2 + 1))*(-q**4 + q**2 - 1)*sqrt(1/(q**4 - q**2 + 1))],\n",
       "[(q**2 - 1)*sqrt(1/(q**4 - q**2 + 1)), q,   q*sqrt((1 - q**2)/(q**4 - q**2 + 1)), -q**2*sqrt(1/(q**4 - q**2 + 1)),  q*sqrt((1 - q**2)/(q**4 - q**2 + 1))*(q**4 - q**2 + 1)*sqrt(1/(q**4 - q**2 + 1))/sqrt(1 - q**2), -sqrt(1 - q**2), sqrt((1 - q**2)/(q**4 - q**2 + 1))*(-q**4 + q**2 - 1)*sqrt(1/(q**4 - q**2 + 1))],\n",
       "[(q**2 - 1)*sqrt(1/(q**4 - q**2 + 1)), q, -q*sqrt(-(q**2 - 1)/(q**4 - q**2 + 1)), -q**2*sqrt(1/(q**4 - q**2 + 1)), q*sqrt((1 - q**2)/(q**4 - q**2 + 1))*(-q**4 + q**2 - 1)*sqrt(1/(q**4 - q**2 + 1))/sqrt(1 - q**2), -sqrt(1 - q**2),  sqrt((1 - q**2)/(q**4 - q**2 + 1))*(q**4 - q**2 + 1)*sqrt(1/(q**4 - q**2 + 1))],\n",
       "[(q**2 - 1)*sqrt(1/(q**4 - q**2 + 1)), q, -q*sqrt(-(q**2 - 1)/(q**4 - q**2 + 1)), -q**2*sqrt(1/(q**4 - q**2 + 1)),  q*sqrt((1 - q**2)/(q**4 - q**2 + 1))*(q**4 - q**2 + 1)*sqrt(1/(q**4 - q**2 + 1))/sqrt(1 - q**2),  sqrt(1 - q**2),  sqrt((1 - q**2)/(q**4 - q**2 + 1))*(q**4 - q**2 + 1)*sqrt(1/(q**4 - q**2 + 1))]])"
      ]
     },
     "execution_count": 166,
     "metadata": {},
     "output_type": "execute_result"
    }
   ],
   "source": [
    "w += 1\n",
    "print(w)\n",
    "Matrix(eqn_solutions[w])"
   ]
  },
  {
   "cell_type": "code",
   "execution_count": null,
   "metadata": {},
   "outputs": [
    {
     "name": "stdout",
     "output_type": "stream",
     "text": [
      "42\n"
     ]
    },
    {
     "data": {
      "text/latex": [
       "$\\displaystyle \\left[\\begin{matrix}q \\sqrt{\\frac{1 - q^{2}}{q^{4} - q^{2} + 1}} & q & \\left(1 - q^{2}\\right) \\sqrt{\\frac{1}{q^{4} - q^{2} + 1}} & q^{2} \\sqrt{\\frac{1}{q^{4} - q^{2} + 1}} & - \\sqrt{1 - q^{2}} & \\frac{q \\sqrt{\\frac{1 - q^{2}}{q^{4} - q^{2} + 1}} \\left(- q^{4} + q^{2} - 1\\right) \\sqrt{\\frac{1}{q^{4} - q^{2} + 1}}}{\\sqrt{1 - q^{2}}} & \\sqrt{\\frac{1 - q^{2}}{q^{4} - q^{2} + 1}} \\left(q^{4} - q^{2} + 1\\right) \\sqrt{\\frac{1}{q^{4} - q^{2} + 1}}\\\\q \\sqrt{\\frac{1 - q^{2}}{q^{4} - q^{2} + 1}} & q & \\left(1 - q^{2}\\right) \\sqrt{\\frac{1}{q^{4} - q^{2} + 1}} & q^{2} \\sqrt{\\frac{1}{q^{4} - q^{2} + 1}} & \\sqrt{1 - q^{2}} & \\frac{q \\sqrt{\\frac{1 - q^{2}}{q^{4} - q^{2} + 1}} \\left(q^{4} - q^{2} + 1\\right) \\sqrt{\\frac{1}{q^{4} - q^{2} + 1}}}{\\sqrt{1 - q^{2}}} & \\sqrt{\\frac{1 - q^{2}}{q^{4} - q^{2} + 1}} \\left(q^{4} - q^{2} + 1\\right) \\sqrt{\\frac{1}{q^{4} - q^{2} + 1}}\\\\q \\sqrt{\\frac{1 - q^{2}}{q^{4} - q^{2} + 1}} & q & \\left(q^{2} - 1\\right) \\sqrt{\\frac{1}{q^{4} - q^{2} + 1}} & - q^{2} \\sqrt{\\frac{1}{q^{4} - q^{2} + 1}} & - \\sqrt{1 - q^{2}} & \\frac{q \\sqrt{\\frac{1 - q^{2}}{q^{4} - q^{2} + 1}} \\left(q^{4} - q^{2} + 1\\right) \\sqrt{\\frac{1}{q^{4} - q^{2} + 1}}}{\\sqrt{1 - q^{2}}} & \\sqrt{\\frac{1 - q^{2}}{q^{4} - q^{2} + 1}} \\left(- q^{4} + q^{2} - 1\\right) \\sqrt{\\frac{1}{q^{4} - q^{2} + 1}}\\\\q \\sqrt{\\frac{1 - q^{2}}{q^{4} - q^{2} + 1}} & q & \\left(q^{2} - 1\\right) \\sqrt{\\frac{1}{q^{4} - q^{2} + 1}} & - q^{2} \\sqrt{\\frac{1}{q^{4} - q^{2} + 1}} & \\sqrt{1 - q^{2}} & \\frac{q \\sqrt{\\frac{1 - q^{2}}{q^{4} - q^{2} + 1}} \\left(- q^{4} + q^{2} - 1\\right) \\sqrt{\\frac{1}{q^{4} - q^{2} + 1}}}{\\sqrt{1 - q^{2}}} & \\sqrt{\\frac{1 - q^{2}}{q^{4} - q^{2} + 1}} \\left(- q^{4} + q^{2} - 1\\right) \\sqrt{\\frac{1}{q^{4} - q^{2} + 1}}\\\\- q \\sqrt{- \\frac{q^{2} - 1}{q^{4} - q^{2} + 1}} & q & \\left(1 - q^{2}\\right) \\sqrt{\\frac{1}{q^{4} - q^{2} + 1}} & q^{2} \\sqrt{\\frac{1}{q^{4} - q^{2} + 1}} & - \\sqrt{1 - q^{2}} & \\frac{q \\sqrt{\\frac{1 - q^{2}}{q^{4} - q^{2} + 1}} \\left(q^{4} - q^{2} + 1\\right) \\sqrt{\\frac{1}{q^{4} - q^{2} + 1}}}{\\sqrt{1 - q^{2}}} & \\sqrt{\\frac{1 - q^{2}}{q^{4} - q^{2} + 1}} \\left(- q^{4} + q^{2} - 1\\right) \\sqrt{\\frac{1}{q^{4} - q^{2} + 1}}\\\\- q \\sqrt{- \\frac{q^{2} - 1}{q^{4} - q^{2} + 1}} & q & \\left(1 - q^{2}\\right) \\sqrt{\\frac{1}{q^{4} - q^{2} + 1}} & q^{2} \\sqrt{\\frac{1}{q^{4} - q^{2} + 1}} & \\sqrt{1 - q^{2}} & \\frac{q \\sqrt{\\frac{1 - q^{2}}{q^{4} - q^{2} + 1}} \\left(- q^{4} + q^{2} - 1\\right) \\sqrt{\\frac{1}{q^{4} - q^{2} + 1}}}{\\sqrt{1 - q^{2}}} & \\sqrt{\\frac{1 - q^{2}}{q^{4} - q^{2} + 1}} \\left(- q^{4} + q^{2} - 1\\right) \\sqrt{\\frac{1}{q^{4} - q^{2} + 1}}\\\\- q \\sqrt{- \\frac{q^{2} - 1}{q^{4} - q^{2} + 1}} & q & \\left(q^{2} - 1\\right) \\sqrt{\\frac{1}{q^{4} - q^{2} + 1}} & - q^{2} \\sqrt{\\frac{1}{q^{4} - q^{2} + 1}} & - \\sqrt{1 - q^{2}} & \\frac{q \\sqrt{\\frac{1 - q^{2}}{q^{4} - q^{2} + 1}} \\left(- q^{4} + q^{2} - 1\\right) \\sqrt{\\frac{1}{q^{4} - q^{2} + 1}}}{\\sqrt{1 - q^{2}}} & \\sqrt{\\frac{1 - q^{2}}{q^{4} - q^{2} + 1}} \\left(q^{4} - q^{2} + 1\\right) \\sqrt{\\frac{1}{q^{4} - q^{2} + 1}}\\\\- q \\sqrt{- \\frac{q^{2} - 1}{q^{4} - q^{2} + 1}} & q & \\left(q^{2} - 1\\right) \\sqrt{\\frac{1}{q^{4} - q^{2} + 1}} & - q^{2} \\sqrt{\\frac{1}{q^{4} - q^{2} + 1}} & \\sqrt{1 - q^{2}} & \\frac{q \\sqrt{\\frac{1 - q^{2}}{q^{4} - q^{2} + 1}} \\left(q^{4} - q^{2} + 1\\right) \\sqrt{\\frac{1}{q^{4} - q^{2} + 1}}}{\\sqrt{1 - q^{2}}} & \\sqrt{\\frac{1 - q^{2}}{q^{4} - q^{2} + 1}} \\left(q^{4} - q^{2} + 1\\right) \\sqrt{\\frac{1}{q^{4} - q^{2} + 1}}\\end{matrix}\\right]$"
      ],
      "text/plain": [
       "Matrix([\n",
       "[  q*sqrt((1 - q**2)/(q**4 - q**2 + 1)), q, (1 - q**2)*sqrt(1/(q**4 - q**2 + 1)),  q**2*sqrt(1/(q**4 - q**2 + 1)), -sqrt(1 - q**2), q*sqrt((1 - q**2)/(q**4 - q**2 + 1))*(-q**4 + q**2 - 1)*sqrt(1/(q**4 - q**2 + 1))/sqrt(1 - q**2),  sqrt((1 - q**2)/(q**4 - q**2 + 1))*(q**4 - q**2 + 1)*sqrt(1/(q**4 - q**2 + 1))],\n",
       "[  q*sqrt((1 - q**2)/(q**4 - q**2 + 1)), q, (1 - q**2)*sqrt(1/(q**4 - q**2 + 1)),  q**2*sqrt(1/(q**4 - q**2 + 1)),  sqrt(1 - q**2),  q*sqrt((1 - q**2)/(q**4 - q**2 + 1))*(q**4 - q**2 + 1)*sqrt(1/(q**4 - q**2 + 1))/sqrt(1 - q**2),  sqrt((1 - q**2)/(q**4 - q**2 + 1))*(q**4 - q**2 + 1)*sqrt(1/(q**4 - q**2 + 1))],\n",
       "[  q*sqrt((1 - q**2)/(q**4 - q**2 + 1)), q, (q**2 - 1)*sqrt(1/(q**4 - q**2 + 1)), -q**2*sqrt(1/(q**4 - q**2 + 1)), -sqrt(1 - q**2),  q*sqrt((1 - q**2)/(q**4 - q**2 + 1))*(q**4 - q**2 + 1)*sqrt(1/(q**4 - q**2 + 1))/sqrt(1 - q**2), sqrt((1 - q**2)/(q**4 - q**2 + 1))*(-q**4 + q**2 - 1)*sqrt(1/(q**4 - q**2 + 1))],\n",
       "[  q*sqrt((1 - q**2)/(q**4 - q**2 + 1)), q, (q**2 - 1)*sqrt(1/(q**4 - q**2 + 1)), -q**2*sqrt(1/(q**4 - q**2 + 1)),  sqrt(1 - q**2), q*sqrt((1 - q**2)/(q**4 - q**2 + 1))*(-q**4 + q**2 - 1)*sqrt(1/(q**4 - q**2 + 1))/sqrt(1 - q**2), sqrt((1 - q**2)/(q**4 - q**2 + 1))*(-q**4 + q**2 - 1)*sqrt(1/(q**4 - q**2 + 1))],\n",
       "[-q*sqrt(-(q**2 - 1)/(q**4 - q**2 + 1)), q, (1 - q**2)*sqrt(1/(q**4 - q**2 + 1)),  q**2*sqrt(1/(q**4 - q**2 + 1)), -sqrt(1 - q**2),  q*sqrt((1 - q**2)/(q**4 - q**2 + 1))*(q**4 - q**2 + 1)*sqrt(1/(q**4 - q**2 + 1))/sqrt(1 - q**2), sqrt((1 - q**2)/(q**4 - q**2 + 1))*(-q**4 + q**2 - 1)*sqrt(1/(q**4 - q**2 + 1))],\n",
       "[-q*sqrt(-(q**2 - 1)/(q**4 - q**2 + 1)), q, (1 - q**2)*sqrt(1/(q**4 - q**2 + 1)),  q**2*sqrt(1/(q**4 - q**2 + 1)),  sqrt(1 - q**2), q*sqrt((1 - q**2)/(q**4 - q**2 + 1))*(-q**4 + q**2 - 1)*sqrt(1/(q**4 - q**2 + 1))/sqrt(1 - q**2), sqrt((1 - q**2)/(q**4 - q**2 + 1))*(-q**4 + q**2 - 1)*sqrt(1/(q**4 - q**2 + 1))],\n",
       "[-q*sqrt(-(q**2 - 1)/(q**4 - q**2 + 1)), q, (q**2 - 1)*sqrt(1/(q**4 - q**2 + 1)), -q**2*sqrt(1/(q**4 - q**2 + 1)), -sqrt(1 - q**2), q*sqrt((1 - q**2)/(q**4 - q**2 + 1))*(-q**4 + q**2 - 1)*sqrt(1/(q**4 - q**2 + 1))/sqrt(1 - q**2),  sqrt((1 - q**2)/(q**4 - q**2 + 1))*(q**4 - q**2 + 1)*sqrt(1/(q**4 - q**2 + 1))],\n",
       "[-q*sqrt(-(q**2 - 1)/(q**4 - q**2 + 1)), q, (q**2 - 1)*sqrt(1/(q**4 - q**2 + 1)), -q**2*sqrt(1/(q**4 - q**2 + 1)),  sqrt(1 - q**2),  q*sqrt((1 - q**2)/(q**4 - q**2 + 1))*(q**4 - q**2 + 1)*sqrt(1/(q**4 - q**2 + 1))/sqrt(1 - q**2),  sqrt((1 - q**2)/(q**4 - q**2 + 1))*(q**4 - q**2 + 1)*sqrt(1/(q**4 - q**2 + 1))]])"
      ]
     },
     "execution_count": 167,
     "metadata": {},
     "output_type": "execute_result"
    }
   ],
   "source": [
    "w += 1\n",
    "print(w)\n",
    "Matrix(eqn_solutions[w])"
   ]
  },
  {
   "cell_type": "code",
   "execution_count": null,
   "metadata": {},
   "outputs": [
    {
     "name": "stdout",
     "output_type": "stream",
     "text": [
      "43\n"
     ]
    },
    {
     "data": {
      "text/latex": [
       "$\\displaystyle \\left[\\begin{matrix}- q^{2} \\sqrt{\\frac{1}{q^{4} - q^{2} + 1}} & q & q \\sqrt{\\frac{1 - q^{2}}{q^{4} - q^{2} + 1}} & \\left(q^{2} - 1\\right) \\sqrt{\\frac{1}{q^{4} - q^{2} + 1}} & - \\sqrt{1 - q^{2}} & \\frac{q \\sqrt{\\frac{1 - q^{2}}{q^{4} - q^{2} + 1}} \\left(q^{4} - q^{2} + 1\\right) \\sqrt{\\frac{1}{q^{4} - q^{2} + 1}}}{\\sqrt{1 - q^{2}}} & \\sqrt{\\frac{1 - q^{2}}{q^{4} - q^{2} + 1}} \\left(- q^{4} + q^{2} - 1\\right) \\sqrt{\\frac{1}{q^{4} - q^{2} + 1}}\\\\- q^{2} \\sqrt{\\frac{1}{q^{4} - q^{2} + 1}} & q & q \\sqrt{\\frac{1 - q^{2}}{q^{4} - q^{2} + 1}} & \\left(q^{2} - 1\\right) \\sqrt{\\frac{1}{q^{4} - q^{2} + 1}} & \\sqrt{1 - q^{2}} & \\frac{q \\sqrt{\\frac{1 - q^{2}}{q^{4} - q^{2} + 1}} \\left(- q^{4} + q^{2} - 1\\right) \\sqrt{\\frac{1}{q^{4} - q^{2} + 1}}}{\\sqrt{1 - q^{2}}} & \\sqrt{\\frac{1 - q^{2}}{q^{4} - q^{2} + 1}} \\left(- q^{4} + q^{2} - 1\\right) \\sqrt{\\frac{1}{q^{4} - q^{2} + 1}}\\\\- q^{2} \\sqrt{\\frac{1}{q^{4} - q^{2} + 1}} & q & - q \\sqrt{- \\frac{q^{2} - 1}{q^{4} - q^{2} + 1}} & \\left(q^{2} - 1\\right) \\sqrt{\\frac{1}{q^{4} - q^{2} + 1}} & - \\sqrt{1 - q^{2}} & \\frac{q \\sqrt{\\frac{1 - q^{2}}{q^{4} - q^{2} + 1}} \\left(- q^{4} + q^{2} - 1\\right) \\sqrt{\\frac{1}{q^{4} - q^{2} + 1}}}{\\sqrt{1 - q^{2}}} & \\sqrt{\\frac{1 - q^{2}}{q^{4} - q^{2} + 1}} \\left(q^{4} - q^{2} + 1\\right) \\sqrt{\\frac{1}{q^{4} - q^{2} + 1}}\\\\- q^{2} \\sqrt{\\frac{1}{q^{4} - q^{2} + 1}} & q & - q \\sqrt{- \\frac{q^{2} - 1}{q^{4} - q^{2} + 1}} & \\left(q^{2} - 1\\right) \\sqrt{\\frac{1}{q^{4} - q^{2} + 1}} & \\sqrt{1 - q^{2}} & \\frac{q \\sqrt{\\frac{1 - q^{2}}{q^{4} - q^{2} + 1}} \\left(q^{4} - q^{2} + 1\\right) \\sqrt{\\frac{1}{q^{4} - q^{2} + 1}}}{\\sqrt{1 - q^{2}}} & \\sqrt{\\frac{1 - q^{2}}{q^{4} - q^{2} + 1}} \\left(q^{4} - q^{2} + 1\\right) \\sqrt{\\frac{1}{q^{4} - q^{2} + 1}}\\\\q^{2} \\sqrt{\\frac{1}{q^{4} - q^{2} + 1}} & q & q \\sqrt{\\frac{1 - q^{2}}{q^{4} - q^{2} + 1}} & \\left(1 - q^{2}\\right) \\sqrt{\\frac{1}{q^{4} - q^{2} + 1}} & - \\sqrt{1 - q^{2}} & \\frac{q \\sqrt{\\frac{1 - q^{2}}{q^{4} - q^{2} + 1}} \\left(- q^{4} + q^{2} - 1\\right) \\sqrt{\\frac{1}{q^{4} - q^{2} + 1}}}{\\sqrt{1 - q^{2}}} & \\sqrt{\\frac{1 - q^{2}}{q^{4} - q^{2} + 1}} \\left(q^{4} - q^{2} + 1\\right) \\sqrt{\\frac{1}{q^{4} - q^{2} + 1}}\\\\q^{2} \\sqrt{\\frac{1}{q^{4} - q^{2} + 1}} & q & q \\sqrt{\\frac{1 - q^{2}}{q^{4} - q^{2} + 1}} & \\left(1 - q^{2}\\right) \\sqrt{\\frac{1}{q^{4} - q^{2} + 1}} & \\sqrt{1 - q^{2}} & \\frac{q \\sqrt{\\frac{1 - q^{2}}{q^{4} - q^{2} + 1}} \\left(q^{4} - q^{2} + 1\\right) \\sqrt{\\frac{1}{q^{4} - q^{2} + 1}}}{\\sqrt{1 - q^{2}}} & \\sqrt{\\frac{1 - q^{2}}{q^{4} - q^{2} + 1}} \\left(q^{4} - q^{2} + 1\\right) \\sqrt{\\frac{1}{q^{4} - q^{2} + 1}}\\\\q^{2} \\sqrt{\\frac{1}{q^{4} - q^{2} + 1}} & q & - q \\sqrt{- \\frac{q^{2} - 1}{q^{4} - q^{2} + 1}} & \\left(1 - q^{2}\\right) \\sqrt{\\frac{1}{q^{4} - q^{2} + 1}} & - \\sqrt{1 - q^{2}} & \\frac{q \\sqrt{\\frac{1 - q^{2}}{q^{4} - q^{2} + 1}} \\left(q^{4} - q^{2} + 1\\right) \\sqrt{\\frac{1}{q^{4} - q^{2} + 1}}}{\\sqrt{1 - q^{2}}} & \\sqrt{\\frac{1 - q^{2}}{q^{4} - q^{2} + 1}} \\left(- q^{4} + q^{2} - 1\\right) \\sqrt{\\frac{1}{q^{4} - q^{2} + 1}}\\\\q^{2} \\sqrt{\\frac{1}{q^{4} - q^{2} + 1}} & q & - q \\sqrt{- \\frac{q^{2} - 1}{q^{4} - q^{2} + 1}} & \\left(1 - q^{2}\\right) \\sqrt{\\frac{1}{q^{4} - q^{2} + 1}} & \\sqrt{1 - q^{2}} & \\frac{q \\sqrt{\\frac{1 - q^{2}}{q^{4} - q^{2} + 1}} \\left(- q^{4} + q^{2} - 1\\right) \\sqrt{\\frac{1}{q^{4} - q^{2} + 1}}}{\\sqrt{1 - q^{2}}} & \\sqrt{\\frac{1 - q^{2}}{q^{4} - q^{2} + 1}} \\left(- q^{4} + q^{2} - 1\\right) \\sqrt{\\frac{1}{q^{4} - q^{2} + 1}}\\end{matrix}\\right]$"
      ],
      "text/plain": [
       "Matrix([\n",
       "[-q**2*sqrt(1/(q**4 - q**2 + 1)), q,   q*sqrt((1 - q**2)/(q**4 - q**2 + 1)), (q**2 - 1)*sqrt(1/(q**4 - q**2 + 1)), -sqrt(1 - q**2),  q*sqrt((1 - q**2)/(q**4 - q**2 + 1))*(q**4 - q**2 + 1)*sqrt(1/(q**4 - q**2 + 1))/sqrt(1 - q**2), sqrt((1 - q**2)/(q**4 - q**2 + 1))*(-q**4 + q**2 - 1)*sqrt(1/(q**4 - q**2 + 1))],\n",
       "[-q**2*sqrt(1/(q**4 - q**2 + 1)), q,   q*sqrt((1 - q**2)/(q**4 - q**2 + 1)), (q**2 - 1)*sqrt(1/(q**4 - q**2 + 1)),  sqrt(1 - q**2), q*sqrt((1 - q**2)/(q**4 - q**2 + 1))*(-q**4 + q**2 - 1)*sqrt(1/(q**4 - q**2 + 1))/sqrt(1 - q**2), sqrt((1 - q**2)/(q**4 - q**2 + 1))*(-q**4 + q**2 - 1)*sqrt(1/(q**4 - q**2 + 1))],\n",
       "[-q**2*sqrt(1/(q**4 - q**2 + 1)), q, -q*sqrt(-(q**2 - 1)/(q**4 - q**2 + 1)), (q**2 - 1)*sqrt(1/(q**4 - q**2 + 1)), -sqrt(1 - q**2), q*sqrt((1 - q**2)/(q**4 - q**2 + 1))*(-q**4 + q**2 - 1)*sqrt(1/(q**4 - q**2 + 1))/sqrt(1 - q**2),  sqrt((1 - q**2)/(q**4 - q**2 + 1))*(q**4 - q**2 + 1)*sqrt(1/(q**4 - q**2 + 1))],\n",
       "[-q**2*sqrt(1/(q**4 - q**2 + 1)), q, -q*sqrt(-(q**2 - 1)/(q**4 - q**2 + 1)), (q**2 - 1)*sqrt(1/(q**4 - q**2 + 1)),  sqrt(1 - q**2),  q*sqrt((1 - q**2)/(q**4 - q**2 + 1))*(q**4 - q**2 + 1)*sqrt(1/(q**4 - q**2 + 1))/sqrt(1 - q**2),  sqrt((1 - q**2)/(q**4 - q**2 + 1))*(q**4 - q**2 + 1)*sqrt(1/(q**4 - q**2 + 1))],\n",
       "[ q**2*sqrt(1/(q**4 - q**2 + 1)), q,   q*sqrt((1 - q**2)/(q**4 - q**2 + 1)), (1 - q**2)*sqrt(1/(q**4 - q**2 + 1)), -sqrt(1 - q**2), q*sqrt((1 - q**2)/(q**4 - q**2 + 1))*(-q**4 + q**2 - 1)*sqrt(1/(q**4 - q**2 + 1))/sqrt(1 - q**2),  sqrt((1 - q**2)/(q**4 - q**2 + 1))*(q**4 - q**2 + 1)*sqrt(1/(q**4 - q**2 + 1))],\n",
       "[ q**2*sqrt(1/(q**4 - q**2 + 1)), q,   q*sqrt((1 - q**2)/(q**4 - q**2 + 1)), (1 - q**2)*sqrt(1/(q**4 - q**2 + 1)),  sqrt(1 - q**2),  q*sqrt((1 - q**2)/(q**4 - q**2 + 1))*(q**4 - q**2 + 1)*sqrt(1/(q**4 - q**2 + 1))/sqrt(1 - q**2),  sqrt((1 - q**2)/(q**4 - q**2 + 1))*(q**4 - q**2 + 1)*sqrt(1/(q**4 - q**2 + 1))],\n",
       "[ q**2*sqrt(1/(q**4 - q**2 + 1)), q, -q*sqrt(-(q**2 - 1)/(q**4 - q**2 + 1)), (1 - q**2)*sqrt(1/(q**4 - q**2 + 1)), -sqrt(1 - q**2),  q*sqrt((1 - q**2)/(q**4 - q**2 + 1))*(q**4 - q**2 + 1)*sqrt(1/(q**4 - q**2 + 1))/sqrt(1 - q**2), sqrt((1 - q**2)/(q**4 - q**2 + 1))*(-q**4 + q**2 - 1)*sqrt(1/(q**4 - q**2 + 1))],\n",
       "[ q**2*sqrt(1/(q**4 - q**2 + 1)), q, -q*sqrt(-(q**2 - 1)/(q**4 - q**2 + 1)), (1 - q**2)*sqrt(1/(q**4 - q**2 + 1)),  sqrt(1 - q**2), q*sqrt((1 - q**2)/(q**4 - q**2 + 1))*(-q**4 + q**2 - 1)*sqrt(1/(q**4 - q**2 + 1))/sqrt(1 - q**2), sqrt((1 - q**2)/(q**4 - q**2 + 1))*(-q**4 + q**2 - 1)*sqrt(1/(q**4 - q**2 + 1))]])"
      ]
     },
     "execution_count": 168,
     "metadata": {},
     "output_type": "execute_result"
    }
   ],
   "source": [
    "w += 1\n",
    "print(w)\n",
    "Matrix(eqn_solutions[w])"
   ]
  },
  {
   "cell_type": "code",
   "execution_count": null,
   "metadata": {},
   "outputs": [
    {
     "name": "stdout",
     "output_type": "stream",
     "text": [
      "44\n"
     ]
    },
    {
     "data": {
      "text/latex": [
       "$\\displaystyle \\left[\\begin{matrix}- 2 q^{2} \\sqrt{\\frac{1}{9 q^{4} - 2 q^{2} + 1}} & q & \\left(3 q^{2} - 1\\right) \\sqrt{\\frac{1}{9 q^{4} - 2 q^{2} + 1}} & 2 q \\sqrt{\\frac{1 - q^{2}}{9 q^{4} - 2 q^{2} + 1}} & \\sqrt{\\frac{1 - q^{2}}{9 q^{4} - 2 q^{2} + 1}} \\left(- 9 q^{4} + 2 q^{2} - 1\\right) \\sqrt{\\frac{1}{9 q^{4} - 2 q^{2} + 1}} & q & \\sqrt{\\frac{1 - q^{2}}{9 q^{4} - 2 q^{2} + 1}} \\left(- 9 q^{4} + 2 q^{2} - 1\\right) \\sqrt{\\frac{1}{9 q^{4} - 2 q^{2} + 1}}\\\\- 2 q^{2} \\sqrt{\\frac{1}{9 q^{4} - 2 q^{2} + 1}} & q & \\left(3 q^{2} - 1\\right) \\sqrt{\\frac{1}{9 q^{4} - 2 q^{2} + 1}} & 2 q \\sqrt{\\frac{1 - q^{2}}{9 q^{4} - 2 q^{2} + 1}} & \\sqrt{\\frac{1 - q^{2}}{9 q^{4} - 2 q^{2} + 1}} \\cdot \\left(9 q^{4} - 2 q^{2} + 1\\right) \\sqrt{\\frac{1}{9 q^{4} - 2 q^{2} + 1}} & - q & \\sqrt{\\frac{1 - q^{2}}{9 q^{4} - 2 q^{2} + 1}} \\left(- 9 q^{4} + 2 q^{2} - 1\\right) \\sqrt{\\frac{1}{9 q^{4} - 2 q^{2} + 1}}\\\\- 2 q^{2} \\sqrt{\\frac{1}{9 q^{4} - 2 q^{2} + 1}} & q & \\left(3 q^{2} - 1\\right) \\sqrt{\\frac{1}{9 q^{4} - 2 q^{2} + 1}} & - 2 q \\sqrt{- \\frac{q^{2} - 1}{9 q^{4} - 2 q^{2} + 1}} & \\sqrt{\\frac{1 - q^{2}}{9 q^{4} - 2 q^{2} + 1}} \\left(- 9 q^{4} + 2 q^{2} - 1\\right) \\sqrt{\\frac{1}{9 q^{4} - 2 q^{2} + 1}} & - q & \\sqrt{\\frac{1 - q^{2}}{9 q^{4} - 2 q^{2} + 1}} \\cdot \\left(9 q^{4} - 2 q^{2} + 1\\right) \\sqrt{\\frac{1}{9 q^{4} - 2 q^{2} + 1}}\\\\- 2 q^{2} \\sqrt{\\frac{1}{9 q^{4} - 2 q^{2} + 1}} & q & \\left(3 q^{2} - 1\\right) \\sqrt{\\frac{1}{9 q^{4} - 2 q^{2} + 1}} & - 2 q \\sqrt{- \\frac{q^{2} - 1}{9 q^{4} - 2 q^{2} + 1}} & \\sqrt{\\frac{1 - q^{2}}{9 q^{4} - 2 q^{2} + 1}} \\cdot \\left(9 q^{4} - 2 q^{2} + 1\\right) \\sqrt{\\frac{1}{9 q^{4} - 2 q^{2} + 1}} & q & \\sqrt{\\frac{1 - q^{2}}{9 q^{4} - 2 q^{2} + 1}} \\cdot \\left(9 q^{4} - 2 q^{2} + 1\\right) \\sqrt{\\frac{1}{9 q^{4} - 2 q^{2} + 1}}\\\\2 q^{2} \\sqrt{\\frac{1}{9 q^{4} - 2 q^{2} + 1}} & q & \\left(1 - 3 q^{2}\\right) \\sqrt{\\frac{1}{9 q^{4} - 2 q^{2} + 1}} & 2 q \\sqrt{\\frac{1 - q^{2}}{9 q^{4} - 2 q^{2} + 1}} & \\sqrt{\\frac{1 - q^{2}}{9 q^{4} - 2 q^{2} + 1}} \\left(- 9 q^{4} + 2 q^{2} - 1\\right) \\sqrt{\\frac{1}{9 q^{4} - 2 q^{2} + 1}} & - q & \\sqrt{\\frac{1 - q^{2}}{9 q^{4} - 2 q^{2} + 1}} \\cdot \\left(9 q^{4} - 2 q^{2} + 1\\right) \\sqrt{\\frac{1}{9 q^{4} - 2 q^{2} + 1}}\\\\2 q^{2} \\sqrt{\\frac{1}{9 q^{4} - 2 q^{2} + 1}} & q & \\left(1 - 3 q^{2}\\right) \\sqrt{\\frac{1}{9 q^{4} - 2 q^{2} + 1}} & 2 q \\sqrt{\\frac{1 - q^{2}}{9 q^{4} - 2 q^{2} + 1}} & \\sqrt{\\frac{1 - q^{2}}{9 q^{4} - 2 q^{2} + 1}} \\cdot \\left(9 q^{4} - 2 q^{2} + 1\\right) \\sqrt{\\frac{1}{9 q^{4} - 2 q^{2} + 1}} & q & \\sqrt{\\frac{1 - q^{2}}{9 q^{4} - 2 q^{2} + 1}} \\cdot \\left(9 q^{4} - 2 q^{2} + 1\\right) \\sqrt{\\frac{1}{9 q^{4} - 2 q^{2} + 1}}\\\\2 q^{2} \\sqrt{\\frac{1}{9 q^{4} - 2 q^{2} + 1}} & q & \\left(1 - 3 q^{2}\\right) \\sqrt{\\frac{1}{9 q^{4} - 2 q^{2} + 1}} & - 2 q \\sqrt{- \\frac{q^{2} - 1}{9 q^{4} - 2 q^{2} + 1}} & \\sqrt{\\frac{1 - q^{2}}{9 q^{4} - 2 q^{2} + 1}} \\left(- 9 q^{4} + 2 q^{2} - 1\\right) \\sqrt{\\frac{1}{9 q^{4} - 2 q^{2} + 1}} & q & \\sqrt{\\frac{1 - q^{2}}{9 q^{4} - 2 q^{2} + 1}} \\left(- 9 q^{4} + 2 q^{2} - 1\\right) \\sqrt{\\frac{1}{9 q^{4} - 2 q^{2} + 1}}\\\\2 q^{2} \\sqrt{\\frac{1}{9 q^{4} - 2 q^{2} + 1}} & q & \\left(1 - 3 q^{2}\\right) \\sqrt{\\frac{1}{9 q^{4} - 2 q^{2} + 1}} & - 2 q \\sqrt{- \\frac{q^{2} - 1}{9 q^{4} - 2 q^{2} + 1}} & \\sqrt{\\frac{1 - q^{2}}{9 q^{4} - 2 q^{2} + 1}} \\cdot \\left(9 q^{4} - 2 q^{2} + 1\\right) \\sqrt{\\frac{1}{9 q^{4} - 2 q^{2} + 1}} & - q & \\sqrt{\\frac{1 - q^{2}}{9 q^{4} - 2 q^{2} + 1}} \\left(- 9 q^{4} + 2 q^{2} - 1\\right) \\sqrt{\\frac{1}{9 q^{4} - 2 q^{2} + 1}}\\end{matrix}\\right]$"
      ],
      "text/plain": [
       "Matrix([\n",
       "[-2*q**2*sqrt(1/(9*q**4 - 2*q**2 + 1)), q, (3*q**2 - 1)*sqrt(1/(9*q**4 - 2*q**2 + 1)),   2*q*sqrt((1 - q**2)/(9*q**4 - 2*q**2 + 1)), sqrt((1 - q**2)/(9*q**4 - 2*q**2 + 1))*(-9*q**4 + 2*q**2 - 1)*sqrt(1/(9*q**4 - 2*q**2 + 1)),  q, sqrt((1 - q**2)/(9*q**4 - 2*q**2 + 1))*(-9*q**4 + 2*q**2 - 1)*sqrt(1/(9*q**4 - 2*q**2 + 1))],\n",
       "[-2*q**2*sqrt(1/(9*q**4 - 2*q**2 + 1)), q, (3*q**2 - 1)*sqrt(1/(9*q**4 - 2*q**2 + 1)),   2*q*sqrt((1 - q**2)/(9*q**4 - 2*q**2 + 1)),  sqrt((1 - q**2)/(9*q**4 - 2*q**2 + 1))*(9*q**4 - 2*q**2 + 1)*sqrt(1/(9*q**4 - 2*q**2 + 1)), -q, sqrt((1 - q**2)/(9*q**4 - 2*q**2 + 1))*(-9*q**4 + 2*q**2 - 1)*sqrt(1/(9*q**4 - 2*q**2 + 1))],\n",
       "[-2*q**2*sqrt(1/(9*q**4 - 2*q**2 + 1)), q, (3*q**2 - 1)*sqrt(1/(9*q**4 - 2*q**2 + 1)), -2*q*sqrt(-(q**2 - 1)/(9*q**4 - 2*q**2 + 1)), sqrt((1 - q**2)/(9*q**4 - 2*q**2 + 1))*(-9*q**4 + 2*q**2 - 1)*sqrt(1/(9*q**4 - 2*q**2 + 1)), -q,  sqrt((1 - q**2)/(9*q**4 - 2*q**2 + 1))*(9*q**4 - 2*q**2 + 1)*sqrt(1/(9*q**4 - 2*q**2 + 1))],\n",
       "[-2*q**2*sqrt(1/(9*q**4 - 2*q**2 + 1)), q, (3*q**2 - 1)*sqrt(1/(9*q**4 - 2*q**2 + 1)), -2*q*sqrt(-(q**2 - 1)/(9*q**4 - 2*q**2 + 1)),  sqrt((1 - q**2)/(9*q**4 - 2*q**2 + 1))*(9*q**4 - 2*q**2 + 1)*sqrt(1/(9*q**4 - 2*q**2 + 1)),  q,  sqrt((1 - q**2)/(9*q**4 - 2*q**2 + 1))*(9*q**4 - 2*q**2 + 1)*sqrt(1/(9*q**4 - 2*q**2 + 1))],\n",
       "[ 2*q**2*sqrt(1/(9*q**4 - 2*q**2 + 1)), q, (1 - 3*q**2)*sqrt(1/(9*q**4 - 2*q**2 + 1)),   2*q*sqrt((1 - q**2)/(9*q**4 - 2*q**2 + 1)), sqrt((1 - q**2)/(9*q**4 - 2*q**2 + 1))*(-9*q**4 + 2*q**2 - 1)*sqrt(1/(9*q**4 - 2*q**2 + 1)), -q,  sqrt((1 - q**2)/(9*q**4 - 2*q**2 + 1))*(9*q**4 - 2*q**2 + 1)*sqrt(1/(9*q**4 - 2*q**2 + 1))],\n",
       "[ 2*q**2*sqrt(1/(9*q**4 - 2*q**2 + 1)), q, (1 - 3*q**2)*sqrt(1/(9*q**4 - 2*q**2 + 1)),   2*q*sqrt((1 - q**2)/(9*q**4 - 2*q**2 + 1)),  sqrt((1 - q**2)/(9*q**4 - 2*q**2 + 1))*(9*q**4 - 2*q**2 + 1)*sqrt(1/(9*q**4 - 2*q**2 + 1)),  q,  sqrt((1 - q**2)/(9*q**4 - 2*q**2 + 1))*(9*q**4 - 2*q**2 + 1)*sqrt(1/(9*q**4 - 2*q**2 + 1))],\n",
       "[ 2*q**2*sqrt(1/(9*q**4 - 2*q**2 + 1)), q, (1 - 3*q**2)*sqrt(1/(9*q**4 - 2*q**2 + 1)), -2*q*sqrt(-(q**2 - 1)/(9*q**4 - 2*q**2 + 1)), sqrt((1 - q**2)/(9*q**4 - 2*q**2 + 1))*(-9*q**4 + 2*q**2 - 1)*sqrt(1/(9*q**4 - 2*q**2 + 1)),  q, sqrt((1 - q**2)/(9*q**4 - 2*q**2 + 1))*(-9*q**4 + 2*q**2 - 1)*sqrt(1/(9*q**4 - 2*q**2 + 1))],\n",
       "[ 2*q**2*sqrt(1/(9*q**4 - 2*q**2 + 1)), q, (1 - 3*q**2)*sqrt(1/(9*q**4 - 2*q**2 + 1)), -2*q*sqrt(-(q**2 - 1)/(9*q**4 - 2*q**2 + 1)),  sqrt((1 - q**2)/(9*q**4 - 2*q**2 + 1))*(9*q**4 - 2*q**2 + 1)*sqrt(1/(9*q**4 - 2*q**2 + 1)), -q, sqrt((1 - q**2)/(9*q**4 - 2*q**2 + 1))*(-9*q**4 + 2*q**2 - 1)*sqrt(1/(9*q**4 - 2*q**2 + 1))]])"
      ]
     },
     "execution_count": 169,
     "metadata": {},
     "output_type": "execute_result"
    }
   ],
   "source": [
    "w += 1\n",
    "print(w)\n",
    "Matrix(eqn_solutions[w])"
   ]
  },
  {
   "cell_type": "code",
   "execution_count": null,
   "metadata": {},
   "outputs": [
    {
     "name": "stdout",
     "output_type": "stream",
     "text": [
      "45\n"
     ]
    },
    {
     "data": {
      "text/latex": [
       "$\\displaystyle \\left[\\begin{matrix}- q \\sqrt{\\frac{1}{2 q^{4} - q^{2} + 1}} & q & - q^{2} \\sqrt{\\frac{1}{2 q^{4} - q^{2} + 1}} & \\left(q - 1\\right) \\left(q + 1\\right) \\sqrt{\\frac{1}{2 q^{4} - q^{2} + 1}} & - \\sqrt{\\frac{1}{q^{2} + 1}} & - q \\sqrt{\\frac{1}{q^{2} + 1}} & 1\\\\- q \\sqrt{\\frac{1}{2 q^{4} - q^{2} + 1}} & q & - q^{2} \\sqrt{\\frac{1}{2 q^{4} - q^{2} + 1}} & \\left(q - 1\\right) \\left(q + 1\\right) \\sqrt{\\frac{1}{2 q^{4} - q^{2} + 1}} & \\sqrt{\\frac{1}{q^{2} + 1}} & q \\sqrt{\\frac{1}{q^{2} + 1}} & 1\\\\- q \\sqrt{\\frac{1}{2 q^{4} - q^{2} + 1}} & q & q^{2} \\sqrt{\\frac{1}{2 q^{4} - q^{2} + 1}} & - \\left(q - 1\\right) \\left(q + 1\\right) \\sqrt{\\frac{1}{2 q^{4} - q^{2} + 1}} & - \\sqrt{\\frac{1}{q^{2} + 1}} & q \\sqrt{\\frac{1}{q^{2} + 1}} & -1\\\\- q \\sqrt{\\frac{1}{2 q^{4} - q^{2} + 1}} & q & q^{2} \\sqrt{\\frac{1}{2 q^{4} - q^{2} + 1}} & - \\left(q - 1\\right) \\left(q + 1\\right) \\sqrt{\\frac{1}{2 q^{4} - q^{2} + 1}} & \\sqrt{\\frac{1}{q^{2} + 1}} & - q \\sqrt{\\frac{1}{q^{2} + 1}} & -1\\\\q \\sqrt{\\frac{1}{2 q^{4} - q^{2} + 1}} & q & - q^{2} \\sqrt{\\frac{1}{2 q^{4} - q^{2} + 1}} & \\left(q - 1\\right) \\left(q + 1\\right) \\sqrt{\\frac{1}{2 q^{4} - q^{2} + 1}} & - \\sqrt{\\frac{1}{q^{2} + 1}} & q \\sqrt{\\frac{1}{q^{2} + 1}} & -1\\\\q \\sqrt{\\frac{1}{2 q^{4} - q^{2} + 1}} & q & - q^{2} \\sqrt{\\frac{1}{2 q^{4} - q^{2} + 1}} & \\left(q - 1\\right) \\left(q + 1\\right) \\sqrt{\\frac{1}{2 q^{4} - q^{2} + 1}} & \\sqrt{\\frac{1}{q^{2} + 1}} & - q \\sqrt{\\frac{1}{q^{2} + 1}} & -1\\\\q \\sqrt{\\frac{1}{2 q^{4} - q^{2} + 1}} & q & q^{2} \\sqrt{\\frac{1}{2 q^{4} - q^{2} + 1}} & - \\left(q - 1\\right) \\left(q + 1\\right) \\sqrt{\\frac{1}{2 q^{4} - q^{2} + 1}} & - \\sqrt{\\frac{1}{q^{2} + 1}} & - q \\sqrt{\\frac{1}{q^{2} + 1}} & 1\\\\q \\sqrt{\\frac{1}{2 q^{4} - q^{2} + 1}} & q & q^{2} \\sqrt{\\frac{1}{2 q^{4} - q^{2} + 1}} & - \\left(q - 1\\right) \\left(q + 1\\right) \\sqrt{\\frac{1}{2 q^{4} - q^{2} + 1}} & \\sqrt{\\frac{1}{q^{2} + 1}} & q \\sqrt{\\frac{1}{q^{2} + 1}} & 1\\end{matrix}\\right]$"
      ],
      "text/plain": [
       "Matrix([\n",
       "[-q*sqrt(1/(2*q**4 - q**2 + 1)), q, -q**2*sqrt(1/(2*q**4 - q**2 + 1)),  (q - 1)*(q + 1)*sqrt(1/(2*q**4 - q**2 + 1)), -sqrt(1/(q**2 + 1)), -q*sqrt(1/(q**2 + 1)),  1],\n",
       "[-q*sqrt(1/(2*q**4 - q**2 + 1)), q, -q**2*sqrt(1/(2*q**4 - q**2 + 1)),  (q - 1)*(q + 1)*sqrt(1/(2*q**4 - q**2 + 1)),  sqrt(1/(q**2 + 1)),  q*sqrt(1/(q**2 + 1)),  1],\n",
       "[-q*sqrt(1/(2*q**4 - q**2 + 1)), q,  q**2*sqrt(1/(2*q**4 - q**2 + 1)), -(q - 1)*(q + 1)*sqrt(1/(2*q**4 - q**2 + 1)), -sqrt(1/(q**2 + 1)),  q*sqrt(1/(q**2 + 1)), -1],\n",
       "[-q*sqrt(1/(2*q**4 - q**2 + 1)), q,  q**2*sqrt(1/(2*q**4 - q**2 + 1)), -(q - 1)*(q + 1)*sqrt(1/(2*q**4 - q**2 + 1)),  sqrt(1/(q**2 + 1)), -q*sqrt(1/(q**2 + 1)), -1],\n",
       "[ q*sqrt(1/(2*q**4 - q**2 + 1)), q, -q**2*sqrt(1/(2*q**4 - q**2 + 1)),  (q - 1)*(q + 1)*sqrt(1/(2*q**4 - q**2 + 1)), -sqrt(1/(q**2 + 1)),  q*sqrt(1/(q**2 + 1)), -1],\n",
       "[ q*sqrt(1/(2*q**4 - q**2 + 1)), q, -q**2*sqrt(1/(2*q**4 - q**2 + 1)),  (q - 1)*(q + 1)*sqrt(1/(2*q**4 - q**2 + 1)),  sqrt(1/(q**2 + 1)), -q*sqrt(1/(q**2 + 1)), -1],\n",
       "[ q*sqrt(1/(2*q**4 - q**2 + 1)), q,  q**2*sqrt(1/(2*q**4 - q**2 + 1)), -(q - 1)*(q + 1)*sqrt(1/(2*q**4 - q**2 + 1)), -sqrt(1/(q**2 + 1)), -q*sqrt(1/(q**2 + 1)),  1],\n",
       "[ q*sqrt(1/(2*q**4 - q**2 + 1)), q,  q**2*sqrt(1/(2*q**4 - q**2 + 1)), -(q - 1)*(q + 1)*sqrt(1/(2*q**4 - q**2 + 1)),  sqrt(1/(q**2 + 1)),  q*sqrt(1/(q**2 + 1)),  1]])"
      ]
     },
     "execution_count": 170,
     "metadata": {},
     "output_type": "execute_result"
    }
   ],
   "source": [
    "w += 1\n",
    "print(w)\n",
    "Matrix(eqn_solutions[w])"
   ]
  },
  {
   "cell_type": "code",
   "execution_count": null,
   "metadata": {},
   "outputs": [
    {
     "name": "stdout",
     "output_type": "stream",
     "text": [
      "46\n"
     ]
    },
    {
     "data": {
      "text/latex": [
       "$\\displaystyle \\left[\\begin{matrix}\\left(1 - q^{2}\\right) \\sqrt{\\frac{1}{q^{4} - q^{2} + 1}} & q & q^{2} \\sqrt{\\frac{1}{q^{4} - q^{2} + 1}} & q \\sqrt{\\frac{1 - q^{2}}{q^{4} - q^{2} + 1}} & - \\sqrt{1 - q^{2}} & \\frac{q \\sqrt{\\frac{1 - q^{2}}{q^{4} - q^{2} + 1}} \\left(- q^{4} + q^{2} - 1\\right) \\sqrt{\\frac{1}{q^{4} - q^{2} + 1}}}{\\sqrt{1 - q^{2}}} & \\sqrt{\\frac{1 - q^{2}}{q^{4} - q^{2} + 1}} \\left(q^{4} - q^{2} + 1\\right) \\sqrt{\\frac{1}{q^{4} - q^{2} + 1}}\\\\\\left(1 - q^{2}\\right) \\sqrt{\\frac{1}{q^{4} - q^{2} + 1}} & q & q^{2} \\sqrt{\\frac{1}{q^{4} - q^{2} + 1}} & q \\sqrt{\\frac{1 - q^{2}}{q^{4} - q^{2} + 1}} & \\sqrt{1 - q^{2}} & \\frac{q \\sqrt{\\frac{1 - q^{2}}{q^{4} - q^{2} + 1}} \\left(q^{4} - q^{2} + 1\\right) \\sqrt{\\frac{1}{q^{4} - q^{2} + 1}}}{\\sqrt{1 - q^{2}}} & \\sqrt{\\frac{1 - q^{2}}{q^{4} - q^{2} + 1}} \\left(q^{4} - q^{2} + 1\\right) \\sqrt{\\frac{1}{q^{4} - q^{2} + 1}}\\\\\\left(1 - q^{2}\\right) \\sqrt{\\frac{1}{q^{4} - q^{2} + 1}} & q & q^{2} \\sqrt{\\frac{1}{q^{4} - q^{2} + 1}} & - q \\sqrt{- \\frac{q^{2} - 1}{q^{4} - q^{2} + 1}} & - \\sqrt{1 - q^{2}} & \\frac{q \\sqrt{\\frac{1 - q^{2}}{q^{4} - q^{2} + 1}} \\left(q^{4} - q^{2} + 1\\right) \\sqrt{\\frac{1}{q^{4} - q^{2} + 1}}}{\\sqrt{1 - q^{2}}} & \\sqrt{\\frac{1 - q^{2}}{q^{4} - q^{2} + 1}} \\left(- q^{4} + q^{2} - 1\\right) \\sqrt{\\frac{1}{q^{4} - q^{2} + 1}}\\\\\\left(1 - q^{2}\\right) \\sqrt{\\frac{1}{q^{4} - q^{2} + 1}} & q & q^{2} \\sqrt{\\frac{1}{q^{4} - q^{2} + 1}} & - q \\sqrt{- \\frac{q^{2} - 1}{q^{4} - q^{2} + 1}} & \\sqrt{1 - q^{2}} & \\frac{q \\sqrt{\\frac{1 - q^{2}}{q^{4} - q^{2} + 1}} \\left(- q^{4} + q^{2} - 1\\right) \\sqrt{\\frac{1}{q^{4} - q^{2} + 1}}}{\\sqrt{1 - q^{2}}} & \\sqrt{\\frac{1 - q^{2}}{q^{4} - q^{2} + 1}} \\left(- q^{4} + q^{2} - 1\\right) \\sqrt{\\frac{1}{q^{4} - q^{2} + 1}}\\\\\\left(q^{2} - 1\\right) \\sqrt{\\frac{1}{q^{4} - q^{2} + 1}} & q & - q^{2} \\sqrt{\\frac{1}{q^{4} - q^{2} + 1}} & q \\sqrt{\\frac{1 - q^{2}}{q^{4} - q^{2} + 1}} & - \\sqrt{1 - q^{2}} & \\frac{q \\sqrt{\\frac{1 - q^{2}}{q^{4} - q^{2} + 1}} \\left(q^{4} - q^{2} + 1\\right) \\sqrt{\\frac{1}{q^{4} - q^{2} + 1}}}{\\sqrt{1 - q^{2}}} & \\sqrt{\\frac{1 - q^{2}}{q^{4} - q^{2} + 1}} \\left(- q^{4} + q^{2} - 1\\right) \\sqrt{\\frac{1}{q^{4} - q^{2} + 1}}\\\\\\left(q^{2} - 1\\right) \\sqrt{\\frac{1}{q^{4} - q^{2} + 1}} & q & - q^{2} \\sqrt{\\frac{1}{q^{4} - q^{2} + 1}} & q \\sqrt{\\frac{1 - q^{2}}{q^{4} - q^{2} + 1}} & \\sqrt{1 - q^{2}} & \\frac{q \\sqrt{\\frac{1 - q^{2}}{q^{4} - q^{2} + 1}} \\left(- q^{4} + q^{2} - 1\\right) \\sqrt{\\frac{1}{q^{4} - q^{2} + 1}}}{\\sqrt{1 - q^{2}}} & \\sqrt{\\frac{1 - q^{2}}{q^{4} - q^{2} + 1}} \\left(- q^{4} + q^{2} - 1\\right) \\sqrt{\\frac{1}{q^{4} - q^{2} + 1}}\\\\\\left(q^{2} - 1\\right) \\sqrt{\\frac{1}{q^{4} - q^{2} + 1}} & q & - q^{2} \\sqrt{\\frac{1}{q^{4} - q^{2} + 1}} & - q \\sqrt{- \\frac{q^{2} - 1}{q^{4} - q^{2} + 1}} & - \\sqrt{1 - q^{2}} & \\frac{q \\sqrt{\\frac{1 - q^{2}}{q^{4} - q^{2} + 1}} \\left(- q^{4} + q^{2} - 1\\right) \\sqrt{\\frac{1}{q^{4} - q^{2} + 1}}}{\\sqrt{1 - q^{2}}} & \\sqrt{\\frac{1 - q^{2}}{q^{4} - q^{2} + 1}} \\left(q^{4} - q^{2} + 1\\right) \\sqrt{\\frac{1}{q^{4} - q^{2} + 1}}\\\\\\left(q^{2} - 1\\right) \\sqrt{\\frac{1}{q^{4} - q^{2} + 1}} & q & - q^{2} \\sqrt{\\frac{1}{q^{4} - q^{2} + 1}} & - q \\sqrt{- \\frac{q^{2} - 1}{q^{4} - q^{2} + 1}} & \\sqrt{1 - q^{2}} & \\frac{q \\sqrt{\\frac{1 - q^{2}}{q^{4} - q^{2} + 1}} \\left(q^{4} - q^{2} + 1\\right) \\sqrt{\\frac{1}{q^{4} - q^{2} + 1}}}{\\sqrt{1 - q^{2}}} & \\sqrt{\\frac{1 - q^{2}}{q^{4} - q^{2} + 1}} \\left(q^{4} - q^{2} + 1\\right) \\sqrt{\\frac{1}{q^{4} - q^{2} + 1}}\\end{matrix}\\right]$"
      ],
      "text/plain": [
       "Matrix([\n",
       "[(1 - q**2)*sqrt(1/(q**4 - q**2 + 1)), q,  q**2*sqrt(1/(q**4 - q**2 + 1)),   q*sqrt((1 - q**2)/(q**4 - q**2 + 1)), -sqrt(1 - q**2), q*sqrt((1 - q**2)/(q**4 - q**2 + 1))*(-q**4 + q**2 - 1)*sqrt(1/(q**4 - q**2 + 1))/sqrt(1 - q**2),  sqrt((1 - q**2)/(q**4 - q**2 + 1))*(q**4 - q**2 + 1)*sqrt(1/(q**4 - q**2 + 1))],\n",
       "[(1 - q**2)*sqrt(1/(q**4 - q**2 + 1)), q,  q**2*sqrt(1/(q**4 - q**2 + 1)),   q*sqrt((1 - q**2)/(q**4 - q**2 + 1)),  sqrt(1 - q**2),  q*sqrt((1 - q**2)/(q**4 - q**2 + 1))*(q**4 - q**2 + 1)*sqrt(1/(q**4 - q**2 + 1))/sqrt(1 - q**2),  sqrt((1 - q**2)/(q**4 - q**2 + 1))*(q**4 - q**2 + 1)*sqrt(1/(q**4 - q**2 + 1))],\n",
       "[(1 - q**2)*sqrt(1/(q**4 - q**2 + 1)), q,  q**2*sqrt(1/(q**4 - q**2 + 1)), -q*sqrt(-(q**2 - 1)/(q**4 - q**2 + 1)), -sqrt(1 - q**2),  q*sqrt((1 - q**2)/(q**4 - q**2 + 1))*(q**4 - q**2 + 1)*sqrt(1/(q**4 - q**2 + 1))/sqrt(1 - q**2), sqrt((1 - q**2)/(q**4 - q**2 + 1))*(-q**4 + q**2 - 1)*sqrt(1/(q**4 - q**2 + 1))],\n",
       "[(1 - q**2)*sqrt(1/(q**4 - q**2 + 1)), q,  q**2*sqrt(1/(q**4 - q**2 + 1)), -q*sqrt(-(q**2 - 1)/(q**4 - q**2 + 1)),  sqrt(1 - q**2), q*sqrt((1 - q**2)/(q**4 - q**2 + 1))*(-q**4 + q**2 - 1)*sqrt(1/(q**4 - q**2 + 1))/sqrt(1 - q**2), sqrt((1 - q**2)/(q**4 - q**2 + 1))*(-q**4 + q**2 - 1)*sqrt(1/(q**4 - q**2 + 1))],\n",
       "[(q**2 - 1)*sqrt(1/(q**4 - q**2 + 1)), q, -q**2*sqrt(1/(q**4 - q**2 + 1)),   q*sqrt((1 - q**2)/(q**4 - q**2 + 1)), -sqrt(1 - q**2),  q*sqrt((1 - q**2)/(q**4 - q**2 + 1))*(q**4 - q**2 + 1)*sqrt(1/(q**4 - q**2 + 1))/sqrt(1 - q**2), sqrt((1 - q**2)/(q**4 - q**2 + 1))*(-q**4 + q**2 - 1)*sqrt(1/(q**4 - q**2 + 1))],\n",
       "[(q**2 - 1)*sqrt(1/(q**4 - q**2 + 1)), q, -q**2*sqrt(1/(q**4 - q**2 + 1)),   q*sqrt((1 - q**2)/(q**4 - q**2 + 1)),  sqrt(1 - q**2), q*sqrt((1 - q**2)/(q**4 - q**2 + 1))*(-q**4 + q**2 - 1)*sqrt(1/(q**4 - q**2 + 1))/sqrt(1 - q**2), sqrt((1 - q**2)/(q**4 - q**2 + 1))*(-q**4 + q**2 - 1)*sqrt(1/(q**4 - q**2 + 1))],\n",
       "[(q**2 - 1)*sqrt(1/(q**4 - q**2 + 1)), q, -q**2*sqrt(1/(q**4 - q**2 + 1)), -q*sqrt(-(q**2 - 1)/(q**4 - q**2 + 1)), -sqrt(1 - q**2), q*sqrt((1 - q**2)/(q**4 - q**2 + 1))*(-q**4 + q**2 - 1)*sqrt(1/(q**4 - q**2 + 1))/sqrt(1 - q**2),  sqrt((1 - q**2)/(q**4 - q**2 + 1))*(q**4 - q**2 + 1)*sqrt(1/(q**4 - q**2 + 1))],\n",
       "[(q**2 - 1)*sqrt(1/(q**4 - q**2 + 1)), q, -q**2*sqrt(1/(q**4 - q**2 + 1)), -q*sqrt(-(q**2 - 1)/(q**4 - q**2 + 1)),  sqrt(1 - q**2),  q*sqrt((1 - q**2)/(q**4 - q**2 + 1))*(q**4 - q**2 + 1)*sqrt(1/(q**4 - q**2 + 1))/sqrt(1 - q**2),  sqrt((1 - q**2)/(q**4 - q**2 + 1))*(q**4 - q**2 + 1)*sqrt(1/(q**4 - q**2 + 1))]])"
      ]
     },
     "execution_count": 171,
     "metadata": {},
     "output_type": "execute_result"
    }
   ],
   "source": [
    "w += 1\n",
    "print(w)\n",
    "Matrix(eqn_solutions[w])"
   ]
  },
  {
   "cell_type": "code",
   "execution_count": 14,
   "metadata": {},
   "outputs": [],
   "source": [
    "cell_eqns = list(cell_eqns)"
   ]
  },
  {
   "cell_type": "code",
   "execution_count": null,
   "metadata": {},
   "outputs": [],
   "source": [
    "def reverse(equation):\n",
    "    renewed = ''\n",
    "    if equation == 0:\n",
    "        return 0\n",
    "    for ch in equation:\n",
    "        if ch == \"+\":\n",
    "            renewed += '-'\n",
    "        elif ch == \"-\":\n",
    "            renewed += '+'\n",
    "        else:\n",
    "            renewed += ch\n",
    "    return renewed\n",
    "\n",
    "def generate_synonims(eqns):\n",
    "    eq1 = eqns[0]\n",
    "    eq2 = eqns[1]\n",
    "    eq3 = eqns[2]\n",
    "    letters1 = ['a', 'b', 'c']\n",
    "    letters2 = ['d', 'q', 'f']\n",
    "    letters3 = ['g', 'h', 'k']\n",
    "    synonims = set()\n",
    "    for perm1 in permutations([0, 1, 2]):\n",
    "        for perm2 in permutations([0, 1, 2]):\n",
    "            for perm3 in permutations([0, 1, 2]):\n",
    "                grand_subs = {'a' : letters1[perm1[0]], 'b' : letters1[perm1[1]], 'c' : letters1[perm1[2]],\n",
    "                                'd' : letters2[perm2[0]], 'q' : letters2[perm2[1]], 'f' : letters2[perm2[2]],\n",
    "                                'g' : letters3[perm3[0]], 'h' : letters3[perm3[1]], 'k' : letters3[perm3[2]]}\n",
    "                if eq1 != 0:\n",
    "                    eq1 = str(eq1)\n",
    "                    replaced_chars = [grand_subs.get(char, char) for char in eq1]\n",
    "                    eq1 = ''.join(replaced_chars)\n",
    "\n",
    "                if eq2 != 0:\n",
    "                    eq2 = str(eq2)\n",
    "                    replaced_chars = [grand_subs.get(char, char) for char in eq2]\n",
    "                    eq2 = ''.join(replaced_chars)\n",
    "\n",
    "                if eq3 != 0:\n",
    "                    eq3 = str(eq3)\n",
    "                    replaced_chars = [grand_subs.get(char, char) for char in eq3]\n",
    "                    eq3 = ''.join(replaced_chars)\n",
    "\n",
    "                synonims.add((eq1, eq2, eq3))\n",
    "                synonims.add((eq1, reverse(eq2), eq3))\n",
    "                synonims.add((eq1, eq2, reverse(eq3)))\n",
    "                synonims.add((eq1, reverse(eq2), reverse(eq3)))\n",
    "                synonims.add((reverse(eq1), eq2, reverse(eq3)))\n",
    "                synonims.add((reverse(eq1), reverse(eq2), eq3))\n",
    "                synonims.add((reverse(eq1), eq2, eq3))\n",
    "                synonims.add((reverse(eq1), reverse(eq2), reverse(eq3)))\n",
    "    return synonims\n",
    "str_eqns = set()\n",
    "for ever in set(cell_eqns):\n",
    "    eq1 = ever[0].expand()\n",
    "    eq2 = ever[1].expand()\n",
    "    eq3 = ever[2].expand()\n",
    "    if eq1 != 0:\n",
    "        eq1 = str(eq1)\n",
    "        if not (eq1[0] in {'+', '-'}):\n",
    "            eq1 = '+' + eq1\n",
    "    if eq2 != 0:\n",
    "        eq2 = str(eq2)\n",
    "        if not (eq2[0] in {'+', '-'}):\n",
    "            eq2 = '+' + eq2\n",
    "    if eq3 != 0:\n",
    "        eq3 = str(eq3)\n",
    "        if not (eq3[0] in {'+', '-'}):\n",
    "            eq3 = '+' + eq3\n",
    "    str_eqns.add((eq1, eq2, eq3))"
   ]
  },
  {
   "cell_type": "code",
   "execution_count": null,
   "metadata": {},
   "outputs": [],
   "source": [
    "eqns_classes = set()\n",
    "while str_eqns:\n",
    "    eqns = str_eqns.pop()\n",
    "    str_eqns -= generate_synonims(eqns)\n",
    "    eqns_classes.add(eqns)"
   ]
  },
  {
   "cell_type": "code",
   "execution_count": 17,
   "metadata": {},
   "outputs": [
    {
     "name": "stdout",
     "output_type": "stream",
     "text": [
      "b*d - c*f + q*(a + 2*b)\n",
      "-c*h + g*(a + 2*b) + k*(2*a + 2*b)\n",
      "d*k - f*h - g*q\n"
     ]
    }
   ],
   "source": [
    "for eqn in cell_eqns[0][:3]:\n",
    "    print(eqn)"
   ]
  },
  {
   "cell_type": "markdown",
   "metadata": {},
   "source": [
    "a, d, g;"
   ]
  },
  {
   "cell_type": "code",
   "execution_count": 18,
   "metadata": {},
   "outputs": [
    {
     "name": "stdout",
     "output_type": "stream",
     "text": [
      "-a*d + b*q - c*f\n",
      "-c*h + g*(2*a + b) + k*(a + b)\n",
      "d*k - f*h + g*(2*d + 2*q)\n"
     ]
    }
   ],
   "source": [
    "for eqn in cell_eqns[1][:3]:\n",
    "    print(eqn)"
   ]
  },
  {
   "cell_type": "code",
   "execution_count": 19,
   "metadata": {},
   "outputs": [
    {
     "name": "stdout",
     "output_type": "stream",
     "text": [
      "-a*d + b*f + q*(b + c)\n",
      "-a*g + b*h - c*k\n",
      "-d*g - f*h + k*q\n"
     ]
    }
   ],
   "source": [
    "for eqn in cell_eqns[2][:3]:\n",
    "    print(eqn)"
   ]
  },
  {
   "cell_type": "code",
   "execution_count": null,
   "metadata": {},
   "outputs": [
    {
     "name": "stdout",
     "output_type": "stream",
     "text": [
      "-c*q + d*(a + 2*b) + f*(a + b)\n",
      "a*g - c*h + k*(a + b)\n",
      "2*d*g - h*q\n"
     ]
    }
   ],
   "source": [
    "for eqn in cell_eqns[3][:3]:\n",
    "    print(eqn)"
   ]
  },
  {
   "cell_type": "code",
   "execution_count": null,
   "metadata": {},
   "outputs": [
    {
     "name": "stdout",
     "output_type": "stream",
     "text": [
      "b*q - c*f + d*(a + b)\n",
      "a*g - b*h - c*k\n",
      "-f*k + g*q + h*(d + q)\n"
     ]
    }
   ],
   "source": [
    "for eqn in cell_eqns[4][:3]:\n",
    "    print(eqn)"
   ]
  },
  {
   "cell_type": "code",
   "execution_count": null,
   "metadata": {},
   "outputs": [
    {
     "name": "stdout",
     "output_type": "stream",
     "text": [
      "-a*d - b*q + c*f\n",
      "-a*g + b*h - c*k\n",
      "-d*g + f*k + h*(f + q)\n"
     ]
    }
   ],
   "source": [
    "for eqn in cell_eqns[5][:3]:\n",
    "    print(eqn)"
   ]
  },
  {
   "cell_type": "code",
   "execution_count": null,
   "metadata": {},
   "outputs": [
    {
     "name": "stdout",
     "output_type": "stream",
     "text": [
      "a*q - b*d - c*f\n",
      "-c*h + g*(2*a + b) + k*(a + b)\n",
      "d*g - f*h + k*(d + q)\n"
     ]
    }
   ],
   "source": [
    "for eqn in cell_eqns[6][:3]:\n",
    "    print(eqn)"
   ]
  },
  {
   "cell_type": "code",
   "execution_count": null,
   "metadata": {},
   "outputs": [
    {
     "name": "stdout",
     "output_type": "stream",
     "text": [
      "a*d - c*f + q*(a + b)\n",
      "a*g - b*h - c*k\n",
      "-d*g - f*k + h*q\n"
     ]
    }
   ],
   "source": [
    "for eqn in cell_eqns[7][:3]:\n",
    "    print(eqn)"
   ]
  },
  {
   "cell_type": "code",
   "execution_count": null,
   "metadata": {},
   "outputs": [
    {
     "name": "stdout",
     "output_type": "stream",
     "text": [
      "a*f - b*d - c*q\n",
      "a*h - c*g + k*(a + b)\n",
      "d*k - f*h - g*q\n"
     ]
    }
   ],
   "source": [
    "for eqn in cell_eqns[8][:3]:\n",
    "    print(eqn)"
   ]
  },
  {
   "cell_type": "code",
   "execution_count": null,
   "metadata": {},
   "outputs": [
    {
     "name": "stdout",
     "output_type": "stream",
     "text": [
      "-c*q + d*(a + 2*b) + f*(a + b)\n",
      "a*h - b*g - c*k\n",
      "2*d*h + g*(2*d + f) - k*q\n"
     ]
    }
   ],
   "source": [
    "for eqn in cell_eqns[9][:3]:\n",
    "    print(eqn)"
   ]
  },
  {
   "cell_type": "code",
   "execution_count": null,
   "metadata": {},
   "outputs": [
    {
     "name": "stdout",
     "output_type": "stream",
     "text": [
      "-a*d + b*q + f*(b + c)\n",
      "-a*g + c*k + h*(b + c)\n",
      "-d*g - f*h + k*q\n"
     ]
    }
   ],
   "source": [
    "for eqn in cell_eqns[10][:3]:\n",
    "    print(eqn)"
   ]
  },
  {
   "cell_type": "code",
   "execution_count": null,
   "metadata": {},
   "outputs": [
    {
     "name": "stdout",
     "output_type": "stream",
     "text": [
      "a*f - b*d - c*q\n",
      "a*k + b*h - c*g\n",
      "d*h - g*q\n"
     ]
    }
   ],
   "source": [
    "for eqn in cell_eqns[11][:3]:\n",
    "    print(eqn)"
   ]
  },
  {
   "cell_type": "code",
   "execution_count": null,
   "metadata": {},
   "outputs": [
    {
     "name": "stdout",
     "output_type": "stream",
     "text": [
      "2*a*q - b*f + d*(2*a + c)\n",
      "2*a*g - b*h\n",
      "d*k - f*h - g*q\n"
     ]
    }
   ],
   "source": [
    "for eqn in cell_eqns[12][:3]:\n",
    "    print(eqn)"
   ]
  },
  {
   "cell_type": "code",
   "execution_count": null,
   "metadata": {},
   "outputs": [
    {
     "name": "stdout",
     "output_type": "stream",
     "text": [
      "a*d - b*q + f*(a + c)\n",
      "a*g - b*h - c*k\n",
      "-d*g + f*k - h*q\n"
     ]
    }
   ],
   "source": [
    "for eqn in cell_eqns[13][:3]:\n",
    "    print(eqn)"
   ]
  },
  {
   "cell_type": "code",
   "execution_count": null,
   "metadata": {},
   "outputs": [
    {
     "name": "stdout",
     "output_type": "stream",
     "text": [
      "-a*d + b*f + q*(b + c)\n",
      "-a*g + b*h - c*k\n",
      "-d*g - f*h + k*q\n"
     ]
    }
   ],
   "source": [
    "for eqn in cell_eqns[14][:3]:\n",
    "    print(eqn)"
   ]
  },
  {
   "cell_type": "code",
   "execution_count": null,
   "metadata": {},
   "outputs": [
    {
     "name": "stdout",
     "output_type": "stream",
     "text": [
      "a*d - b*f + q*(2*a + c)\n",
      "a*g - b*h - c*k\n",
      "-d*g - f*h + k*q\n"
     ]
    }
   ],
   "source": [
    "for eqn in cell_eqns[15][:3]:\n",
    "    print(eqn)"
   ]
  },
  {
   "cell_type": "code",
   "execution_count": null,
   "metadata": {},
   "outputs": [
    {
     "name": "stdout",
     "output_type": "stream",
     "text": [
      "a*f - b*d + q*(a + c)\n",
      "a*g - c*k + h*(2*a + b)\n",
      "-f*g + h*(d + q) + k*q\n"
     ]
    }
   ],
   "source": [
    "for eqn in cell_eqns[16][:3]:\n",
    "    print(eqn)"
   ]
  },
  {
   "cell_type": "code",
   "execution_count": null,
   "metadata": {},
   "outputs": [
    {
     "name": "stdout",
     "output_type": "stream",
     "text": [
      "a*q - b*d - c*f\n",
      "a*g - c*k + h*(2*a + b)\n",
      "d*h - f*k - g*q\n"
     ]
    }
   ],
   "source": [
    "for eqn in cell_eqns[17][:3]:\n",
    "    print(eqn)"
   ]
  },
  {
   "cell_type": "code",
   "execution_count": null,
   "metadata": {},
   "outputs": [
    {
     "name": "stdout",
     "output_type": "stream",
     "text": [
      "a*f - b*d - c*q\n",
      "b*k - c*g + h*(a + b)\n",
      "d*h - g*q + k*(d + f)\n"
     ]
    }
   ],
   "source": [
    "for eqn in cell_eqns[18][:3]:\n",
    "    print(eqn)"
   ]
  },
  {
   "cell_type": "code",
   "execution_count": null,
   "metadata": {},
   "outputs": [
    {
     "name": "stdout",
     "output_type": "stream",
     "text": [
      "-a*d + b*q - c*f\n",
      "-c*g + h*(2*a + b) + k*(a + b)\n",
      "d*k - f*g + h*(2*d + 2*q)\n"
     ]
    }
   ],
   "source": [
    "for eqn in cell_eqns[19][:3]:\n",
    "    print(eqn)"
   ]
  },
  {
   "cell_type": "code",
   "execution_count": null,
   "metadata": {},
   "outputs": [
    {
     "name": "stdout",
     "output_type": "stream",
     "text": [
      "a*f - b*q + d*(a + c)\n",
      "a*g - c*h + k*(2*a + b)\n",
      "d*h - f*g + k*(d + q)\n"
     ]
    }
   ],
   "source": [
    "for eqn in cell_eqns[20][:3]:\n",
    "    print(eqn)"
   ]
  },
  {
   "cell_type": "code",
   "execution_count": null,
   "metadata": {},
   "outputs": [
    {
     "name": "stdout",
     "output_type": "stream",
     "text": [
      "-a*d + c*f + q*(b + c)\n",
      "-b*g + c*k + h*(a + c)\n",
      "-f*k + g*q + h*(d + 2*q)\n"
     ]
    }
   ],
   "source": [
    "for eqn in cell_eqns[21][:3]:\n",
    "    print(eqn)"
   ]
  },
  {
   "cell_type": "code",
   "execution_count": null,
   "metadata": {},
   "outputs": [
    {
     "name": "stdout",
     "output_type": "stream",
     "text": [
      "a*d - c*q + f*(2*a + b)\n",
      "-c*g + h*(2*a + b) + k*(a + b)\n",
      "d*k - f*h - g*q\n"
     ]
    }
   ],
   "source": [
    "for eqn in cell_eqns[22][:3]:\n",
    "    print(eqn)"
   ]
  },
  {
   "cell_type": "code",
   "execution_count": null,
   "metadata": {},
   "outputs": [
    {
     "name": "stdout",
     "output_type": "stream",
     "text": [
      "b*d - c*f + q*(a + 2*b)\n",
      "a*k - c*h + g*(2*a + 2*b)\n",
      "d*g - f*h + k*(d + q)\n"
     ]
    }
   ],
   "source": [
    "for eqn in cell_eqns[23][:3]:\n",
    "    print(eqn)"
   ]
  },
  {
   "cell_type": "code",
   "execution_count": null,
   "metadata": {},
   "outputs": [
    {
     "name": "stdout",
     "output_type": "stream",
     "text": [
      "a*q - b*d - c*f\n",
      "-b*g + c*k + h*(a + c)\n",
      "-d*g + f*h + k*(f + q)\n"
     ]
    }
   ],
   "source": [
    "for eqn in cell_eqns[24][:3]:\n",
    "    print(eqn)"
   ]
  },
  {
   "cell_type": "code",
   "execution_count": null,
   "metadata": {},
   "outputs": [
    {
     "name": "stdout",
     "output_type": "stream",
     "text": [
      "a*q - b*d + f*(a + c)\n",
      "a*h - b*g - c*k\n",
      "-d*g + f*k - h*q\n"
     ]
    }
   ],
   "source": [
    "for eqn in cell_eqns[25][:3]:\n",
    "    print(eqn)"
   ]
  },
  {
   "cell_type": "code",
   "execution_count": null,
   "metadata": {},
   "outputs": [
    {
     "name": "stdout",
     "output_type": "stream",
     "text": [
      "a*d - b*q - c*f\n",
      "-b*h + g*(2*a + c) + k*(a + c)\n",
      "f*g - h*q + k*(d + f)\n"
     ]
    }
   ],
   "source": [
    "for eqn in cell_eqns[26][:3]:\n",
    "    print(eqn)"
   ]
  },
  {
   "cell_type": "code",
   "execution_count": null,
   "metadata": {},
   "outputs": [
    {
     "name": "stdout",
     "output_type": "stream",
     "text": [
      "a*f - b*q + d*(a + c)\n",
      "-b*h + c*k + g*(a + c)\n",
      "-d*g + f*k - h*q\n"
     ]
    }
   ],
   "source": [
    "for eqn in cell_eqns[27][:3]:\n",
    "    print(eqn)"
   ]
  },
  {
   "cell_type": "code",
   "execution_count": null,
   "metadata": {},
   "outputs": [
    {
     "name": "stdout",
     "output_type": "stream",
     "text": [
      "-a*d + c*q + f*(b + c)\n",
      "a*k - b*g + c*h\n",
      "f*g - h*q + k*(d + f)\n"
     ]
    }
   ],
   "source": [
    "for eqn in cell_eqns[28][:3]:\n",
    "    print(eqn)"
   ]
  },
  {
   "cell_type": "code",
   "execution_count": null,
   "metadata": {},
   "outputs": [
    {
     "name": "stdout",
     "output_type": "stream",
     "text": [
      "a*d - b*f + q*(2*a + c)\n",
      "-b*h + g*(2*a + c) + k*(a + c)\n",
      "d*k - f*h - g*q\n"
     ]
    }
   ],
   "source": [
    "for eqn in cell_eqns[29][:3]:\n",
    "    print(eqn)"
   ]
  },
  {
   "cell_type": "code",
   "execution_count": null,
   "metadata": {},
   "outputs": [
    {
     "name": "stdout",
     "output_type": "stream",
     "text": [
      "-a*d + b*q - c*f\n",
      "a*h - b*g - c*k\n",
      "-f*k + g*q + h*(d + 2*q)\n"
     ]
    }
   ],
   "source": [
    "for eqn in cell_eqns[30][:3]:\n",
    "    print(eqn)"
   ]
  },
  {
   "cell_type": "code",
   "execution_count": null,
   "metadata": {},
   "outputs": [
    {
     "name": "stdout",
     "output_type": "stream",
     "text": [
      "a*q - c*f + d*(a + b)\n",
      "a*g - b*h + k*(a + c)\n",
      "d*h - g*q + k*(d + f)\n"
     ]
    }
   ],
   "source": [
    "for eqn in cell_eqns[31][:3]:\n",
    "    print(eqn)"
   ]
  },
  {
   "cell_type": "code",
   "execution_count": null,
   "metadata": {},
   "outputs": [
    {
     "name": "stdout",
     "output_type": "stream",
     "text": [
      "-a*d - b*q + c*f\n",
      "a*g - b*h + k*(a + c)\n",
      "d*k + g*(d + f) - h*q\n"
     ]
    }
   ],
   "source": [
    "for eqn in cell_eqns[32][:3]:\n",
    "    print(eqn)"
   ]
  },
  {
   "cell_type": "code",
   "execution_count": null,
   "metadata": {},
   "outputs": [
    {
     "name": "stdout",
     "output_type": "stream",
     "text": [
      "-a*d + c*f + q*(b + c)\n",
      "-b*g + c*k + h*(a + c)\n",
      "-f*k + g*q + h*(d + q)\n"
     ]
    }
   ],
   "source": [
    "for eqn in cell_eqns[33][:3]:\n",
    "    print(eqn)"
   ]
  },
  {
   "cell_type": "code",
   "execution_count": null,
   "metadata": {},
   "outputs": [
    {
     "name": "stdout",
     "output_type": "stream",
     "text": [
      "-b*q + c*d + f*(a + c)\n",
      "a*h - b*g - c*k\n",
      "d*h - g*q + k*(d + f)\n"
     ]
    }
   ],
   "source": [
    "for eqn in cell_eqns[34][:3]:\n",
    "    print(eqn)"
   ]
  },
  {
   "cell_type": "code",
   "execution_count": null,
   "metadata": {},
   "outputs": [
    {
     "name": "stdout",
     "output_type": "stream",
     "text": [
      "-a*d + b*f - c*q\n",
      "b*k - c*g + h*(a + b)\n",
      "d*h - f*k - g*q\n"
     ]
    }
   ],
   "source": [
    "for eqn in cell_eqns[35][:3]:\n",
    "    print(eqn)"
   ]
  },
  {
   "cell_type": "code",
   "execution_count": null,
   "metadata": {},
   "outputs": [
    {
     "name": "stdout",
     "output_type": "stream",
     "text": [
      "a*q - b*d - c*f\n",
      "b*g - c*h + k*(a + b)\n",
      "-f*h + g*(d + 2*q) + k*(d + q)\n"
     ]
    }
   ],
   "source": [
    "for eqn in cell_eqns[36][:3]:\n",
    "    print(eqn)"
   ]
  },
  {
   "cell_type": "code",
   "execution_count": null,
   "metadata": {},
   "outputs": [
    {
     "name": "stdout",
     "output_type": "stream",
     "text": [
      "-a*d - b*q + c*f\n",
      "-a*g + c*k + h*(b + c)\n",
      "-d*g - f*k + h*q\n"
     ]
    }
   ],
   "source": [
    "for eqn in cell_eqns[37][:3]:\n",
    "    print(eqn)"
   ]
  },
  {
   "cell_type": "code",
   "execution_count": null,
   "metadata": {},
   "outputs": [
    {
     "name": "stdout",
     "output_type": "stream",
     "text": [
      "a*d - b*f + q*(2*a + c)\n",
      "-b*h + c*g + k*(a + c)\n",
      "d*k - f*h + g*(2*d + 2*q)\n"
     ]
    }
   ],
   "source": [
    "for eqn in cell_eqns[38][:3]:\n",
    "    print(eqn)"
   ]
  },
  {
   "cell_type": "code",
   "execution_count": null,
   "metadata": {},
   "outputs": [
    {
     "name": "stdout",
     "output_type": "stream",
     "text": [
      "-b*q + c*d + f*(a + c)\n",
      "a*k - b*g + h*(a + c)\n",
      "d*k - f*h - g*q\n"
     ]
    }
   ],
   "source": [
    "for eqn in cell_eqns[39][:3]:\n",
    "    print(eqn)"
   ]
  },
  {
   "cell_type": "code",
   "execution_count": null,
   "metadata": {},
   "outputs": [
    {
     "name": "stdout",
     "output_type": "stream",
     "text": [
      "-a*d - b*q + c*f\n",
      "a*h - b*g + k*(a + c)\n",
      "d*k - g*q + h*(d + f)\n"
     ]
    }
   ],
   "source": [
    "for eqn in cell_eqns[40][:3]:\n",
    "    print(eqn)"
   ]
  },
  {
   "cell_type": "code",
   "execution_count": null,
   "metadata": {},
   "outputs": [
    {
     "name": "stdout",
     "output_type": "stream",
     "text": [
      "-c*f + d*(a + 2*b) + q*(2*a + 2*b)\n",
      "b*k - c*h + g*(a + 2*b)\n",
      "-d*g - f*h + k*q\n"
     ]
    }
   ],
   "source": [
    "for eqn in cell_eqns[41][:3]:\n",
    "    print(eqn)"
   ]
  },
  {
   "cell_type": "code",
   "execution_count": null,
   "metadata": {},
   "outputs": [
    {
     "name": "stdout",
     "output_type": "stream",
     "text": [
      "-b*q + d*(2*a + c) + f*(a + c)\n",
      "-b*h + c*g + k*(a + c)\n",
      "2*d*g - h*q\n"
     ]
    }
   ],
   "source": [
    "for eqn in cell_eqns[42][:3]:\n",
    "    print(eqn)"
   ]
  },
  {
   "cell_type": "code",
   "execution_count": null,
   "metadata": {},
   "outputs": [
    {
     "name": "stdout",
     "output_type": "stream",
     "text": [
      "b*d - c*f + q*(a + 2*b)\n",
      "-c*h + g*(a + 2*b) + k*(2*a + 2*b)\n",
      "d*k - f*h - g*q\n"
     ]
    }
   ],
   "source": [
    "for eqn in cell_eqns[43][:3]:\n",
    "    print(eqn)"
   ]
  },
  {
   "cell_type": "code",
   "execution_count": null,
   "metadata": {},
   "outputs": [
    {
     "name": "stdout",
     "output_type": "stream",
     "text": [
      "a*f - b*d + q*(a + c)\n",
      "-b*g + c*k + h*(a + c)\n",
      "-d*g + f*k - h*q\n"
     ]
    }
   ],
   "source": [
    "for eqn in cell_eqns[44][:3]:\n",
    "    print(eqn)"
   ]
  },
  {
   "cell_type": "code",
   "execution_count": null,
   "metadata": {},
   "outputs": [
    {
     "name": "stdout",
     "output_type": "stream",
     "text": [
      "a*d - b*q - c*f\n",
      "b*h - c*k + g*(a + b)\n",
      "-f*k + g*q + h*(d + q)\n"
     ]
    }
   ],
   "source": [
    "for eqn in cell_eqns[45][:3]:\n",
    "    print(eqn)"
   ]
  },
  {
   "cell_type": "code",
   "execution_count": null,
   "metadata": {},
   "outputs": [
    {
     "name": "stdout",
     "output_type": "stream",
     "text": [
      "a*f - b*d + c*q\n",
      "a*k - b*g - c*h\n",
      "-d*g + h*q\n"
     ]
    }
   ],
   "source": [
    "for eqn in cell_eqns[46][:3]:\n",
    "    print(eqn)"
   ]
  },
  {
   "cell_type": "code",
   "execution_count": null,
   "metadata": {},
   "outputs": [
    {
     "name": "stdout",
     "output_type": "stream",
     "text": [
      "a*q - b*d + f*(a + c)\n",
      "-b*g + c*k + h*(a + c)\n",
      "-d*g - f*h + k*q\n"
     ]
    }
   ],
   "source": [
    "for eqn in cell_eqns[47][:3]:\n",
    "    print(eqn)"
   ]
  },
  {
   "cell_type": "code",
   "execution_count": null,
   "metadata": {},
   "outputs": [
    {
     "name": "stdout",
     "output_type": "stream",
     "text": [
      "a*q - b*d + f*(a + c)\n",
      "a*h - c*g + k*(a + b)\n",
      "d*k + f*g - h*q\n"
     ]
    }
   ],
   "source": [
    "for eqn in cell_eqns[48][:3]:\n",
    "    print(eqn)"
   ]
  },
  {
   "cell_type": "code",
   "execution_count": null,
   "metadata": {},
   "outputs": [
    {
     "name": "stdout",
     "output_type": "stream",
     "text": [
      "-a*d - b*q + c*f\n",
      "a*k - b*g + c*h\n",
      "d*k - f*h - g*q\n"
     ]
    }
   ],
   "source": [
    "for eqn in cell_eqns[49][:3]:\n",
    "    print(eqn)"
   ]
  },
  {
   "cell_type": "code",
   "execution_count": null,
   "metadata": {},
   "outputs": [
    {
     "name": "stdout",
     "output_type": "stream",
     "text": [
      "-a*d - b*q + c*f\n",
      "a*g - b*h - c*k\n",
      "f*k + g*(d + f) - h*q\n"
     ]
    }
   ],
   "source": [
    "for eqn in cell_eqns[50][:3]:\n",
    "    print(eqn)"
   ]
  },
  {
   "cell_type": "code",
   "execution_count": null,
   "metadata": {},
   "outputs": [
    {
     "name": "stdout",
     "output_type": "stream",
     "text": [
      "-a*d - b*q + c*f\n",
      "a*k - b*g - c*h\n",
      "d*k + f*h - g*q\n"
     ]
    }
   ],
   "source": [
    "for eqn in cell_eqns[51][:3]:\n",
    "    print(eqn)"
   ]
  },
  {
   "cell_type": "code",
   "execution_count": null,
   "metadata": {},
   "outputs": [
    {
     "name": "stdout",
     "output_type": "stream",
     "text": [
      "-a*d + b*f - c*q\n",
      "-c*k + g*(a + 2*b) + h*(2*a + 2*b)\n",
      "d*g + h*(2*d + f) - k*q\n"
     ]
    }
   ],
   "source": [
    "for eqn in cell_eqns[52][:3]:\n",
    "    print(eqn)"
   ]
  },
  {
   "cell_type": "code",
   "execution_count": null,
   "metadata": {},
   "outputs": [
    {
     "name": "stdout",
     "output_type": "stream",
     "text": [
      "a*q - b*d - c*f\n",
      "a*g - c*h + k*(a + b)\n",
      "d*k - f*h - g*q\n"
     ]
    }
   ],
   "source": [
    "for eqn in cell_eqns[53][:3]:\n",
    "    print(eqn)"
   ]
  },
  {
   "cell_type": "code",
   "execution_count": null,
   "metadata": {},
   "outputs": [
    {
     "name": "stdout",
     "output_type": "stream",
     "text": [
      "-a*d + b*q - c*f\n",
      "b*g - c*h + k*(a + b)\n",
      "d*k - f*h - g*q\n"
     ]
    }
   ],
   "source": [
    "for eqn in cell_eqns[54][:3]:\n",
    "    print(eqn)"
   ]
  },
  {
   "cell_type": "code",
   "execution_count": null,
   "metadata": {},
   "outputs": [
    {
     "name": "stdout",
     "output_type": "stream",
     "text": [
      "-a*d + b*q + f*(b + c)\n",
      "-a*g + b*h - c*k\n",
      "-d*g + f*k - h*q\n"
     ]
    }
   ],
   "source": [
    "for eqn in cell_eqns[55][:3]:\n",
    "    print(eqn)"
   ]
  },
  {
   "cell_type": "code",
   "execution_count": null,
   "metadata": {},
   "outputs": [
    {
     "name": "stdout",
     "output_type": "stream",
     "text": [
      "a*d - c*f + q*(a + b)\n",
      "b*h - c*k + g*(a + b)\n",
      "d*h - f*k - g*q\n"
     ]
    }
   ],
   "source": [
    "for eqn in cell_eqns[56][:3]:\n",
    "    print(eqn)"
   ]
  },
  {
   "cell_type": "code",
   "execution_count": null,
   "metadata": {},
   "outputs": [
    {
     "name": "stdout",
     "output_type": "stream",
     "text": [
      "a*q - c*d + f*(a + b)\n",
      "b*k - c*g + h*(a + b)\n",
      "-d*g - f*h + k*q\n"
     ]
    }
   ],
   "source": [
    "for eqn in cell_eqns[57][:3]:\n",
    "    print(eqn)"
   ]
  },
  {
   "cell_type": "code",
   "execution_count": null,
   "metadata": {},
   "outputs": [
    {
     "name": "stdout",
     "output_type": "stream",
     "text": [
      "a*d - c*f + q*(2*a + b)\n",
      "-c*h + g*(2*a + b) + k*(a + b)\n",
      "d*k - f*h - g*q\n"
     ]
    }
   ],
   "source": [
    "for eqn in cell_eqns[58][:3]:\n",
    "    print(eqn)"
   ]
  },
  {
   "cell_type": "code",
   "execution_count": null,
   "metadata": {},
   "outputs": [
    {
     "name": "stdout",
     "output_type": "stream",
     "text": [
      "-a*d + b*q - c*f\n",
      "-c*h + g*(2*a + b) + k*(a + b)\n",
      "d*k - f*h + g*(2*d + 2*q)\n"
     ]
    }
   ],
   "source": [
    "for eqn in cell_eqns[59][:3]:\n",
    "    print(eqn)"
   ]
  },
  {
   "cell_type": "code",
   "execution_count": null,
   "metadata": {},
   "outputs": [
    {
     "name": "stdout",
     "output_type": "stream",
     "text": [
      "-a*d - b*q + c*f\n",
      "-b*g + c*k + h*(a + c)\n",
      "d*h - f*k - g*q\n"
     ]
    }
   ],
   "source": [
    "for eqn in cell_eqns[60][:3]:\n",
    "    print(eqn)"
   ]
  },
  {
   "cell_type": "code",
   "execution_count": null,
   "metadata": {},
   "outputs": [
    {
     "name": "stdout",
     "output_type": "stream",
     "text": [
      "b*d - c*q + f*(a + b)\n",
      "a*g - c*h + k*(2*a + b)\n",
      "2*d*k + g*(2*d + f) - h*q\n"
     ]
    }
   ],
   "source": [
    "for eqn in cell_eqns[61][:3]:\n",
    "    print(eqn)"
   ]
  },
  {
   "cell_type": "code",
   "execution_count": null,
   "metadata": {},
   "outputs": [
    {
     "name": "stdout",
     "output_type": "stream",
     "text": [
      "a*q - b*d - c*f\n",
      "-c*g + h*(2*a + b) + k*(a + b)\n",
      "d*h - f*g + k*(d + q)\n"
     ]
    }
   ],
   "source": [
    "for eqn in cell_eqns[62][:3]:\n",
    "    print(eqn)"
   ]
  },
  {
   "cell_type": "code",
   "execution_count": null,
   "metadata": {},
   "outputs": [
    {
     "name": "stdout",
     "output_type": "stream",
     "text": [
      "-a*d + b*f + q*(b + c)\n",
      "b*h - c*k + g*(a + b)\n",
      "-f*h + g*(d + 2*q) + k*q\n"
     ]
    }
   ],
   "source": [
    "for eqn in cell_eqns[64][:3]:\n",
    "    print(eqn)"
   ]
  },
  {
   "cell_type": "code",
   "execution_count": null,
   "metadata": {},
   "outputs": [
    {
     "name": "stdout",
     "output_type": "stream",
     "text": [
      "-c*f + d*(a + 2*b) + q*(2*a + 2*b)\n",
      "a*k - c*h + g*(2*a + 2*b)\n",
      "d*k - f*h - g*q\n"
     ]
    }
   ],
   "source": [
    "for eqn in cell_eqns[65][:3]:\n",
    "    print(eqn)"
   ]
  },
  {
   "cell_type": "code",
   "execution_count": null,
   "metadata": {},
   "outputs": [
    {
     "name": "stdout",
     "output_type": "stream",
     "text": [
      "a*d - b*q + f*(a + c)\n",
      "-b*g + c*k + h*(a + c)\n",
      "d*k - f*h - g*q\n"
     ]
    }
   ],
   "source": [
    "for eqn in cell_eqns[66][:3]:\n",
    "    print(eqn)"
   ]
  },
  {
   "cell_type": "code",
   "execution_count": null,
   "metadata": {},
   "outputs": [
    {
     "name": "stdout",
     "output_type": "stream",
     "text": [
      "a*d - c*f + q*(a + b)\n",
      "a*g - b*k + h*(2*a + c)\n",
      "-d*g + h*(f + q) + k*q\n"
     ]
    }
   ],
   "source": [
    "for eqn in cell_eqns[67][:3]:\n",
    "    print(eqn)"
   ]
  },
  {
   "cell_type": "code",
   "execution_count": null,
   "metadata": {},
   "outputs": [
    {
     "name": "stdout",
     "output_type": "stream",
     "text": [
      "-a*d + b*q - c*f\n",
      "b*h - c*k + g*(a + b)\n",
      "d*g - f*k - h*q\n"
     ]
    }
   ],
   "source": [
    "for eqn in cell_eqns[68][:3]:\n",
    "    print(eqn)"
   ]
  },
  {
   "cell_type": "code",
   "execution_count": null,
   "metadata": {},
   "outputs": [
    {
     "name": "stdout",
     "output_type": "stream",
     "text": [
      "a*f - b*d + q*(a + c)\n",
      "a*g - c*h + k*(a + b)\n",
      "d*k - f*g + h*q\n"
     ]
    }
   ],
   "source": [
    "for eqn in cell_eqns[69][:3]:\n",
    "    print(eqn)"
   ]
  },
  {
   "cell_type": "code",
   "execution_count": null,
   "metadata": {},
   "outputs": [
    {
     "name": "stdout",
     "output_type": "stream",
     "text": [
      "-a*d + b*f - c*q\n",
      "a*k - b*g - c*h\n",
      "f*g - h*q + k*(d + f)\n"
     ]
    }
   ],
   "source": [
    "for eqn in cell_eqns[70][:3]:\n",
    "    print(eqn)"
   ]
  },
  {
   "cell_type": "code",
   "execution_count": null,
   "metadata": {},
   "outputs": [
    {
     "name": "stdout",
     "output_type": "stream",
     "text": [
      "b*d - c*q + f*(a + b)\n",
      "-c*g + h*(2*a + b) + k*(a + b)\n",
      "2*d*h - g*q\n"
     ]
    }
   ],
   "source": [
    "for eqn in cell_eqns[71][:3]:\n",
    "    print(eqn)"
   ]
  },
  {
   "cell_type": "code",
   "execution_count": null,
   "metadata": {},
   "outputs": [
    {
     "name": "stdout",
     "output_type": "stream",
     "text": [
      "-a*d + c*q + f*(b + c)\n",
      "-b*g + c*h + k*(a + c)\n",
      "f*g - h*q + k*(d + f)\n"
     ]
    }
   ],
   "source": [
    "for eqn in cell_eqns[72][:3]:\n",
    "    print(eqn)"
   ]
  },
  {
   "cell_type": "code",
   "execution_count": null,
   "metadata": {},
   "outputs": [
    {
     "name": "stdout",
     "output_type": "stream",
     "text": [
      "-a*d - b*q + c*f\n",
      "-a*g + b*k + h*(b + c)\n",
      "-d*g + h*q + k*(f + q)\n"
     ]
    }
   ],
   "source": [
    "for eqn in cell_eqns[73][:3]:\n",
    "    print(eqn)"
   ]
  },
  {
   "cell_type": "code",
   "execution_count": null,
   "metadata": {},
   "outputs": [
    {
     "name": "stdout",
     "output_type": "stream",
     "text": [
      "-a*d + c*f + q*(b + c)\n",
      "-a*g + b*h - c*k\n",
      "-d*g + f*h + k*(f + q)\n"
     ]
    }
   ],
   "source": [
    "for eqn in cell_eqns[74][:3]:\n",
    "    print(eqn)"
   ]
  },
  {
   "cell_type": "code",
   "execution_count": null,
   "metadata": {},
   "outputs": [
    {
     "name": "stdout",
     "output_type": "stream",
     "text": [
      "a*f - b*d - c*q\n",
      "-c*h + g*(a + 2*b) + k*(2*a + 2*b)\n",
      "2*d*k + g*(2*d + f) - h*q\n"
     ]
    }
   ],
   "source": [
    "for eqn in cell_eqns[75][:3]:\n",
    "    print(eqn)"
   ]
  },
  {
   "cell_type": "code",
   "execution_count": null,
   "metadata": {},
   "outputs": [
    {
     "name": "stdout",
     "output_type": "stream",
     "text": [
      "b*f - c*q + d*(a + 2*b)\n",
      "a*k - c*h + g*(2*a + 2*b)\n",
      "f*g - h*q + k*(d + f)\n"
     ]
    }
   ],
   "source": [
    "for eqn in cell_eqns[76][:3]:\n",
    "    print(eqn)"
   ]
  },
  {
   "cell_type": "code",
   "execution_count": null,
   "metadata": {},
   "outputs": [
    {
     "name": "stdout",
     "output_type": "stream",
     "text": [
      "-a*d - b*q + c*f\n",
      "a*h - b*g - c*k\n",
      "f*k - g*q + h*(d + f)\n"
     ]
    }
   ],
   "source": [
    "for eqn in cell_eqns[77][:3]:\n",
    "    print(eqn)"
   ]
  },
  {
   "cell_type": "code",
   "execution_count": null,
   "metadata": {},
   "outputs": [
    {
     "name": "stdout",
     "output_type": "stream",
     "text": [
      "-a*d + b*q - c*f\n",
      "-a*g + c*k + h*(b + c)\n",
      "-d*g + f*h + k*(f + q)\n"
     ]
    }
   ],
   "source": [
    "for eqn in cell_eqns[78][:3]:\n",
    "    print(eqn)"
   ]
  },
  {
   "cell_type": "code",
   "execution_count": null,
   "metadata": {},
   "outputs": [
    {
     "name": "stdout",
     "output_type": "stream",
     "text": [
      "a*q - c*f + d*(a + b)\n",
      "b*h - c*k + g*(a + b)\n",
      "-d*g - f*k + h*q\n"
     ]
    }
   ],
   "source": [
    "for eqn in cell_eqns[79][:3]:\n",
    "    print(eqn)"
   ]
  },
  {
   "cell_type": "code",
   "execution_count": null,
   "metadata": {},
   "outputs": [
    {
     "name": "stdout",
     "output_type": "stream",
     "text": [
      "-a*d + b*f - c*q\n",
      "a*h - c*g + k*(a + b)\n",
      "d*k - g*q + h*(d + f)\n"
     ]
    }
   ],
   "source": [
    "for eqn in cell_eqns[80][:3]:\n",
    "    print(eqn)"
   ]
  }
 ],
 "metadata": {
  "kernelspec": {
   "display_name": "base",
   "language": "python",
   "name": "python3"
  },
  "language_info": {
   "codemirror_mode": {
    "name": "ipython",
    "version": 3
   },
   "file_extension": ".py",
   "mimetype": "text/x-python",
   "name": "python",
   "nbconvert_exporter": "python",
   "pygments_lexer": "ipython3",
   "version": "3.11.5"
  }
 },
 "nbformat": 4,
 "nbformat_minor": 2
}
